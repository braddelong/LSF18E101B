{
 "cells": [
  {
   "cell_type": "markdown",
   "metadata": {},
   "source": [
    "# The Appalachian and Other Trails\n",
    "\n",
    "<iframe src=\"https://www.icloud.com/keynote/0HORQ6Ql3Ejvf5PSeGJkEXOyQ?embed=true\" width=\"640\" height=\"500\" frameborder=\"0\" allowfullscreen=\"1\" referrer=\"no-referrer\"></iframe>\n",
    "\n",
    "<https://www.icloud.com/keynote/0HORQ6Ql3Ejvf5PSeGJkEXOyQ>\n",
    "\n",
    "Let's consider the United States in the time of major westward expansion and \"Amerindian removal\": the century 1760 to 1860 before the Civil War. We have U.S. output-per-worker growth then at about 1.0% per year, in contrast to British output-per-worker growth at about 0.5% per year. We have the U.S. population and labor force growing at 2.5% per year, from 2.5 to 30 million. Our conclusion:\n",
    "\n",
    "*An America penned behind the Appalachians would probably have seen its living standards and productivity levels not growing at 1% per year from 1760 to 1860 but shrinking. For the $ \\gamma = 3.0 $ benchmark case, living standards and productivity levels would have shrunk at a pace of -0.325% per year had population growth been the historical 3% per year.*<!--more-->\n",
    "\n",
    "Why? Let's, first, recall our basic Solow Growth Model. When natural resource scarcity is important, it consists of our log-form production function of:\n",
    "\n",
    "> $ \\ln(y) = \\ln\\left(\\frac{Y}{L}\\right) = $\n",
    "$ \\left(\\frac{\\alpha}{1-\\alpha}\\right)\\ln\\left(\\frac{K}{Y}\\right) + \\ln(E) $\n",
    "\n",
    "plus the dependence of the efficiency-of-labor E on—non-rival—useful economic ideas H and on—rival and potentially scarce—natural resources R per worker L, with a parameter $ \\gamma $ summarizing the relative importance of ideas vis-a-vis resources in driving gorwth in the efficiency-of-labor:\n",
    "\n",
    "> $ \\ln(E) = $\n",
    "$ \\left(\\frac{\\gamma}{1+\\gamma}\\right)\\ln(H) + $\n",
    "$ \\left(\\frac{1}{1+\\gamma}\\right)(\\ln(R) - ln(L)) $\n",
    "\n",
    "Let's, second, suppose the capital-output ratio is constant (variations in it are not important here). \n",
    "\n",
    "Let's, third, take derivatives to see growth rates. And let's remember that the growth rates of ideas H and the labor force L are h and n, respectively. And let's set the rate of growth of natural resources to be $ \\rho $ (we reserve *r* for interest rates):\n",
    "\n",
    "> $ \\frac{d\\ln(y)}{dt} = \\left(\\frac{\\gamma}{1+\\gamma}\\right)h + $\n",
    "$ \\left(\\frac{1}{1+\\gamma}\\right)(\\rho - n) $\n",
    "\n",
    "Let's last, fit this to history in the century before the 1860 election of President Abraham Lincoln and the ensuing American Civil War:\n",
    "\n",
    "* output-per-worker growth $ \\frac{d\\ln(y)}{dt}=1.0% $ per year\n",
    "* labor-force growth $ n = 2.5% $ per year\n",
    "* natural-resource growth from westward expansion $ \\rho = 4.5% $ per year\n",
    "\n",
    "We have two parameters left: $ \\gamma $ and *h*, the weight of ideas in efficiency-of-labor growth and the rate of growth of the stock of useful ideas for the economy in American heads, respectively. Plugging in the parameters we know gets us:\n",
    "\n",
    "> $ 0.010 = \\left(\\frac{\\gamma}{1+\\gamma}\\right)h + $\n",
    "$ \\left(\\frac{1}{1+\\gamma}\\right)(0.045-0.025) $\n",
    "\n",
    "Solving for *h*:\n",
    "\n",
    "> $ \\left(1+\\gamma\\right)0.010 = {\\gamma}h + 0.020 $\n",
    "\n",
    "> $ \\left(1+\\gamma\\right)0.010 - 0.020 = {\\gamma}h $\n",
    "\n",
    "> $ -0.010 + 0.010\\gamma = {\\gamma}h $\n",
    "\n",
    "> $ h = 0.010 - \\frac{0.010}{\\gamma} $\n",
    "\n",
    "This tracks: if natural resources were unimportant in determining the efficiency of labor—if $ {\\gamma} → ∞ $—then in order to produce 1% per year growth in output-per-worker at a constant capital-output ratio, you need a 1% per year rate of growth *h* of the useful economic ideas stock. \n",
    "\n",
    "* Thus if $ {\\gamma} → ∞ $ then $ h = 0.010 $.\n",
    "\n",
    "Conversely, if ideas were unimportant in determining the efficiency of labor—if $ {\\gamma} = 0 $—then in order to produce 1% per year growth in output-per-worker at a constant capital-output ratio, you need a value $ \\gamma = 1.5 $ to generate 1% per year of increase in the efficiency-of-labor from increased natural resource abundance alone.\n",
    "\n",
    "* Thus if $ {\\gamma} = 1.0 $ then $ h = 0.00 $.\n",
    "\n",
    "And:\n",
    "\n",
    "* If $ {\\gamma} = 3.0 $ then $ h = 0.00667 $.\n",
    "\n",
    "Looking across the Atlantic Ocean to Great Britain, we see that over there it is indeed the case that $ h = 0.005 $ from 1760 to 1860. Faster growth of *h* in America due to some catchup with the world's first and leading industrial nation seems likely. So $ \\gamma = 3.0 $ has some claim to be the most likely value.\n",
    "\n",
    "There is a colonial-era British Imperial Proclamation that suggests an obvious counterfactual. In 1763, when all of settled North America east of the Mississippi River was part of the British Empire, [King George III Hanover][]:\n",
    "\n",
    ">declare[d] it to be our Royal Will and Pleasure. that no... Governor or Commander in Chief in... our... Colonies or Plantations in America do presume... grant Warrants of Survey, or pass Patents for any Lands beyond the Heads or Sources of any of the Rivers which fall into the Atlantic Ocean from the West and North West, or upon any Lands whatever, which, not having been ceded to or purchased by Us as aforesaid, are reserved to the said Indians, or any of them...\n",
    "\n",
    "<img style=\"display:block; margin-left:auto; margin-right:auto;\" src=\"http://delong.typepad.com/.a/6a00e551f080038834022ad3701ac4200c-pi\" alt=\"Settlement: 1790 and 1870\" title=\"Settlement: 1790 and 1870\" border=\"0\" width=\"600\" height=\"302\" />\n",
    "\n",
    "British settlement was to be limited by the peaks of the Appalachian mountain range. The British government did not want to wage war on the Amerindians. And the British government did want to exercise a modicum of control over where settlers settled.\n",
    "\n",
    "Suppose that Royal Proclamation of 1763 had stuck. The rate of growth of the natural resources open to the American settlers would then have been $ \\rho=0 $. Then:\n",
    "\n",
    "> If $ \\gamma → ∞ $ and $ h = 0.010 $ then $ g = 0.01 $   \n",
    "If $ \\gamma = 3.0 $ and $ h = 0.00667 $ then $ g = -0.00125 $   \n",
    "If $ \\gamma = 1.5 $ and $ h = 0.000 $ then $ g = -0.01 $\n",
    "\n",
    "An America penned behind the Appalachians would probably have seen its living standards and productivity levels not growing at 1% per year from 1760 to 1860 but shrinking. For the $ \\gamma = 3.0 $ benchmark case, living standards and productivity levels would have shrunk at a pace of -0.125% per year had population growth been the historical 2.5% per year. Productivity in 1860 would have been not 2.7 times what it had been in 1760, but rather only 0.88 of its 1760 level. Wages in America then would have been closer too but still in advance of Britain's.\n",
    "\n",
    "Of course, a poorer America would probably have seen fewer immigrants. But it might not have seen that many fewer immigrants. It would no longer have been quite as attractive to move from Britain to America over 1760 to 1860. But it still would have been very attractive to move from France, Germany, Scotland—or most of all from Potato Blight-ridden Ireland...\n",
    "\n",
    "In what other ways might this counterfactual alternate-history \"little America\" would likely have been different in 1860 than America actually was?\n",
    "\n",
    "A large chunk of America's pre-1860 visible growing prosperity was based not just on African-American slavery, but also on \"Amerindian removal\". Cf.: *[Trail of Tears][]*:\n",
    "\n",
    "<img style=\"display:block; margin-left:auto; margin-right:auto;\" src=\"http://delong.typepad.com/.a/6a00e551f080038834022ad3964981200d-pi\" alt=\"Trail of Tears\" title=\"Trail of Tears\" border=\"0\" width=\"600\" height=\"357\" />\n",
    "\n",
    "----\n",
    "\n",
    "&nbsp;\n",
    "\n",
    "[King George III Hanover]: http://www.ushistory.org/us/9a.asp\n",
    "[Trail of Tears]: https://en.wikipedia.org/wiki/Trail_of_Tears\n",
    "\n",
    "----\n",
    "\n",
    "<http://www.bradford-delong.com/2018/10/the-apallachian-and-other-trails.html>   \n",
    "<http://www.typepad.com/site/blogs/6a00e551f08003883400e551f080068834/post/6a00e551f080038834022ad3701f2e200c/edit?saved=e>   \n",
    "<http://nbviewer.jupyter.org/github/braddelong/LSF18E101B/blob/master/The_Appalachian_and_Other_Trails%20%282018-10-03%29.ipynb>   \n",
    "<https://www.icloud.com/keynote/0HORQ6Ql3Ejvf5PSeGJkEXOyQ>"
   ]
  },
  {
   "cell_type": "code",
   "execution_count": 10,
   "metadata": {},
   "outputs": [
    {
     "name": "stdout",
     "output_type": "stream",
     "text": [
      "0.8824969025845955\n",
      "2.462549958716964\n",
      "90.01713130052181\n"
     ]
    }
   ],
   "source": [
    "# calculations\n",
    "\n",
    "import numpy as np\n",
    "print(np.exp(100*(-0.00125)))\n",
    "print(np.exp(100*(-0.025))*30)\n",
    "print(np.exp(100*.045))"
   ]
  },
  {
   "cell_type": "markdown",
   "metadata": {},
   "source": [
    "## Scratch—Questions\n",
    "\n",
    "1. What would have been the growth rate of output per worker g(y) before the Civil War if the rate of growth of available natural resources $ \\rho $ had been zero—if Imperial Britain had remained in control and had, for geopolitical reasons, penned the colonists east of the Appalachians?\n",
    "\n",
    "2. Explain, in a paragraph or two, how this counterfactual alternate-history \"little America\" would likely have been different in 1860 than America actually was.\n",
    "\n",
    "----\n",
    "\n",
    "&nbsp;"
   ]
  },
  {
   "cell_type": "markdown",
   "metadata": {},
   "source": [
    "<http://www.bradford-delong.com/2018/10/the-apallachian-and-other-trails.html>   \n",
    "<http://www.typepad.com/site/blogs/6a00e551f08003883400e551f080068834/post/6a00e551f080038834022ad3701f2e200c/edit?saved=e>   \n",
    "<http://nbviewer.jupyter.org/github/braddelong/LSF18E101B/blob/master/The_Appalachian_and_Other_Trails%20%282018-10-03%29.ipynb>    "
   ]
  }
 ],
 "metadata": {
  "kernelspec": {
   "display_name": "Python 3",
   "language": "python",
   "name": "python3"
  },
  "language_info": {
   "codemirror_mode": {
    "name": "ipython",
    "version": 3
   },
   "file_extension": ".py",
   "mimetype": "text/x-python",
   "name": "python",
   "nbconvert_exporter": "python",
   "pygments_lexer": "ipython3",
   "version": "3.6.5"
  }
 },
 "nbformat": 4,
 "nbformat_minor": 2
}
