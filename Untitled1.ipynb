{
 "cells": [
  {
   "cell_type": "markdown",
   "metadata": {},
   "source": [
    "##### Economic models typically do not include:\n",
    "\n",
    ">A. Variables   \n",
    "B. Behavioral relationships    \n",
    "C. Equilibrium conditions    \n",
    "D. Parameters   \n",
    "E. All of the above are typically included in economic models\n",
    "\n",
    "&nbsp;\n",
    "\n",
    "##### "
   ]
  }
 ],
 "metadata": {
  "kernelspec": {
   "display_name": "Python 3",
   "language": "python",
   "name": "python3"
  },
  "language_info": {
   "codemirror_mode": {
    "name": "ipython",
    "version": 3
   },
   "file_extension": ".py",
   "mimetype": "text/x-python",
   "name": "python",
   "nbconvert_exporter": "python",
   "pygments_lexer": "ipython3",
   "version": "3.6.6"
  }
 },
 "nbformat": 4,
 "nbformat_minor": 2
}
