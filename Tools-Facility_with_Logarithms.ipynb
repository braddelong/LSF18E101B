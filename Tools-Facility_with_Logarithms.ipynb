{
 "cells": [
  {
   "cell_type": "markdown",
   "metadata": {
    "slideshow": {
     "slide_type": "notes"
    }
   },
   "source": [
    "# Tools: Facility with Logarithms"
   ]
  },
  {
   "cell_type": "markdown",
   "metadata": {},
   "source": [
    "### Which of These Equations with Logarithms and Exponentials Is Not Correct?\n",
    "\n",
    ">(1) $ \\ln\\left(x\\right) = y $ :: $ e^y = x $\n",
    "\n",
    ">(2) $ \\ln\\left(xz\\right) = \\ln\\left(x\\right) + \\ln\\left(z\\right) $\n",
    "\n",
    ">(3) $ \\ln\\left(x^a\\right) = a + \\left(\\ln\\left(x\\right)\\right) $\n",
    "\n",
    "----\n",
    "\n",
    "1. (1)\n",
    "2. (2)\n",
    "3. (3)\n",
    "4. (1 & 2)\n",
    "5. All are correct\n",
    "\n",
    "----\n",
    "\n",
    "&nbsp;"
   ]
  },
  {
   "cell_type": "markdown",
   "metadata": {},
   "source": [
    "### Which of These Equations with Logarithms and Exponentials Is Not Correct?\n",
    "\n",
    ">(1) $ \\left(e^x\\right)\\left(e^y\\right) = e^\\left(x+y\\right) $\n",
    "\n",
    ">(2) $ \\left(e^x\\right)^a =e^\\left(a+x\\right) $\n",
    "\n",
    ">(3) $ e^\\left(\\ln\\left(x\\right)\\right) = x $\n",
    "\n",
    "----\n",
    "\n",
    "1. (1)\n",
    "2. (2)\n",
    "3. (3)\n",
    "4. (1 & 2)\n",
    "5. All are correct\n",
    "\n",
    "----\n",
    "\n",
    "&nbsp;"
   ]
  },
  {
   "cell_type": "markdown",
   "metadata": {},
   "source": [
    "### Which of These Equations with Logarithms and Exponentials Is Not Correct?\n",
    "\n",
    ">(1) $ \\ln\\left(e^x\\right) = x $\n",
    "\n",
    ">(2) $ \\frac{d}{dt}\\left(e^{kx}\\right) = e^{kx} $\n",
    "\n",
    ">(3) $ \\frac{d}{dt}\\left(\\ln(x)\\right) = \\frac{1}{x}\\frac{dx}{dt} $\n",
    "\n",
    "----\n",
    "\n",
    "1. (1)\n",
    "2. (2)\n",
    "3. (3)\n",
    "4. (1 & 2)\n",
    "5. All are correct\n",
    "\n",
    "----\n",
    "\n",
    "&nbsp;"
   ]
  },
  {
   "cell_type": "markdown",
   "metadata": {},
   "source": [
    "### Which of These Equations with Logarithms and Exponentials Is Not Correct?\n",
    "\n",
    ">(1) $ \\ln(Y) - \\ln(L) = \\left(\\frac{\\alpha}{1-\\alpha}\\right) $\n",
    "$ \\left(\\ln(K) - \\ln(Y)\\right) + \\ln(E) $\n",
    "\n",
    ">(2) $ e^\\left(\\ln(Y) - \\ln(L)\\right) = \n",
    "e^\\left(\\left(\\frac{\\alpha}{1-\\alpha}\\right) \\left(\\ln(K) - \\ln(Y)\\right) + \\ln(E)\\right) $\n",
    "\n",
    ">(3) $ Y ÷ L = \\left(K ÷ Y\\right)^\\left(\\frac{\\alpha}{1-\\alpha}\\right)E^{1-\\alpha} $\n",
    "\n",
    "1. (1)\n",
    "2. (2)\n",
    "3. (3)\n",
    "4. (1 & 2)\n",
    "5. All are correct\n",
    "\n",
    "----\n",
    "\n",
    "&nbsp;"
   ]
  },
  {
   "cell_type": "markdown",
   "metadata": {},
   "source": [
    "### Facility with Logarithms\n",
    "\n",
    "> $ \\ln\\left(x\\right) = y $ :: $ e^y = x $\n",
    "\n",
    "> $ \\ln\\left(xz\\right) = \\ln\\left(x\\right) + \\ln\\left(z\\right) $\n",
    "\n",
    "> $ \\ln\\left(x^a\\right) = a\\left(\\ln\\left(x\\right)\\right) $\n",
    "\n",
    "> $ \\left(e^x\\right)\\left(e^y\\right) = e^\\left(x+y\\right) $\n",
    "\n",
    "> $ \\left(e^x\\right)^a =e^\\left(ax\\right) $\n",
    "\n",
    "> $ e^\\left(\\ln\\left(x\\right)\\right) = x $\n",
    "\n",
    "> $ \\ln\\left(e^x\\right) = x $\n",
    "\n",
    "> $ \\frac{d}{dt}\\left(e^{kx}\\right) = ke^{kx} $\n",
    "\n",
    "> $ \\frac{d}{dt}\\left(\\ln(x)\\right) = \\frac{1}{x}\\frac{dx}{dt} $\n",
    "\n",
    "> $ \\ln(Y) - \\ln(L) = \\left(\\frac{\\alpha}{1-\\alpha}\\right) $\n",
    "$ \\left(\\ln(K) - \\ln(Y)\\right) + \\ln(E) $\n",
    "\n",
    "> $ e^\\left(\\ln(Y) - \\ln(L)\\right) = \n",
    "e^\\left(\\left(\\frac{\\alpha}{1-\\alpha}\\right) \\left(\\ln(K) - \\ln(Y)\\right) + \\ln(E)\\right) $\n",
    "\n",
    "> $ Y ÷ L = \\left(K ÷ Y\\right)^\\left(\\frac{\\alpha}{1-\\alpha}\\right)E $\n",
    "\n",
    "----\n",
    "\n",
    "&nbsp;"
   ]
  },
  {
   "cell_type": "markdown",
   "metadata": {},
   "source": [
    "### Exponentials and Powers\n",
    "\n",
    ">$ x_t = x_0\\left(e^{gt}\\right) $ &nbsp;&nbsp;&nbsp;&nbsp;&nbsp;vs.&nbsp;&nbsp;&nbsp;&nbsp;&nbsp; \n",
    "$ x_t = x_0\\left(1+g'\\right)^t $\n",
    "\n",
    ">$ \\ln{x_t} = \\ln\\left(x_0\\left(e^{gt}\\right)\\right) $ &nbsp;&nbsp;&nbsp;&nbsp;&nbsp;vs.&nbsp;&nbsp;&nbsp;&nbsp;&nbsp; \n",
    "$ \\ln{x_t} = \\ln\\left(x_0\\left(1+g'\\right)^t\\right) $\n",
    "\n",
    ">$ \\ln{x_t} = \\ln{x_0} + \\ln\\left(e^{gt}\\right) $ &nbsp;&nbsp;&nbsp;&nbsp;&nbsp;vs.&nbsp;&nbsp;&nbsp;&nbsp;&nbsp; \n",
    "$ \\ln{x_t} = \\ln{x_0} + \\ln\\left(\\left(1+g'\\right)^t\\right) $\n",
    "\n",
    ">$ \\ln{x_t} = \\ln{x_0} + gt\\ln\\left(e\\right) $ &nbsp;&nbsp;&nbsp;&nbsp;&nbsp;vs.&nbsp;&nbsp;&nbsp;&nbsp;&nbsp; \n",
    "$ \\ln{x_t} = \\ln{x_0} +t\\ln\\left(1+g'\\right) $\n",
    "\n",
    ">$ \\ln{x_t} = \\ln{x_0} + gt $ &nbsp;&nbsp;&nbsp;&nbsp;&nbsp;vs.&nbsp;&nbsp;&nbsp;&nbsp;&nbsp; \n",
    "$ \\ln{x_t} = \\ln{x_0} + gt $ with $ g = \\ln\\left(1+g'\\right) $"
   ]
  },
  {
   "cell_type": "markdown",
   "metadata": {},
   "source": [
    "### Exponentials and Derivatives\n",
    "\n",
    ">$ x_t = x_0\\left(e^{gt}\\right) $ ⇒ $ \\frac{d}{dt}\\left(\\ln{x_t}\\right) = \n",
    "\\frac{d}{dt}\\left(\\ln{x_0}\\right) + \n",
    "\\frac{d}{dt}\\left(gt\\right) =\n",
    "g $ \n",
    "\n",
    ">$ x_t = x_0\\left(e^{gt}\\right) $ ⇒ \n",
    "$ \\frac{dx_t}{dt} = x_0\\left(ge^{gt}\\right) = \n",
    "g\\left(x_0e^{gt}\\right) =\n",
    "gx_t $\n",
    "\n",
    "----\n",
    "\n",
    "&nbsp;"
   ]
  }
 ],
 "metadata": {
  "celltoolbar": "Edit Metadata",
  "kernelspec": {
   "display_name": "Python 3",
   "language": "python",
   "name": "python3"
  },
  "language_info": {
   "codemirror_mode": {
    "name": "ipython",
    "version": 3
   },
   "file_extension": ".py",
   "mimetype": "text/x-python",
   "name": "python",
   "nbconvert_exporter": "python",
   "pygments_lexer": "ipython3",
   "version": "3.6.5"
  }
 },
 "nbformat": 4,
 "nbformat_minor": 2
}
