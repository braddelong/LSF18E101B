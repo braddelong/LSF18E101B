{
 "cells": [
  {
   "cell_type": "markdown",
   "metadata": {
    "slideshow": {
     "slide_type": "notes"
    }
   },
   "source": [
    "# Malthusian Economies: Lecture Support\n",
    "\n",
    "## Setting up the Python/Jupyter environment"
   ]
  },
  {
   "cell_type": "code",
   "execution_count": 1,
   "metadata": {},
   "outputs": [
    {
     "data": {
      "application/javascript": [
       "\n",
       "IPython.OutputArea.prototype._should_scroll = function(lines) {\n",
       "    return false;}"
      ],
      "text/plain": [
       "<IPython.core.display.Javascript object>"
      ]
     },
     "metadata": {},
     "output_type": "display_data"
    }
   ],
   "source": [
    "%%javascript\n",
    "\n",
    "IPython.OutputArea.prototype._should_scroll = function(lines) {\n",
    "    return false;}"
   ]
  },
  {
   "cell_type": "code",
   "execution_count": 2,
   "metadata": {},
   "outputs": [],
   "source": [
    "# keep output cells from shifting to autoscroll: little scrolling\n",
    "# subwindows within the notebook are an annoyance..."
   ]
  },
  {
   "cell_type": "code",
   "execution_count": 3,
   "metadata": {},
   "outputs": [],
   "source": [
    "# make sure graphs are displayed in main notebook\n",
    "%matplotlib inline  \n",
    "\n",
    "import numpy as np                 # make sure libraries are\n",
    "import pandas as pd                #  in the namespace\n",
    "import matplotlib as mpl\n",
    "import matplotlib.pyplot as plt\n",
    "from IPython.display import Image\n",
    "\n",
    "plt.style.use('seaborn-whitegrid') # graphics setup\n",
    "figure_size = plt.rcParams[\"figure.figsize\"]\n",
    "figure_size[0] = 10\n",
    "figure_size[1] = 7\n",
    "plt.rcParams[\"figure.figsize\"] = figure_size"
   ]
  },
  {
   "cell_type": "code",
   "execution_count": 19,
   "metadata": {},
   "outputs": [
    {
     "name": "stderr",
     "output_type": "stream",
     "text": [
      "/anaconda3/lib/python3.6/site-packages/ipykernel_launcher.py:34: RuntimeWarning: invalid value encountered in double_scalars\n"
     ]
    },
    {
     "name": "stdout",
     "output_type": "stream",
     "text": [
      "85.13946970496411\n"
     ]
    },
    {
     "data": {
      "text/plain": [
       "Text(0.5,0.98,'Calibrating to Population of 170 at Year Zero')"
      ]
     },
     "execution_count": 19,
     "metadata": {},
     "output_type": "execute_result"
    },
    {
     "data": {
      "image/png": "[encoded data removed]",
      "text/plain": [
       "<Figure size 432x288 with 1 Axes>"
      ]
     },
     "metadata": {},
     "output_type": "display_data"
    }
   ],
   "source": [
    "# basic Solow growth model run\n",
    "\n",
    "import numpy as np\n",
    "import pandas as pd\n",
    "import matplotlib as mpl\n",
    "import matplotlib.pyplot as plt\n",
    "from IPython.display import Image\n",
    "%matplotlib inline\n",
    "\n",
    "alpha = 0.3                      \n",
    "s = 0.1\n",
    "delta = 0.03\n",
    "g0 = 0.000 \n",
    "n0 = 0.000441\n",
    "N = 450*5\n",
    "gamma = 3\n",
    "h0=0.0001\n",
    "\n",
    "\n",
    "array = np.zeros((1001,13))       \n",
    "\n",
    "m_df = pd.DataFrame(array, \n",
    "    columns=[\"Year\",\"Labor\", \"Capital\", \n",
    "    \"WEP\", \"YoverL\", \"Efficiency\", \"Pop_Gr\", \n",
    "    \"Eff_Gr\", \"Cap_Gr\", \"Cap_Out\", \"Human_Ideas\", \"Population\", \"Living\"])\n",
    "\n",
    "m_df.Year[0] = -8000\n",
    "m_df.Labor[0] = 2.5\n",
    "m_df.Human_Ideas[0] = 450\n",
    "m_df.Efficiency[0] = ((N/m_df.Labor[0])**(1/(1-gamma)) *\n",
    "    (m_df.Human_Ideas[0])**(gamma/(1-gamma)))\n",
    "m_df.Pop_Gr[0] = n0\n",
    "m_df.Eff_Gr[0] = g0\n",
    "m_df.Cap_Gr[0] = (s * m_df.WEP[0]/m_df.Capital[0] \n",
    "    - delta)\n",
    "m_df.Cap_Out[0] = s/(n0+g0+delta)\n",
    "m_df.WEP[0] = 3750\n",
    "m_df.Capital[0] = m_df.Cap_Out[0] * m_df.WEP[0]\n",
    "m_df.YoverL[0] = 750\n",
    "m_df.Living[0] = m_df.WEP[0]/m_df.Labor[0]\n",
    "\n",
    "for t in range(1, 1001):\n",
    "    m_df.Year[t] = m_df.Year[t-1] + 10\n",
    "    m_df.Labor[t] = m_df.Labor[t-1]*np.exp(n0*10)\n",
    "    m_df.Capital[t] = (m_df.Capital[t-1] * \n",
    "        np.exp(m_df.Cap_Gr[t-1]*10))\n",
    "    m_df.Efficiency[t] = m_df.Efficiency[t-1] * np.exp(g0*10)\n",
    "    m_df.WEP[t] = m_df.Capital[t]**alpha * (m_df.Efficiency[t] *\n",
    "        m_df.Labor[t])**(1 - alpha)\n",
    "    m_df.Living[t] = m_df.WEP[t]/m_df.Labor[t]\n",
    "    m_df.Pop_Gr[t] =  n0\n",
    "    m_df.Eff_Gr[t] =  g0\n",
    "    m_df.Cap_Gr[t] = s * m_df.WEP[t]/m_df.Capital[t] - delta\n",
    "#    print(m_df.Year[t], m_df.Labor[t], m_df.Capital[t], m_df.Efficiency[t])\n",
    "\n",
    "m_df.Population = 2 * m_df.Labor\n",
    "m_df = m_df.set_index(\"Year\")\n",
    "print(m_df.Labor[0])\n",
    "\n",
    "m_df.Population.plot()\n",
    "plt.ylabel(\"Population\", fontsize=20)   # set labels\n",
    "plt.xlabel(\"Date\", fontsize=20)\n",
    "plt.suptitle(\"Calibrating to Population of 170 at Year Zero\", \n",
    "    fontsize=28)"
   ]
  },
  {
   "cell_type": "code",
   "execution_count": 21,
   "metadata": {},
   "outputs": [
    {
     "name": "stdout",
     "output_type": "stream",
     "text": [
      "170.27893940992823 = model population at Roman Empire founding\n",
      "212.28674094686352 = model population in 500 AD\n",
      "264.65786396137946 = model population in 1000 AD\n",
      "329.9489390820331 = model population in 1500 AD\n",
      "368.40685527050675 = model population in 1750 AD\n",
      "393.6010813214685 = model population in 1900 AD\n",
      "411.3473175210302 = model population in 2000 AD\n"
     ]
    }
   ],
   "source": [
    "print(m_df.Population[0], \"= model population at Roman Empire founding\")\n",
    "print(m_df.Population[500], \"= model population in 500 AD\")\n",
    "print(m_df.Population[1000], \"= model population in 1000 AD\")\n",
    "print(m_df.Population[1500], \"= model population in 1500 AD\")\n",
    "print(m_df.Population[1750], \"= model population in 1750 AD\")\n",
    "print(m_df.Population[1900], \"= model population in 1900 AD\")\n",
    "print(m_df.Population[2000], \"= model population in 2000 AD\")"
   ]
  },
  {
   "cell_type": "code",
   "execution_count": 20,
   "metadata": {},
   "outputs": [
    {
     "name": "stdout",
     "output_type": "stream",
     "text": [
      "0.0 nan nan\n"
     ]
    }
   ],
   "source": [
    "# m_df.Living.plot()\n",
    "\n",
    "print(m_df.Cap_Out[0], m_df.WEP[0], m_df.Capital[0])"
   ]
  },
  {
   "cell_type": "markdown",
   "metadata": {},
   "source": [
    "### From Efficiency to Ideas\n",
    "\n",
    "We have our production function, output as a function of the capital stock, the product of the labor force and the efficiency with which that labor can produce, and the single parameter $ \\alpha $ describing how fast diminishing returns to capital set in as the capital-labor ratio increases:\n",
    "\n",
    "&nbsp;&nbsp;&nbsp;&nbsp;&nbsp;&nbsp;&nbsp;&nbsp;&nbsp;\n",
    "$ Y = K^{\\alpha}(EL)^{1-\\alpha}  $\n",
    "\n",
    "&nbsp;&nbsp;&nbsp;&nbsp;&nbsp;&nbsp;&nbsp;&nbsp;&nbsp;\n",
    "$ ln(Y) = {\\alpha}(ln(K)) + (1-\\alpha)(EL)  $\n",
    "\n",
    "But what determines the efficiency of labor? Ideas, certainly—the level of technological knowledge in its society; its understanding and ability to implement productive organizations; plus the skills, education, and experience of the workforce. But Malthus's insight was that he needed to focus on the role of resources and, in particular, _resource scarcity_ in limiting the efficiency with which labor can work. Ideas, you see, are non-rival: that one person or group has and is using an idea does not mean another person or group cannot productively use the same idea. The same is not true of natural resources. Natural resources are _rival_: crowd twice as many farmers on the same soil, and their productive efficiency is likely to drop.\n",
    "\n",
    "Thus we write the efficiency of labor as a function of society's level of ideas—technology; organizational capability; plus experience, skills, and education—which we will call H, non-rival, and of society's level of resources R divided by the labor force L:\n",
    "\n",
    "&nbsp;&nbsp;&nbsp;&nbsp;&nbsp;&nbsp;&nbsp;&nbsp;&nbsp;\n",
    "$ E = \\left(\\frac{R}{L}\\right)^{\\left(\\frac{1}{1+\\gamma}\\right)}H^{\\left(\\frac{\\gamma}{1+\\gamma}\\right)}  $\n",
    "\n",
    "&nbsp;&nbsp;&nbsp;&nbsp;&nbsp;&nbsp;&nbsp;&nbsp;&nbsp;\n",
    "$ ln(E) = {\\left(\\frac{1}{1+\\gamma}\\right)}ln\\left(\\frac{R}{L}\\right) + \n",
    "{\\left(\\frac{\\gamma}{1+\\gamma}\\right)}H  $\n",
    "\n",
    "With the parameter $ \\gamma $ describing the ratio of the salience of ideas compared to natural resources in generating production efficiency. Why the ratio—and thus all of the $ {\\gamma}/(1-\\gamma) $ terms? Because it will lead to simpler formulas later on, so why not define our production function in terms of it at the start?\n",
    "\n",
    "We thus gain an alternative formulation of the production function when we want to peel back _resource scarcity_ as an influence lowering the efficiency of labor E:\n",
    "\n",
    "&nbsp;&nbsp;&nbsp;&nbsp;&nbsp;&nbsp;&nbsp;&nbsp;&nbsp;\n",
    "$ Y = K^{\\alpha}R^{\\left(\\frac{1-\\alpha}{1+\\gamma}\\right)}(HL)^{\\left(\\frac{\\gamma(1-\\alpha)}{1+\\gamma}\\right)}  $\n",
    "\n",
    "&nbsp;&nbsp;&nbsp;&nbsp;&nbsp;&nbsp;&nbsp;&nbsp;&nbsp;\n",
    "$ ln(Y) = {\\alpha}(ln(K)) + {\\left(\\frac{1-\\alpha}{1+\\gamma}\\right)}ln(R) + \n",
    "{\\left(\\frac{\\gamma(1-\\alpha)}{1+\\gamma}\\right)}ln(HL)  $\n",
    "\n",
    "We also note that that in this setup there is an interaction between the rate of growth of the labor force n and the rate of growth of the efficiency of labor g. Taking the natural log and then the derivative, we get expressions for the growth rate g of the efficiency of labor E:\n",
    "\n",
    "&nbsp;&nbsp;&nbsp;&nbsp;&nbsp;&nbsp;&nbsp;&nbsp;&nbsp;\n",
    "$ \\frac{dln(E)}{dt} = \n",
    "\\left(\\frac{1}{1+\\gamma}\\right)\n",
    "\\left(\\frac{dln(R)}{dt} - \\frac{dln(L)}{dt} \\right) +\n",
    "\\left(\\frac{\\gamma}{1+\\gamma}\\right)\n",
    "\\left(\\frac{dln(H)}{dt}\\right)  $\n",
    "\n",
    "If natural resources are constant, this becomes:\n",
    "\n",
    "&nbsp;&nbsp;&nbsp;&nbsp;&nbsp;&nbsp;&nbsp;&nbsp;&nbsp;\n",
    "$ \\frac{dln(E)}{dt} = \n",
    "\\left(\\frac{\\gamma}{1+\\gamma}\\right)\n",
    "\\left(\\frac{dln(H)}{dt}\\right) -\n",
    "\\left(\\frac{1}{1+\\gamma}\\right)\n",
    "\\left(\\frac{dln(L)}{dt} \\right) $\n",
    "\n",
    "&nbsp;&nbsp;&nbsp;&nbsp;&nbsp;&nbsp;&nbsp;&nbsp;&nbsp;\n",
    "$ g = \\left(\\frac{\\gamma}{1+\\gamma}\\right)h - \\left(\\frac{1}{1+\\gamma}\\right)n  $\n",
    "\n",
    "with \"h\" being the proportional rate of growth of the ideas—engineering technology; business and market organization; plus workers' skills, experience, and education—and g and n being, as before, the proportional rates of growth of labor efficiency and the labor force, respectively.\n",
    "\n",
    "Faster population growth thus exerts a drag on the growth of the efficiency of labor...\n",
    "\n",
    "We can have stagnant living standards if improvements in ideas or just offset by the effects of diminish natural resources per capita. But how likely is it that that just happens?"
   ]
  },
  {
   "cell_type": "markdown",
   "metadata": {},
   "source": [
    "### Incorporating Natural Resource Scarcity\n",
    "\n",
    "&nbsp;&nbsp;&nbsp;&nbsp;&nbsp;&nbsp;&nbsp;&nbsp;&nbsp;\n",
    "$ Y = K^{\\alpha}Y = K^{\\alpha}(EL)^{1-\\alpha} $\n",
    "\n",
    "&nbsp;&nbsp;&nbsp;&nbsp;&nbsp;&nbsp;&nbsp;&nbsp;&nbsp;\n",
    "$ \\frac{Y}{L} =\n",
    "\\left(\\frac{K}{Y}\\right)^\\left(\\frac{\\alpha}{1-\\alpha}\\right)\n",
    "E  $\n",
    "\n",
    "&nbsp;&nbsp;&nbsp;&nbsp;&nbsp;&nbsp;&nbsp;&nbsp;&nbsp;\n",
    "$ E = \\left(\\frac{N}{L}\\right)^{\\left(\\frac{1}{1+\\gamma}\\right)}H^{\\left(\\frac{\\gamma}{1+\\gamma}\\right)}  $\n",
    "\n",
    "&nbsp;&nbsp;&nbsp;&nbsp;&nbsp;&nbsp;&nbsp;&nbsp;&nbsp;\n",
    "$ \\frac{Y}{L} = \n",
    "\\left(\\frac{K}{Y}\\right) \n",
    "^\\left(\\frac{\\alpha}{1-\\alpha}\\right) \n",
    "\\left(\\frac{N}{L}\\right)^{\\left(\\frac{1}{1+\\gamma}\\right)}H^{\\left(\\frac{\\gamma}{1+\\gamma}\\right)} $\n",
    "\n",
    "And if the natural resource stock in the economy is constant,   \n",
    "we might as well choose units that set it equal to 1:\n",
    "\n",
    "&nbsp;&nbsp;&nbsp;&nbsp;&nbsp;&nbsp;&nbsp;&nbsp;&nbsp;\n",
    "$ \\left(\\frac{Y}{L}\\right) =  \\left(\\frac{K}{Y}\\right)^{\\left(\\frac{\\alpha}{1-\\alpha}\\right)}  H^{\\left(\\frac{\\gamma}{1 + \\gamma}\\right)} L^{\\left(-\\frac{1}{1 + \\gamma}\\right)}  $\n",
    "\n",
    "----\n",
    "\n",
    "&nbsp;"
   ]
  },
  {
   "cell_type": "markdown",
   "metadata": {},
   "source": [
    "### We Need One More Piece...\n",
    "\n",
    "$ \\frac{K}{Y} $ was our equilibrating variable and:\n",
    "\n",
    "&nbsp;&nbsp;&nbsp;&nbsp;&nbsp;&nbsp;&nbsp;&nbsp;&nbsp; $ \\left(\\frac{K}{Y}\\right)^* = \\frac{s}{n+g+\\delta} $\n",
    "\n",
    "was our equilibrium condition. Now we want y to be a second equilibrating variable and:\n",
    "\n",
    "&nbsp;&nbsp;&nbsp;&nbsp;&nbsp;&nbsp;&nbsp;&nbsp;&nbsp; $ y = \\bar{y_n} $ to be a second equilibrium condition."
   ]
  },
  {
   "cell_type": "markdown",
   "metadata": {},
   "source": [
    "&nbsp;&nbsp;&nbsp;&nbsp;&nbsp;&nbsp;&nbsp;&nbsp;&nbsp; $ ln{\\left(\\frac{Y}{L}\\right)} ={\\left(\\frac{\\alpha}{1-\\alpha}\\right)} ln{\\left(\\frac{K}{Y}\\right)} + ln(E) $\n",
    "\n",
    "&nbsp;&nbsp;&nbsp;&nbsp;&nbsp;&nbsp;&nbsp;&nbsp;&nbsp; $ ln{\\left(\\frac{Y}{L}\\right)} =\n",
    "{\\left(\\frac{\\alpha}{1-\\alpha}\\right)} ln{\\left(\\frac{s}{n+g+\\delta}\\right)} + ln(E) $\n",
    "\n",
    "&nbsp;&nbsp;&nbsp;&nbsp;&nbsp;&nbsp;&nbsp;&nbsp;&nbsp; $ ln{\\left(\\frac{Y}{L}\\right)} =\n",
    "{\\left(\\frac{\\alpha}{1-\\alpha}\\right)} ln{\\left(\\frac{s}{n+g+\\delta}\\right)} + \n",
    "{\\left(\\frac{\\gamma}{1+\\gamma}\\right)}ln(H) - {\\left(\\frac{1}{1+\\gamma}\\right)}ln(L) $\n",
    "\n",
    "&nbsp;&nbsp;&nbsp;&nbsp;&nbsp;&nbsp;&nbsp;&nbsp;&nbsp; $ ln{\\left(\\bar{y_n}\\right)} =\n",
    "{\\left(\\frac{\\alpha}{1-\\alpha}\\right)} ln{\\left(\\frac{s}{n+g+\\delta}\\right)} + \n",
    "{\\left(\\frac{\\gamma}{1+\\gamma}\\right)}ln(H) - {\\left(\\frac{1}{1+\\gamma}\\right)}ln(L) $\n",
    "\n",
    "&nbsp;&nbsp;&nbsp;&nbsp;&nbsp;&nbsp;&nbsp;&nbsp;&nbsp; $0 = \n",
    "{\\left(\\frac{\\gamma}{1+\\gamma}\\right)}\\frac{d(ln(H))}{dt} - \n",
    "{\\left(\\frac{1}{1+\\gamma}\\right)}\\frac{d(ln(L))}{dt} $\n",
    "\n",
    "&nbsp;&nbsp;&nbsp;&nbsp;&nbsp;&nbsp;&nbsp;&nbsp;&nbsp; $0 = \n",
    "\\gamma\\frac{d(ln(H))}{dt} - \n",
    "\\frac{d(ln(L))}{dt} $\n",
    "\n",
    "&nbsp;&nbsp;&nbsp;&nbsp;&nbsp;&nbsp;&nbsp;&nbsp;&nbsp;\n",
    "$ \\frac{dln(L)}{dt} = {\\gamma}\\frac{dln(H)}{dt} $\n",
    "\n",
    "&nbsp;&nbsp;&nbsp;&nbsp;&nbsp;&nbsp;&nbsp;&nbsp;&nbsp;$ n = {\\gamma}h $\n",
    "\n",
    "We would not expect to see growth in ideas to show up as increases in output per worker levels if population growth is fast enough to keep increases in the economy's idea stock from showing up in increases in the efficiency of labor.\n",
    "\n",
    "That rate of population growth is simply equal to $ \\gamma $ times the proportional rate of increase in the idea stock.\n",
    "\n",
    "----\n",
    "\n",
    "&nbsp;"
   ]
  },
  {
   "cell_type": "markdown",
   "metadata": {},
   "source": [
    "### What If the Economy Is in a Steady-State with Output per Worker at \"Subsistence\"?\n",
    "\n",
    "Suppose we look for a steady-state equilibrium in which the population and labor-force growth rate n depends on the level of output per worker y, and in which output per worker is at that level that supports, on average, that labor-force growth rate n? Then:\n",
    "\n",
    "&nbsp;&nbsp;&nbsp;&nbsp;&nbsp;&nbsp;&nbsp;&nbsp;&nbsp;\n",
    "$ \\frac{Y}{L} = \\bar{y_n} $ and $ \\frac{K}{Y} = \\frac{s}{n+g+\\delta} $ and $ \\frac{d(ln(L))}{dt} = n $\n",
    "\n",
    "then:\n",
    "\n",
    "&nbsp;&nbsp;&nbsp;&nbsp;&nbsp;&nbsp;&nbsp;&nbsp;&nbsp; $ ln{\\left(\\frac{Y}{L}\\right)} ={\\left(\\frac{\\alpha}{1-\\alpha}\\right)} ln{\\left(\\frac{K}{Y}\\right)} + ln(E) $\n",
    "\n",
    "&nbsp;&nbsp;&nbsp;&nbsp;&nbsp;&nbsp;&nbsp;&nbsp;&nbsp; $ ln{\\left(\\frac{Y}{L}\\right)} =\n",
    "{\\left(\\frac{\\alpha}{1-\\alpha}\\right)} ln{\\left(\\frac{s}{n+g+\\delta}\\right)} + ln(E) $\n",
    "\n",
    "&nbsp;&nbsp;&nbsp;&nbsp;&nbsp;&nbsp;&nbsp;&nbsp;&nbsp; $ ln{\\left(\\frac{Y}{L}\\right)} =\n",
    "{\\left(\\frac{\\alpha}{1-\\alpha}\\right)} ln{\\left(\\frac{s}{n+g+\\delta}\\right)} + \n",
    "{\\left(\\frac{\\gamma}{1+\\gamma}\\right)}ln(H) - {\\left(\\frac{1}{1+\\gamma}\\right)}ln(L) $\n",
    "\n",
    "&nbsp;&nbsp;&nbsp;&nbsp;&nbsp;&nbsp;&nbsp;&nbsp;&nbsp; $ ln{\\left(\\bar{y_n}\\right)} =\n",
    "{\\left(\\frac{\\alpha}{1-\\alpha}\\right)} ln{\\left(\\frac{s}{n+g+\\delta}\\right)} + \n",
    "{\\left(\\frac{\\gamma}{1+\\gamma}\\right)}ln(H) - {\\left(\\frac{1}{1+\\gamma}\\right)}ln(L) $\n",
    "\n",
    "&nbsp;&nbsp;&nbsp;&nbsp;&nbsp;&nbsp;&nbsp;&nbsp;&nbsp; $0 = \n",
    "{\\left(\\frac{\\gamma}{1+\\gamma}\\right)}\\frac{d(ln(H))}{dt} - \n",
    "{\\left(\\frac{1}{1+\\gamma}\\right)}\\frac{d(ln(L))}{dt} $\n",
    "\n",
    "&nbsp;&nbsp;&nbsp;&nbsp;&nbsp;&nbsp;&nbsp;&nbsp;&nbsp; $0 = \n",
    "\\gamma\\frac{d(ln(H))}{dt} - \n",
    "\\frac{d(ln(L))}{dt} $\n",
    "\n",
    "&nbsp;&nbsp;&nbsp;&nbsp;&nbsp;&nbsp;&nbsp;&nbsp;&nbsp;\n",
    "$ \\frac{dln(L)}{dt} = {\\gamma}\\frac{dln(H)}{dt} $\n",
    "\n",
    "&nbsp;&nbsp;&nbsp;&nbsp;&nbsp;&nbsp;&nbsp;&nbsp;&nbsp;$ n = {\\gamma}h $\n",
    "\n",
    "We would not expect to see growth in ideas to show up as increases in output per worker levels if population growth is fast enough to keep increases in the economy's idea stock from showing up in increases in the efficiency of labor.\n",
    "\n",
    "That rate of population growth is simply equal to $ \\gamma $ times the proportional rate of increase in the idea stock.\n",
    "\n",
    "----\n",
    "\n",
    "&nbsp;"
   ]
  },
  {
   "cell_type": "markdown",
   "metadata": {},
   "source": [
    "$\\frac{\\beta}{1-\\beta} = \\gamma $\n",
    "\n",
    "$ \\beta = \\gamma - \\gamma\\beta $\n",
    "\n",
    "$ \\beta + \\gamma\\beta = \\gamma  $\n",
    "\n",
    "$ \\beta(1 + \\gamma) = \\gamma  $\n",
    "\n",
    "$ \\beta = \\frac{\\gamma}{1 + \\gamma}  $"
   ]
  },
  {
   "cell_type": "code",
   "execution_count": null,
   "metadata": {},
   "outputs": [],
   "source": []
  },
  {
   "cell_type": "code",
   "execution_count": 7,
   "metadata": {},
   "outputs": [
    {
     "ename": "NameError",
     "evalue": "name 'pi' is not defined",
     "output_type": "error",
     "traceback": [
      "\u001b[0;31m---------------------------------------------------------------------------\u001b[0m",
      "\u001b[0;31mNameError\u001b[0m                                 Traceback (most recent call last)",
      "\u001b[0;32m<ipython-input-7-04e459dd27ce>\u001b[0m in \u001b[0;36m<module>\u001b[0;34m()\u001b[0m\n\u001b[1;32m     44\u001b[0m         m_df.Population[t])**(beta - alpha)\n\u001b[1;32m     45\u001b[0m     \u001b[0mm_df\u001b[0m\u001b[0;34m.\u001b[0m\u001b[0mLiving\u001b[0m\u001b[0;34m[\u001b[0m\u001b[0mt\u001b[0m\u001b[0;34m]\u001b[0m \u001b[0;34m=\u001b[0m \u001b[0mm_df\u001b[0m\u001b[0;34m.\u001b[0m\u001b[0mWEP\u001b[0m\u001b[0;34m[\u001b[0m\u001b[0mt\u001b[0m\u001b[0;34m]\u001b[0m\u001b[0;34m/\u001b[0m\u001b[0mm_df\u001b[0m\u001b[0;34m.\u001b[0m\u001b[0mPopulation\u001b[0m\u001b[0;34m[\u001b[0m\u001b[0mt\u001b[0m\u001b[0;34m]\u001b[0m\u001b[0;34m\u001b[0m\u001b[0m\n\u001b[0;32m---> 46\u001b[0;31m     \u001b[0mm_df\u001b[0m\u001b[0;34m.\u001b[0m\u001b[0mPop_Gr\u001b[0m\u001b[0;34m[\u001b[0m\u001b[0mt\u001b[0m\u001b[0;34m]\u001b[0m \u001b[0;34m=\u001b[0m \u001b[0mpi\u001b[0m \u001b[0;34m*\u001b[0m \u001b[0mnp\u001b[0m\u001b[0;34m.\u001b[0m\u001b[0mlog\u001b[0m\u001b[0;34m(\u001b[0m\u001b[0mm_df\u001b[0m\u001b[0;34m.\u001b[0m\u001b[0mLiving\u001b[0m\u001b[0;34m[\u001b[0m\u001b[0mt\u001b[0m\u001b[0;34m]\u001b[0m\u001b[0;34m/\u001b[0m\u001b[0msubsistence\u001b[0m\u001b[0;34m)\u001b[0m \u001b[0;34m+\u001b[0m \u001b[0mn0\u001b[0m\u001b[0;34m\u001b[0m\u001b[0m\n\u001b[0m\u001b[1;32m     47\u001b[0m     \u001b[0mm_df\u001b[0m\u001b[0;34m.\u001b[0m\u001b[0mEff_Gr\u001b[0m\u001b[0;34m[\u001b[0m\u001b[0mt\u001b[0m\u001b[0;34m]\u001b[0m \u001b[0;34m=\u001b[0m \u001b[0mlambda_\u001b[0m \u001b[0;34m*\u001b[0m \u001b[0;34m(\u001b[0m\u001b[0mnp\u001b[0m\u001b[0;34m.\u001b[0m\u001b[0mlog\u001b[0m\u001b[0;34m(\u001b[0m\u001b[0mm_df\u001b[0m\u001b[0;34m.\u001b[0m\u001b[0mWEP\u001b[0m\u001b[0;34m[\u001b[0m\u001b[0mt\u001b[0m\u001b[0;34m]\u001b[0m\u001b[0;34m)\u001b[0m \u001b[0;34m-\u001b[0m \u001b[0mg1\u001b[0m\u001b[0;34m)\u001b[0m \u001b[0;34m+\u001b[0m \u001b[0mg0\u001b[0m\u001b[0;34m\u001b[0m\u001b[0m\n\u001b[1;32m     48\u001b[0m     \u001b[0mm_df\u001b[0m\u001b[0;34m.\u001b[0m\u001b[0mCap_Gr\u001b[0m\u001b[0;34m[\u001b[0m\u001b[0mt\u001b[0m\u001b[0;34m]\u001b[0m \u001b[0;34m=\u001b[0m \u001b[0ms\u001b[0m \u001b[0;34m*\u001b[0m \u001b[0mm_df\u001b[0m\u001b[0;34m.\u001b[0m\u001b[0mWEP\u001b[0m\u001b[0;34m[\u001b[0m\u001b[0mt\u001b[0m\u001b[0;34m]\u001b[0m\u001b[0;34m/\u001b[0m\u001b[0mm_df\u001b[0m\u001b[0;34m.\u001b[0m\u001b[0mCapital\u001b[0m\u001b[0;34m[\u001b[0m\u001b[0mt\u001b[0m\u001b[0;34m]\u001b[0m \u001b[0;34m-\u001b[0m \u001b[0mdelta\u001b[0m\u001b[0;34m\u001b[0m\u001b[0m\n",
      "\u001b[0;31mNameError\u001b[0m: name 'pi' is not defined"
     ]
    }
   ],
   "source": [
    "import numpy as np\n",
    "import pandas as pd\n",
    "import matplotlib as mpl\n",
    "import matplotlib.pyplot as plt\n",
    "from IPython.display import Image\n",
    "%matplotlib inline\n",
    "\n",
    "alpha = 0.3                      \n",
    "beta = 0.8\n",
    "s = 0.1\n",
    "delta = 0.03\n",
    "LShare = beta - alpha\n",
    "subsistence = 750\n",
    "\n",
    "g0 = 0.000177            # efficiency of labor growth at 0.0177% per year\n",
    "\n",
    "\n",
    "n0 = 0.000441            # population and labor force growth at 0.0441%/year\n",
    "\n",
    "\n",
    "array = np.zeros((1001,9))       \n",
    "\n",
    "m_df = pd.DataFrame(array, \n",
    "    columns=[\"Year\",\"Population\", \"Capital\", \"WEP\", \"Living\", \"Efficiency\", \"Pop_Gr\", \"Eff_Gr\", \"Cap_Gr\"])\n",
    "\n",
    "m_df.Year[0] = -8000\n",
    "m_df.Population[0] = 5\n",
    "m_df.Living[0] = 750\n",
    "m_df.WEP[0] = 3750\n",
    "m_df.Capital[0] = (s/delta) * m_df.WEP[0]\n",
    "m_df.Efficiency[0] = (m_df.WEP[0]**(1/(beta-alpha)) * \n",
    "    m_df.Population[0]**(-1) * m_df.Capital[0]**((-alpha)/(beta-alpha)))\n",
    "m_df.Pop_Gr[0] = n0\n",
    "m_df.Eff_Gr[0] = g0\n",
    "m_df.Cap_Gr[0] = s * m_df.WEP[0]/m_df.Capital[0] - delta\n",
    "g1 = np.log(m_df.WEP[0]/np.exp(1))\n",
    "\n",
    "for t in range(1, 1001):\n",
    "    m_df.Year[t] = m_df.Year[t-1] + 10\n",
    "    m_df.Population[t] = m_df.Population[t-1]*np.exp(m_df.Pop_Gr[t-1]*10)\n",
    "    m_df.Capital[t] = m_df.Capital[t-1] * np.exp(m_df.Cap_Gr[t-1]*10)\n",
    "    m_df.Efficiency[t] = m_df.Efficiency[t-1] * np.exp(m_df.Eff_Gr[t-1]*10)\n",
    "    m_df.WEP[t] = m_df.Capital[t]**alpha * (m_df.Efficiency[t] *\n",
    "        m_df.Population[t])**(beta - alpha)\n",
    "    m_df.Living[t] = m_df.WEP[t]/m_df.Population[t]\n",
    "    m_df.Pop_Gr[t] = pi * np.log(m_df.Living[t]/subsistence) + n0\n",
    "    m_df.Eff_Gr[t] = lambda_ * (np.log(m_df.WEP[t]) - g1) + g0\n",
    "    m_df.Cap_Gr[t] = s * m_df.WEP[t]/m_df.Capital[t] - delta\n",
    "\n",
    "m_df = m_df.set_index(\"Year\")\n",
    "print(m_df.Population[0])\n",
    "\n",
    "m_df.Population.plot()\n",
    "plt.ylabel(\"Population\", fontsize=20)   # set labels\n",
    "plt.xlabel(\"Date\", fontsize=20)\n",
    "plt.suptitle(\"Calibrating to Population of 170 at Year Zero\", fontsize=28)"
   ]
  },
  {
   "cell_type": "code",
   "execution_count": null,
   "metadata": {},
   "outputs": [],
   "source": [
    "m_df.Living.plot()\n",
    "plt.ylabel(\"Living Standards\", fontsize=20)   # set labels\n",
    "plt.xlabel(\"Date\", fontsize=20)\n",
    "plt.suptitle(\"Calibrating to Population of 170 at Year Zero\", fontsize=28)"
   ]
  },
  {
   "cell_type": "markdown",
   "metadata": {},
   "source": [
    "## Malthusian Growth: Making Population Growth Responsive\n",
    "\n",
    "&nbsp;&nbsp;&nbsp;&nbsp;&nbsp;&nbsp;&nbsp;&nbsp;&nbsp;"
   ]
  },
  {
   "cell_type": "code",
   "execution_count": null,
   "metadata": {},
   "outputs": [],
   "source": [
    "import numpy as np\n",
    "import pandas as pd\n",
    "import matplotlib as mpl\n",
    "import matplotlib.pyplot as plt\n",
    "from IPython.display import Image\n",
    "%matplotlib inline\n",
    "\n",
    "alpha = 0.3                      \n",
    "beta = 0.8\n",
    "s = 0.1\n",
    "delta = 0.03\n",
    "LShare = beta - alpha\n",
    "pi = .01                 # an e-fold increase in real income per capita to 2038 dollars/year\n",
    "                         # raises population growth from 0 to 1% per year\n",
    "subsistence = 750\n",
    "lambda_ = 0.000085       # initial efficiency of labor growth at 0.0085% per year; each e-fold\n",
    "                         # increase in world gdp raises efficiency of labor growth by an\n",
    "                         # additional 0.0085% per year\n",
    "\n",
    "n0 = 0.000\n",
    "g0 = 0.000\n",
    "\n",
    "array = np.zeros((1001,9))       \n",
    "\n",
    "m_df = pd.DataFrame(array, \n",
    "    columns=[\"Year\",\"Population\", \"Capital\", \"WEP\", \"Living\", \"Efficiency\", \"Pop_Gr\", \"Eff_Gr\", \"Cap_Gr\"])\n",
    "\n",
    "m_df.Year[0] = -8000\n",
    "m_df.Population[0] = 5\n",
    "m_df.Living[0] = 750\n",
    "m_df.WEP[0] = 3750\n",
    "m_df.Capital[0] = (s/delta) * m_df.WEP[0]\n",
    "m_df.Efficiency[0] = (m_df.WEP[0]**(1/(beta-alpha)) * \n",
    "    m_df.Population[0]**(-1) * m_df.Capital[0]**((-alpha)/(beta-alpha)))\n",
    "m_df.Pop_Gr[0] = n0\n",
    "m_df.Eff_Gr[0] = g0\n",
    "m_df.Cap_Gr[0] = s * m_df.WEP[0]/m_df.Capital[0] - delta\n",
    "g1 = np.log(m_df.WEP[0]/np.exp(1))\n",
    "\n",
    "for t in range(1, 1001):\n",
    "    m_df.Year[t] = m_df.Year[t-1] + 10\n",
    "    m_df.Population[t] = m_df.Population[t-1]*(1 + m_df.Pop_Gr[t-1])**10\n",
    "    m_df.Capital[t] = m_df.Capital[t-1] * (1 + m_df.Cap_Gr[t-1])**10\n",
    "    m_df.Efficiency[t] = m_df.Efficiency[t-1] * (1 + m_df.Eff_Gr[t-1])**10\n",
    "    m_df.WEP[t] = m_df.Capital[t]**alpha * (m_df.Efficiency[t] *\n",
    "        m_df.Population[t])**(beta - alpha)\n",
    "    m_df.Living[t] = m_df.WEP[t]/m_df.Population[t]\n",
    "    m_df.Pop_Gr[t] = pi * np.log(m_df.Living[t]/subsistence) + n0\n",
    "    m_df.Eff_Gr[t] = lambda_ * (np.log(m_df.WEP[t]) - g1) + g0\n",
    "    m_df.Cap_Gr[t] = s * m_df.WEP[t]/m_df.Capital[t] - delta\n",
    "\n",
    "m_df = m_df.set_index(\"Year\")\n",
    "\n",
    "print(m_df.Population[0])\n",
    "print(m_df.Pop_Gr[0])\n",
    "print(m_df.Eff_Gr[0])\n",
    "print(m_df.Efficiency[0])\n",
    "print(\" \")\n",
    "print(m_df.Population[2000])\n",
    "print(m_df.Pop_Gr[2000])\n",
    "print(m_df.Eff_Gr[2000])\n",
    "print(m_df.Efficiency[2000])"
   ]
  },
  {
   "cell_type": "code",
   "execution_count": null,
   "metadata": {},
   "outputs": [],
   "source": [
    "m_df.plot()     # and graph\n",
    "\n",
    "plt.ylabel(\"Value\", fontsize=20)   # set labels\n",
    "plt.xlabel(\"Time\", fontsize=20)\n",
    "plt.suptitle(\"Malthus\", fontsize=28)"
   ]
  },
  {
   "cell_type": "code",
   "execution_count": null,
   "metadata": {},
   "outputs": [],
   "source": [
    "m_df.Population.plot()\n",
    "\n",
    "plt.ylabel(\"Population\", fontsize=20)   # set labels\n",
    "plt.xlabel(\"Date\", fontsize=20)\n",
    "plt.suptitle(\"Malthus: Population\", fontsize=28)"
   ]
  },
  {
   "cell_type": "code",
   "execution_count": null,
   "metadata": {},
   "outputs": [],
   "source": [
    "m_df.Living.plot()\n",
    "\n",
    "plt.ylabel(\"Living Standards\", fontsize=20)   # set labels\n",
    "plt.xlabel(\"Date\", fontsize=20)\n",
    "plt.suptitle(\"Malthus: Living Standards\", fontsize=28)"
   ]
  },
  {
   "cell_type": "markdown",
   "metadata": {},
   "source": [
    "<https://github.com/braddelong/LSS18E101b/blob/master/2018-02-04_Malthusian.ipynb>\n",
    "\n",
    "<http://datahub.berkeley.edu/user-redirect/interact?account=braddelong&repo=LSS18E101b&branch=master&path=2018-02-04_Malthusian.ipynb>\n",
    "\n"
   ]
  }
 ],
 "metadata": {
  "kernelspec": {
   "display_name": "Python 3",
   "language": "python",
   "name": "python3"
  },
  "language_info": {
   "codemirror_mode": {
    "name": "ipython",
    "version": 3
   },
   "file_extension": ".py",
   "mimetype": "text/x-python",
   "name": "python",
   "nbconvert_exporter": "python",
   "pygments_lexer": "ipython3",
   "version": "3.6.5"
  }
 },
 "nbformat": 4,
 "nbformat_minor": 2
}
