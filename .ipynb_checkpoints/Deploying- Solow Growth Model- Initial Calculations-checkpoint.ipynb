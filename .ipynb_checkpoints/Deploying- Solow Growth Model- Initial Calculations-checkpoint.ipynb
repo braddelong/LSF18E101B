{
 "cells": [
  {
   "cell_type": "markdown",
   "metadata": {},
   "source": [
    "# Deploying: Solow Growth Model: Initial Calculations\n",
    "\n",
    "* Deploy this to your Berkeley datahub account via: <http://datahub.berkeley.edu/user-redirect/interact?account=braddelong&repo=LSF18E101B&branch=master&path=Solow_Growth_Model-Initial_Computations.ipynb>\n",
    "\n",
    "* Or download it from github at: <https://github.com/braddelong/LSF18E101B/blob/master/Solow_Growth_Model-Initial_Computations.ipynb>\n",
    "\n",
    "---"
   ]
  }
 ],
 "metadata": {
  "kernelspec": {
   "display_name": "Python 3",
   "language": "python",
   "name": "python3"
  },
  "language_info": {
   "codemirror_mode": {
    "name": "ipython",
    "version": 3
   },
   "file_extension": ".py",
   "mimetype": "text/x-python",
   "name": "python",
   "nbconvert_exporter": "python",
   "pygments_lexer": "ipython3",
   "version": "3.6.5"
  }
 },
 "nbformat": 4,
 "nbformat_minor": 2
}
