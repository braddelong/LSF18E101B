{
 "cells": [
  {
   "cell_type": "markdown",
   "metadata": {},
   "source": [
    "# Quiz 8 Support\n",
    "\n",
    "<https://www.icloud.com/keynote/0gFku0DdCZRjZ85ZUAfWmTjLQ>   \n",
    "<http://nbviewer.jupyter.org/github/braddelong/LSF18E101B/blob/master/Quiz_7_Support%20%23Macro%20%23MRE.ipynb>\n",
    "\n",
    "&nbsp;"
   ]
  },
  {
   "cell_type": "markdown",
   "metadata": {},
   "source": [
    "### <font color=\"880000\">Quiz 7: Public Health and Productivity: Comparative Diffusion</font>\n",
    "\n",
    "<img style=\"display:block; margin-left:auto; margin-right:auto;\" src=\"https://www.evernote.com/l/AAE0G1sc7f5P0rTY5SRB0oy7S4ayrua1JuEB/image.png\" alt=\"Lecture Solving the Flexprice Model Macro MRE key\" title=\"Lecture-_Solving_the_Flexprice_Model___Macro__MRE_key.png\" border=\"0\" width=\"600\" height=\"395\" />\n",
    "\n",
    "----\n",
    "\n",
    "&nbsp;\n",
    "\n",
    "### <font color=\"000088\">Short Answer: Public Health and Productivity: Comparative Diffusion</font>\n",
    "\n",
    "* Send email to: delong@econ.berkeley.edu\n",
    "* “Econ 101b F2018 Quiz 7” as the subject line\n",
    "\n",
    "Why do you think it has proven so much easier to spread around the world knowledge about how to obtain good public health than knowledge about how to obtain frontier levels of economic activity?\n",
    "\n",
    "----\n",
    "\n",
    "&nbsp;\n",
    "\n",
    "### <font color=\"000088\">No \"Right\" Answer Here...</font>\n",
    "\n",
    "We are looking for coherent thought here: using information and economic theory to set out plausible and testable hypotheses, rather than for you to agree with us.\n",
    "\n",
    "That said, I have been impressed with the degree to which the important knowledge about health is compartmentalizable: one nurse, or one doctor, or one water system has to learn the lessons and apply them, and the task of improving health is done.\n",
    "\n",
    "By contrast, to attain high economic activity a great many people have to coordinate their behavior and their knowledge. See, for example: Michael Kremer (2006): The O-Ring Theory of Economic Development <https://pdfs.semanticscholar.org/61e4/b9935c01f5620f7fa5fd20fe6c248152095f.pdf>.\n",
    "\n",
    "I, at least, feel that this may have a substantial amount to do with it…\n",
    "\n",
    "<https://www.icloud.com/keynote/0a9WxWLzm9_pkS_yNDqX2L44w>\n",
    "\n",
    "----\n",
    "\n",
    "&nbsp;\n",
    "\n",
    "## <font color=\"880000\">Catch Our Breath...</font>\n",
    "\n",
    "<img src=\"https://tinyurl.com/20181029a-delong\" width=\"300\" style=\"float:right\" />\n",
    "\n",
    "* Ask me two questions…\n",
    "* Make two comments…\n",
    "\n",
    "<br clear=\"all\" />\n",
    "\n",
    "Further reading: \n",
    "\n",
    "* **Michael Kremer** (1993): _The O-Ring Theory of Economic Development_ <https://pdfs.semanticscholar.org/61e4/b9935c01f5620f7fa5fd20fe6c248152095f.pdf>: “People in business talk about quality all the time.... This paper makes a stab at modeling quality... proposes an O-ring production function in which quantity cannot be substituted for quality.... Under this production function, small differences in worker skill lead to large differences in wages and output…    \n",
    "&nbsp;   \n",
    "…If tasks are performed sequentially, high-skill workers will be allocated to later stages of production. Poor countries will therefore have higher shares of primary production in GNP, and workers will be paid more in industries with high value inputs.... Imperfect matching of workers due to imperfect information about worker skill leads to positive spillovers and strategic complementarity in investment in human capital. Thus, subsidies to investment in human capital may be Pareto optimal. Small differences between countries in such subsidies or in exogenous factors such as geography or the quality of the educational system lead to multiplier effects that create large differences in worker skill. If strategic complementarity is sufficiently strong, microeconomically identical nations or groups within nations could settle into equilibria with different levels of human capital…\n",
    "\n",
    "&nbsp;\n",
    "\n",
    "* **Garret Jones** (2013): _The O-ring sector and the Foolproof sector: An explanation for skill externalities_ <https://www.sciencedirect.com/science/article/pii/S0167268112002193>\n",
    "\n",
    "\n",
    "\n",
    "----\n",
    "\n",
    "* Lecture Support: <http://nbviewer.jupyter.org/github/braddelong/LSF18E101B/blob/master/Quiz_7_Support%20%23Macro%20%23MRE.ipynb>\n",
    "* Quiz 7: <https://www.icloud.com/keynote/0a9WxWLzm9_pkS_yNDqX2L44w>\n"
   ]
  }
 ],
 "metadata": {
  "kernelspec": {
   "display_name": "Python 3",
   "language": "python",
   "name": "python3"
  },
  "language_info": {
   "codemirror_mode": {
    "name": "ipython",
    "version": 3
   },
   "file_extension": ".py",
   "mimetype": "text/x-python",
   "name": "python",
   "nbconvert_exporter": "python",
   "pygments_lexer": "ipython3",
   "version": "3.6.5"
  }
 },
 "nbformat": 4,
 "nbformat_minor": 2
}
