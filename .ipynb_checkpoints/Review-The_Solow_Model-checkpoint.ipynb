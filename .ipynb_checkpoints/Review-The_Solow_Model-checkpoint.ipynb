{
 "cells": [
  {
   "cell_type": "markdown",
   "metadata": {},
   "source": [
    "# Review: The Solow Model\n",
    "\n",
    "----\n",
    "\n",
    "&nbsp;"
   ]
  },
  {
   "cell_type": "markdown",
   "metadata": {},
   "source": [
    "### Review: Solow Model Key Equations\n",
    "\n",
    "(1) &nbsp;&nbsp; $ \\left(\\frac{Y}{L}\\right) = \n",
    "    \\left(\\frac{K}{Y}\\right)^\\left(\\frac{\\alpha}{1-\\alpha}\\right)E $\n",
    "    :: production function\n",
    "\n",
    "(2) &nbsp;&nbsp; $ \\left(\\frac{Y}{L}\\right)^{*} = \n",
    "    \\left(\\frac{s}{n+g+\\delta}\\right)^\n",
    "    \\left(\\frac{\\alpha}{1-\\alpha}\\right)E $\n",
    "    :: equilibrium balanced-growth path\n",
    "\n",
    "(3) &nbsp;&nbsp; $ \\frac{d\\left(\\frac{K}{Y}\\right)}{dt} =\n",
    "    -(1-\\alpha)(n+g+\\delta)\\left(\\frac{K}{Y} - \n",
    "    \\frac{s}{n+g+\\delta}\\right)$\n",
    "    :: convergence differential equation\n",
    "    \n",
    "(4) &nbsp;&nbsp; $ \\frac{K_t}{Y_t} =\n",
    "    \\frac{s}{n+g+\\delta} + \n",
    "    \\left(\\frac{K}{Y} - \\frac{s}{n+g+\\delta}\\right)\n",
    "    e^{-(1-\\alpha)(n+g+\\delta)t} $\n",
    "    \n",
    "----\n",
    "\n",
    "&nbsp;"
   ]
  },
  {
   "cell_type": "markdown",
   "metadata": {},
   "source": [
    "### Production Function\n",
    "\n",
    "**The most useful form of the production function:**\n",
    "\n",
    "(1) &nbsp;&nbsp; $ \\left(\\frac{Y}{L}\\right) = \n",
    "    \\left(\\frac{K}{Y}\\right)^\\left(\\frac{\\alpha}{1-\\alpha}\\right)E $\n",
    "    \n",
    "* Current output per worker Y/L as a function of:\n",
    "    * Current capital-output ratio K/Y\n",
    "    * Production function parameter α\n",
    "    * Current level of the efficiency of labor E\n",
    "* Why most useful? Because it ties directly into the state variable most directly and simply connected to equilibrium: (K/Y)*\n",
    "\n",
    "----\n",
    "\n",
    "&nbsp;"
   ]
  },
  {
   "cell_type": "markdown",
   "metadata": {},
   "source": [
    "### Equilibrium Balanced-Growth Path\n",
    "\n",
    "**The most useful form of equilibrium:**\n",
    "\n",
    "(2) &nbsp;&nbsp; $ \\left(\\frac{Y}{L}\\right)^{*} = \n",
    "    \\left(\\frac{s}{n+g+\\delta}\\right)^\n",
    "    \\left(\\frac{\\alpha}{1-\\alpha}\\right)E $\n",
    "    \n",
    "* Why most useful? Because it tells you toward what path the key outcome variable Y/L is going:\n",
    "    * Tells us in the long run balanced-growth path higher when s/(n+g+δ) higher—and by how much it is higher\n",
    "    * Tells us in the long run balanced-growth path higher when α is higher—and by how much it is higher\n",
    "    * Tells us output per worker Y/L along the balanced growth path grows at the same rate E grows—which is at rate g…\n",
    "\n",
    "----\n",
    "\n",
    "&nbsp;"
   ]
  },
  {
   "cell_type": "markdown",
   "metadata": {},
   "source": [
    "### Convergence Differential Equation\n",
    "\n",
    "(3) &nbsp;&nbsp; $ \\frac{d\\left(\\frac{K}{Y}\\right)}{dt} =\n",
    "    -(1-\\alpha)(n+g+\\delta)\\left(\\frac{K}{Y} - \n",
    "    \\frac{s}{n+g+\\delta}\\right)$\n",
    "\n",
    "* The capital-output ratio K/Y is closing a fraction (1-α)(n+g+δ) of the gap between its current and its balanced-growth steady-state value every year…\n",
    "\n",
    "----\n",
    "\n",
    "&nbsp;"
   ]
  },
  {
   "cell_type": "markdown",
   "metadata": {},
   "source": [
    "### Integrated Out\n",
    "\n",
    "(4) &nbsp;&nbsp; $ \\frac{K_t}{Y_t} =\n",
    "    \\frac{s}{n+g+\\delta} + \n",
    "    \\left(\\frac{K}{Y} - \\frac{s}{n+g+\\delta}\\right)\n",
    "    e^{-(1-\\alpha)(n+g+\\delta)t} $\n",
    "\n",
    "* And we can then piggyback on the great mathematicians of the past…\n",
    "\n",
    "----\n",
    "\n",
    "&nbsp;"
   ]
  },
  {
   "cell_type": "markdown",
   "metadata": {},
   "source": [
    "### Remember Where We Came From…\n",
    "\n",
    "* This is the complete specification of the Solow model base case:\n",
    "    * A production function where a 1% increase in K/L brings an α% increase in Y/L\n",
    "    * A production function that also includes the efficiency of labor E\n",
    "    * Labor force growth at constant proportional rate n\n",
    "    * Efficiency of labor growth at constant proportional rate g\n",
    "    * Capital accumulation equation: savings and depreciation\n",
    "    \n",
    "(5) &nbsp;&nbsp; $ \\left(\\frac{Y}{L}\\right) = \n",
    "    \\left(\\frac{K}{L}\\right)^{\\alpha}(E)^{1-\\alpha} $\n",
    "    \n",
    "(6) &nbsp;&nbsp; $ \\frac{1}{L}\\frac{dL}{dt} = n $\n",
    "\n",
    "(7) &nbsp;&nbsp; $ \\frac{1}{E}\\frac{dE}{dt} = g $\n",
    "\n",
    "(8) &nbsp;&nbsp; $ \\frac{1}{K}\\frac{dLK}{dt} = \n",
    "    s\\left(\\frac{Y}{K}\\right) - \\delta $\n",
    "    \n",
    "----\n",
    "\n",
    "&nbsp;"
   ]
  },
  {
   "cell_type": "markdown",
   "metadata": {},
   "source": [
    "### Catch Our Breath…\n",
    "\n",
    "<img src=\"https://www.evernote.com/l/AAFlEAMcDh5H4bPCvHb8Ydxr8KzxvnyZekoB/image.png\" alt=\"delong\" title=\"delong\" border=\"0\" width=\"400\" style=\"float:right;\" />\n",
    "\n",
    "* Ask me two questions… \n",
    "* Make two comments…"
   ]
  }
 ],
 "metadata": {
  "kernelspec": {
   "display_name": "Python 3",
   "language": "python",
   "name": "python3"
  },
  "language_info": {
   "codemirror_mode": {
    "name": "ipython",
    "version": 3
   },
   "file_extension": ".py",
   "mimetype": "text/x-python",
   "name": "python",
   "nbconvert_exporter": "python",
   "pygments_lexer": "ipython3",
   "version": "3.6.5"
  }
 },
 "nbformat": 4,
 "nbformat_minor": 2
}
