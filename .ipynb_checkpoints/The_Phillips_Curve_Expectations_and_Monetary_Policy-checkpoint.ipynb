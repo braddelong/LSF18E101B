{
 "cells": [
  {
   "cell_type": "code",
   "execution_count": null,
   "metadata": {},
   "outputs": [],
   "source": [
    "%%javascript\n",
    "\n",
    "IPython.OutputArea.prototype._should_scroll = function(lines) {\n",
    "    return false;}"
   ]
  },
  {
   "cell_type": "markdown",
   "metadata": {},
   "source": [
    "# <font color= \"880000\">The Phillips Curve, Expectations, and Monetary Policy</font>\n",
    "\n",
    "**QUESTIONS**\n",
    "\n",
    "1. What can shift the Phillips curve?\n",
    "\n",
    "2. What is the Monetary Policy Reaction Function? \n",
    "\n",
    "3. What determines the slope of the Monetary Policy Reaction Function?\n",
    "\n",
    "4. What is the natural rate of unemployment? How has its value changed?\n",
    "\n",
    "5. What are static expectations of inflation? Adaptive? Rational? Panglossian? Eeyore? Diagnostic?\n",
    "\n",
    "6. How has the expected rate of inflation changed?\n",
    "\n",
    "7. How do we use the Phillips curve, the Monetary Policy Reaction Function, and the way in which expectations of inflation are determined to analyze the economy?\n",
    "\n",
    "8. How do we connect the sticky-price model of Part IV with the flexible-price model of Part III?\n",
    "\n",
    "&nbsp;\n",
    "\n",
    "**output gap**: The difference between the actual and potential levels of output, Y - Y*.\n",
    "\n",
    "**Okun's law**: Periods of low (or high) national product relative to potential output correspond to periods of high (or low) unemployment relative to the natural rate.\n",
    "\n",
    "**natural rate of unemployment**: The rate of unemployment where actual and expected inflation are equal, and there is no downward or upward pressure on inflation.\n",
    "\n",
    "&nbsp;\n",
    "\n",
    "This is the most important chapter in the book. It draws together the flexible-price business cycle model of Part III and the sticky-price business cycle model of Part IV. It provides a bird’s-eye overview of demand, monetary policy, and inflation. Chapter 9 analyzed demand and the multiplier. Chapter 10 added interest rates and their effect on investment and exports. In this chapter we build on those two and add unemployment, inflation, and monetary policy—how the Federal Reserve makes its decisions.\n",
    "\n",
    "When you finish this chapter, you will have a comprehensive view of how business cycles and demand management work. The Federal Reserve responds to unemployment and inflation by choosing a monetary policy that aims at price stability and full employment with the first goal taking priority. That monetary policy then—through the mechanisms of Chapter 10—determines investment and exports and—through the mechanisms of Chapter 9—the level of production. The level of production relative to potential output itself feeds back and generates unexpected rises and declines in inflation relative to what was previously anticipated.\n",
    "\n",
    "But that is not all this chapter does. It also analyzes expectations—how the previous anticipations of prices and inflation are formed. Expectations are key, for they provide the linkage between the sticky-price model of Part IV and the flexible-price model of Part III.\n",
    "\n",
    "That is how this chapter accomplishes its two major goals: to complete the construction of the sticky-price model begun in Chapter 9 and to link the sticky-price macroeconomic model analysis of Part IV with the flexible-price macroeconomic model analysis of Part III. The key to accomplishing both of these is an analytical tool called the Phillips curve. The Phillips curve describes the relationship between inflation and unemployment, according to which a higher rate of unemployment is associated with a lower rate of inflation.\n",
    "\n",
    "The plan of this chapter is to first examine aggregate supply and the Phillips curve: Why is there—in the short run of our sticky-price model—a positive relationship between production Y on the one hand and the price level P and the inflation rate π on the other (and thus also a negative relationship between unemployment and inflation)? This leads into an analysis of how the existence of the aggregate supply relationship and the Phillips curve affects modern central banks’ conduct of monetary policy and the important concept of the Monetary Policy Reaction Function. Then it is time to put all the pieces together by bringing into the picture the key elements of the determinants of the natural rate of unemployment and the kinds of expectations—static, adaptive, and rational; plus Panglossian, Eeyore, and diagnostic—that play an overwhelmingly important role in determining how modern economies behave.\n",
    "\n",
    "&nbsp;"
   ]
  },
  {
   "cell_type": "markdown",
   "metadata": {},
   "source": [
    "## <font color=\"000088\">12.1 Aggregate Supply and the Phillips Curve</font>\n",
    "\n",
    "### <font color=\"000088\">12.1.1 Unemployment</font>\n",
    "\n",
    "So far in this book one of our six key economic variables, the unemployment rate, has been largely absent. In Part II, the long-run growth section, unemployment was not a significant factor. In Part III, the flexible-price macroeconomic model section, there were no fluctuations in unemployment. Wages and prices were flexible, and so labor supply balanced labor demand.\n",
    "\n",
    "Now it is time to bring unemployment to center stage. Back in Chapter 2 we showed that there is generally an inverse relationship between the unemployment rate u and the output gap — the level of real GDP relative to potential output Y*. This relationship is called Okun’s law (see Box 12.1). Because of Okun’s law, we do not have to conduct separate analyses of real GDP and unemployment: We know that when one is high the other is low, and vice versa.\n",
    "\n",
    "When output Y is equal to potential output Y*, then the unemployment rate is equal to what Milton Friedman in 1966 was among the first to call the natural rate of unemployment — let’s call it u* — and the labor market is putting neither upward nor downward pressure on the rate of inflation. When output Y is above potential output Y*, the unemployment rate u is below the natural rate of unemployment u* and there is upward pressure on the rate of inflation. When output Y is below poten­ tial output Y*, the unemployment rate u is above u* and there is typically downward pressure on the rate of inflation.\n",
    "\n",
    "In this chapter we spend most of our time analyzing the behavior of the unemployment rate. The unemployment rate is of special interest because a high unemployment rate means low social welfare (see Box 12.2). But with only one additional step we could turn that analysis into an analysis of the output gap — of real GDP relative to potential output.\n",
    "\n",
    "&nbsp;"
   ]
  },
  {
   "cell_type": "markdown",
   "metadata": {},
   "source": [
    "<img src=\"https://tinyurl.com/20181029a-delong\" width=\"300\" style=\"float:right\" />\n",
    "\n",
    "## Catch Our Breath\n",
    "\n",
    "* Ask me two questions…\n",
    "* Make two comments…\n",
    "* Further reading…\n",
    "\n",
    "<br clear=\"all\" />\n",
    "\n",
    "----\n",
    "\n",
    "Lecture Support: <>\n",
    "Keynote File: <>\n",
    "\n",
    "&nbsp;\n",
    "\n",
    "----"
   ]
  }
 ],
 "metadata": {
  "kernelspec": {
   "display_name": "Python 3",
   "language": "python",
   "name": "python3"
  },
  "language_info": {
   "codemirror_mode": {
    "name": "ipython",
    "version": 3
   },
   "file_extension": ".py",
   "mimetype": "text/x-python",
   "name": "python",
   "nbconvert_exporter": "python",
   "pygments_lexer": "ipython3",
   "version": "3.6.5"
  }
 },
 "nbformat": 4,
 "nbformat_minor": 2
}
