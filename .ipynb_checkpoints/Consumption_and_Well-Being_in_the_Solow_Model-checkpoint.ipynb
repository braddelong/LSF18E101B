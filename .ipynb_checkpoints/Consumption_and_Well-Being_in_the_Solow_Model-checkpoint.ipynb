{
 "cells": [
  {
   "cell_type": "markdown",
   "metadata": {},
   "source": [
    "# Consumption and Well-Being in the Solow Model\n",
    "\n",
    "----\n",
    "\n",
    "&nbsp;"
   ]
  },
  {
   "cell_type": "markdown",
   "metadata": {},
   "source": [
    "### Consumption\n",
    "\n",
    "(1) &nbsp;&nbsp; $ C = (1-s)Y $\n",
    "\n",
    "(2) &nbsp;&nbsp; $ \\frac{C}{L} = (1-s)\\left(\\frac{Y}{L}\\right) $\n",
    "\n",
    "Along an economy's balanced-growth path:\n",
    "\n",
    "(3) &nbsp;&nbsp; $ \\left(\\frac{Y}{L}\\right)^{*} = \n",
    "    {\\left(\\frac{K}{Y}\\right)^{*}}^\\left(\\frac{\\alpha}\n",
    "    {1-\\alpha}\\right)E $\n",
    "    \n",
    "(4) &nbsp;&nbsp; $ \\left(\\frac{Y}{L}\\right)^{*} = \n",
    "    \\left(\\frac{s}{n+g+\\delta}\\right)^\\left(\\frac{\\alpha}\n",
    "    {1-\\alpha}\\right)E $\n",
    "    \n",
    "(5) &nbsp;&nbsp; $ \\left(\\frac{C}{L}\\right)^{*} = \n",
    "    \\left(1-s\\right)\n",
    "    \\left(\\frac{s}{n+g+\\delta}\\right)^\\left(\\frac{\\alpha}\n",
    "    {1-\\alpha}\\right)E $\n",
    "    \n",
    "----\n",
    "\n",
    "&nbsp;"
   ]
  },
  {
   "cell_type": "markdown",
   "metadata": {},
   "source": [
    "### Suppose We Want to Maximize (C/L)*\n",
    "\n",
    "(6) &nbsp;&nbsp; $ ln\\left(\\frac{C}{L}\\right)^{*} = \n",
    "    ln\\left(1-s\\right) +\n",
    "    \\left(\\frac{\\alpha}{1-\\alpha}\\right)ln(s) - \n",
    "    \\left(\\frac{\\alpha}{1-\\alpha}\\right)ln(n+g+\\delta) + \n",
    "    ln(E) $\n",
    "    \n",
    "(7) &nbsp;&nbsp; $ \\frac{d\\left(ln\\left(\\frac{C}{L}\\right)^{*}\\right)}\n",
    "    {ds} = \n",
    "    \\frac{-1}{1-s} +\n",
    "    \\left(\\frac{\\alpha}{1-\\alpha}\\right)\\left(\\frac{1}{s}\\right) $\n",
    "    \n",
    "(8) &nbsp;&nbsp; $ \\frac{d\\left(ln\\left(\\frac{C}{L}\\right)^{*}\\right)}\n",
    "    {ds} = 0 ⇒ \\frac{1}{1-s} = \n",
    "    \\left(\\frac{\\alpha}{1-\\alpha}\\right) $\n",
    "    \n",
    "(9)  &nbsp;&nbsp; $ s = \\alpha ⇒ \\left(\\frac{C}{L}\\right)^{*} $ is maximized\n",
    "\n",
    "* Do we want to maximize (C/L)&ast;? Probably not:\n",
    "    * Sacrifices to an overwhelming degree the interest of the present generation for the interests of a (presumably richer) future\n",
    "* **Note**: We have just done all the multivariable calculus we will need…\n",
    "    * Sometimes use “∂” to indicate that there are other independent variables wandering around as well…\n",
    "    \n",
    "----\n",
    "\n",
    "&nbsp;"
   ]
  },
  {
   "cell_type": "markdown",
   "metadata": {},
   "source": [
    "### Suppose We Start on a Baseline BGP with s=α, and Raise s…\n",
    "\n",
    "What then happens to (C/L)* and (Y/L)*?\n",
    "\n",
    "1. (C/L)* and (Y/L)* both rise—the extra capital is productive, and extra depreciation of capital and diversion of resources to investment are not enough to swallow up the entire boost to output from higher savings and capital.\n",
    "2. (C/L)* and (Y/L)* both fall—the extra depreciation of capital and diversion of resources to investment swallows up resources, so there is no boost to production and definitely no boost to consumption.\n",
    "3. (C/L)* rises and (Y/L)* falls—the extra capital is productive, but extra depreciation of capital and diversion of resources to investment swallows up more the entire boost to output from higher savings and capital. entire boost to output from higher savings and capital.\n",
    "4. None of the above\n",
    "\n",
    "----\n",
    "\n",
    "&nbsp;"
   ]
  },
  {
   "cell_type": "markdown",
   "metadata": {},
   "source": [
    "### s = α called “The Golden Rule”\n",
    "\n",
    "* Ned Phelps (1961): The Golden Rule of Accumulation: “Do unto future generations as we hope previous generations did unto us…”\n",
    "    * https://web.archive.org/web/20160304111115/http://www.newschool.edu/nssr/het/essays/growth/optimal/goldengr.htm\n",
    "    \n",
    "----\n",
    "\n",
    "&nbsp;"
   ]
  },
  {
   "cell_type": "markdown",
   "metadata": {},
   "source": [
    "### Catch Our Breath…\n",
    "\n",
    "<img src=\"http://delong.typepad.com/.a/6a00e551f080038834022ad390ea77200d-pi\" alt=\"delong\" border=\"0\" width=\"400\" height=\"389\" style=\"float:right;\" />\n",
    "\n",
    "* Ask me two questions… \n",
    "* Make two comments…"
   ]
  }
 ],
 "metadata": {
  "kernelspec": {
   "display_name": "Python 3",
   "language": "python",
   "name": "python3"
  },
  "language_info": {
   "codemirror_mode": {
    "name": "ipython",
    "version": 3
   },
   "file_extension": ".py",
   "mimetype": "text/x-python",
   "name": "python",
   "nbconvert_exporter": "python",
   "pygments_lexer": "ipython3",
   "version": "3.6.5"
  }
 },
 "nbformat": 4,
 "nbformat_minor": 2
}
