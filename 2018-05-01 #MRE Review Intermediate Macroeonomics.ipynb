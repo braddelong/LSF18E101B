{
 "cells": [
  {
   "cell_type": "markdown",
   "metadata": {},
   "source": [
    "# Econ 101b Review: May 1, 2018\n",
    "\n",
    "<http://nbviewer.jupyter.org/github/braddelong/LSS18E101b/blob/master/2018-05-01%20%23MRE%20Review%20Intermediate%20Macroeonomics.ipynb> | <https://www.icloud.com/keynote/0xoGroPwN3sF-FHQgSM9K3xPw>"
   ]
  },
  {
   "cell_type": "markdown",
   "metadata": {},
   "source": [
    "## Solow Growth Model"
   ]
  },
  {
   "cell_type": "markdown",
   "metadata": {},
   "source": [
    "### Framework\n",
    "\n",
    "The Solow Growth Model (SGM) system of equations:\n",
    "\n",
    "&nbsp;&nbsp;&nbsp;&nbsp;&nbsp;&nbsp;&nbsp;&nbsp;&nbsp;\n",
    "$ \\frac{d\\left(L_t\\right)}{dt} = nL_t $ :: labor force growth equation\n",
    "\n",
    "&nbsp;&nbsp;&nbsp;&nbsp;&nbsp;&nbsp;&nbsp;&nbsp;&nbsp;\n",
    "$ \\frac{d\\left(E_t\\right)}{dt} = gE_t $ :: efficiency of labor growth equation\n",
    "\n",
    "&nbsp;&nbsp;&nbsp;&nbsp;&nbsp;&nbsp;&nbsp;&nbsp;&nbsp;\n",
    "$ \\frac{d\\left(K_t\\right)}{dt} = sY_t - \\delta{K_t} $ :: capital stock growth equation\n",
    "\n",
    "&nbsp;&nbsp;&nbsp;&nbsp;&nbsp;&nbsp;&nbsp;&nbsp;&nbsp;\n",
    "$ Y_t = \\left(K_t\\right)^{\\alpha}\\left(L_tE_t\\right)^{1-\\alpha} $ :: production function\n",
    "\n",
    "&nbsp;"
   ]
  },
  {
   "cell_type": "markdown",
   "metadata": {},
   "source": [
    "### Balanced-Growth Path\n",
    "\n",
    "* $ \\lim\\limits_{t\\to\\infty}\\left(\\frac{K_t}{Y_t}\\right) = \\frac{s}{n+g+\\delta} $ :: steady-state balanced-growth path capital-output ratio\n",
    "\n",
    "* $ \\lim\\limits_{t\\to\\infty}\\left(\\frac{Y_t}{L_t}\\right) = \\left(\\frac{s}{n+g+\\delta}\\right)^{\\frac{\\alpha}{1-\\alpha}} \\left(E_0{e^{gt}}\\right) $ :: steady-state balanced-growth path output-per-worker ratio\n",
    "\n",
    "* $ \\lim\\limits_{t\\to\\infty}\\left(\\frac{K_t}{L_t}\\right) = \\left(\\frac{s}{n+g+\\delta}\\right)^{\\frac{1}{1-\\alpha}} \\left(E_0{e^{gt}}\\right) $ :: steady-state balanced-growth path capital-worker ratio\n",
    "\n",
    "&nbsp;"
   ]
  },
  {
   "cell_type": "markdown",
   "metadata": {},
   "source": [
    "### Convergence\n",
    "\n",
    "* convergence rate $ = -(1-\\alpha)(n+g+\\delta) $\n",
    "\n",
    "* $ \\frac{K_t}{Y_t} = \\left(1- e^{-(1-\\alpha)(n+g+\\delta)t}\\right)\\left(\\frac{K}{Y}\\right)^* + \\left(e^{-(1-\\alpha)(n+g+\\delta)t}\\right)\\left(\\frac{K_o}{Y_o}\\right) $\n",
    ":: convergence to the steady-state balanced-growth capital-output ratio\n",
    "\n",
    "&nbsp;"
   ]
  },
  {
   "cell_type": "markdown",
   "metadata": {},
   "source": [
    "### Malthusian Efficiency of Labor Growth\n",
    "\n",
    "H: ideas—non-rival: growth rate h\n",
    "\n",
    "E: efficiency of labor: growth rate g\n",
    "\n",
    "L: labor force: growth rate n\n",
    "\n",
    "N: natural resources—rival: growth rate 0\n",
    "\n",
    "* $ g = \\left(\\frac{\\gamma}{1+\\gamma}\\right)h - \\left(\\frac{1}{1+\\gamma}\\right)n $\n",
    "\n",
    "* $ n = {\\gamma}h $ :: steady-state balanced-growth path with g = 0\n",
    "\n",
    "* $ n = {\\phi}\\ln\\left(\\frac{Y/L}{y^s}\\right) $ :: Malthusian population growth\n",
    "\n",
    "* $ g = \\left(\\frac{\\gamma}{1+\\gamma}\\right)h - {\\phi}\\left(\\frac{1}{1+\\gamma}\\right)\\ln\\left(\\frac{Y/L}{y^{s}}\\right) $\n",
    "\n",
    "&nbsp;"
   ]
  },
  {
   "cell_type": "markdown",
   "metadata": {},
   "source": [
    "### How Did We Escape?\n",
    "\n",
    "Two sets of theories for escape:\n",
    "\n",
    "* Eye of the needle\n",
    "    * Cultural-scientific\n",
    "    * Resource-technology\n",
    "    * Plunder-exploitation\n",
    "    * Variants: \"We almost got there many times\" and \"we never got close before\" variants\n",
    "    * Variants: Commercial Revolution, Industrial Revolution, or Modern Economic Growth?\n",
    "\n",
    "Or:\n",
    "\n",
    "* Two heads are better than one...\n",
    "    * $ h = \\left(h_1\\right)L^{\\lambda} $ :: idea generation\n",
    "    \n",
    "Plus:\n",
    "\n",
    "* Demographic transition...\n",
    "    * $ n = \\min\\left({\\phi}\\ln\\left(\\frac{Y/L}{y^s}\\right), \\frac{n_1}{Y/L}\\right) $\n",
    "\n",
    "&nbsp;"
   ]
  },
  {
   "cell_type": "markdown",
   "metadata": {},
   "source": [
    "### Escape: Industrial Revolution and Modern Economic Growth\n",
    "\n",
    "* Elasticity of Demand as a Key (not on final)\n",
    "* Productivity Trends in the North Atlantic\n",
    "    * Britain the First Industrial Nation\n",
    "    * Britain richer—but with low real wages\n",
    "    * British growth acceleration\n",
    "    * But America growing faster from 1800\n",
    "    * And American growth acceleration—modern economic growth and the industrial research lab\n",
    "    * Until the productivity growth slowdon of the 1970s\n",
    "        * And then the speed up of the new-economy 1990s\n",
    "        * And then the growth collapse of the Great Recession\n",
    "        \n",
    "&nbsp;"
   ]
  },
  {
   "cell_type": "markdown",
   "metadata": {},
   "source": [
    "### Income and Wealth Inequality\n",
    "\n",
    "(not on exam)\n",
    "\n",
    "Kaldor facts:\n",
    "\n",
    "* Constant r (=αK/Y)\n",
    "*C onstant wL/Y (= 1-α)\n",
    "* Constant K/Y\n",
    "* Constant g\n",
    "* d(ln(w))/dt = g\n",
    "\n",
    "Piketty facts:\n",
    "\n",
    "* Increase in W/K\n",
    "* Increase in market-to-book ratio for K\n",
    "* Divergence between marginal product of capital and average return\n",
    "* Substantial decrease in real interest rates in financial markets\n",
    "\n",
    "Plutocracy and its fear of creative destruction\n",
    "\n",
    "&nbsp;"
   ]
  },
  {
   "cell_type": "markdown",
   "metadata": {},
   "source": [
    "### Measuring Economic Growth Truly\n",
    "\n",
    "(not on exam)\n",
    "\n",
    "&nbsp;"
   ]
  },
  {
   "cell_type": "markdown",
   "metadata": {},
   "source": [
    "### Global Patterns\n",
    "\n",
    "Divergence, 1800-1975\n",
    "\n",
    "* Britain and U.S. growing together\n",
    "* OECD convergence 1945-present\n",
    "* Behind Iron Curtain divergence\n",
    "* General divergence 1800-1975\n",
    "* From a fivefold to a fifty-fold divergence\n",
    "\n",
    "Convergence 1975-present?\n",
    "\n",
    "* East Asia\n",
    "* Japan\n",
    "* China\n",
    "\n",
    "\n",
    "How to understand?\n",
    "\n",
    "* $ \\alpha = 3/5 $\n",
    "* Schooling very important for the efficiency of labor\n",
    "\n",
    "&nbsp;"
   ]
  },
  {
   "cell_type": "markdown",
   "metadata": {},
   "source": [
    "### Modeling Global Patterns\n",
    "\n",
    "We need a high capital share α:\n",
    "\n",
    "* To make “convergence” take a long time\n",
    "* To amplify the effects of differences in (K/Y)* on prosperity\n",
    "\n",
    "We need n to be inversely and s strongly correlated with E\n",
    "\n",
    "* Demographic transition\n",
    "* Favorable relative price structure\n",
    "\n",
    "And we need education to be a key link:\n",
    "\n",
    "* We need technology transfer to a poorly educated population to be nearly impossible…\n",
    "\n",
    "&nbsp;"
   ]
  },
  {
   "cell_type": "markdown",
   "metadata": {},
   "source": [
    "## Business Cycles\n",
    "\n",
    "<img style=\"display:block; margin-left:auto; margin-right:auto;\" src=\"http://delong.typepad.com/.a/6a00e551f0800388340223c8472ebd200c-pi\" alt=\"2018 03 08 Macroeconomics Flexprice MRE key\" title=\"2018-03-08_Macroeconomics_Flexprice__MRE_key.png\" border=\"0\" width=\"600\" />\n",
    "\n",
    "* Okun's Law\n",
    "\n",
    "&nbsp;"
   ]
  },
  {
   "cell_type": "markdown",
   "metadata": {},
   "source": [
    "## Flexible-Price Models\n",
    "\n",
    "Full employment (because of flexible wages and prices and debt)\n",
    "\n",
    "* Unemployment rate equal to NAIRU\n",
    "* Production equal to potential output\n",
    "\n",
    "Shifts of production and spending across categories\n",
    "\n",
    "* In response to changes in the economic environment\n",
    "* And in response to changes in economic policy\n",
    "* As a result of shifts in the long-term real risky interest rate r\n",
    "\n",
    "&nbsp;"
   ]
  },
  {
   "cell_type": "markdown",
   "metadata": {},
   "source": [
    "### The Business Cycle NIPA Framework\n",
    "\n",
    "* $ Y = C + I + G + (GX - IM) $ :: national income and product\n",
    "* $ C = c_o + c_y(1-t)Y $ :: consumption function—consumer confidence; marginal propensity to consume; net taxes-less-transfers rate\n",
    "* $ I = I_o - I_r{r} $ :: investment spending; \"animal spirits\"\n",
    "* $ G $\n",
    "* $ IM = im_y{Y} $ :: imports\n",
    "* $ \\epsilon = \\epsilon_o + \\epsilon_r(r^f - r) $ :: exchange rate; foreign exchange speculators; \"gnomes of Zurich\"\n",
    "* $ GX = x_f{Y^f} + x_\\epsilon{\\epsilon} $ :: gross exports\n",
    "\n",
    "&nbsp;"
   ]
  },
  {
   "cell_type": "markdown",
   "metadata": {},
   "source": [
    "### The Flexible-Price Model IS Curve Equation\n",
    "\n",
    "$ Y^* = Y = \\mu\\left(c_o + I_o + G\\right) + \\mu\\left(x_f{Y^f} + x_{\\epsilon}{\\epsilon}_o + x_{\\epsilon}{\\epsilon}_r{r^f}\\right) - \\mu\\left(I_r + x_{\\epsilon}{\\epsilon}_r\\right)r $\n",
    "\n",
    "&nbsp;"
   ]
  },
  {
   "cell_type": "markdown",
   "metadata": {},
   "source": [
    "## Sticky-Price Models\n",
    "\n",
    "### The Sticky-Price Model IS Curve Equation\n",
    "\n",
    "$ Y = E = \\mu\\left(c_o + I_o + G\\right) + \\mu\\left(x_f{Y^f} + x_{\\epsilon}{\\epsilon}_o + x_{\\epsilon}{\\epsilon}_r{r^f}\\right) - \\mu\\left(I_r + x_{\\epsilon}{\\epsilon}_r\\right)r $\n",
    "\n",
    "Causation from left to right:\n",
    "\n",
    "* Spending determines aggregate demand\n",
    "* Aggregage demand via the inventory adjustment channel determines national income and product\n",
    "\n",
    "&nbsp;\n",
    "\n",
    "Influences on spending from:\n",
    "\n",
    "* Policy variables: G, t, $ r = i - \\pi +\\rho $\n",
    "* Expectations: $c_o, I_o, \\epsilon_o $\n",
    "* Foreign economic conditions: $ Y^f, r^f $\n",
    "\n",
    "&nbsp;"
   ]
  },
  {
   "cell_type": "markdown",
   "metadata": {},
   "source": [
    "### The Keynesian Multiplier\n",
    "\n",
    "$ Y = C + I + G + (GX - IM) $\n",
    "\n",
    "$ Y = (c_o + c_y(1-t)Y) + I + G + (GX - im_y{Y}) $\n",
    "\n",
    "$ (1 - c_y(1-t) + im_y)Y = c_o + I + G + GX $\n",
    "\n",
    "$ Y = \\frac{c_o + I + G + GX}{(1 - c_y(1-t) + im_y)} $\n",
    "\n",
    "$ Y = {\\mu}(c_o + I + G + GX) $\n",
    "\n",
    "$ \\mu = \\frac{1}{(1 - c_y(1-t) + im_y)} $\n",
    "\n",
    "&nbsp;"
   ]
  },
  {
   "cell_type": "markdown",
   "metadata": {},
   "source": [
    "### Monetary Policy and the Zero Lower Bound\n",
    "\n",
    "The interest rate in the IS Curve is the long-term risky real interest rate: r\n",
    "\n",
    "The interest rate the central bank controls is the short-term safe nominal interest rate: i\n",
    "\n",
    "* $ r = i - \\pi + \\rho $ subject to $ i ≥ 0 $\n",
    "* $ \\rho = \\rho^R + \\rho^T $\n",
    "    * $ \\rho^R $ :: the risk premium for lending to privates rather than to the government\n",
    "        * Moral hazard\n",
    "        * Adverse selection\n",
    "        * \"Skin in the game\" from borrowers\n",
    "        * Financial crises\n",
    "    * $ \\rho^T $ :: lack of confidence that the central bank will keep i where it currently is\n",
    "\n",
    "&nbsp;"
   ]
  },
  {
   "cell_type": "markdown",
   "metadata": {},
   "source": [
    "### Phillips Curve\n",
    "\n",
    "$ {\\pi_t} = {\\pi_t}^e - \\beta\\left(u_t - u^*\\right) + SS_t$\n",
    "\n",
    "Expectations:\n",
    "\n",
    "* Static: $ {\\pi_t}^e = \\pi^{*} $\n",
    "* Adaptive: $ {\\pi_t}^e = \\pi_{t-1} $\n",
    "* Rational: $ {\\pi_t}^e = \\pi_{t} $\n",
    "* Hybrids: $ {\\pi_t}^e = \\lambda(\\pi_{t}) + (1-\\lambda)(\\pi_{t-1}) $ or $ {\\pi_t}^e = (1-\\lambda)(\\pi^*) + \\lambda(\\pi_{t-1}) $\n",
    "\n",
    "&nbsp;"
   ]
  },
  {
   "cell_type": "markdown",
   "metadata": {},
   "source": [
    "### Inflation Dynamics\n",
    "\n",
    "* Static: $ {\\pi_t} = \\pi^* - \\beta\\left(u_t - u^*\\right) + SS_t$\n",
    "* Adaptive: $ {\\pi_t} = {\\pi_{t-1}} - \\beta\\left(u_t - u^*\\right) + SS_t$\n",
    "* Rational: $ {\\pi_t} = {\\pi_t}^e $ and $ u_t = u^* - \\frac{SS_t}{\\beta} $\n",
    "* Hybrids:\n",
    "    * $ {\\pi_t} = {\\pi_{t-1}} - \\frac{\\beta\\left(u_t - u^*\\right) + SS_t}{1-\\lambda} $\n",
    "    * $ {\\pi_t} - \\pi^* = \\lambda({\\pi_{t-1}}-\\pi^*) - \\beta\\left(u_t - u^*\\right) + SS_t $\n",
    "\n",
    "&nbsp;"
   ]
  },
  {
   "cell_type": "markdown",
   "metadata": {},
   "source": [
    "### Monetary Policy Reaction Function\n",
    "\n",
    "$ r_t = r^{**} + r_{\\pi}(\\pi_t - \\pi^T) - r_u(u_t - u^{**}) $\n",
    "\n",
    "$ r_t = r^{**} + r_{\\pi}(\\pi_t - \\pi^T) $\n",
    "\n",
    "$ u_t - u^* = \\phi(\\pi_{t-1} - \\pi^T) + \\psi(r^{**} - r^*) + \\delta_t $\n",
    "\n",
    "Combine the MPRF with the \"inflation dynamics\" version of the Phillips Curve...\n",
    "\n",
    "&nbsp;"
   ]
  },
  {
   "cell_type": "markdown",
   "metadata": {},
   "source": [
    "### Hysteresis and Budget Arithmetic in a Depression\n",
    "\n",
    "Boost government purchases by ΔG—if no Federal Reserve offset because at ZLB \n",
    "\n",
    "* Get boost to real GDP by μΔG\n",
    "* Get boost to taxes by tμΔG\n",
    "* Increase in debt of (1 - tμ)ΔG = ΔD\n",
    "* Financing cost of this debt: (r-g)ΔD = (r-g)(1 - tμ)ΔG\n",
    "\n",
    "“Hysteresis” parameter η\n",
    "\n",
    "* Gain tημΔG in tax revenue from heading off “hysteresis”\n",
    "* (r-g)(1 - tμ)ΔG greater or less than ηtμΔG?\n",
    "    * t = 0.33\n",
    "    * μ = 2\n",
    "    * 0.33(r - g) greater or less than 0.66η?\n",
    "\n",
    "r - g greater or less than 2η?"
   ]
  }
 ],
 "metadata": {
  "kernelspec": {
   "display_name": "Python 3",
   "language": "python",
   "name": "python3"
  },
  "language_info": {
   "codemirror_mode": {
    "name": "ipython",
    "version": 3
   },
   "file_extension": ".py",
   "mimetype": "text/x-python",
   "name": "python",
   "nbconvert_exporter": "python",
   "pygments_lexer": "ipython3",
   "version": "3.6.1"
  }
 },
 "nbformat": 4,
 "nbformat_minor": 2
}
