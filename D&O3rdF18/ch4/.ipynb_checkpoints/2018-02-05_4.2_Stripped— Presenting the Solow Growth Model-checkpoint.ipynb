{
 "cells": [
  {
   "cell_type": "markdown",
   "metadata": {
    "slideshow": {
     "slide_type": "notes"
    }
   },
   "source": [
    "# 2018-01-28 DeLong and Olney Macroeconomics 3rd Edition ch 4.2: Presenting the Solow Growth Model"
   ]
  },
  {
   "cell_type": "markdown",
   "metadata": {},
   "source": [
    "# 4.2 Presenting the Solow Growth Model\n",
    "\n",
    "## 4.2.1 Model Overview\n",
    "\n",
    "As is the case for all economic models, the Solow growth model consists of:\n",
    "\n",
    "* _Variables_: economic quantities of interest that we can calculate and  measure, denoted by letters (or maybe two letters) like L for the number of workers in the labor force or Y for the amount of useful goods and services produced in a year—real GDP.\n",
    "\n",
    "* _Behavioral relationships_: relationships that (1) describe how humans, making economic decisions given their opportunities and opportunity costs, decide what to do, and (2) that thus determine the values of the economic variables, represented by equations that have an economic variable on the left hand side and, on the right, a set of factors that determine the value of the variable and a rule of thumb for what that value is currently.\n",
    "\n",
    "   * _Parameters_: determine which out of a broad family of potential behavioral relations describes the behavior of the particular economic scenario at hand; the ability to work algebraically with parameters allows one to perform an enormous number of potential \"what-if?\" calculations very quickly and in a very small space\n",
    "\n",
    "* _Equilibrium conditions_: conditions that tell us when the economy is in a position of balance, when some subset of the variables are \"stable\"—that is, are either constant are changing in simple and predictable ways, usually represented by solutions of some system of the equations that are behavioral relationships.\n",
    "\n",
    "* _Accounting identities_: statements about the relationships between variables that are automatically and necessarily true because of the way the variables are defined, represented by equations. \n",
    "\n",
    "Almost every economic model has a single key principal economic variable at its heart. We will be most interested in that one variable—the one the model is organized around.\n",
    "\n",
    "In the case of the Solow growth model, the key variable is labor productivity: useful production per worker, how much the average worker in the economy is able to produce. We calculate output per worker by simply taking the economy’s level of real GDP or output Y, and dividing it by the economy’s labor force L. Real GDP is the estimated annual value of goods and services produced for final sale: that somebody buys them (or, at least, somebody thinks they will be bought) tells us that they are _useful_. The labor force is the number of workers with or actively looking for jobs. Output per worker, Y/L, is a different concept from output per capita, Y/Pop. Y/Pop is the average income that can be spent to benefit the people, received by them or somebody else. Output per worker Y/L is how much in the way of useful goods and services the aveage worker can produce annually. It is a proxy. Thus it is imperfect. But it is useful because it is a simple proxy for how prosperous an economy is considered as a mechanism for making the things people find necessary, convenient, or luxurious.\n",
    "\n",
    "In every economic model economists proceed with their analysis by looking for an equilibrium: a point of balance, a condition of rest, a state of the system toward which the model will converge over time. Economists look for equilibrium for a simple reason: either an economy is at its (or one of its) equilibrium position(s), or it is moving—and probably (or hopefully?) moving rapidly—to an equilibrium position. The Solow growth model is no exception—\n",
    "\n",
    "Once economists have found the equilibrium position toward which the economy tends to move, they then understand how the model will behave. And, if they have built the right model, it will tell you in broad strokes how the economy will behave.\n",
    "\n",
    "In economic growth, the equilibrium economists lookfor is an equilibrium in which the economy’s capital stock per worker, its level of real GDP per worker, and its efficiency of labor are all three growing at exactly the same proportional rate, a rate that remains constant over time. We will call this rate g, for growth.\n",
    "\n",
    "----\n",
    "\n",
    "&nbsp;"
   ]
  },
  {
   "cell_type": "markdown",
   "metadata": {},
   "source": [
    "## 4.2.2 The Production Function\n",
    "\n",
    "Let’s start with the most important behavioral relationship in the Solow growth model: the production function. Consider average worker, a worker whose productivity is simply Y/L, the economywide average. This average worker uses the economy’s current level of technology and organization. These are captured by the current value of the efficiency of labor E. This average worker also uses an average share of the economy’s capital stock, which variable we will denote by \"K\". (Why not \"C\"? Because we are reserving \"C\" for spending on consumption goods and services, as we will see later on.). The average worker has K/L worth of capital to amplify his or her productivity. \n",
    "\n",
    "We want to describe how these two—efficiency of labor E and the capital-to-labor ratio K/L—affect the average worker’s productivity Y/L.\n",
    "\n",
    "To do this, we write down a behavioral relationship that tells us how the average worker’s productivity Y/L is related to the efficiency of labor E and the amount of capital K/L at the average worker’s disposal. We give this behavioral relationship a name: the production function. Tell the production function what resources the economy’s average worker has available, and it will tell you how much output the typical worker can produce. In the Solow Growth Model, we seek a production function that will satisfy two rules of thumb:\n",
    "\n",
    "1. A one percent increase in the capital at the disposal of the average worker—a one percent increase in K/L—will carry with it the same proportional increase in the level of labor productivity—of output per worker Y/L—with a factor of proportionality we will call α, a number between 1 and 0 that serves as a gauge of how quickly opportunities to amplify productivity via using more structures and machines are exhausted, and how rapidly diminishing returns set in. (Note that, when we apply the Solow growth model, different economies will have different values of α; the same economy may well have a different value of α at different times; and asking \"what would happen if the value of the factor of proportionality α were different?\" is one of the principal what-if questions and exercises we will want to undertake and analyze.)\n",
    "\n",
    "2. A one percent increase in how well technology and organization are used to boost the productivity of the average worker—a one percent increase in the _efficiency of labor_, which we will label E—will carry with it a 1 - α percent increase in the level of labor productivity—of output per worker Y/L. This is best thought of as a definition of what we mean by the _efficiency of labor_ E. (And why the same α here as in the first rule of thumb? Because it makes the ultimate equations we will work with in the model simpler, and it is harder to make mistakes when things are simple. \n",
    "\n",
    "There is one and only one algebraic functional form that satisfies these two rule-of-thumb conditions. It is the so-called Cobb-Douglas function:\n",
    "\n",
    "(4.2.1)&nbsp;&nbsp;&nbsp;&nbsp;&nbsp;&nbsp;&nbsp;&nbsp;&nbsp;&nbsp; $ \\frac{Y}{L} =  \\left({\\frac{K}{L}}\\right)^α \\left(E\\right)^{(1-α)}  $\n",
    " \n",
    "This gives us our quantitative rule for calculating what the economy’s level of annual output per worker Y/L will be. It will be equal to the capital stock per worker K/L raised to the power of a parameter α, and then multiplied by the current efficiency of labor E itself raised to the power (1—α).\n",
    "\n",
    "----\n",
    "\n",
    "&nbsp;"
   ]
  },
  {
   "cell_type": "markdown",
   "metadata": {},
   "source": [
    "**Figure 4.2.1: Graphing the Cobb-Douglas Production Function**\n",
    "\n",
    "<img src=\"http://delong.typepad.com/.a/6a00e551f08003883401bb09eb6a90970d-pi\" width=\"600\" />\n",
    "\n",
    "The Cobb-Douglas production function for α = 1/2, E = 1, for capital per worker K/L from 0 to 1000."
   ]
  },
  {
   "cell_type": "markdown",
   "metadata": {},
   "source": [
    "----\n",
    "\n",
    "&nbsp;"
   ]
  },
  {
   "cell_type": "markdown",
   "metadata": {},
   "source": [
    "The production function has other, equivalent forms. When we are interested in not the level of output per worker but in the total level of output Y in the economy, we simply multiply both the left- and right-hand sides of the equation above by the labor force L to get the total output form of this Cobb-Douglas production function:\n",
    "\n",
    "(4.2.2)&nbsp;&nbsp;&nbsp;&nbsp;&nbsp;&nbsp;&nbsp;&nbsp;&nbsp;&nbsp; $ Y = K^α(EL)^{1-α}  $\n",
    "\n",
    "We could—and economists do—work with some other functional form for the production function, or simply leave it abstract as that output per worker Y/L is some function or other of the capital-labor ratio Y/L and the efficiency of labor E:\n",
    "\n",
    "(4.2.3)&nbsp;&nbsp;&nbsp;&nbsp;&nbsp;&nbsp;&nbsp;&nbsp;&nbsp;&nbsp; $ \\frac{Y}{L} = F\\left({\\frac{K}{L}}, E\\right)  $\n",
    "\n",
    "This says just that there is a systematic relationship between output per worker Y/L—real GDP divided by the number of workers—and the economy’s available resources: the capital stock per worker K/L and the efficiency of labor E. The pattern of this relationship is prescribed by the form of the function F( ).\n",
    "\n",
    "Why then assume the Cobb-Douglas form? Because it incorporates our two conditions above. These conditions, both of them, (a) are very reasonable rules of thumb, and (b) make our calculations much simpler and easier to understand. We can then give quantitative answers to any questions we are asked about the effects of changes in economic policy and the economic environment on economic growth, and those answers will depend solely on (a) how policy and the environment shift the values of K/L and E, and (b) the value of the economy's factor of proportionality α.\n",
    "\n",
    "The value of α in the Cobb-Douglas production function tells us how rapidly the economic usefulness of additional investment in buildings, machines, and inventories declines as the economy accumulates more and more of them. That is, α measures how fast diminishing returns to investment set in in the economy. A value of α near zero means that the extra amount of output made possible by an additional unit of capital declines very quickly as the capital stock rises. A value of α near 1 means that each additional unit of capital makes possible almost as large an increase in output as the last additional unit. As α varies from a high number near 1 to a low number near 0, the force of diminishing returns to investment gets stronger.\n",
    "\n",
    "One way of illustrating this point in algebra is to use a little calculus to calculate the marginal product of capital, the MPK: how much total output increases as a result of a one-unit increase in the capital stock, dY/dK. For the Cobb-Douglas production function:\n",
    "\n",
    "(4.2.4)&nbsp;&nbsp;&nbsp;&nbsp;&nbsp;&nbsp;&nbsp;&nbsp;&nbsp;&nbsp; \n",
    "$ MPK = \\frac{dY}{dK} = αK^{α-1}(EL)^{1-α} = α\\left(\\frac{Y}{K}\\right)  $\n",
    "\n",
    "The higher the current capital-to-output ratio, the lower is the marginal product of capital. And the lower the parameter α, the lower is the marginal product of capital.\n",
    "\n",
    "Figure 4.2 shows what the production function looks like for five different values of α—from a low value of 0.15, in which case diminishing returns set in very quickly, to a high value of 0.75, in which case additional capital is very useful in production over a wide domain of values of capital per worker K/L. All five of the alternative production functions are calibrated so that the level of output per worker Y/L is 40 when the capital-labor ratio K/L is 200. Take away from this graph the flexibility of the Cobb-Douglas production function. It can be used to analyze economies in which the profits from investment and the boost to labor productivity from increasing the capital stock is high. It can be used to analyze economies in which the profits from investment and the boost to labor productivity from increasing the capital stock is low. It can be used to analyze economies in which the profits from investment and the boost to labor productivity from increasing the capital stock is intermediate.\n",
    "\n",
    "----\n",
    "\n",
    "&nbsp;"
   ]
  },
  {
   "cell_type": "markdown",
   "metadata": {},
   "source": [
    "**Figure 4.2.2**\n",
    "\n",
    "<img style=\"display:block; margin-left:auto; margin-right:auto;\" src=\"http://delong.typepad.com/.a/6a00e551f08003883401bb09ed6216970d-pi\" alt=\"4 6\" title=\"4_6.png\" border=\"0\" width=\"600\" />"
   ]
  },
  {
   "cell_type": "markdown",
   "metadata": {},
   "source": [
    "----\n",
    "\n",
    "&nbsp;"
   ]
  },
  {
   "cell_type": "markdown",
   "metadata": {},
   "source": [
    "The value of E in the Cobb-Douglas production function tells us how good the levels of technology invented and diffused, of worker skills acquired through education and training and experience, and of organizational efficiency both public and private are. That is, E measures the scale of the economy's underlying efficiency and powre. A value of E near zero means that the economy is not very productive at all. A high value of E means that the economy is very productive indeed. Figure 4.2.3 shows what the production function looks like for five different values E, in all cases keeping the diminishing-returns parameter α equal to 1/2.\n",
    "\n",
    "----\n",
    "\n",
    "&nbsp;"
   ]
  },
  {
   "cell_type": "markdown",
   "metadata": {},
   "source": [
    "**Figure 4.2.3**\n",
    "\n",
    "<img style=\"display:block; margin-left:auto; margin-right:auto;\" src=\"http://delong.typepad.com/.a/6a00e551f08003883401bb09ed6389970d-pi\" alt=\"4 7\" title=\"4_7.png\" border=\"0\" width=\"600\" />"
   ]
  },
  {
   "cell_type": "markdown",
   "metadata": {},
   "source": [
    "----\n",
    "\n",
    "&nbsp;"
   ]
  },
  {
   "cell_type": "markdown",
   "metadata": {},
   "source": [
    "Thus the Cobb-Douglas production function is a flexible one, and, indeed, its flexibility is what makes it useful. It can be “tuned” to fit any of a wide variety of different economic situations. \n",
    "\n",
    "Are we studying an economy in which productivity is high? Use the Cobb-Douglas production function with a high value of the efficiency of labor E. The value of the efficiency of labor E tells us how high the production function rises: A higher level of E means that more output per worker is produced for each possible value of the capital stock per worker.\n",
    "\n",
    "Does the economy rapidly hit the wall as investment proceeds, with little increase in the level of production? Use the Cobb-Douglas function with a low value—near zero—of α. Is the speed with which diminishing returns to investment set in moderate? Pick a middle value of α. The Cobb-Douglas function will once again fit. The value of α determines how quickly the Cobb-Douglas production function flattens out when output per worker is plotted on the vertical axis and capital per worker is plotted on the horizontal axis.\n",
    "\n",
    "----\n",
    "\n",
    "&nbsp;"
   ]
  },
  {
   "cell_type": "markdown",
   "metadata": {},
   "source": [
    "#### Box 4.2.1: Using the Cobb-Douglas Production Function: An Example\n",
    "\n",
    "Given values for the diminishing-returns-to-investment parameter α, the efficiency of labor E, the economy’s capital stock K, and the labor force L, we can calculate the level of output per worker Y/L in the economy.\n",
    "\n",
    "Suppose we know that the current value of the efficiency of labor E is 10,000 a year and that the diminishing-returns-to-investment parameter α is 0.3. Then determining how the level of output per worker Y/L depends on the capital stock per worker K/E is straightforward.\n",
    "\n",
    "Let’s start with the case in which the capital stock per worker is 125,000. The Cobb-Douglas production function is:\n",
    "\n",
    "&nbsp;&nbsp;&nbsp;&nbsp;&nbsp;&nbsp;&nbsp;&nbsp;&nbsp;&nbsp;\n",
    "$ \\frac{Y}{L} = \\left(\\frac{K}{L}\\right)^α\\left(E\\right)^{1-α}  $\n",
    "\n",
    "Substitute in the known values of K/L, E, and α to get:\n",
    "\n",
    "&nbsp;&nbsp;&nbsp;&nbsp;&nbsp;&nbsp;&nbsp;&nbsp;&nbsp;&nbsp;\n",
    "$ \\frac{Y}{L} = \\left({125000}\\right)^{0.3}\\left(10000\\right)^{1-0.3}  $\n",
    "\n",
    "Use your calculator—who do I think I am fooling? Nobody has a calculator anymore—smartphone or larger computer to evaluate the effect of raising these numbers to these exponents to get:\n",
    "\n",
    "&nbsp;&nbsp;&nbsp;&nbsp;&nbsp;&nbsp;&nbsp;&nbsp;&nbsp;&nbsp;\n",
    "$ \\frac{Y}{L} = \\left(33.81\\right)\\left(630.96\\right)  $\n",
    "\n",
    "And then multiply to get:\n",
    "\n",
    "&nbsp;&nbsp;&nbsp;&nbsp;&nbsp;&nbsp;&nbsp;&nbsp;&nbsp;&nbsp;\n",
    "$ \\frac{Y}{L} = 21333.92  $\n",
    "\n",
    "If we are interested in a capital stock per worker level of &dollar;250,000, the calculations are:\n",
    "\n",
    "&nbsp;&nbsp;&nbsp;&nbsp;&nbsp;&nbsp;&nbsp;&nbsp;&nbsp;&nbsp;\n",
    "$ \\frac{Y}{L} = \\left({250000}\\right)^{0.3}\\left(10000\\right)^{1-0.3}  $\n",
    "\n",
    "&nbsp;&nbsp;&nbsp;&nbsp;&nbsp;&nbsp;&nbsp;&nbsp;&nbsp;&nbsp;\n",
    "$ \\frac{Y}{L} = \\left(41.63\\right)\\left(630.96\\right)  $\n",
    "\n",
    "&nbsp;&nbsp;&nbsp;&nbsp;&nbsp;&nbsp;&nbsp;&nbsp;&nbsp;&nbsp;\n",
    "$ \\frac{Y}{L} = 26266.86  $\n",
    "\n",
    "Note that the first 125,000 of capital per worker boosted output per worker from 0 to 21,334, while the second &dollar;125,000 of capital per worker boosted output per worker only from 21,334 to 26,265—by less than one-quarter as much. These substantial diminishing returns to investment should come as no surprise: The value of α is quite low at 0.3, and low values of a produce rapidly diminishing returns to capital accumulation.\n",
    "\n",
    "This example offers another important lesson: Keep your calc... your personal information technology device handy! Nobody expects anyone to raise 250,000 to the 0.3 power in her or his head and come up with 41.63. The Cobb-Douglas form of the production function, with its fractional exponents, carried the drawback that students (or professors) can do problems in their heads or with just pencil and paper only if the problems have been carefully rigged beforehand. Nevertheless, we used the Cobb-Douglas production function because of its convenience: by varying just two parameters we can fit the model to an enormous variety of potential economic situations.\n",
    "\n",
    "And in the infotech age that inconvenience is no longer a significant inconvenience.\n",
    "\n",
    "----\n",
    "\n",
    "&nbsp;"
   ]
  },
  {
   "cell_type": "markdown",
   "metadata": {},
   "source": [
    "## 4.2.3 Saving, Investment, and Capital Accumulation\n",
    "\n",
    "In Chapter 6 we will talk in detail about the circular-flow relationship you learned in your principles of cconomics class: The amount of output an economy produces (real GDP, or Y) equals total spending, with total spending divided into four parts, consumption spending C, investment spending I, government purchases G, and net exports NX, which equal gross exports minus imports, NX = GX — IM. Savings will then have business, household, and international components. And savings that actually occur _ex post_ and are translated into investment that increases the capital stock may well not be equal to what people had planned to save _ex ante_.\n",
    "\n",
    "But none of that is of the essence here. \n",
    "\n",
    "Here we will follow economists' custom of ruthless simplification, assume that the workings of the circular flow are unproblematic, and assume that total domestic saving S is equal to a constant parameter s times real GDP Y. And we will assume that total savings is unproblematically translated into investment I that adds to the capital stock:\n",
    "\n",
    "(4.2.5)&nbsp;&nbsp;&nbsp;&nbsp;&nbsp;&nbsp;&nbsp;&nbsp;&nbsp;&nbsp;\n",
    "$ I = S = sY  $\n",
    "\n",
    "In this chapter we will almost always assume that s is  constant. We may think about the consequences of its taking an upward or downward jump or two at some particular moment of time. The background assumption, however—made because it makes formulas much simpler—will be that s will remain at its current value as far as we look into the future.\n",
    "\n",
    "We call s the economy’s saving rate or, more completely, its saving-investment rate (to remind us that s is measuring both the flow of saving into the economy’s financial markets and also the share of total production that is invested and used to build up and increase the economy’s capital stock).\n",
    "\n",
    "While the saving-investment rate s is constant, the economy's capital stock K is not. It changes from year to year. \n",
    "\n",
    "Adopt the convention of using a subscript when we need to identify the year to which we are referring. K<sub>0</sub> denotes the capital stock at some initial year, usually the year at which we begin the analysis; K<sub>3</sub> denotes the capital stock three years after the year at which we begin the analysis; K<sub>2003</sub> means the capital stock in 2003; K<sub>t</sub> denotes the capital stock when some year t is the current year; K<sub>t+1</sub> denotes the capital stock in the year after the current year; and K<sub>t-1</sub> means the capital stock in the year before the current year.\n",
    "\n",
    "Over time, investment makes the capital stock tend to grow. But investment is not the only factor that changes the capital stock. There is depreciation. Over time depreciation makes the capital stock tend to shrink—old capital becomes obsolete, or breaks, or simply wears out.\n",
    "\n",
    "Sometimes you will hear people refer to the change in the capital stock as net investment—investment net of depreciation—and refer to the amount of plant and equipment purchased and installed as gross investment. In this book “investment” will mean gross investment, and we will use “investment minus depreciation” in place of net investment\n",
    "\n",
    "We make a simple assumption for depreciation: The amount of capital that wears out, breaks, and becomes obsolete in any year is simply a constant parameter δ (lowercase Greek delta, the depreciation rate) times the current capital stock. Thus we can write that next year’s capital stock will be:\n",
    "\n",
    "(4.2.6)&nbsp;&nbsp;&nbsp;&nbsp;&nbsp;&nbsp;&nbsp;&nbsp;&nbsp;&nbsp;\n",
    "$ K_{t+1} = K_{t} + I - δK_{t} = (1-δ)K_{t} + sY_{t}  $\n",
    "\n",
    "as Figure 4.7 shows. \n",
    "\n",
    "From these definitions, we can see that the capital stock is constant—that this year’s capital stock K<sub>t</sub> is equal to next year’s K<sub>t+1</sub>—when\n",
    "\n",
    "(4.2.7)&nbsp;&nbsp;&nbsp;&nbsp;&nbsp;&nbsp;&nbsp;&nbsp;&nbsp;&nbsp;\n",
    "$ sY_t = δK_t  $\n",
    "\n",
    "(4.2.8)&nbsp;&nbsp;&nbsp;&nbsp;&nbsp;&nbsp;&nbsp;&nbsp;&nbsp;&nbsp;\n",
    "$ \\frac{K_t}{Y_t} = \\frac{s}{δ}  $\n",
    "\n",
    "If you are comfortable with calculus, you will find that you make your life simpler by working with an almost equivalent expression for the growth rate of the capital stock: that the instantaneous rate of change is equal to s multiplied by the current level of output minus δ multiplied by the urrent level of the capital stock:\n",
    "\n",
    "(4.2.6')&nbsp;&nbsp;&nbsp;&nbsp;&nbsp;&nbsp;&nbsp;&nbsp;&nbsp;&nbsp; \n",
    "$ \\frac{dK_{t}}{dt} = sY_{t} - δK_{t}  $\n",
    "\n",
    "and with its equivalents, the form:\n",
    "\n",
    "&nbsp;&nbsp;&nbsp;&nbsp;&nbsp;&nbsp;&nbsp;&nbsp;&nbsp;&nbsp; \n",
    "$\\frac{1}{K_t}\\frac{dK_{t}}{dt} = s\\left(\\frac{Y_{t}}{K_{t}}\\right) - δ  $\n",
    "\n",
    "and the logarithmic form:\n",
    "\n",
    "&nbsp;&nbsp;&nbsp;&nbsp;&nbsp;&nbsp;&nbsp;&nbsp;&nbsp;&nbsp; \n",
    "$\\frac{dln(K_{t})}{dt} = s\\left(\\frac{Y_{t}}{K_{t}}\\right) - δ  $\n",
    "\n",
    "(4.2.6) and (4.2.6') are not exactly identical. But differences in calculations typically show up only in the second decimal point or so, and so we will not sweat the difference for those of you for whom math is more of an intellectual language and force multiplier and less of a ritualistic obstacle.\n",
    "\n",
    "\n",
    "\n",
    "----\n",
    "\n",
    "&nbsp;"
   ]
  },
  {
   "cell_type": "markdown",
   "metadata": {},
   "source": [
    "**Figure 4.2.4: Gross Investment Increases and Depreciation Decreases the Capital Stock**\n",
    "\n",
    "<img style=\"display:block; margin-left:auto; margin-right:auto;\" src=\"http://delong.typepad.com/.a/6a00e551f08003883401b7c94a1ad1970b-pi\" alt=\"Investment\" title=\"Investment.png\" border=\"0\" width=\"600\" />\n",
    "\n",
    "----\n",
    "\n",
    "&nbsp;"
   ]
  },
  {
   "cell_type": "markdown",
   "metadata": {},
   "source": [
    "## 4.2.4 Adding in Labor-Force and Labor-Efficiency Growth\n",
    "\n",
    "### 4.2.4.1 Labor Force Growth\n",
    "\n",
    "If the labor force L were constant and technological and organizational progress plus education that add to the efficiency of labor E were non-existent, we could immediately move on. But the economy’s labor force grows as more people turn 18 or so and join the labor force than retire, and as immigrants continue to arrive. And the efficiency of labor rises as science and technology progress, people keep thinking of new and more efficient forms of business organization, and people go to school and learn on the job\n",
    "\n",
    "We assume—once again making a simplifying leap—that the economy’s labor force L is growing at a constant proportional rate n every year. Note that n is not the same across countries. Note that it can and does shift over time in any one country. But we want to tackle simple cases first. A constant labor force growth rate n is simple. Thus our background assumption will be that n is constant as far as we can see into the future. Then between this year and the next the labor force grows according to the formula:\n",
    "\n",
    "(4.2.9)&nbsp;&nbsp;&nbsp;&nbsp;&nbsp;&nbsp;&nbsp;&nbsp;&nbsp;&nbsp; \n",
    "$ L_{t+1} = (1 + n)L_{t}  $\n",
    "\n",
    "Next year’s labor force will thus be n percent higher than this year’s labor force. If this year’s labor force is 140 million and its growth rate n is 1.3 percent per year, then next year’s labor force will be:\n",
    "\n",
    "&nbsp;&nbsp;&nbsp;&nbsp;&nbsp;&nbsp;&nbsp;&nbsp;&nbsp;&nbsp; \n",
    "$ L_{t+1} = (1 + n)L_{t}  $\n",
    "\n",
    "&nbsp;&nbsp;&nbsp;&nbsp;&nbsp;&nbsp;&nbsp;&nbsp;&nbsp;&nbsp; \n",
    "$ L_{t+1} = (1 + 1.3{\\%})140000000  $\n",
    "\n",
    "&nbsp;&nbsp;&nbsp;&nbsp;&nbsp;&nbsp;&nbsp;&nbsp;&nbsp;&nbsp; \n",
    "$ L_{t+1} = (1.013)140000000  $\n",
    "\n",
    "&nbsp;&nbsp;&nbsp;&nbsp;&nbsp;&nbsp;&nbsp;&nbsp;&nbsp;&nbsp; \n",
    "$ L_{t+1} = 141820000  $\n",
    "\n",
    "Again, we assume that the rate of growth of the labor force is constant not because we believe that labor-force growth is unchanging, but because the assumption allows us to start our analysis of the model with a simple case. The trade-off between realism in the model’s description of the world and simplicity as a way to make the model easier to ana  lyze'is one that economists always face, and economists have a strong bias toward resolving this trade-off in favor of simplicity.\n",
    "\n",
    "If you are comfortable with calculus, you will find that you make your life simpler by working with an almost equivalent expression for the growth rate of the labor force: that the instantaneous rate of change of the labor force is equal to n multiplied by its current level:\n",
    "\n",
    "(4.2.9')&nbsp;&nbsp;&nbsp;&nbsp;&nbsp;&nbsp;&nbsp;&nbsp;&nbsp;&nbsp; \n",
    "$ \\frac{dL_{t}}{dt} = nL_{t}  $\n",
    "\n",
    "and with its equivalents, the form:\n",
    "\n",
    "(4.2.9'')&nbsp;&nbsp;&nbsp;&nbsp;&nbsp;&nbsp;&nbsp;&nbsp;&nbsp;&nbsp; \n",
    "$\\frac{1}{L_t}\\frac{dL_{t}}{dt} = n  $\n",
    "\n",
    "and the logarithmic form:\n",
    "\n",
    "(4.2.9''')&nbsp;&nbsp;&nbsp;&nbsp;&nbsp;&nbsp;&nbsp;&nbsp;&nbsp;&nbsp; \n",
    "$\\frac{dln(L_{t})}{dt} = n  $\n",
    "\n",
    "(4.2.9) on the one hand and (4.2.9') and its cousins on the other are not exactly the same. But differences in calculations typically show up only in the second decimal point or so, and so we will not sweat the difference for those of you for whom math is more of an intellectual language and force multiplier and less of a ritualistic obstacle.\n",
    "\n",
    "----\n",
    "\n",
    "&nbsp;"
   ]
  },
  {
   "cell_type": "markdown",
   "metadata": {},
   "source": [
    "**Figure 4.2.5: Labor Force Growth at Constant Rate n**\n",
    "\n",
    "<img style=\"display:block; margin-left:auto; margin-right:auto;\" src=\"http://delong.typepad.com/.a/6a00e551f08003883401b8d2d46d4d970c-pi\" alt=\"Labor force growth at constant rate n\" title=\"Labor_force_growth_at_constant_rate_n.png\" border=\"0\" width=\"600\" />\n",
    "\n",
    "----\n",
    "\n",
    "&nbsp;"
   ]
  },
  {
   "cell_type": "markdown",
   "metadata": {},
   "source": [
    "----\n",
    "\n",
    "&nbsp;"
   ]
  },
  {
   "cell_type": "markdown",
   "metadata": {},
   "source": [
    "### 4.2.4.2 Efficiency-of-Labor Growth\n",
    "\n",
    "We also assume—once again making a simplifying leap—that the economy’s efficiency of labor E is growing at a constant proportional rate g every year. Note that g is not the same across countries. Note that it can and does shift over time in any one country. But we want to tackle simple cases first. A constant efficiency-of-labor growth rate g is simple. Thus our background assumption will be that g is constant as far as we can see into the future. Then between this year and the next the efficiency of labor grows according to the formula:\n",
    "\n",
    "(4.2.10)&nbsp;&nbsp;&nbsp;&nbsp;&nbsp;&nbsp;&nbsp;&nbsp;&nbsp;&nbsp; \n",
    "$ E_{t+1} = (1 + g)E_{t}  $\n",
    "\n",
    "Next year’s efficiency will thus be g percent higher than this year’s labor force. If this year’s efficiency is 1.000 and its growth rate n is 1.8 percent per year, then next year’s effiency will be:\n",
    "\n",
    "&nbsp;&nbsp;&nbsp;&nbsp;&nbsp;&nbsp;&nbsp;&nbsp;&nbsp;&nbsp; \n",
    "$ E_{t+1} = (1 + g)E_{t}  $\n",
    "\n",
    "&nbsp;&nbsp;&nbsp;&nbsp;&nbsp;&nbsp;&nbsp;&nbsp;&nbsp;&nbsp; \n",
    "$ E_{t+1} = (1 + 1.8{\\%})1.000  $\n",
    "\n",
    "&nbsp;&nbsp;&nbsp;&nbsp;&nbsp;&nbsp;&nbsp;&nbsp;&nbsp;&nbsp; \n",
    "$ E_{t+1} = 1.018  $\n",
    "\n",
    "Again, we assume that the rate of growth of labor efficiency is constant not because we believe it actuallt is unchanging, but because the assumption allows us to start our analysis of the model with a simple case. The trade-off between realism in the model’s description of the world and simplicity as a way to make the model easier to ana  lyze'is one that economists always face, and economists have a strong bias toward resolving this trade-off in favor of simplicity.\n",
    "\n",
    "If you are comfortable with calculus, you will find that you make your life simpler by working with an almost equivalent expression for the growth rate of labor efficiency: that the instantaneous rate of change is equal to g multiplied by its current level:\n",
    "\n",
    "(4.2.10')&nbsp;&nbsp;&nbsp;&nbsp;&nbsp;&nbsp;&nbsp;&nbsp;&nbsp;&nbsp; \n",
    "$ \\frac{dE_{t}}{dt} = gE_{t}  $\n",
    "\n",
    "and with its equivalents, the form:\n",
    "\n",
    "&nbsp;&nbsp;&nbsp;&nbsp;&nbsp;&nbsp;&nbsp;&nbsp;&nbsp;&nbsp; \n",
    "$\\frac{1}{E_t}\\frac{dE_{t}}{dt} = g  $\n",
    "\n",
    "and the logarithmic form:\n",
    "\n",
    "&nbsp;&nbsp;&nbsp;&nbsp;&nbsp;&nbsp;&nbsp;&nbsp;&nbsp;&nbsp; \n",
    "$\\frac{dln(E_{t})}{dt} = g  $\n",
    "\n",
    "(4.2.10) and (4.2.10') are not exactly identical. But differences in calculations typically show up only in the second decimal point or so, and so we will not sweat the difference for those of you for whom math is more of an intellectual language and force multiplier and less of a ritualistic obstacle.\n",
    "\n",
    "----\n",
    "\n",
    "&nbsp;"
   ]
  },
  {
   "cell_type": "markdown",
   "metadata": {},
   "source": [
    "**Figure 4.2.6: Efficiency of Labor Growth at Constant Rate g**\n",
    "\n",
    "<img style=\"display:block; margin-left:auto; margin-right:auto;\" src=\"http://delong.typepad.com/.a/6a00e551f08003883401b7c94a1e5b970b-pi\" alt=\"2018 01 28 DeLong and Olney Macroeconomics 3rd Edition ch 4\" title=\"2018-01-28_DeLong_and_Olney_Macroeconomics_3rd_Edition_ch_4.png\" border=\"0\" width=\"600\" />"
   ]
  },
  {
   "cell_type": "markdown",
   "metadata": {},
   "source": [
    "----\n",
    "\n",
    "&nbsp;"
   ]
  },
  {
   "cell_type": "markdown",
   "metadata": {},
   "source": [
    "## 4.2.5 How the Model Behaves\n",
    "\n",
    "That is it: that is the entire model. It has a production function, and equations describing how the capital stock, the labor force, and the efficiency of labor grow. What can we learn from this model? The easiest way to start is to simply set the model up and see how it behaves. \n",
    "\n",
    "----\n",
    "\n",
    "&nbsp;"
   ]
  },
  {
   "cell_type": "markdown",
   "metadata": {},
   "source": [
    "### 4.2.5.1. The Model without Labor Force Growth or Efficiency Growth\n",
    "\n",
    "Let us start with a simple case:\n",
    "\n",
    "* No labor force growth: n = 0\n",
    "* No labor efficiency growth: g = 0\n",
    "* Positive rates s of savings of 15&percent; and δ of depreciation  of 3&percent; per year\n",
    "* A diminishing-returns-to-investment parameter α of 0.5\n",
    "\n",
    "And let us start with the economy in a more-or-less arbitary condition, and see what would happen as time were to pass for an economy that behaved according to the model. We thus examine a \"simulated\" economy—with Figure 4.11 providing us with graphs showing the levels and the change over time in the labor force, the efficiency of labor, the capital stock, output, ouput per worker, and the capital-output ratio.\n",
    "\n",
    "The efficiency of labor and the labor force do not grow. The are constant. This is no surprise: in this simulation of the economy we excluded the possibility of growth in either. We set both n and g equal to zero.\n",
    "\n",
    "the capital stock, which stared out at 5000 with output at about 2300, initially grows rapidly. This also is no surprise. 15% of the starting level of output as gross investment is 345. 3% of the starting level of the capital stock is 150. With gross investment more than twice depreciation, the capital stock grows rapidly. And output grows too: with the diminishing returns parameter α = 1/2, additional capital from investment is quite productive.\n",
    "\n",
    "But as we follow this simulation down the hypothetical years growth slows down. It looks as though the capital stock is headed for a value of 25000, with output at 5000 and the capital-output ratio at 5.\n",
    "\n",
    "----\n",
    "\n",
    "&nbsp;"
   ]
  },
  {
   "cell_type": "markdown",
   "metadata": {},
   "source": [
    "**Figure 4.2.7: Solow Growth Model Simulation Run: 200 Years**\n",
    "\n",
    "<img style=\"display:block; margin-left:auto; margin-right:auto;\" src=\"http://delong.typepad.com/.a/6a00e551f08003883401b7c94a1ffd970b-pi\" alt=\"Constant L and E\" title=\"Constant_L_and_E.png\" border=\"0\" width=\"600\" />"
   ]
  },
  {
   "cell_type": "markdown",
   "metadata": {},
   "source": [
    "----\n",
    "\n",
    "&nbsp;"
   ]
  },
  {
   "cell_type": "markdown",
   "metadata": {},
   "source": [
    "Why is this simulated economy headed for that particular configuration? Is this some kind of accident? Let's use our model as a \"what-if\" machine, and ask what would have happened had we started it in a different initial configuration. Let's keep everything the same, but start with an initial capital stock not of 5000 but of 40000. What would happen then?\n",
    "\n",
    "----\n",
    "\n",
    "&nbsp;"
   ]
  },
  {
   "cell_type": "markdown",
   "metadata": {},
   "source": [
    "**Figure 4.2.8: Solow Growth Model: 200 Year Simulation Run: High Initial K = 40000**\n",
    "\n",
    "<img style=\"display:block; margin-left:auto; margin-right:auto;\" src=\"http://delong.typepad.com/.a/6a00e551f08003883401b8d2d47056970c-pi\" alt=\"K 40000\" title=\"K_40000.png\" border=\"0\" width=\"600\" />"
   ]
  },
  {
   "cell_type": "markdown",
   "metadata": {},
   "source": [
    "----\n",
    "\n",
    "&nbsp;"
   ]
  },
  {
   "cell_type": "markdown",
   "metadata": {},
   "source": [
    "In this simulation run the economy started out much richer and more prosperous: an initial level of output of not 2300 but rather 6300. The extra initial capital endowment was valuable and productive. But in this run depreciation starts out larger than gross investment: the capital stock falls. And by the end of the simulation run the capital stock is again approaching 25000, and output again approaching 5000, only this time both approaching from above rather than from below.\n",
    "\n",
    "Why is it approaching the same configuration?\n",
    "\n",
    "Insight comes from noting that since neither the labor force nor the efficiency of labor are changing, the only productive resource that is changign is the capital stock. Recall the equation for the growth rate of the capital stock:\n",
    "\n",
    "&nbsp;&nbsp;&nbsp;&nbsp;&nbsp;&nbsp;&nbsp;&nbsp;&nbsp;&nbsp;\n",
    "$ K_{t+1} = K_{t} + sY_{t} - δK_{t}  $\n",
    "\n",
    "The capital stock will grow as long as $ sY_{t} > δK_{t} $. It will shrink whenever $ sY_{t} < δK_{t} $. It will stay constant whenever $ sY_{t} = δK_{t} $.\n",
    "\n",
    "Thus the capital stock will be growing—and output, and output per worker will be growing—as long as:\n",
    "\n",
    "(4.2.11)&nbsp;&nbsp;&nbsp;&nbsp;&nbsp;&nbsp;&nbsp;&nbsp;&nbsp;&nbsp;\n",
    "$ \\frac{K_t}{Y{t}} < \\frac{s}{δ}  $\n",
    "\n",
    "And the capital stock will be constant—and output, and output per worker—will be constant whenever:\n",
    "\n",
    "(4.2.12)&nbsp;&nbsp;&nbsp;&nbsp;&nbsp;&nbsp;&nbsp;&nbsp;&nbsp;&nbsp;\n",
    "$ \\frac{K_t}{Y{t}} = \\frac{s}{δ}  $\n",
    "\n",
    "This is thus the equilibrium condition for this model of the economy in the case in which, as we have assumed, n = g = 0. When this equation is satisfied, the condition of the economy will not change. When this equation is not satisfied, the economy will be changing over time to make the gap between K/Y and s/δ smaller. What else can we say about this equilibrium? We could use a little algebra to calculate it. Or we could use a more friendly, graphical method to calculate it.\n",
    "\n",
    "----\n",
    "\n",
    "&nbsp;"
   ]
  },
  {
   "cell_type": "markdown",
   "metadata": {},
   "source": [
    "#### Box 4.2.2: Calculating Equilibrium Output per Worker: An Example\n",
    "\n",
    "In this simulation run the labor force L is constant at a level of 1000, the efficiency of labor is constant at a level of 1, the savings rate s = 15%, the depreciation rate δ = 3%, and the production-function diminishing-returns parameter α = 1/2. We know that the equilibrium capital-output ratio is:\n",
    "\n",
    "&nbsp;&nbsp;&nbsp;&nbsp;&nbsp;&nbsp;&nbsp;&nbsp;&nbsp;&nbsp;\n",
    "$ \\frac{K}{Y} = \\frac{s}{δ}  $\n",
    "\n",
    "And the production function is:\n",
    "\n",
    "&nbsp;&nbsp;&nbsp;&nbsp;&nbsp;&nbsp;&nbsp;&nbsp;&nbsp;&nbsp;\n",
    "$ Y = K^α(EL)^{1-α}  $\n",
    "\n",
    "Substituting:\n",
    "\n",
    "&nbsp;&nbsp;&nbsp;&nbsp;&nbsp;&nbsp;&nbsp;&nbsp;&nbsp;&nbsp;\n",
    "$ \\frac{K}{K^α(EL)^{1-α}} = \\frac{s}{δ}  $\n",
    "\n",
    "&nbsp;&nbsp;&nbsp;&nbsp;&nbsp;&nbsp;&nbsp;&nbsp;&nbsp;&nbsp;\n",
    "$ \\left(\\frac{K}{EL}\\right)^{1-α} = \\frac{s}{δ}  $\n",
    "\n",
    "&nbsp;&nbsp;&nbsp;&nbsp;&nbsp;&nbsp;&nbsp;&nbsp;&nbsp;&nbsp;\n",
    "$ \\frac{K}{EL} = \\left(\\frac{s}{δ}\\right)^{\\frac{1}{1-α}}  $\n",
    "\n",
    "&nbsp;&nbsp;&nbsp;&nbsp;&nbsp;&nbsp;&nbsp;&nbsp;&nbsp;&nbsp;\n",
    "$ K = \\left(\\frac{s}{δ}\\right)^{\\frac{1}{1-α}}\\left(EL\\right)  $\n",
    "\n",
    "And:\n",
    "\n",
    "&nbsp;&nbsp;&nbsp;&nbsp;&nbsp;&nbsp;&nbsp;&nbsp;&nbsp;&nbsp;\n",
    "$ Y = K^α(EL)^{1-α} = \\left(\\left(\\frac{s}{δ}\\right)^{\\frac{1}{1-α}}\\left(EL\\right)\\right)^α (EL)^{1-α} = \\left(\\frac{s}{δ}\\right)^{\\frac{α}{1-α}}\\left(EL\\right)  $\n",
    "\n",
    "To determine what the long-run equilibrium capital stock will be:\n",
    "\n",
    "* Take the equilibrium capital-output ratio: s/δ\n",
    "* Raise it to the power of: 1/(1-α)\n",
    "* Multiply it by the product of the labor force and the efficiency of labor ratio EL\n",
    "\n",
    "To determine what the long-run equilibrium level of output per worker will be:\n",
    "\n",
    "* Take the equilibrium capital-output ratio: s/δ\n",
    "* Raise it to the power of: α /(1-α)\n",
    "* Multiply it by the product of the labor force and the efficiency of labor ratio EL\n",
    "\n",
    "In this particular case the savings rate s = 15%, the depreciation rate δ = 3%, and the production-function diminishing-returns parameter α = 1/2, the efficiency of labor E is 1 and the labor force L is 1000. And so:\n",
    "\n",
    "&nbsp;&nbsp;&nbsp;&nbsp;&nbsp;&nbsp;&nbsp;&nbsp;&nbsp;&nbsp;\n",
    "$ K = \\left(\\frac{s}{δ}\\right)^{\\frac{1}{1-α}}\\left(EL\\right) = (5^2)(1000) = 25000  $\n",
    "\n",
    "And:\n",
    "\n",
    "&nbsp;&nbsp;&nbsp;&nbsp;&nbsp;&nbsp;&nbsp;&nbsp;&nbsp;&nbsp;\n",
    "$ Y = \\left(\\frac{s}{δ}\\right)^{\\frac{α}{1-α}}\\left(EL\\right) = (5^1)(1000) = 5000 $\n",
    "\n",
    "----\n",
    "\n",
    "&nbsp;"
   ]
  },
  {
   "cell_type": "markdown",
   "metadata": {},
   "source": [
    "We can reach the same conclusion by a different, graphical, approach—an approach that is more friendly to those who prefer lines and curves on graphs to Greek variables and exponents in equations. Recall that we have already drawn a graph of the production function, plotting output per worker Y/L on the vertical axis and capita per worker K/L on the horizontal axis. That production function is our behaviorial relationship. Equilibrium is when and where that behavioral relationship satisfies our equilibrium condition. What is our equilibrium condition? It is that the capital-output ratio is at its equilibrium value:\n",
    "\n",
    "&nbsp;&nbsp;&nbsp;&nbsp;&nbsp;&nbsp;&nbsp;&nbsp;&nbsp;&nbsp;\n",
    "$ \\frac{K}{Y} = \\frac{s}{δ}  $\n",
    "\n",
    "What is that plotted on the same axes as our production function? It is the straight line starting at (0, 0) at which the capital stock is equal to s/δ times the level of output. So plot the production function. Draw the right straight line for the equilibrium condition. And the economy's equilibrium is where both are satisfied: where the curves cross.\n",
    "\n",
    "----\n",
    "\n",
    "&nbsp;"
   ]
  },
  {
   "cell_type": "markdown",
   "metadata": {},
   "source": [
    "**Figure 4.2.9: Equilibrium Output per Worker: Graphically**\n",
    "\n",
    "<img style=\"display:block; margin-left:auto; margin-right:auto;\" src=\"http://delong.typepad.com/.a/6a00e551f08003883401b8d2d47336970c-pi\" alt=\"Equilibrium Is Where the Curves Cross\" title=\"Equilibrium_Is_Where_the_Curves_Cross.png\" border=\"0\" width=\"600\" />"
   ]
  },
  {
   "cell_type": "markdown",
   "metadata": {},
   "source": [
    "----\n",
    "\n",
    "&nbsp;"
   ]
  },
  {
   "cell_type": "markdown",
   "metadata": {},
   "source": [
    "We can use either the algebra or the graphical method to think about the long-run consequences of, say, changes in a government’s fiscal policy. At the end of 2017 the Trump administration and the Republican majorities in Congress narrowly passed a bill reducing federal tax revenues by about 150 billion dollars a year—0.75 percent of GDP. That amount of money will have to be borrowed by the government in the future, and thus will be a subtraction from national saving—a \"small\" reduction in the national savings rate. Thus the value of the equilibrium condition s/δ is likely to be slightly lower as a result of this policy change. On the graph of Figure 4.13, the green equilibrium condition line will rotate slightly counterclockwise. The economy's equilibrium will have a lower capital intensity, and so the economy will be (slightly) poorer.\n",
    "\n",
    "This depressing effect of rising government deficits on the standard of living is one important reason that international agencies like the International Monetary Fund (IMF) and the World Bank and almost all economists advise governments at or near full employment to avoid large and prolonged government deficits.\n",
    "\n",
    "----\n",
    "\n",
    "&nbsp;"
   ]
  },
  {
   "cell_type": "markdown",
   "metadata": {},
   "source": [
    "## 4.2.6 RECAP: Presenting the Solow Growth Model\n",
    "\n",
    "The Solow growth model consists of:\n",
    "\n",
    "* **Variables**: economic quantities of interest that we can calculate and measure: L for the number of workers in the labor force, Y for annual production—real GDP, the amount of useful goods and services produced in a year—K for the economy's capital stock, S for savings, and E for the effiency of labor.\n",
    "\n",
    "* **Behavioral relationships**: relationships that (1) describe how humans, making economic decisions given their opportunities and opportunity costs, decide what to do, and (2) that thus determine the values of the economic variables, represented by equations: a production function describing how labor, capital, and efficiency enable the level of output; and equations for the savings rate, and for the growth of the labor force, of labor efficiency, and of the capital stock.\n",
    "\n",
    "    * **Parameters**: determine which out of a broad family of potential behavioral relations describes the behavior of the particular economic scenario at hand; the ability to work algebraically with parameters allows one to perform an enormous number of potential \"what-if?\" calculations very quickly and in a very small space: the parameters of the Solow model are the labor force growth rate n, the labor efficiency growth rate g, the depreciation rate δ, the savings rate s, and the production function parameter α.\n",
    "    \n",
    "* **Equilibrium conditions**: indicators that the economy is in a position of balance with some subset of its important variables stable, and others predictable: the important equilibrium condition sets the capital-output ratio Y/L equal to the quotient of teh savings rate s and of investment requirements n+g+δ.\n",
    "\n",
    "----\n",
    "\n",
    "&nbsp;\n",
    "\n",
    "#### GLOSSARY\n",
    "\n",
    "**Balanced-growth path**: The path toward which total output per worker tends to converge, as the capital-output ratio converges to its equilibrium value.\n",
    "\n",
    "**Capital intensity**: The ratio of the capital stock to total potential output, K/Y, which describes the extent to which capital, as opposed to labor, is used to produce goods and services.\n",
    "\n",
    "**Capital-output ratio**: The economy's capital stock divided by potential output, K/Y.\n",
    "\n",
    "**Depreciation**: The difference between gross and net investment in capital; the amount by which capital stock wears out, becomes obsolete, or is scrapped over a year.\n",
    "\n",
    "**Efficiency of labor**: The skills and education of the labor force, the ability of the labor force to handle modern technologies, and the efficiency with which the economy's businesses and markets function.\n",
    "\n",
    "**Long-run economic growth**: The process by which productivity, living standards, and output increase.\n",
    "\n",
    "**Output per worker**: The average amount of output produced in a year per worker, Y/L Equal to the average labor productivity. Used as a proxy for the material standard of living.\n",
    "\n",
    "**Production function**: The relationship between the national product per worker and the resources used to produce it: the quantity of capital per worker, and the efficiency of labor. Equiva  lently, the relationship between the national product and capital, labor, and the efficiency of labor.\n",
    "\n",
    "**Saving rate**: The share of total GDP that an economy saves, s, equal to the sum of household, government, and foreign saving divided by total output.\n",
    "\n",
    "----\n",
    "\n",
    "&nbsp;"
   ]
  },
  {
   "cell_type": "markdown",
   "metadata": {},
   "source": [
    "## 4.2.9 EXERCISES: Presenting the Solow Growth Model\n",
    "\n",
    "**Task 1: The basics of the Solow growth model**:\n",
    "\n",
    "In the (markdown) cell below this one, answer the questions asked:\n",
    "\n",
    "1. What are the _economic variables_ in the Solow growth model? List their symbols, and describe what they are: ANSWER\n",
    "\n",
    "2. What are the _parameters_ in the Solow growth model? List their symbols, and describe what they are:\n",
    "\n",
    "3. What are the _behavioral relationships_ in the Solow growth model?\n",
    "\n",
    "4. What is the _equilibrium condition_ in the Solow growth model?"
   ]
  },
  {
   "cell_type": "markdown",
   "metadata": {},
   "source": [
    "1. What are the _economic variables_ in the Solow growth model? List their symbols, and describe what they are: <font color='blue'>ANSWER: ___ </font>\n",
    "\n",
    "2. What are the _parameters_ in the Solow growth model? List their symbols, and describe what they are: <font color='blue'>ANSWER: ___ </font>\n",
    "\n",
    "3. What are the _behavioral relationships_ in the Solow growth model? <font color='blue'>ANSWER: ___ </font>\n",
    "\n",
    "4. What is the _equilibrium condition_ in the Solow growth model? <font color='blue'>ANSWER: ___ </font>\n",
    "\n",
    "----\n",
    "\n",
    "&nbsp;"
   ]
  }
 ],
 "metadata": {
  "kernelspec": {
   "display_name": "Python 3",
   "language": "python",
   "name": "python3"
  },
  "language_info": {
   "codemirror_mode": {
    "name": "ipython",
    "version": 3
   },
   "file_extension": ".py",
   "mimetype": "text/x-python",
   "name": "python",
   "nbconvert_exporter": "python",
   "pygments_lexer": "ipython3",
   "version": "3.6.1"
  }
 },
 "nbformat": 4,
 "nbformat_minor": 2
}
