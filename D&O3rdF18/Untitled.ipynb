{
 "cells": [
  {
   "cell_type": "markdown",
   "metadata": {},
   "source": [
    "$ {\\Delta}D = (G - T) + (r-g)D $\n",
    "\n",
    "$ \\frac{T - G}{r-g} = D $\n",
    "\n",
    "$ \\Delta\\pi_t = -\\beta(u_{t-1} - {u}^*) +SS_t $\n",
    "\n",
    "&nbsp;\n",
    "\n",
    "$ u_t = u^* + {\\phi}r_\\pi(\\pi_t - \\pi^T) + {\\delta}_t $ :: MPRF\n",
    "\n",
    "$ \\pi_t = {\\pi_t}^e - \\beta(u_t - u^*) +SS_t $ :: PC"
   ]
  },
  {
   "cell_type": "code",
   "execution_count": null,
   "metadata": {
    "collapsed": true
   },
   "outputs": [],
   "source": []
  }
 ],
 "metadata": {
  "kernelspec": {
   "display_name": "Python 3",
   "language": "python",
   "name": "python3"
  },
  "language_info": {
   "codemirror_mode": {
    "name": "ipython",
    "version": 3
   },
   "file_extension": ".py",
   "mimetype": "text/x-python",
   "name": "python",
   "nbconvert_exporter": "python",
   "pygments_lexer": "ipython3",
   "version": "3.6.1"
  }
 },
 "nbformat": 4,
 "nbformat_minor": 2
}
