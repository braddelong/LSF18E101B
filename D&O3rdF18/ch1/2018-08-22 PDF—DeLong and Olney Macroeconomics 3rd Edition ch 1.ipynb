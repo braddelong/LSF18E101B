{
 "cells": [
  {
   "cell_type": "markdown",
   "metadata": {
    "slideshow": {
     "slide_type": "notes"
    }
   },
   "source": [
    "# 2018-08-22 DeLong and Olney Macroeconomics 3rd Edition sn I ch 1"
   ]
  },
  {
   "cell_type": "markdown",
   "metadata": {
    "slideshow": {
     "slide_type": "slide"
    }
   },
   "source": [
    "# Section I. Orientation\n",
    "\n",
    "<img src=\"https://www.evernote.com/l/AAG-zX_71ZpB66QEEBbisYCikZdg1L5OTvAB/image.png\" style=\"float:right;\" height=\"400\" width=\"400\" />\n",
    "\n",
    "## Introduction (REV)\n",
    "\n",
    "What is macroeconomics? \n",
    "\n",
    "The first three chapters of this book provide an overview.\n",
    "\n",
    "Chapter 1 provides the basic guide to the major landmarks. It tells you that macroeconomics is the study not of individual markets but of the economy as a whole; that it studies total economic activity—how many people are employed, why the overall price level rises (and, rarely, falls) and at what rate, and what determines the level and rate of growth (and, sometimes, rate of decline) of total production.\n",
    "\n",
    "Chapter 2 provides a brief survey of the major data used by macroeconomists. What indicators do macroeconomists focus on? How do they fit together? What are the national income and product accounts? These questions need to be answered before we can properly begin using macroeconomic data to understand the state of\n",
    "the economy.\n",
    "\n",
    "Chapter 3 in this introductory section is: \"Thinking Like an Economist\". Every subject has its own particular patterns of thought and fundamental assumptions that make it a sep  arate discipline worth learning. Economists' patterns of thought, however, seem to be further from norma! day-to-day experience than are those of many other disciplines. Economists have a very productive and insightful way of looking at the world, and it is different from common sense. \n",
    "\n",
    "To !earn economics is to learn something genuinely new—and something instructive. Chapter 3 offers a brief introduction to the far-from-usual way that economists think: their use of graphs and equations, model building, and con  cepts like opportunity cost, equilibrium, and rational expectations."
   ]
  },
  {
   "cell_type": "markdown",
   "metadata": {},
   "source": [
    "&nbsp;\n",
    "\n",
    "&nbsp;"
   ]
  },
  {
   "cell_type": "markdown",
   "metadata": {},
   "source": [
    "# Chapter 1. Introduction to Macroeconomics\n",
    "\n",
    "#### Chapter Heading Questions:\n",
    "\n",
    "1. How much richer are we than our parents were at our age?\n",
    "2. How much richer will our children be than our grandparents were?\n",
    "3. Will changing jobs be easy or hard in five years? \n",
    "4. How many of us will have jobs in five years?\n",
    "5. Will the businesses we work for vanish as demand for the products they make dries up?\n",
    "6. Will inflation make us poor by destroying our savings or rich by eliminating our debts?\n",
    "\n",
    "----"
   ]
  },
  {
   "cell_type": "markdown",
   "metadata": {},
   "source": [
    "## 1.1 Overview"
   ]
  },
  {
   "cell_type": "markdown",
   "metadata": {},
   "source": [
    "### 1.1.1 What is Macroeconomics?\n",
    "\n",
    "What is macroeconomics? Macroeconomics is that subdiscipline of economics that tries to answer the six questions that begin this chapter. The answers to all these questions depend on what is happening to the economy as a whole, the economy in the large, the macroeconomy. “Macro” is, after all, nothing but a prefix meaning “large”. Thus macroeconomics is the branch of economics related to the econ  omy as a whole.\n",
    "\n",
    "* First, macroeconomists’ principal task is to try to figure out why overall economic activity rises and falls. Why are measures like the total value of all production, the total income of workers and property owners, the total number of people employed, or the unemployment rate higher in some years than in others?\n",
    "\n",
    "* Second, macroeconomists also attempt to understand what determines the level and rate of change of overall prices. The proportional rate of change in the price level has a name: the inflation rate.\n",
    "\n",
    "* Third, along the way macroeconomists study other variables—such as interest rates, stock market values, and exchange rates—that play a major role in deter  mining the overall levels of production, income, employment, and prices."
   ]
  },
  {
   "cell_type": "markdown",
   "metadata": {},
   "source": [
    "#### 1.1.1.1 Why Macroeconomics Matters\n",
    "\n",
    "Why does macroeconomics matter? Why should we care about the questions at the start of this chapter that are at the heart of macroeconomics? There are at least three reasons:\n",
    "\n",
    "**Cultural literacy**: First, macroeconomics is a matter of cultural literacy. Much discussion in newspapers, on television, and at parties concerns the macroeconomy. This should not be surprising: The twentieth-century U.S. economy was, all in all, extraordinarily successful. Today we are on average some 50 percent richer than our parents were when they were our age. If economic growth continues at its recent pace, our children may be five or more times as rich as our grandparents were.\n",
    "\n",
    "Our modern industrial economy has delivered increases in material prosperity and living standards that no previous generation ever saw. This increasing material prosperity means that the economy has a cultural salience today that it did not have in previous centuries, when productivity was stagnant and material standards of living improved only as fast as a glacier moves.\n",
    "\n",
    "Thus, if you want to follow and participate in public debates and discussions, you need to know about macroeconomics. \n",
    "\n",
    "If you don’t, you won’t understand news reports on changes in the economy.\n",
    "\n",
    "&nbsp;\n",
    "\n",
    "**Self-Interest**: A second (and more important) reason to care about macroeconomics is that the macroeconomy matters to you personally. Each of us is inter  ested in particular issues in microeconomics. Farmers and bakers are interested in the price of wheat; computer manufacturers and users are interested in the price of microprocessors; and economics professors are very interested in the price of economics professors. What happens in these individual markets—for wheat, for microprocessors, and for economics professors—shapes the lives of farmers, bakers, computer programmers, and economics professors.\n",
    "\n",
    "What happens in the macroeconomy shapes everyone’s life. A rise in inflation is sure to enrich debtors (people who have borrowed) and impoverish creditors (people who have lent money to others). An expanding economy will make real incomes rise. A deep recession will increase unemployment and make those who lose their jobs have a hard time finding others. Your bargaining power vis-a-vis your employer (or, on the other side of the table, your bargaining power vis-a-vis your employees) depends on the phase of the business cycle.\n",
    "\n",
    "Though you cannot control the macroeconomy, you can understand how it affects your opportunities. To some degree, forewarned is forearmed: Whether or not you understand your opportunities may depend on how much attention you pay in this course. The macroeconomy is not destiny: Some people do very well in their jobs and businesses in a recession, and many do badly in a boom. Never  theless, it is a powerful influence on individual well-being. To paraphrase Russian revolutionary Leon Trotsky, you may not be interested in the macroeconomy, but the macroeconomy is interested in you.\n",
    "\n",
    "&nbsp;\n",
    "\n",
    "**Civic Responsibility**: A third important reason to care about macroeconomics is that by working together we can improve the macroeconomy. Our right to vote is one of the most precious rights human beings have ever had. In electing our government, we indirectly make macroeconomic policy. As we will see in the next section, the gov  ernment’s macroeconomic policy matters because it can accelerate (or decelerate) long-run economic growth and stabilize (or destabilize) the short-run business cycle. In election after election, candidates will present themselves and seek your vote. Those who win will try to manage the macroeconomy. \n",
    "\n",
    "If you are not literate in macroeconomics, you won’t be able to distinguish the candidates who might become effective macroeconomic managers from those who are clueless or cynical, promising more than they can deliver. And you need to, for many politicians cynically overpromise, and others seek to pursue economic policies that are bad for the economy in the long run but that promise to generate good short-run news. \n",
    "\n",
    "----"
   ]
  },
  {
   "cell_type": "markdown",
   "metadata": {},
   "source": [
    "##### Box 1.1.1.1(a) The Constant Flow of Economic News\n",
    "\n",
    "<img src=\"https://www.evernote.com/l/AAEHhzzHMQZPh4nBi-4uZXKeSXRRfXOnK04B/image.png\" style=\"float:right;\" height=\"400\" width=\"400\" />\n",
    "\n",
    "Economic news flows past us constantly throughout the day. The total volume of information is overwhelming. Thus one of the major problems of macroeconomics is figuring out how to process all this information—how to make sense of it, without drowning in information overload, and without throwing valuable news away:\n",
    "\n",
    "**2018-08-11 06:53:18 PDT <https://www.bloomberg.com/markets/economics>**:\n",
    "\n",
    "* U.S. Inflation Remains Subdued as Core Index Lags Forecasts\n",
    "* Europe’s Newly Employed Offer Glimpse of State of Economy\n",
    "* Biggest Banks in Denmark Face $15 Billion Basel Capital Bill\n",
    "* The World's Most Expensive Housing Market Just Got Even Pricier\n",
    "* Germans Are Waiting for the Penny to Drop\n",
    "* Europe’s East Is Shining Brightly\n",
    "* Blame Brexit for the U.K.'s Continued Weak Wage Growth\n",
    "* As Spain’s Economy Booms, Its Government Keeps Slowing Down\n",
    "* The U.S. Economy Would Be Better Off If Men Did More Housework\n",
    "* Britain Shouldn’t ‘Go Up Against’ U.S. in Trade Talks\n",
    "* Health Insurers Face Long Odds to Win Reprieve of Obamacare Tax\n",
    "* Consumer Comfort Reaches 16-Year High on U.S. Economic Optimism\n",
    "* Trump Administration Seeks Further Delay in Labor Fiduciary Rule\n",
    "* Harvard-Educated Doctors Prescribe Far Fewer Opioids\n",
    "* Brexit Barometer Slumps as May Sticks to Two-Year Deal Goal"
   ]
  },
  {
   "cell_type": "markdown",
   "metadata": {},
   "source": [
    "##### Box 1.1.1.1(b) Economic Policy and Political Popularity\n",
    "\n",
    "<img src=\"https://www.evernote.com/l/AAFYCFnwHI9EFLiYI7GIoA8nTiu6OnKVTCYB/image.png\" style=\"float:right;\" height=\"400\" width=\"400\" />\n",
    "\n",
    "Politicians believe strongly that their success at the polls depends on the state of the economy. They think that fairly and unfairly they get the credit when the economy does well and suffer the blame when the economy does badly One of the most outspoken political leaders on this topic was mid-twentieth-century American politician Richard M. Nixon, who publicly blamed his defeat in the 1960 presidential election on the Eisenhower administration’s unwillingness to take action against an economic slump:\n",
    "\n",
    ">The matter was thoroughly discussed by the Cabinet.... Several of the Administration’s economic experts who attended the meeting did not share [the] bearish prognosis.... There was strong sentiment against using the spending and credit powers of the Federal Government to affect the economy, unless and until conditions clearly indicated a major recession in prospect....\n",
    "\n",
    ">I must admit that I was more sensitive politically than some of the others around the cabinet table. I knew from bitter experience how, in both 1954 and 1958, slumps which hit bottom early in October contributed to substantial Republican losses in the House and Senate.... The bottom of the 1960 dip did come in October.... The jobless rolls increased by 452,000. All the speeches, television broadcasts, and precinct work in the world could not counteract that one hard fact...\n",
    "\n",
    "Economic historians continue to dispute the causes of the “stagflation”—a com bination of relatively high inflation and relatively high unemployment—that struck the American economy in the early 1970s, after Richard Nixon finally became president: Was it the result of his manipulation of economic policy for political goals so that during his 1972 reelection campaign the economy would look better than it had in 1960?\n",
    "\n",
    "The evidence is contradictory. \n",
    "\n",
    "But no matter how much Nixon’s policy contributed to stagflation, nearly all observers agree that his major goal in ecomomic policy was not to create a healthier economy over the long term but to make the economy look good in 1972.\n",
    "\n",
    "**Source**: Richard M. Nixon (91962): _Six Crises_ (Garden City, NY: Doubleday), pp. 309-311 <http://amzn.to/2vM9nLx>"
   ]
  },
  {
   "cell_type": "markdown",
   "metadata": {},
   "source": [
    "### 1.1.2 Macroeconomic Policy"
   ]
  },
  {
   "cell_type": "markdown",
   "metadata": {},
   "source": [
    "#### 1.1.2.1 Growth Policy\n",
    "\n",
    "The government’s _growth policy_—what it does to accelerate or decelerate long-run economic growth—is surely the most important aspect of macroeconomic policy. \n",
    "\n",
    "Nothing matters more in the long run for the quality of life in an economy than its long-run rate of economic growth. Consider Argentina, which was once one of the most prosperous nations in the world. In 1913 its capital, Buenos Aires, was twelfth in the world in the fraction of its inhabitants who had telephones. In 1929 it was fifth in the world in the number of automobiles per capita. Yet today Argentina is classified as a “developing” country, and it has fallen far behind rich developed industrial economies like Sweden. Today's Argentineans are richer than their predecessors were at the beginning of the twentieth century. But they are not nearly as well off as they might have been, had Argentina’s economic policies been as good and its economic growth as fast as those in Sweden.\n",
    "\n",
    "Why? Overwhelmingly, the reason is: destructive economic policies have retarded Argentina’s economic growth.\n",
    "\n",
    "In Scandinavian countries like Norway and Sweden, where throughout the twentieth century economic policies were supportive of growth, the past 100 years have led to extraordinary prosperity. Today economic output per person in Scandinavia is among the highest in the world. Scandinavians today are more than fifteen times as prosperous as their predecessors were back ten years before the start of the twentieth century. Argentineans, by contrast, are only a little more than three times as prosperous as their predecessors.\n",
    "\n",
    "In the long run, nothing a government can do does more good for the economy than adopting good policies for economic growth."
   ]
  },
  {
   "cell_type": "markdown",
   "metadata": {},
   "source": [
    "##### Figure 1.1.2.1(a) Long-Run Measured Economic Growth: Sweden and Argentina, 1890-2017\n",
    "\n",
    "<img src=\"http://delong.typepad.com/.a/6a00e551f08003883401b8d2a9cc1f970c-pi\" alt=\"2017 08 11 DeLong and Olney Macroeconomics 3rd Edition\" title=\"2017-08-11_DeLong_and_Olney_Macroeconomics_3rd_Edition.png\" border=\"0\" width=\"400\" height=\"400\" style=\"float:right;\" />\n",
    "\n",
    "At the start of the twentieth century, Argentina was richer—and seen as having a brighter future—than Sweden. Europeans in large numbers were then migrating to Argentina, not Sweden—and Swedes were leaving their country in large numbers for greener pastures elsewhere, largely in the Americas. But economic policies that were mostly bad for long-run growth left Argentina far behind Sweden. The average Swede today looks to be more than sixteen times as well off in terms of material income as the average Swede of 1890. The average Argentinian today looks to be only between three and a third times as well off as their predecessor back in 1890.\n",
    " \n",
    "**Source**: Gapminder <http://www.gapminder.org/data/> <http://docs.google.com/spreadsheet/pub?key=phAwcNAVuyj1jiMAkmq1iMg&output=xlsx> "
   ]
  },
  {
   "cell_type": "markdown",
   "metadata": {},
   "source": [
    "#### 1.1.2.2 Stabilization Policy\n",
    "\n",
    "The second major branch of macroeconomic policy is the government’s _stabilization policy_. \n",
    "\n",
    "History does not show a steady, stable, smooth upward trend toward higher production and employment. Typically, levels of production and employment fluctuate above and below long-run growth trends. Production can easily rise several percentage points above the long-run trend or fall 5 percentage points or more below the trend. Unemployment can fall so low that businesses become desperate for workers and will spend much time and money training them. Or it can rise to more than 10 percent of the labor force in a deep recession, as it did in 2009.\n",
    "\n",
    "Such fluctuations in production and employment are commonly referred to as _business cycles_. Periods in which production grows and unemployment falls are called _booms_, or _macroeconomic expansions_. Periods in which production falls and unemployment rises are called _recessions_ or, worse, **depressions**. Booms are to be welcomed; recessions are to be feared.\n",
    "\n",
    "Today’s governments have powerful abilities to improve economic growth and to smooth out the business cycle by diminishing the depth of recessions and depres  sions. Good macroeconomic policy can make almost everyone’s life better; bad macroeconomic policy can make almost everyone’s life much worse. For example, policymakers’ reliance on the gold standard as the international monetary system during the Great Depression was the source of macroeconomic catastrophe and human misery. Thus the stakes that are at risk in the study of macroeconomics are high.\n",
    "\n",
    "Business-cycle fluctuations are felt not only in production and employment but also in the overall level of prices. Booms usually bring inflation, or rising prices. Recessions bring either a slowdown in the rate of inflation, or disinflation as it is called, or an absolute decline in the price level, called deflation. Interest rates, the level of the stock market, and other economic variables also rise and fall with the principal fluctuations of the business cycle.\n",
    "\n",
    "Macroeconomists often talk about growth and growth policy on the one hand and the business cycle and stabilization policy on the other hand as if they were separate and disconnected aspects of the economy. This is an oversimplification, and one that can be dangerous. Poor business cycle performance can permanently slow the pace of long-run economic growth. And expectations of poor future growth can discourage investment spending today, and so reduce capacity utilization and raise unemployment.\n"
   ]
  },
  {
   "cell_type": "markdown",
   "metadata": {},
   "source": [
    "##### Figure 1.1.2.2(a) The American Business Cycle 1950-2017\n",
    "\n",
    "<img src=\"http://delong.typepad.com/.a/6a00e551f08003883401bb09c2a799970d-pi\" alt=\"2017 08 11 DeLong and Olney Macroeconomics 3rd Edition\" title=\"2017-08-11_DeLong_and_Olney_Macroeconomics_3rd_Edition.png\" border=\"0\" width=\"400\" height=\"400\" style=\"float:right;\" />\n",
    "\n",
    "**Fluctuations in Total Production (Real GDP) Relative to the Long-Run Growth Trend**: Since 1950, business-cycle fluctuations have caused the level of production in the United States to fluctuate as much as 4 percent above or 8 percent below the full employment trend level of potential real GDP.\n",
    "\n",
    "The source of these estimates is the Congressional Budget Office (often abbreviated: CBO) of the United States Congress. The CBO is a non-partisan, technocratic organization established in the mid-1970s that exists to provide the members of Congress with _independent_, _non-partisan_, and _technocratic_ assessments of the likely effects on spending and revenues of different proposed legislative actions by the Congress, and also to provide the members with assessments of the likely impact—economic, sociological, biomedical, and so forth—of different proposed legislative actions.\n",
    "\n",
    "The CBO is not infallible: we, in particular, are skeptical of its current analytical conclusion that the level of national income and product in the United States in 2017 has returned very nearly to normal business-cycle levels—that there is neither an unustainable boom nor an unnecessary depression of economic activity below the trend of the its fundamental productive capacity.\n",
    "\n",
    "But the CBO tries its best to report honest rather than politically- or ideologically- or partisan-driven assessments.\n",
    "\n",
    "**Source**: Business cycle defined as the difference between real GDP and potential GDP. Real GDP estimates from the Department of Commerce's Bureau of Economic Analysis (\"BEA\"). Potential GDP estimates from the Congressional Budget Office (\"CBO\"). Data archive at the Federal Reserve Bank of St. Louis's Federal Reserve Economic Data (\"FRED\"): <https://fred.stlouisfed.org> <https://fred.stlouisfed.org/graph/?id=GDPC1,> <https://fred.stlouisfed.org/graph/?id=GDPPOT,>"
   ]
  },
  {
   "cell_type": "markdown",
   "metadata": {},
   "source": [
    "----\n",
    "\n",
    "##### Box 1.1.2.2(a) Macroeconomic Policy and Your Quality of Life: Data\n",
    "\n",
    "At the end of 2009 the U.S. macroeconomy was in the worst shape since the Great Depression, save possibly for a brief period at the end of 1982 At the end of 2009, the unemployment rate was more than 10 percent. In an average week in late 2009, some 16 million Americans were unemployed—actively seeking work, but unable to find a job that seemed worth taking. More than 6.5 million of them had been unsuccessfully looking for a job for more than half a year. And the average household income in the United States was 6 percent below the CBO's estimate of the long-run trend.\n",
    "\n",
    "By contrast, at the end of 2000 U.S. unemployment was just 4 percent, and average household income was 2 percent above the CBO's estimate of trend. \n",
    "\n",
    "In which year would you rather have been trying to find a job?\n",
    "\n",
    "Bad macroeconomic policy makes years like 2009 and 1982 much more common than years like  2000. And reliably better macroeconomic policy could all but eliminate the prospect of years like 2009 and 1982.\n",
    "\n",
    "**Definitions: Expansion: A period when real GDP is growing. Recession: A fall in the level of real GDP for at least six months, or two quarters of the year. Depression: A very severe recession. Commodities: Goods and services — useful things or processes — that are bought and sold for money in the economy. Inflation: an ongoing increase in the overall level of the prices of commodities in terms of money; usually measured at an annual rate — that is, in percent per year. Deflation: The opposite of inflation: an ongoing decline in the overall level of the prices of commodities in terms of money.**\n",
    "\n",
    "----"
   ]
  },
  {
   "cell_type": "markdown",
   "metadata": {},
   "source": [
    "### 1.1.3 Macroeconomics vs. Microeconomics\n",
    "\n",
    "By itself macroeconomics is only half of economics. For more than half a century economics has been divided into two branches, macroeconomics and microeconomics.\n",
    "\n",
    "**Definition**: Microeconomics: That field of economics that deals with the behavior of the individual elements in an economy with respect to the price of a single commodity and the behavior of individual households and businesses.**\n",
    "\n",
    "Macroeconomists examine the economy in the large, focusing on feedback from one component of the economy to another and studying the total level of production and employment. In contrast, microeconomics, which was probably the subject of your last economics course, deals with the economy in the small. Microeconomists study the markets for single commodities, examining the behavior of individual households and businesses. They focus on how competitive markets allocate resources to create producer and consumer surplus, as well as on how markets can go wrong.\n",
    "\n",
    "The two groups of economists also differ in their views of how markets work. Microeconomists assume that imbalances between demand and supply are resolved by changes in prices. Rises in prices bring forth additional supply, and falls in prices bring forth additional demand, until supply and demand are once again in balance. Macroeconomists consider the possibility that imbalances between supply and demand are resolved by changes in quantities rather than in prices. That is, busi  nesses may be slow to change the prices they charge, preferring instead to expand or contract production until supply balances demand. Table 1.1 summarizes these differences in approach.\n",
    "\n",
    "In every generation, economists attempt to integrate microeconomics and macro  economics by providing “microfoundations” for the macroeconomic topics of infla  tion, the business cycle, and long-run growth. But no one believes that the bridge between microeconomics and macroeconomics has yet been soundly built. Econo  mists are divided roughly evenly between those who think that the failure to suc  cessfully integrate microeconomics and macroeconomics is a flaw that urgently needs to be corrected and those who think it is a regrettable but minor annoyance. Thus less knowledge may carry over from microeconomics to macroeconomics than one might expect or hope. Be careful in trying to apply the principles and conclusions of microeconomics to macroeconomic questions — and vice versa.\n",
    "\n",
    "----"
   ]
  },
  {
   "cell_type": "markdown",
   "metadata": {},
   "source": [
    "#### Table 1.1.3 (a) The Two Branches of Economics: Macroeconomics and Microeconomics\n",
    "\n",
    "**Macroeconomics**:\n",
    "\n",
    "1. Focus on the economy as a whole.\n",
    "2. Spend much time analyzing how total income changes and how changes in income cause changes in other modes of economic behavior.\n",
    "3. Spend a great deal of time and energy investigating how people form their expectations and change them over time.\n",
    "4. Consider the possibility that decision makers might change the quantities they produce before they change the prices they charge.\n",
    "\n",
    "**Microeconomics**:\n",
    "\n",
    "1. Focus on the markets for individual commodities and on the decisions of single economic agents.\n",
    "2. Hold the flow of total income in the economy constant.\n",
    "3. Don't worry much about how decision makers form their expectations.\n",
    "4. Assume that economic adjustment occurs first through prices that change to balance supply and demand and that only afterward do producers and consumers react to the changed prices by changing the quantities they make, buy, or sell.\n",
    "\n",
    "----"
   ]
  },
  {
   "cell_type": "markdown",
   "metadata": {},
   "source": [
    "### 1.1.4 Overview: Recap\n",
    "\n",
    "Macroeconomics is that branch of economics related to not individual markets but the economy as a whole. The government's growth policy—what it does to accelerate or decelerate long-run economic growth—is surely the most important aspect of macroeconomic policy. Nothing matters more in the long run for the: quality of life in an economy than its long-run rate of economic growth. The second major branch of macroeconomic policy is the government’s stabilization policy. Typically, levels of production and employment fluctuate above and below long-run growth trends. Periods in which production grows and unemployment falls are called booms, or macroeconomic expansions. Periods in which production falls and unemployment rises are called recessions, or, worse, depressions.\n",
    "\n",
    "----\n",
    "\n",
    "**Glossary Entries**:\n",
    "\n",
    "_Macroeconomics_: The branch of economics that studies the economy as a whole: business cycles, the determinants of inflation and unemployment and long-run growth, and the effects\n",
    "of government fiscal and monetary policy\n",
    "\n",
    "_Expansion_: A period when real GDP is growing.\n",
    "\n",
    "_Recession_: A fall in the level of real GDP for at least six months, or two quarters of the year.\n",
    "\n",
    "_Depression_: A very severe recession.\n",
    "\n",
    "_Deflation_: The opposite of inflation: a decrease in the overall price level.\n",
    "\n",
    "_Microeconomics_: That field of economics that deals with the behavior of the individual elements in an economy with respect to the price of a single commodity and the behavior of individual households and businesses.\n",
    "\n",
    "----\n",
    "\n",
    "**Key Points**:\n",
    "\n",
    "1. Macroeconomics is the study of the economy in the large and in the whole—the determination of the economywide levels of production, employment and unemployment, and inflation or deflation, rather than of what happens in individual markets or to particular firms or households.\n",
    "2. There are three key reasons to study macroeconomics: to gain cultural literacy, to understand how economic\n",
    "trends affect you personally, and to exercise your re  sponsibility as a voter and citizen.\n",
    "3. Macroeconomics has a great deal to say about how the government should manage the economy—what economic policy should be. \n",
    "4. The government's growth policy—what it does to accelerate or decelerate long-run economic growth—is surely the most important aspect of macroeconomic policy, Nothing matters more in the long run for the: quality of life in an economy than its long-run rate of economic growth. \n",
    "5. The other important branch of macroeconomic policy is the government’s stabilization policy to try to keep levels of production and employment fluctuating much below sustainable long-run trends."
   ]
  },
  {
   "cell_type": "markdown",
   "metadata": {},
   "source": [
    "### 1.1.4 Overview: Exercises\n",
    "\n",
    "**Analytical Exercises**:\n",
    "\n",
    "1. What are the key differences between microeconomics and macroeconomics?\n",
    "2. Why is the rate of economic growth important—and a thing to be boosted by good government policy, rather than being left to its own devices?\n",
    "3. Why is the business cycle important—and a thing to be moderated by good government policy, rather than being left to its own devices?\n",
    "\n",
    "----\n",
    "\n",
    "**Data and Policy Exercises**:\n",
    "\n",
    "1. What was the rate of real GDP growth in the United States in 2017?\n",
    "2. What is the current unemployment rate?\n",
    "3. What is the current inflation rate?\n",
    "4. Roughly, what was the highest level that the U.S. inflation rate reached in the twentieth century? What was the highest peacetime unemployment rate?\n",
    "5. Roughly, how much higher is measured real GDP per worker today than it was in 1973?\n",
    "\n",
    "----\n",
    "\n",
    "**Doing the Exercises**:\n",
    "\n",
    "A word for the would-be wise: FRED—Federal Reserve Economic Data <http://fred.stlouisfed.org> at the Federal Reserve Bank of St. Louis. Key search terms: \"real GDP\", \"nonfarm payrolls\", \"inflation\", \"consumer price index\", \"unemployment rate\"..."
   ]
  }
 ],
 "metadata": {
  "kernelspec": {
   "display_name": "Python 3",
   "language": "python",
   "name": "python3"
  },
  "language_info": {
   "codemirror_mode": {
    "name": "ipython",
    "version": 3
   },
   "file_extension": ".py",
   "mimetype": "text/x-python",
   "name": "python",
   "nbconvert_exporter": "python",
   "pygments_lexer": "ipython3",
   "version": "3.6.1"
  }
 },
 "nbformat": 4,
 "nbformat_minor": 2
}
