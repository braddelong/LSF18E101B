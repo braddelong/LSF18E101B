{
 "cells": [
  {
   "cell_type": "markdown",
   "metadata": {
    "slideshow": {
     "slide_type": "notes"
    }
   },
   "source": [
    "# DeLong and Olney Macroeconomics 3rd Edition ch 2"
   ]
  },
  {
   "cell_type": "markdown",
   "metadata": {},
   "source": [
    "## Setting up the environment"
   ]
  },
  {
   "cell_type": "code",
   "execution_count": 1,
   "metadata": {},
   "outputs": [
    {
     "data": {
      "application/javascript": [
       "\n",
       "IPython.OutputArea.prototype._should_scroll = function(lines) {\n",
       "    return false;}"
      ],
      "text/plain": [
       "<IPython.core.display.Javascript object>"
      ]
     },
     "metadata": {},
     "output_type": "display_data"
    }
   ],
   "source": [
    "%%javascript\n",
    "\n",
    "IPython.OutputArea.prototype._should_scroll = function(lines) {\n",
    "    return false;}"
   ]
  },
  {
   "cell_type": "code",
   "execution_count": 2,
   "metadata": {
    "collapsed": true
   },
   "outputs": [],
   "source": [
    "# keep output cells from shifting to autoscroll..."
   ]
  },
  {
   "cell_type": "code",
   "execution_count": 3,
   "metadata": {},
   "outputs": [
    {
     "name": "stderr",
     "output_type": "stream",
     "text": [
      "/Users/delong/anaconda3/lib/python3.6/site-packages/statsmodels/compat/pandas.py:56: FutureWarning:\n",
      "\n",
      "The pandas.core.datetools module is deprecated and will be removed in a future version. Please use the pandas.tseries module instead.\n",
      "\n"
     ]
    },
    {
     "name": "stdout",
     "output_type": "stream",
     "text": [
      "LIBRARY VERSIONS\n",
      " \n",
      "Python version:\n",
      "3.6.1 |Anaconda custom (x86_64)| (default, May 11 2017, 13:04:09) \n",
      "[GCC 4.2.1 Compatible Apple LLVM 6.0 (clang-600.0.57)]\n",
      "\n",
      "matplotlib version: 2.0.2\n",
      "pandas version: 0.20.1\n",
      "numpy version: 1.12.1\n",
      "statsmodels version: 0.8.0\n",
      "PIL version: 4.1.1\n",
      "scipy version: 0.19.0\n"
     ]
    }
   ],
   "source": [
    "# set up the environment by reading in libraries: \n",
    "# os... graphics... data manipulation... time... math... statistics...\n",
    "\n",
    "import sys\n",
    "import os\n",
    "from urllib.request import urlretrieve\n",
    "\n",
    "import matplotlib as mpl\n",
    "import matplotlib.pyplot as plt\n",
    "%matplotlib inline\n",
    "import PIL as pil\n",
    "import plotly\n",
    "plotly.tools.set_credentials_file(username='delong', api_key='d6vMMwVn4sEBmR2MLN9H')\n",
    "import plotly.plotly as py\n",
    "import plotly.graph_objs as go\n",
    "from plotly.graph_objs import Scatter\n",
    "from IPython.display import Image\n",
    "\n",
    "import pandas as pd\n",
    "from pandas import DataFrame, Series\n",
    "import pandas_datareader\n",
    "from datetime import datetime\n",
    "\n",
    "import scipy as sp\n",
    "import numpy as np\n",
    "import math\n",
    "import random\n",
    "\n",
    "import seaborn as sns\n",
    "import statsmodels\n",
    "import statsmodels.api as sm\n",
    "import statsmodels.formula.api as smf\n",
    "\n",
    "# report library versions...\n",
    "\n",
    "print(\"LIBRARY VERSIONS\")\n",
    "print(\" \")\n",
    "print(\"Python version:\\n{}\\n\".format(sys.version))\n",
    "print(\"matplotlib version: {}\".format(mpl.__version__))\n",
    "print(\"pandas version: {}\".format(pd.__version__))\n",
    "print(\"numpy version: {}\".format(np.__version__))\n",
    "print(\"statsmodels version: {}\".format(statsmodels.__version__))\n",
    "print(\"PIL version: {}\".format(pil.__version__))\n",
    "print(\"scipy version: {}\".format(sp.__version__))"
   ]
  },
  {
   "cell_type": "code",
   "execution_count": 4,
   "metadata": {
    "collapsed": true
   },
   "outputs": [],
   "source": [
    "%matplotlib inline "
   ]
  },
  {
   "cell_type": "code",
   "execution_count": 5,
   "metadata": {
    "collapsed": true
   },
   "outputs": [],
   "source": [
    "# graphics setup: seaborn-whitegrid and figure size...\n",
    "\n",
    "plt.style.use('seaborn-whitegrid')\n",
    "\n",
    "figure_size = plt.rcParams[\"figure.figsize\"]\n",
    "figure_size[0] = 12\n",
    "figure_size[1] = 10\n",
    "plt.rcParams[\"figure.figsize\"] = figure_size"
   ]
  },
  {
   "cell_type": "code",
   "execution_count": 6,
   "metadata": {
    "collapsed": true
   },
   "outputs": [],
   "source": [
    "# import delong functions\n",
    "\n",
    "from delong_functions.data_functions import getdata_read_or_download # get or download data file\n",
    "from delong_functions.stat_functions import initialize_basic_figure # initialize graphics\n",
    "\n",
    "# check to see if functions successfully created... \n",
    "# NOW COMMENTED OUT: getdata_read_or_download? initialize_basic_figure?"
   ]
  },
  {
   "cell_type": "markdown",
   "metadata": {},
   "source": [
    "# 2 Measuring the Macroeconomy\n",
    "\n",
    "## Questions:\n",
    "\n",
    "1. What key data do macroeconomists look at?\n",
    "2. How are key macroeconomic data estimated and calculated?\n",
    "3. What is the difference between nominal and real values?\n",
    "4. How are stock market values related to interest rates?\n",
    "5. How are interest rates related to the price level and the inflation rate?\n",
    "6. How is unemployment related to total production?\n",
    "7. \"What is right — and what is wrong — with the key measure of economic activity, real GDP?"
   ]
  },
  {
   "cell_type": "markdown",
   "metadata": {},
   "source": [
    "## 2.1  Macroeconomic Data\n",
    "\n",
    "Economics is a social science: It is about us, about what we do. \n",
    "\n",
    "Thus it shares with other social sciences one important source of information: introspection. We can ask ourselves “Why did I do that?” or “If I had done that, what would I have been thinking?” We can ask other people, and listen to their answers (“I did that because . . .”). In most of the other social sciences, however, the overwhelming source of information is introspection, either our own or other people’s.\n",
    "\n",
    "Economists are in a better position than most other social scientists as far as their sources of information are concerned. Everything that passes through the economy is priced and sold. Thus economists have quantitative data to work with: prices, quantities, and values. Having quantitative data allows economists to do more than many other social scientists. They can use theories to make not just qualitative but quantitative forecasts (“The change from Carter- to Reagan-era fis  cal policy reduced the growth rate of the U.S. economy by 0.3 percent per year”). With data they can test theories, comparing what was actually the case to what various theories would have predicted.\n",
    "\n",
    "The most important macroeconomic data are, of course, the six key variables introduced in Chapter 1:\n",
    "• Real GDP (gross domestic product). \n",
    "• The unemployment rate.\n",
    "• The inflation rate.\n",
    "• The interest rate.\n",
    "• The level of the stock market. \n",
    "• The exchange rate.\n",
    "\n",
    "Learn about these six measurements of the economy — what their current values are, what their trends have been over time, what their future values are projected to be, how they are calculated, and what they mean — and you will have an excel  lent knowledge of the state of the economy. Table 2.1 summarizes the major fea  tures of these key economic variables. Let’s see in more detail what they are and how they are calculated, but in reverse order — starting with the exchange rate and ending with real GDP."
   ]
  },
  {
   "cell_type": "markdown",
   "metadata": {},
   "source": [
    "**Table: Key Economic Measures and Indicators**\n",
    "\n",
    "<img src=\"https://www.evernote.com/l/AAESP9vUvuJMkpwjN8iiFTnwbxPqd1X4ya0B/image.png\" style=\"float:right;\" height=\"400\" width=\"400\" />"
   ]
  },
  {
   "cell_type": "markdown",
   "metadata": {},
   "source": [
    "#### 2.1 The Importance of the Data: Recap\n",
    "\n",
    "In most of the other social sciences, the overwhelming source of information is introspection -— either our own or other people’s. Economists share this source, but they have the advantage that everything that passes through the economy is priced and sold. Thus economists have quantitative data to work with: prices, quantities, and values. Having quantitative data allows economists to do more than many other social scientists. Especially important is the ability to measure the six key variables — real GDP, the unemployment rate, the inflation rate, the interest rate, the stock market, and the exchange rate."
   ]
  },
  {
   "cell_type": "markdown",
   "metadata": {},
   "source": [
    "### 2.2  The Exchange Rate\n",
    "\n",
    "#### 2.2.1 Nominal vs. Real Exchange Rates\n",
    "\n",
    "We define the nominal exchange rate, which we will call e for “exchange,” to be the value of foreign currency in terms of the home currency — in the case of the United States, the dollar. The nominal exchange rate is thus the relative price of two different kinds of money. It is set in the foreign exchange market.\n",
    "\n",
    "What is the foreign exchange market, and how does it work? Domestic exporters earn foreign currency when they export. They sell their goods to people abroad, who have foreign currency — yen or yuan or euros or pounds or pesos — to pay them. Foreign producers earn domestic currency when they sell us imports. They sell their goods to people here, who have home currency — in the case of the United States, dollars — to pay them.\n",
    "\n",
    "Both domestic exporters and foreign producers have a problem. Domestic exporters can’t pay their own domestic workers with foreign currency— their workers expect to be paid in the home currency, dollars. Foreign producers can’t pay their own workers with domestic currency — their workers expect to be paid in the foreign currency, yen or yuan or euros or pounds or pesos. Foreign producers need to trade the dollars they have earned from selling us imports for money that is useful to them; domestic exporters need to trade the foreign cur  rency they have earned by selling exports for dollars that they can use.\n",
    "How do foreign producers and domestic exporters solve this problem? They turn to the foreign exchange market, where those who have foreign currency — say, euros € — but want dollars exchange it for dollars, and those who have dollars but want foreign currency exchange dollars for other currencies. Those with for  eign currency who want dollars include not only domestic exporters but also foreigners wishing to invest in the United States. Those with dollars who want for  eign currency include not only foreigners who have sold Americans imports but also American residents who wish to invest abroad. (See Figure 2.1.)\n",
    "\n",
    "If the dollar (the currency of the United States) and the euro (€, the currency of the European Union) trade on the foreign exchange market for \\$1.20 = €1.00, then a single euro costs \\$1.20 in U.S. currency. It takes less than one euro — €0.83 and change — to buy a single dollar. And 1.20 is the value of the dollar-euro exchange rate: It is the value of the euro in terms of the dollar."
   ]
  },
  {
   "cell_type": "markdown",
   "metadata": {},
   "source": [
    "FIGURE 2.1: THE MARKET FOR FOREIGN EXCHANGE\n",
    "\n",
    "<img src=\"https://www.evernote.com/l/AAHlpK7NBU9AKaNjMKmXGwxx39kRqVsCp_sB/image.png\" style=\"float:right;\" height=\"400\" width=\"400\" />\n",
    "\n",
    "\n"
   ]
  },
  {
   "cell_type": "markdown",
   "metadata": {},
   "source": [
    "#### 2.2.2 The Real Exchange Rate\n",
    "\n",
    "Economists are less interested in the nominal exchange rate than in what we will call e, the real exchange rate: the nominal rate adjusted for changes in the value of the currency. The nominal — the money — exchange rate can change without affecting the pattern of cross-national trade. When the real exchange rate — the rate in terms of goods and services — changes, the pattern of cross-national trade will change as well. The nominal exchange rate tells us the value of foreign currencies in terms of the home currency. The real exchange rate tells us the value of foreign-produced goods in terms of home-produced goods.\n",
    "\n",
    "Suppose a burst of inflation doubled the price level in the United States, so everything that once cost 1 dollar in the United States now costs 2 dollars, everything that used to cost 2 dollars now costs \\$4, and so on. Suppose also that the nominal exchange rate changed from \\$1.20 = €1.00 to \\$2.40 = €1.00. Before the burst of inflation you could sell goods in Europe for €0.83, turn the euros into \\$1.00, and buy American goods. \n",
    "\n",
    "After the burst of inflation you could sell goods in Europe for €0.83, turn the euros into \\$2.00, and buy exactly the same American goods as before. The change in the nominal exchange rate has offset the change in the U.S. price level. In this case the real exchange rate — the rate at which goods trade for goods — has not changed. The terms at which the goods of one country are traded for the goods of another are the same.\n",
    "\n",
    "Now suppose that a burst of inflation doubled the price level in the United States but that \\$1.20 still exchanges for € 1 .0 0 on the foreign exchange market. Has the exchange rate changed? The nominal exchange rate has not changed: €0.83 will still get you a paper dollar; \\$1.20 will still get you a euro. However, that paper dollar will buy only as many goods in the United States as 50 cents would have bought before. The doubling of the U.S. price level, coupled with the unchanged nominal exchange rate, means that the same quantity of U.S.-made goods will buy twice as many European-made goods. \n",
    "\n",
    "Flip it over: From the U.S. perspective, the cost of internationally produced goods has halved: The real exchange rate has halved.\n",
    "\n",
    "Of course, if the price levels in different countries do not change, then there is no distinction between a change in the nominal exchange rate and a change in the real exchange rate. If the nominal exchange rate doubled — changed from \\$1.20 = €1.00 to \\$2.40 = €1.00 — but the price levels in the United States and Europe remained the same, then investors would need twice as many dollars to buy the same amount of foreign currency. Thus it would cost twice as many U.S.-made goods to buy the same amount of foreign-made goods. From the U.S. perspective, the real exchange rate would have doubled."
   ]
  },
  {
   "cell_type": "markdown",
   "metadata": {},
   "source": [
    "##### 2.2.2.1 Calculating the real exchange rate\n",
    "\n",
    "Thus to calculate the real exchange rate 8, you need to know three pieces of information. First, you need to know the price level in the home country — call it P, for price. Second, you need to know the price level abroad — call it P<sup>f</sup>: P for price, _f_ for foreign. Third, you need to know the nominal exchange rate, e. You can then calculate the value of the real exchange rate by multiplying the nominal exchange rate by the ratio of the foreign price level to the home price level:\n",
    "\n",
    ">ε = e x P<sup>f</sup>/P\n",
    "\n",
    "\n",
    "Box 2.1 illustrates how the process works."
   ]
  },
  {
   "cell_type": "markdown",
   "metadata": {},
   "source": [
    "**BOX: Calculating the Real Exchange Rate: An Example**\n",
    "\n",
    "<img src=\"https://www.evernote.com/l/AAH-hkquB6lIzpcfR7OoMUts4NEOXMvnHAIB/image.png\" style=\"float:right;\" height=\"400\" width=\"400\" />\n",
    "\n",
    "Suppose that the index of the U.S. price level is 120, the index of the euro-zone price level is 83.33, and the nominal exchange rate — the value of a euro in dollars — is 1.20: \\$1.20 = € 1 .0 0 . Then the real exchange rate would be:\n",
    "\n",
    "\n",
    "Now suppose that the U.S. price level were to rise to 150, the foreign price level were to rise to 120, and the nominal value of the euro were to fall to parity: \\$1.00 = €1.00. Then the real exchange rate would become\n",
    "The price of foreign goods in terms of domestic goods — the real exchange rate — has fallen. That is all there is to calculating real exchange rates.\n",
    "• Holding the nominal exchange rate — the dollar cost of foreign currency —\n",
    "fixed, increases in the domestic price level lower the real exchange rate, which is the real value of foreign-produced goods in terms of home-produced goods.\n",
    "• Holding the nominal exchange rate — the dollar cost of foreign currency — fixed, increases in the foreign price level raise the real exchange rate, which is the real value of foreign-produced goods in terms of home-produced goods.\n",
    "• Holding the domestic and foreign price levels fixed, increases in the nominal exchange rate — in the dollar cost of foreign currency — raise the real exchange rate, which is the real value of foreign-produced goods in terms\n",
    "of home-produced goods."
   ]
  },
  {
   "cell_type": "markdown",
   "metadata": {},
   "source": [
    "##### 2.2.2.2 The Exchange Rate and Index Numbers\n",
    "\n",
    "If you open up a newspaper in search of the exchange rate for the dollar, you will not find it. Instead, you will find a list of rates similar to the one in Table 2.2 but with many more entries — one line for almost every country.\n",
    "\n",
    "An exchange rate for the dollar is listed against each and every other currency — a dollar-Swiss franc exchange rate, a dollar-yen exchange rate, a dollar-euro exchange rate, a dollar-pound exchange rate, a dollar-Canadian dollar exchange rate, a dollar-Mexican peso exchange rate, and more than 100 more for all the other currencies. Which of these is the exchange rate?\n",
    "\n",
    "In this situation economists do what they usually do when they are confronted with too much variety. They take an average and hope that deviations from the aver  age will cancel each other out. In other words, they construct an index number to stand in place of the more than 100 exchange rates of the U.S. dollar against other currencies. The usual approach is to take a trade-weighted average, in which each currency receives a weight equal to its share of total U.S. trade: multiply the change in the real exchange rate vis-a-vis each other country by that country’s share of U.S. trade, and add up all the results. Figure 2.2 presents the exchange rate index from 1983 to 2004."
   ]
  },
  {
   "cell_type": "markdown",
   "metadata": {},
   "source": [
    "TABLE: Exchange Rates\n",
    "\n",
    "<img src=\"https://www.evernote.com/l/AAERO6n5nVRKMIYjWIKUkUttstd3DI9d9A4B/image.png\" style=\"float:right;\" height=\"400\" width=\"400\" />"
   ]
  },
  {
   "cell_type": "markdown",
   "metadata": {},
   "source": [
    "Index numbers"
   ]
  },
  {
   "cell_type": "markdown",
   "metadata": {},
   "source": [
    "FIGURE: Index Number of the Exchange Rate\n",
    "\n",
    "<img src=\"https://www.evernote.com/l/AAElkk6qQFNG9IGWnFj7V0At2tg5UEgZUnkB/image.png\" style=\"float:right;\" height=\"400\" width=\"400\" />"
   ]
  },
  {
   "cell_type": "markdown",
   "metadata": {},
   "source": [
    "BOX: Details: Chain, Lapeyres and Paasche index numbers\n",
    "                \n",
    "                "
   ]
  },
  {
   "cell_type": "markdown",
   "metadata": {},
   "source": [
    "#### 2.2 The Exchange Rate: Recap\n",
    "\n",
    "Domestic exporters earn foreign currency when they export — sell goods to people abroad. Foreign producers earn domestic currency when they sell us imports — sell their goods to people here. Both then have a problem. Domestic exporters can’t pay domestic workers with foreign currency. Foreign producers can’t pay foreign workers with domestic currency. Domestic producers need to trade the foreign currency they have earned for dollars they can use. They turn to the foreign exchange market, where those who have foreign currency but want dollars exchange it for dollars, and those who have dollars but want for  eign currency exchange dollars for other currencies.\n",
    "\n",
    "----\n",
    "\n",
    "**Glossary Entries**:\n",
    "\n",
    "nominal exchange rate\n",
    "The rate at which one country's money can be turned into another's; the price of one unit of foreign currency in terms of the home currency.\n",
    "\n",
    "real exchange rate\n",
    "The real exchange rate is\n",
    "the rate at which goods produced in a foreign country can be bought or sold for goods produced in the home country; the price of foreign- produced goods relative to domestic-produced goods.\n",
    "\n",
    "index number\n",
    "A number that isn't a set sum, value, or quantity in well- defined units (like dollars, people, or percent) but that\n",
    "is a quantity relative to a base year given an arbitrary index value of 100."
   ]
  },
  {
   "cell_type": "markdown",
   "metadata": {},
   "source": [
    "### 2.3  The Stock Market and the Interest Rates\n",
    "    * The Stock Market\n",
    "        * The usefulness of knowledge about the stock market\n",
    "        * The stock market summarizes a lot of information\n",
    "    * The Interest Rates\n",
    "    "
   ]
  },
  {
   "cell_type": "markdown",
   "metadata": {},
   "source": [
    "#### 2.3.1 The Stock Market\n",
    "\n",
    "We don’t have to calculate the value of an index for the stock market because news agencies perform that task for the public. The best — the most representative — index of the U.S. stock market is probably Standard and Poor’s composite index, usually called the S&P 500. The index you will hear about most, however, is the Dow-Jones Industrial Average (DJIA). But if the DJIA tells a different story from the S&P, ignore it; it is less representative of the market than is the S&P 500.\n",
    "Although we don’t have to assemble and calculate a stock market index, we do have to divide the numbers reported in the news by some measure of the price level — usually either the GDP deflator or the consumer price index (CPI). If both the price level and the (nominal) value of the stock market double, a representa  tive share of stock is worth no more in real terms. To arrive at real magnitudes, economists deflate nominal magnitudes like a stock index by some measure of the price level. In this case we are most interested in the real value of the stock market.\n",
    "    \n",
    "    "
   ]
  },
  {
   "cell_type": "markdown",
   "metadata": {},
   "source": [
    "##### 2.3.1.1 The Utility of Knowledge about the Stock Market\n",
    "\n",
    "Current stock market indexes are the easiest economic statistics to get. But what good is knowing the real value of the stock market to a macroeconomist? The stock market is a sensitive indicator of the relative optimism or pessimism of investors, and therefore it is a good forecaster of future investment spending.\n",
    "To see why, we need to think about the mechanisms underlying the stock mar  ket. Most investors in the stock market face a choice between holding stocks and holding bonds. Stocks are shares of ownership of a corporation, and they give you ownership of that corporation’s profits or earnings. Bonds are debts that the cor  poration owes you. A bond is a piece of paper that gives you periodic interest pay  ments and, at the bond’s maturity, returns to you the principal amount of the bond.\n",
    "The rate of return on money invested in bonds is simply the interest payment the bond issuer makes divided by the price of the bond. Call this real rate of inter  est in the economy r If you invest in shares of stock, what is your rate of return? You paid a price Ps (P for price, s for stock) for each share. The corporation reports earnings Es per share. Some of those earnings will be paid out directly to share  holders in the form of dividends. Others will be retained and reinvested, boosting the corporation’s fundamental value. Both components increase shareholder wealth, and together they are the return on the investment in stocks. Thus an investor in stocks gets a return on each dollar invested of\n",
    "Which will the investor prefer to hold, stocks or bonds? Saying that investors will prefer stocks if Es/Ps is greater than r is not quite right. Investments in stocks are widely perceived to be risky. The company might go bankrupt, its reported earn  ings might be rigged, or the market might go down. As compensation for this risk, investors in stocks demand an extra return called the risk premium, or a s (the Greek lowercase letter sigma, with s for stocks as a superscript). So investors will want to hold only stocks if\n",
    "\n",
    "E/P > r + sigma\n",
    "Es\n",
    "- >r+o-s Investors will want to hold safer bonds if\n",
    "Es\n",
    "E/P &lt; r + sigma\n",
    "\n",
    "And investors will be willing to hold either stocks or bonds if\n",
    "\n",
    "E/P = r + sigma\n",
    "\n",
    "Since in the world outside the classroom we see investors holding both stocks and bonds — some holding one, some holding the other, and some holding both — it is this last equation that must be true: This is our equilibrium condition. If it does not hold, investors as a group will be either frantically selling stocks (and so push  ing the prices of stocks down) or frantically buying stocks (and so pushing the prices of stocks up).\n",
    "If we turn this equation around, the value of stocks is equal to corporate earn  ings divided by the sum of the real interest rate on bonds and the risk premium:\n",
    "However, there is one more complication. The accounting earnings reported in the financial press — call them Ea — are not the earnings Es that belong in the numer  ator of the stock valuation equation. The financial press reports what the firm’s accountants have calculated, but investors are interested in some long-run average of expected future earnings. To apply the stock-price valuation formula, you also need an estimate of the relationship between the current earnings Ea that you see in the newspaper and “permanent” earnings Es. (See Figure 2.3.)"
   ]
  },
  {
   "cell_type": "markdown",
   "metadata": {},
   "source": [
    "##### 2.3.1.2 The Stock Market Summarizes a Lot of Information\n",
    "\n",
    "The real value of the stock market sums up, in one number that is reported every day, • The current level of accounting earnings: reported corporate profits.\n",
    "• Whether investors are optimistic (expecting long-run earnings to be above\n",
    "today’s level) or pessimistic (expecting long-run earnings to be below today’s level), and how optimistic or pessimistic they are.\n",
    "\n",
    "The current cost of capital — whether money is cheap and easy to borrow (in which case r is low) or expensive (in which case r is high).\n",
    "• Attitudes toward risk — whether people are strongly averse to the risks involved in entrepreneurship (in which case crs is high) or willing to gamble on new industries and new businesses (in which case crs is low).\n",
    "These are the factors that determine whether corporate managers are willing to undertake investments to boost their companies’ capital stocks. Thus the stock market summarizes all the information relevant to the economywide level of invest  ment spending. Its usefulness as a summary of all the information relevant to determining investment spending is the reason it is one of the six key variables of macroeconomics."
   ]
  },
  {
   "cell_type": "markdown",
   "metadata": {},
   "source": [
    "FIGURE: CALCULATING STOCK MARKET VALUES\n",
    "\n",
    "<img src=\"https://www.evernote.com/l/AAFzeVPG9QxIoZIOLkCaJFMDr5-EhlMRBsgB/image.png\" style=\"float:right;\" height=\"400\" width=\"400\" />"
   ]
  },
  {
   "cell_type": "markdown",
   "metadata": {},
   "source": [
    "#### 2.3.2 Interest Rates\n",
    "\n",
    "The interest rate is the price at which purchasing power can be shifted from the future into the present — borrowed today with a promise to pay it back with interest in the future. Interest is not a single lump sum but an ongoing stream of payments made over time. Thus it is what economists call a flow variable. A flow variable cannot be measured simply as a quantity; it must be measured as a quantity per unit of time. In the case of the interest rate, it is measured not just as a percentage of the amount borrowed, the principal, but as a percentage per year\n",
    "Economists like to talk about “the” interest rate in the same way that they like to talk about “the” exchange rate. But just as there are a large number of differ  ent exchange rates, there are a large number of interest rates. Loans of higher risk carry higher interest rates: Whomever you lent your money to might not pay it back — that is a risk you accepted when you lent in the first place. Loans of different duration carry different interest rates as well. Moreover, differences in tax treatment — whether and when you have to pay taxes on interest earned from bonds — also lead to differences in interest rates. Thus even U.S. government bonds — the ultimate in safe investments — have no single interest rate. Table 2.3 shows a small sample of the interest rates — the column labeled “yield” — quoted on U.S. Treasury securities with maturities between a few months and 30 years.\n",
    "Moreover, the interest rates published in the newspaper are nominal rates: They tell how much money you earn in interest per year if you lend out a sum of dol  lars now and collect the principal at the loan’s maturity. You will not be surprised to learn that economists are interested instead in the real interest rate: how much purchasing power over goods and services you get in the future in return for trad  ing away your purchasing power over goods and services today.\n",
    "When we calculate real exchange rates, or real stock values, or real GDP, we divide the nominal exchange rate or stock index value or nominal GDP level by the price level, but that is not what we do to calculate real interest rates. Instead of dividing the nominal interest rate by the price level, we subtract the inflation rate — the percentage rate of change in the price level — from the nominal inter  est rate to get the real interest rate. Box 2.2 explains how."
   ]
  },
  {
   "cell_type": "markdown",
   "metadata": {},
   "source": [
    "TABLE: U.S. TREASURY MARKET\n",
    "\n",
    "<img src=\"https://www.evernote.com/l/AAFiWCYiSJ9J8KMX_G963knxoKn_0jfFgwwB/image.png\" style=\"float:right;\" height=\"400\" width=\"400\" />"
   ]
  },
  {
   "cell_type": "markdown",
   "metadata": {},
   "source": [
    "BOX: CALCULATING REAL INTEREST RATES: AN EXAMPLE\n",
    "    \n",
    "Why subtract the inflation rate from the nominal interest rate? Suppose you bor  row \\$10 million for one year at a nominal interest rate of 8 percent per year. Sup  pose further that the annual inflation rate is also 8 percent, so the price level will rise by 8 percent between now and next year. Thus whatever goods you want to buy will be more expensive. Let’s say you want to buy television sets priced at \\$200 a set this year; they will cost \\$216 a set by next year.\n",
    "Right now when you borrow, you get \\$10 million. Next year you will have to pay back \\$10.8 million — \\$10 million principal and \\$800,000 interest. You borrow enough now to buy 50,000 TV sets. Next year, when you pay back your loan with interest, you will pay the lender \\$10.8 million, just enough money to buy 50,000 TV sets. Thus you will return the same purchasing power over goods and services as what you borrowed, making a real interest rate of zero (see Figure 2.4).\n",
    "Suppose the inflation rate had been 4 percent, so the price of a standard basket of goods and services, and of the TV sets you are buying, will rise from \\$200 to \\$208 next year. You borrow \\$10 million, enough to buy 50,000 TV sets. Next year, when you pay back your loan with its 8 percent annual interest, you will pay the lender \\$10.8 million, enough money to buy 51,923 TV sets. The extra 1,923 TV sets are a 3.846 percent increase in purchasing power over goods and services. Thus you will return 3.846 percent more purchasing power than you borrowed. However, to keep things simple, economists round the percentage off and call it a 4 percent real interest rate. (You will find that economists often round off num  bers, drop small terms from equations, and generally do whatever they can to make things simpler.)\n",
    "Thus the rule: To calculate a real interest rate, subtract the inflation rate from the nominal interest rate."
   ]
  },
  {
   "cell_type": "markdown",
   "metadata": {},
   "source": [
    "THE REAL VS. THE NOMINAL INTEREST RATE\n",
    "\n",
    "<img src=\"https://www.evernote.com/l/AAGwQRJl9iBJT6uzxvL4BiFXvca6NY2gO0wB/image.png\" style=\"float:right;\" height=\"400\" width=\"400\" />"
   ]
  },
  {
   "cell_type": "markdown",
   "metadata": {},
   "source": [
    "#### 2.3 The Stock Market and Interest Rates: Recap\n",
    "\n",
    "We don’t have to calculate an index for the stock market because news agen  cies perform that task for the public already. We do, however, have to divide the numbers reported in the news by some measure of the price level in order to adjust for inflation and determine the real value of the stock market. To arrive at real magnitudes, economists divide nominal magnitudes like a stock index by some measure of the price level in order to arrive at real magnitudes. In this case we are most interested in the real value of the stock market. Note that when we calculate real interest rates, we do not divide the nominal inter  est rate by the price level. Instead we subtract the inflation rate — the percent  age rate of change in the price level —•from the nominal interest rate to get the real interest rate.\n",
    "\n",
    "----\n",
    "\n",
    "**Glossary Entries**:\n",
    "\n",
    "stock market\n",
    "The market on which the shares of common stock that carry ownership of companies are bought and sold.\n",
    "\n",
    "stock\n",
    "A tradable financial instrument that is a share of ownership of a corporation.\n",
    "\n",
    "bond\n",
    "A tradable financial instrument that is a promise by a business or a government to repay money that it has borrowed."
   ]
  },
  {
   "cell_type": "markdown",
   "metadata": {},
   "source": [
    "### 2.4  The Price Level and Inflation\n",
    "    * The Consumer Price Index\n",
    "        * The PCE deflator (NEW)\n",
    "        * Kinds of index numbers (REV)\n",
    "    * The Inflation Rate\n",
    "        * Core inflation\n",
    "        "
   ]
  },
  {
   "cell_type": "markdown",
   "metadata": {},
   "source": [
    "#### 2.4.1 The Consumer Price Index\n",
    "\n",
    "The Consumer Price Index\n",
    "The idea that economists need to measure the price level and to use it to calculate real quantities has come up several times already. Estimating the price level and its proportional rate of change — the inflation rate — is at the heart of macroeconomics.\n",
    "The most frequently seen measure of the overall price level is the consumer price index, or CPI. (Other measures of prices include the producer price index of prices paid not by consumers but by companies, the economywide GDP defla  tor, and the domestic purchases deflator.) The CPI is calculated and reported once a month by the Bureau of Labor Statistics. It is an expenditure-weighted index, in which each good or service receives a weight equal to its share in total expendi  ture in the base year. (See Box 2.3 for a sample calculation.)\n",
    "\n",
    "The Bureau of Labor Statistics changes the basket of goods and services used in constructing the CPI on a somewhat irregular basis. It updates the basket every five years if it has the money in its budget to do so; if not, it updates the basket every 10 years. Statisticians try to keep the weighted “market basket” of goods and services used in calculating the index reasonably close to the goods and services consumers are currently buying. If it were not, the CPI would be of doubtful relevance. Who would care about the rate of change in the price of a statistical market basket that didn’t represent what consumers were really buying"
   ]
  },
  {
   "cell_type": "markdown",
   "metadata": {},
   "source": [
    "BOX: CALCULATING PRICE INDICES: AN EXAMPLE\n",
    "\n",
    "<img src=\"https://www.evernote.com/l/AAEacQjkci9BdLZfy8Zx-tjD5HvP0uHqplAB/image.png\" style=\"float:right;\" height=\"400\" width=\"400\" />\n",
    "\n",
    "\n",
    "\n",
    "One standard example economists use to illustrate how a price index is calculated is an index for consumers of fruit (perhaps because calculating indexes allows economists to really add apples and oranges). Suppose that in the base year a con  sumer buys \\$4.50 worth of oranges at a price of \\$0.75 a pound, \\$4.20 worth of apples at \\$1.20 a pound, \\$0.90 worth of pears at \\$0.90 a pound, and \\$0.40 worth of bananas at \\$0.40 a pound. Then, with a total of \\$10 spent on fruit in the base year, the price index for fruit will be given by\n",
    "price level\n",
    "The average level of nominal prices in the economy.\n",
    "consumer price index (CPI)\n",
    "The most frequently used measure of the cost of living; it measures the cost of a basket of consumer goods.\n",
    "GDP deflator\n",
    "The ratio of nominal GDP to real GDP.\n",
    "Vprice of apples in base year\n",
    "f price of pears today\n",
    "4- ( ----------------------- ------------- X\n",
    "Vprice of pears in base year\n",
    "J\n",
    "f price of bananas today\n",
    "4- I ----------—----------------------------X banana index weight )\n",
    "Vprice ol bananas in base year\n",
    "\\\n",
    "J\n",
    "\\\n",
    "X 4 2 J\n",
    "/price of oranges today V \\$ 0 . 7 5\n",
    "\\ /price of apples today X 4 5 +j ( \\$ 1 . 2 0\n",
    "f price of pears today \\ ( price of bananas today +V\\$0.907V\\$0.40 y\n",
    "We multiply the shares of total annual expenditure on each fruit by 100 so that in the base year the price index will be equal to 100, as is customary for econo  mists to do.\n",
    "Now consider a year in which, as shown in Table 2.4 on page 40, the price of oranges has risen to \\$1.50, the price of apples has fallen to \\$1.00, and the prices of pears and bananas have not changed. The overall fruit price index will be\n",
    "Price index for fruit =\n",
    "/\\$1.50 \\ /\\$1.00 \\ /\\$0.90 \\ /\\$0.40 \\ _ \\\\$0.75 J \\\\$1.20 J VS0.90 J VS0.40 J\n",
    "\n",
    "\n"
   ]
  },
  {
   "cell_type": "markdown",
   "metadata": {},
   "source": [
    "TABLE: CALCULATING A PRICE INDEX FOR FRUIT\n",
    "\n",
    "<img src=\"https://www.evernote.com/l/AAGlO36M3aJBlY_73p7uxRcPRUxq-s0_R58B/image.png\" style=\"float:right;\" height=\"400\" width=\"400\" />"
   ]
  },
  {
   "cell_type": "markdown",
   "metadata": {},
   "source": [
    "#### 2.4.2 Kinds of Index Numbers\n",
    "\n",
    "Using relative expenditure levels in a fixed base year as the weights in a price index produces a kind of index that economists call a Laspeyres index. The CPI is a Laspeyres price index. Another type of index, a Paasche index, is in a sense the opposite of a Laspeyres index. The expenditure weights in a Laspeyres index are fixed: A Laspeyres index of production or consumption counts up the current dol  lar value of what is produced or consumed and divides by what the value of what is produced or consumed would have been if all commodities had sold for their prices in the base year. The expenditure weights in a Paasche index are variable: If expenditures on a particular good rise this year and make it a large part of the cur  rent dollar value, then that good’s weight in the price index will rise too. The sec  ond most-often-seen indicator of the price level, the GDP deflator, is a Paasche index. Box 2.4 compares the pluses and minuses of these two kinds of price indexes.\n",
    "In general, a Laspeyres index overstates price increases. In the real world, when some items become expensive, consumers substitute and buy other items that remain cheap. But a Laspeyres index, because it is based on a fixed market basket of goods and services, does not take account of this substitution. Thus it suffers from what economists call substitution bias, and it tends to overstate changes. A Paasche index, on the other hand, understates the increase in fruit prices. It calculates the differ  ence between the price today of the fruit you bought and the price back in the base year. The Paasche index takes account of substitution. But it doesn’t take account of the fact that the substituted items are less valued than the items they replace. The Paasche index reports, in the example of Box 2.4, that the skyrocketing price of oranges has no effect on fruit prices. Yet it makes no sense to say that a frost that makes oranges completely unaffordable has no effect on the price of fruit.\n",
    "So which is the “correct” price index? Neither: There is no final and definitive resolution to this “index number problem.” All price indexes are imperfect. All try to summarize in a single number what is inherently a multidimensional reality of many prices changing in different directions and different proportions.\n",
    "To strike a balance between the two types of indexes and their two types of biases, the Commerce Department’s Bureau of Economic Analysis and the Labor Depart  ment’s Bureau of Labor Statistics have begun to move toward hybrid indexes. To reduce substitution bias, the Bureau of Labor Statistics has begun using geometric averages — multiply two numbers together and take the square root — instead of arithmetic averages. And the Bureau of Economic Analysis has begun using a pro  cedure called chain weighting to construct its indexes.\n",
    "With chain weighting, each year’s proportional change in the index is calculated using a different base year. For instance, the percentage change in the index from 1999 to 2000 is calculated using the average of 1999 and 2000 as the base; the change from 2000 to 2001 is calculated using the average of 2000 and 2001 as the base; and the change from 2001 to 2002 is calculated using the average of 2001 and 2002 as the base. The results of these calculations are then “chained” together to make up the index."
   ]
  },
  {
   "cell_type": "markdown",
   "metadata": {},
   "source": [
    "BOX: LASPEYRES AND PAASCHE INDICES: DETAILS\n",
    "\n",
    "To see the difference between a Laspeyres and a Paasche index, return to our fruit example in Box 2.3. Suppose the prices of apples, pears, and bananas remain at their base-year levels, but surprise frosts destroy the orange crops in both Florida and California. The price of oranges skyrockets to \\$8.25 a pound (see Table 2.5), so no one buys any oranges — instead, consumers double their purchases of apples, pears, and bananas to 7 pounds of apples, 2 pounds of pears, and 2 pounds of bananas.\n",
    "\n",
    "The CPI for fruit, a Laspeyres index, would then be\n",
    "Price index for fruit =\n",
    "/\\$8.25X45 \\$1.20X42 + \\$0.90 \\\\$0.75 \\$ 1.20 \\$0.90\n",
    "+ \\$0.40 550 \\$0.40\n",
    "According to this index, the price of fruit is five and a half times as high as that in the base year.\n",
    "The deflator for fruit, a Paasche index, will be\n",
    "• Total nominal expenditure on fruit in the frost year: \\$11\n",
    "• Cost of buying those pieces of fruit in the base year: \\$11\n",
    "• Dividing the first number by the second and following the standard practice\n",
    "of multiplying by 100, we discover that the price of fruit has not changed from its base-year value, 100."
   ]
  },
  {
   "cell_type": "markdown",
   "metadata": {},
   "source": [
    "TABLE: DIFFERENT KINDS OF INDICES\n",
    "\n",
    "<img src=\"https://www.evernote.com/l/AAF2DvTW3BNOc73d8d41qsObIz-7QoeB2zIB/image.png\" style=\"float:right;\" height=\"400\" width=\"400\" />"
   ]
  },
  {
   "cell_type": "markdown",
   "metadata": {},
   "source": [
    "BOX: HYBRID AND CHAIN INDICES"
   ]
  },
  {
   "cell_type": "markdown",
   "metadata": {},
   "source": [
    "#### 2.4.3 The Inflation Rate\n",
    "\n",
    "The CPI is reported once a month in the form of the percentage change in consumer prices over the preceding month. “Consumer prices in November rose 0.3 percent above their level in October,” a newscaster will say. Eventually, 12 monthly changes in consumer prices over the course of the year are added up and become that year’s inflation rate. “The consumer price inflation rate in 2004 was 2.3 percent,” the news  caster will say.\n",
    "Because the inflation rate is a measure of the rate of change in prices over time, it is a flow variable. When we speak of the inflation rate, we speak of it as such- and-such percent per year. Speaking of the inflation rate without reference to a measure of time is incomplete. But people do, and we always assume that when the time measure is omitted, the inflation percentage is an annual rate.\n",
    "What the inflation rate is at any moment depends on which price level it is based on. The CPI-based inflation rate will not be exactly the same as the GDP-deflator- based inflation rate. Figure 2.5 plots three different measures of inflation in the United States: the GDP deflator, a CPI for all urban consumers (the CPI-U), and a CPI that omits the volatile prices of food and energy, which can cause severe tran  sitory fluctuations in the overall index (the CPI-U ex F&E)."
   ]
  },
  {
   "cell_type": "markdown",
   "metadata": {},
   "source": [
    "FIGURE: THE INFLATION RATE\n",
    "\n",
    "<img src=\"https://www.evernote.com/l/AAEKfJJlxIhNQ7l0dsJoipaV6pPqsztvW5UB/image.png\" style=\"float:right;\" height=\"400\" width=\"400\" />"
   ]
  },
  {
   "cell_type": "markdown",
   "metadata": {},
   "source": [
    "#### 2.4 The Price Level and Inflation: Recap\n",
    "\n",
    "Already the idea that economists(need to measure the price level and to use it ; to calculate realquantities has come up several times. Estimating the price level (and its proportional rate of change— the inflation rate— is at the heart of,\n",
    "macroeconomics. The most frequently seen measure of the overall price level is the consum er price index, or CPI. It is a fixed weight — a Laspeyres — index of prices. Each good or service receives a weight equal to its share in total expen  diture in the base year. And periodically the base year is moved forward in time.\n",
    "\n",
    "----\n",
    "\n",
    "**Glossary Entries**:\n",
    "\n",
    "price level\n",
    "The average level of nominal prices in the economy.\n",
    "consumer price index (CPI)\n",
    "The most frequently used measure of the cost of living; it measures the cost of a basket of consumer goods.\n",
    "GDP deflator\n",
    "The ratio of nominal GDP to real GDP.\n",
    "\n",
    "Bureau of Labor Statistics\n",
    "A bureau of the U.S. Department of Labor that calculates the unemployment rate and the consumer price index (CPI).\n",
    "\n",
    "Bureau of Economic Analysis\n",
    "A bureau in the U.S. Department of Commerce that maintains the national income and product accounts, the NIPA.\n",
    "\n",
    "inflation rate\n",
    "The annual rate of change of the overall level of prices in the economy."
   ]
  },
  {
   "cell_type": "markdown",
   "metadata": {},
   "source": [
    "### 2.5  The Employment Rate (REV)\n",
    "    * Employment and Unemployment (NEW)\n",
    "        * Assessing full employment (NEW)\n",
    "        * Calculating the unemployment rate\n",
    "        * Understanding the unemployment business cycle (NEW)\n",
    "    * Okun's Law (REV)\n",
    "        * BOX: Details: Forms of Okun's Law\n",
    "        "
   ]
  },
  {
   "cell_type": "markdown",
   "metadata": {},
   "source": [
    "#### 2.5.1 Calculating the Unemployment Rate\n",
    "\n",
    "The unemployment rate is a key indicator of economic performance. An economy with persistent high unemployment is wasting its productive resources: Its level of output is below its productive potential. Such an economy surely has a lower level of social welfare than otherwise might easily be attained. Being unemployed is not pleasant, and neither is fearing unemployment for no other reason than the turn  ing of the wheel of the business cycle.\n",
    "Keeping unemployment low is one of the chief goals of macroeconomic policy. Yet in the course of the business cycle unemployment rises and falls. Figure 2.6 shows the annual unemployment rate in the United States since 1950. It shows the large variation in unemployment. Even though the second half of the twentieth century saw nothing like the extraordinary peaks of unemployment in the Great Depression, the unemployment rate still varied from a low of less than 4 percent of the labor force to a high of almost 10 percent of the labor force.\n",
    "Every month the Labor Department’s Bureau of Labor Statistics (BLS) sends interviewers to talk to 60,000 households in a nationwide survey called the Cur  rent Population Survey (CPS). The BLS uses the CPS data to estimate the unem  ployment rate — the fraction of people who (1) wanted a job, (2) looked for a job, but (3) could not find an acceptable job. Statisticians classify the people who are interviewed into four categories:\n",
    "1. Those who were employed in some sort of job when interviewed.\n",
    "2. Those who were out of the labor force and did not want a job immediately.\n",
    "3. Those who did want a job immediately but had not been looking for one\n",
    "because they did not think they could find one.\n",
    "4. Those who did want a job immediately, had been looking, but had not found\n",
    "a job they would take.\n",
    "According to the BLS definition of the unemployment rate, the labor force is group 1 plus group 4 — those who had jobs plus those who were looking for jobs:\n",
    "\n",
    "Labor force = employed + looking for work\n",
    "\n",
    "The unemployment rate is the number of unemployed — those in group 4 — divided by the total labor force:\n",
    "looking for work Unemployment rate = --------------------— ------------------—\n",
    "employed + looking lor work\n",
    "In contrast to the inflation rate, which is a flow variable, the unemployment rate is a stock variable. Saying that the current unemployment rate is 5 percent, with no reference to a measure of time, makes perfect sense.\n",
    "The official unemployment rate may well underestimate the real experience of unemployment. Someone in group 3, who wants a job but has given up looking, certainly feels unemployed and may well feel as unemployed as someone in group 4. Perhaps these discouraged workers should be included in the unemployment rate. Furthermore, some people in group 1 have part-time jobs but want full-time jobs. Perhaps these part-timers for economic reasons should be counted as unemployed, or as half-unemployed.\n",
    "Economists have noted striking and persistent variations in unemployment by demographic group and class. Teenagers age 16 to 19 have higher unemployment rates than adults, African-Americans have higher unemployment rates than whites, and high school dropouts have higher unemployment rates than those who have postgraduate degrees. For most of the post-World War II period (but not recently) women have had higher unemployment rates than men. Significantly, recessions don’t just raise the unemployment rate; they disproportionately raise the unem  ployment rate among these high-unemployment groups. Figure 2.7 contrasts the unemployment rates of various groups of workers.\n",
    "\n",
    "The question “How long is the typical person who loses his or her job unem  ployed?” is hard to answer because it is ambiguous. Most people who become unemployed on any one day — say, July 16, 2005 — remain unemployed for only a short time; more than half find a job within a month. Yet of all the people who are unemployed on July 16, 2005, some three-quarters will be unemployed for more than two months before they find another job."
   ]
  },
  {
   "cell_type": "markdown",
   "metadata": {},
   "source": [
    "FIGURE: THE UNEMPLOYMENT RATE\n",
    "\n",
    "<img src=\"https://www.evernote.com/l/AAFh3McZB2lAf7h7GdpSKBk1egMyosqb0jgB/image.png\" style=\"float:right;\" height=\"400\" width=\"400\" />\n",
    "\n",
    "On average, the unemploy­ ment rate was relatively\n",
    "low in the 1950s — about 4.5 percent. It then rose to an average of nearly 6 per­ cent in the 1970s and 7 percent in the 1980s be­ fore falling back to near 4 percent in the second half of the 1990s. In addition\n",
    "to these slow decade-to- decade swings, we also see the ups and downs of the business cycle — the boom of the late 1960s, the deep recession of 1982-1983, the smaller recession of 1990-1992, and the reces­ sion that began in 2001, among others."
   ]
  },
  {
   "cell_type": "markdown",
   "metadata": {},
   "source": [
    "FIGURE: UNEMPLOYMENT RATES BY DEMOGRAPHIC GROUPS\n",
    "\n",
    "<img src=\"https://www.evernote.com/l/AAHiwG4bU69GM4uawUk8yqtLqXihGHryq1UB/image.png\" style=\"float:right;\" height=\"400\" width=\"400\" />\n",
    "\n",
    "The higher a group's aver  age unemployment rate, the more the group's unemployment rate rises in recessions (and falls in booms). Recessions— times of high and rising unemployment — are un  usually difficult for teenage and adult African-American workers."
   ]
  },
  {
   "cell_type": "markdown",
   "metadata": {},
   "source": [
    "#### 2.5.2 Okun's Law\n",
    "        \n",
    "For most of the time in the United States since World War II, the unemployment rate has been tightly coupled with the rate of growth of real GDP in a relationship called Okun’s law (see Figure 2.8). From any one year to the next, the very sim  ple equation\n",
    "Percentage change _ percentage growth in potential output —\n",
    "in real GDP (2.5)(percentage-point change in unemployment rate)\n",
    "fits the data well. According to Okun’s law, unemployment falls (rises) when real GDP grows faster (slower) than potential output. Specifically, in the United States a 1-percentage-point fall in the unemployment rate is associated with an extra 2.5 percentage points of growth in real GDP relative to potential output. For example, in a year in which potential output grew 2 percent and the unemployment rate fell by 1 percentage point, real GDP would grow by fully 4.5 percent.\n",
    "Because of Okun’s law, if you know what is happening to real GDP relative to potential output, you have a good idea of what is happening to the unemployment rate, and vice versa. Box 2.5 explains the details of Okun’s law."
   ]
  },
  {
   "cell_type": "markdown",
   "metadata": {},
   "source": [
    "FIGURE\n",
    "\n",
    "<img src=\"https://www.evernote.com/l/AAEF8VKVwCNDQq2MFocNlnWp3NzghKIm7O0B/image.png\" style=\"float:right;\" height=\"400\" width=\"400\" />\n",
    "\n",
    "\n",
    "\n",
    "An extra 2.5 percent of growth in a year's real GDP is associated with a 1-percentage-point decline in the unemployment rate. Note that before 1974 the real GDP growth rate that kept unemployment con­ stant was about 4 percent per year. Between 1974 and 1995, the unemploy­ ment rate was constant when real GDP growth was about 2.8 percent per year. Since 1995 there have been signs that the old pre-1974 relationship is reemerging. We call the rate of growth at which the unemployment rate is con­ stant the rate of growth of potential output. The fall in the rate of growth of po­ tential output after 1973 — the so-called productivity growth slowdown — is one of the most important fea­ tures of recent American economic history."
   ]
  },
  {
   "cell_type": "markdown",
   "metadata": {},
   "source": [
    "BOX: DETAILS: FORMS OF OKUN'S LAW\n",
    "\n",
    "Okun’s law sees not a 1-to-l relation but a 2.5-to-l relationship between real GDP growth and the unemployment rate. That is, a 1-percentage-point fall in the unem  ployment rate is associated not with a 1 but a 2.5 percent boost in the level of production.\n",
    "Why is the Okun’s law coefficient so large? Why isn’t it the case that a 1- percentage-point fall in unemployment produces a 1 percent rise in output, or even less? Part of the answer is that the unemployment rate, as officially measured, does not count discouraged workers. In a recession, the number of people at work falls, the number of people looking for work rises, and the number of people who are not looking for work because they doubt they could find jobs — but who would be working if business conditions were better — rises. When conditions improve, many of these discouraged workers return to the labor force. Because the conven  tionally measured unemployment rate does not include these discouraged work  ers, more than a 1 percent rise in real GDP is needed to reduce the unemployment rate by 1 percentage point.\n",
    "In addition, when business returns to normal, firms’ initial response is not to hire more employees but to ask existing employees to work longer hours. So average hours of work per week go up, and the unemployment rate falls by less than one would otherwise expect.\n",
    "Finally, in some industries, employing more workers increases production by more than a proportional amount: Product design and setup need to be done only once, no matter how much is produced. Thus businesses that have economies of scale do not need twice as many workers to produce twice as much output.\n",
    "Since 2000 the quantitative form of Okun’s law has shifted: The Okun’s law coef  ficient appears to have grown even larger than 2.5. More than 2.5 percent growth of real GDP relative to potential output is now needed to lower the unemployment rate by 1 percentage point. We are not yet sure whether Okun’s law will return to its old pattern or, if it does not, what the new quantitative relationship between unemployment and the output gap is. Many economists think that the relatively stagnant employment levels seen between 2000 and 2005 led a great many people who would seek jobs in normal times to temporarily drop out of the labor force, and so artificially lowered the unemployment rate. We must wait a few years to learn whether the change in the Okun’s law coefficient is permanent, tern- ^ porary, or — allowing for measurement error — even nonexistent!"
   ]
  },
  {
   "cell_type": "markdown",
   "metadata": {},
   "source": [
    "BOX: Labor Force Particiption by Gender\n",
    "\n",
    "<img src=\"https://www.evernote.com/l/AAE9V0oG3mpIG79_f1Rt_QSbAVhAT-G1HncB/image.png\" style=\"float:right;\" height=\"400\" width=\"400\" />"
   ]
  },
  {
   "cell_type": "markdown",
   "metadata": {},
   "source": [
    "#### 2.5 The Employment Rate: Recap\n",
    "\n",
    "The unemployment rate is a key indicator of economic performance. An econ  omy with persistent high unemployment is wasting its productive resources: its level of output is below its productive potential. Moreover, the official unem  ployment rate may well underestimate the real experience of unemployment in the American economy.\n",
    "\n",
    "----\n",
    "\n",
    "**Glossary Entries**:\n",
    "\n",
    "unemployment rate\n",
    "The share of the labor force who are looking for but have not found an acceptable job.\n",
    "\n",
    "Okun's law\n",
    "The association between unemployment and real GDP: Periods of high (or low) unemployment are the same as periods of low (or high) growth of real GDP relative to potential output."
   ]
  },
  {
   "cell_type": "markdown",
   "metadata": {},
   "source": [
    "### 2.6  Real National Product\n",
    "\n",
    "last of the key economic variables is real GDP, the most frequently used measure of economic performance. You will see other measures of total production and total income as well. All of them are close cousins of real GDP: GNP (gross national product), NNP (net national product), NDP (net domestic product), and NI (national income). And you will hear commentators refer to “total output,” “total production,” “national product “total income,” and “national income.” Except when you are focusing explicitly on the details of the national income and product accounts (NIPA), treat all these terms as synonyms for real GDP."
   ]
  },
  {
   "cell_type": "markdown",
   "metadata": {},
   "source": [
    "#### 2.6.1 Calculating Real GDP\n",
    "\n",
    "Real GDP is calculated by adding up the value of all final goods and services pro  duced in the economy. Because it measures the rate at which goods and services are produced, real GDP is a flow variable; it is usually expressed as an annual amount. Often, however, you will not hear the phrase “per year.” But when you hear that real GDP in the fourth quarter of 2002 was such and such, remember that such a statement means that the flow of production in the fourth quarter was such and such per year. And when you hear that real GDP in the fourth quarter of 2002 grew at so-and-so percent, remember that such a statement means that real GDP in the fourth quarter grew at so-and-so percent per year — the difference between real GDP in the third quarter and real GDP in the fourth quarter is only one-quarter of the reported annual growth rate.\n",
    "What are the final goods and services that make up GDP? A final good or serv  ice is something that is not used further in production during the course of the year. Thus final goods and services include\n",
    "• Everything bought by consumers.\n",
    "• Everything bought by businesses not as an input for further production but\n",
    "as an investment to increase the business’s capital stock and expand its future\n",
    "production capacity.\n",
    "• Everything bought by the government.\n",
    "Because GDP measures product and not spending, it includes a balancing item, exports minus imports. Because exported goods bought by foreigners were made in the United States, they are part of GDP and need to be added to the total. Because imported goods bought by consumers, installed as pieces of investment, or bought by the government were not made in the United States, they are not part of gross domestic product, so imports need to be subtracted from GDP."
   ]
  },
  {
   "cell_type": "markdown",
   "metadata": {},
   "source": [
    "#### 2.6.2 Real and Nominal National Product\n",
    "\n",
    "When economists add up final goods and services produced in the year to calcu  late GDP, how do they weight each good or service? The answer is that they use market value — what people paid for a good or service — in the calculation of nominal GDP. Box 2.6 presents a stylized, hypothetical example of how this is done.\n",
    "\n",
    "In 2003 nominal GDP (that is, GDP measured at 2003 prices) was \\$11.00 tril  lion; in 2002 nominal GDP (that is, measured at 2002 prices) was \\$10.49 trillion. Thus the growth rate of nominal GDP between 2002 and 2003 was 4.9 percent. But this nominal measure of GDP, in which current-year prices are used to weight the final goods and services produced and to calculate growth rates, is clearly not a good measure of productivity or material output. It confuses changes in the over  all price level — inflation or deflation — with changes in total production. Suppose production in the next year stayed unchanged but prices doubled; nominal GDP would double. Suppose production doubled but prices stayed the same; nominal GDP would also double. Although nominal GDP does not distinguish between these two sources of increase in total expenditure, we need to distinguish between them. Hence economists favor real GDP — the value of final goods and services weighted by the prices of some particular base year. Box 2.7 illustrates the weight  ing of goods and services in terms of base-year prices.\n",
    "\n",
    "Whenever you hear a statement such as “Real GDP in 2002 was 10.07 trillion 2000 dollars,” remember that “2000 dollars” means that 2000 is the base year of the calculation. When measured using 2000 prices, GDP in 2002 — real GDP — was not \\$10.49 trillion but only \\$10.07 trillion. The difference, the gap between \\$10.49 trillion and \\$10.07 trillion, was due to price inflation between 2000 and 2002. Real GDP between 2002 and 2003 rose by only 3.0 percent, not 4.9 percent.\n",
    "\n",
    "As has been noted, economists construct an alternative index number for the rate of inflation, the GDP deflator, from nominal GDP and real GDP The procedure is\n",
    "1. Calculate nominal GDP.\n",
    "2. Calculate real GDP\n",
    "3. Divide the first number by the second; the quotient is the GDP deflator.\n",
    "The GDP deflator is a Paasche index — the kind of index that tends to understate the effect on the price level of a rise in the price of a particular good. While the GDP deflator takes account of purchasers’ ability to substitute away from items that have increased prices, it does not take account of the reduction in utility — the implicit cost to consumers — of settling for second best."
   ]
  },
  {
   "cell_type": "markdown",
   "metadata": {},
   "source": [
    "BOX: Weighting Goods and Services by Their Market Value: An Example\n",
    "\n",
    "<img src=\"https://www.evernote.com/l/AAERWdlwkpxHI7scT69j9bBWfZh5xUWG3XwB/image.png\" style=\"float:right;\" height=\"400\" width=\"400\" />\n",
    "\n",
    "How do economists weight goods and services by their market values? Recall the discussion of the CPI in Box 2.3 in which the representative consumer bought 11.5 pounds of fruit:\n",
    " Fruit\n",
    "Oranges Apples Pears Bananas\n",
    "Quantity Price (Pounds) (per Pound)\n",
    "6 \\$0.75 3.5 1.20 1 0.90 1 0.40\n",
    "If these quantities were the final goods and services produced in a particular year — let’s call it year 1 — and we then wanted to measure the GDP of fruit, we simply multiply the quantities produced by their market prices:\n",
    "GDP = (6 lbs. oranges X \\$0.75/lb.) + (3.5 lbs. apples X \\$1.20/lb.) + (1 lb. pears X \\$0.90/lb.) + (1 lb. bananas X \\$0.40/lb.)\n",
    "= \\$ 10.00\n",
    " The nominal GDP of fruit in year 1 is \\$10."
   ]
  },
  {
   "cell_type": "markdown",
   "metadata": {},
   "source": [
    "BOX: Weighting Goods and Services by Their Base-Year Value: An Example\n",
    "\n",
    "<img src=\"https://www.evernote.com/l/AAFLBqf-Kg1PHL1qOhvEE0oMu71fccJb2XIB/image.png\" style=\"float:right;\" height=\"400\" width=\"400\" />\n",
    "\n",
    "Recall the hypothetical example in Box 2.6. Assume that in the year following year 1 — year 2 — the prices and quantities of fruit produced are as follows:\n",
    "Fruit\n",
    "Oranges Apples Pears Bananas\n",
    "Quantity Price (Pounds) (per Pound)\n",
    "8 $1.00 3.5 1.20 1 0.50 1 0.40\n",
    "Now we can calculate nominal GDP of fruit in both year 1 and year 2 and real GDP of fruit (at year 1 prices) in both year 1 and year 2:\n",
    "• Nominal GDP of fruit in year 1:\n",
    "• Real GDP of fruit in year 1 (at year1 prices):\n",
    "• Nominal GDP of fruit in year 2:\n",
    "• Real GDP of fruit in year 2 (at year1 prices):\n",
    "The nominal quantity grows by 31 percent between year 1 and year 2. The real quantity grows by only 15 percent between year 1 and year 2. The difference is inflation, the change in the price level."
   ]
  },
  {
   "cell_type": "markdown",
   "metadata": {},
   "source": [
    "#### 2.6.3 Intermediate Goods, Inventories, and Imputations\n",
    "\n",
    "##### 2.6.3.1 Intermediate goods\n",
    "\n",
    "GDP is defined as the market value of final goods and services produced. Thus so- called intermediate goods — goods sold to another business for use in further production — are excluded from GDP. A product made by one business and sold to another will eventually show up in the national income and product accounts and be counted as part of GDP. It will show up when the second business sells its product (which will by then embody the value added by the first producer) to a consumer, an investor, a foreign purchaser, or the government. Meanwhile, because the value of an intermediate good is included in the price of the final good that the intermediate good is used to make, its value must be excluded from GDP.\n",
    "For example, if a builder buys wood from a lumber mill to build a house, the value of the wood becomes part of the value of the house. To count the sale of the wood to the home builder as well as the sale of the newly built house to its pur  chaser would be to count the wood twice. And what would happen if the builder bought the lumber mill and thus no longer had to buy finished wood? GDP should not go down just because two businesses have merged.\n",
    "One way to think about intermediate goods is that GDP represents the economic value added at every stage of production. The value added by any one business is equal to the total value of the firm’s products minus the value of the materials and intermediate goods the firm purchases. In computing value added from start to fin  ish, each intermediate good and service enters the calculation twice: once with a plus sign, when the value added of the business that made the good is calculated, and once with a minus sign, when the value added of the business that uses the good is calculated. Using this value-added approach, every good and service in the economy cancels out except those that are not sold to other businesses for use in the production process. The goods whose values do not cancel out are the final goods and services — consumption goods, goods purchased by the government, goods purchased as part of investment, and net exports."
   ]
  },
  {
   "cell_type": "markdown",
   "metadata": {},
   "source": [
    "##### 2.6.3.2 Inventories\n",
    "\n",
    "What happens if the production process is not finished when the end of the year rolls around and the Commerce Department’s Bureau of Economic Analysis (BEA) closes the books on that year’s GDP calculation? Some intermediate goods will not have been used to produce goods for final sale. The value has already been added in making the intermediate good, but no final good that embodies that value has yet been sold. The NIPA finesses this problem by treating inventories at the end of a period as a special kind of final good, a form of investment. A business that produces intermediate goods or final goods and doesn’t sell them by the end of the year is treated as having “purchased” those goods for itself as part of its capital stock. The general rule is that whenever a business increases its end-of-period inven  tory, that increase is counted as a component of investment and of final demand.\n",
    "What happens the next year when the final goods are finished and sold? The value of those final goods sold becomes part of the next period’s GDP. But the inter  mediate goods that went into them are counted as a negative investment, a disin  vestment, in inventory. Thus the intermediate goods left over from this year and used next year are subtracted from next year’s GDP."
   ]
  },
  {
   "cell_type": "markdown",
   "metadata": {},
   "source": [
    "##### 2.6.3.3 Imputations\n",
    "\n",
    "What about goods and services that are produced and consumed but not sold in the marketplace? Such goods and services lack prices and market values; how are they counted in GDP? In some cases national income accounts estimate — they guess, really — what goods or services would have sold for on the market if there had been a market.\n",
    "The largest such “imputation” in the NIPA is found in housing. When somebody rents an apartment or a house, the rent he or she pays to the landlord becomes part of GDP as the purchase of “housing services” by the renter. When a landlord rents a house to a tenant, the landlord is selling a service — the usefulness of having a roof over the renter’s head— just as a barber is selling a service when a customer gets a haircut. Thus rent is one item in consumer spending on services.\n",
    "However, about 60 percent of all Americans own their own houses and are their own landlords. These homeowners do not write a monthly rent check to them  selves. Counting renter-occupied housing as part of GDP but ignoring owner- occupied housing would not be consistent. Therefore GDP includes the imputed rent on owner-occupied dwellings — the amount the BEA thinks that owner-occupied apartments and houses would rent for if they were rented out.\n",
    "The inclusion of the cost of goods and services bought by the government may also be understood as an imputation. Since citizens do not directly pay firefighters, police officers, judges, and other government employees, the value of what the gov  ernment spends on firefighting — in wages, insurance, materials, and so forth — is counted in GDP."
   ]
  },
  {
   "cell_type": "markdown",
   "metadata": {},
   "source": [
    "#### 2.6.4 National Product and National Utility (NEW)\n",
    "        * Value of production and human utility (NEW)\n",
    "        * Inequality and human utility (NEW)\n",
    "        * Utility and human well-being (NEW)"
   ]
  },
  {
   "cell_type": "markdown",
   "metadata": {},
   "source": [
    "#### 2.6.5 Components of National Product\n",
    "\n",
    "How does the Bureau of Economic Analysis construct its measure of real GDP? The BEA includes in its measure of real GDP, which we will always denote by Y in equations and diagrams, the values of the following:\n",
    "• Goods and services that are ultimately bought and used by households\n",
    "(except for newly constructed buildings); these goods and services are termed\n",
    "consumption spending (denoted C).\n",
    "• Goods and services (including newly constructed buildings) that become part\n",
    "of society’s business or residential capital stock; these goods and services are termed investment spending (denoted I). Gross investment spending is divided into two parts: the capital consumption allowance, or the depreciation of worn-out or obsolete capital; and net investment, which increases the total capital stock. Investment can be divided into four components: houses and apartments (residential structures), other buildings and infrastructure (nonresi- dential structures), machines (producers’ durable equipment), and, as noted above, the change in business inventories (see Table 2.6).\n",
    "\n",
    "(pages 52 and 53 missing)"
   ]
  },
  {
   "cell_type": "markdown",
   "metadata": {},
   "source": [
    "##### 2.6.5.1 What Is and Is Not in National Product\n",
    "\n",
    "##### 2.6.5.2 Gross output, depreciation, and net output\n",
    "\n",
    "##### 2.6.5.3 Government purchases\n",
    "\n",
    "##### 2.6.5.4 National product and national income"
   ]
  },
  {
   "cell_type": "markdown",
   "metadata": {},
   "source": [
    "##### 2.6.5.5 Things that are not in national product—but should be\n",
    "\n",
    "Moreover, many expenditures excluded from the NIPA, and thus from GDP, prob  ably should not be. Production that takes place within the household is excluded from GDP. That is, the work family members do to keep their own households going, for which they are not paid, is excluded from GDP. This exclusion warps our picture of the U.S. economy. In 2000 some 129 million Americans, male and female, worked a total of about 206 billion paid hours (and some 7 million Americans spent a total of 5 billion hours looking for jobs). But many Americans — most of them adult women — also spent at least 100 billion hours performing services such as cooking, cleaning, shopping, and chauffeuring that would count as employment and would count in GDP if they were receiving pay for them rather than doing them for their own families. As Figure 2.9 shows, less than 40 percent of American women were counted in the labor force in 1960, even though most of them would have said that they worked full days. Within-the-household production has never been counted as part of GDP. When the NIPA system was set up, economists believed that obtaining reasonable, credible, defensible estimates of the economic value of within-the-household production would be difficult or impossible.\n",
    "Yet the exclusion of within-the-household production makes a difference not just for the level of national product but for its rate of growth. Over time the bor  der between paid market and unpaid nonmarket, within-the-household work has shifted. Be suspicious of economic growth rates based on total GDP, GDP per capita, or GDP per adult, because they are distorted by the shifting dividing line between what people do and how they arrange their work. A meal cooked is a meal cooked whether it is part of the market-paid work of a restaurant chef or part of the unpaid work of a homemaker. Over time the share of meals prepared in the\n",
    " first way has grown, while the share of meals prepared in the second way has shrunk.\n",
    " \n",
    " shift in the dividing line between home cooking and dining out has raised measured GDP, but the shift by itself is not an increase in society’s wealth."
   ]
  },
  {
   "cell_type": "markdown",
   "metadata": {},
   "source": [
    "##### 2.6.5.6 Depreciation, pollution, and other \"bads\"\n",
    "\n",
    "The NIPA system makes no allowance for the depletion of scarce natural resources. To the extent that an economy produces a high income in the act of using up valu  able natural resources, that income is not true GDP at all but the depletion of nat  ural resources. Kuwait, Qatar, and Saudi Arabia have high levels of measured real GDP per worker, but much of their income arises not out of sustainable produc  tion but out of the sale of limited and depletable natural resources. A better sys  tem would have a category for the depletion of natural resources.\n",
    "Moreover, the NIPA contains no category for the production of “bads”— things that you would rather not have. Producing more smog does not diminish GDP. The extra cases of lung cancer produced by cigarette smoking do not diminish GDP (indeed, they raise the medical care sector’s contribution to GDP). If the demand for locks and alarm systems rises because crime increases, GDP increases. As noted before, GDP is a measure only of the economy’s level of productive effort, not of well-being."
   ]
  },
  {
   "cell_type": "markdown",
   "metadata": {},
   "source": [
    "#### 2.6 Real National Product: Recap\n",
    "\n",
    "Real GDP is calculated by adding up the value of all final goods and services pro  duced in the economy Because it measures the rate at which goods and services are produced, real GDP is a flow variable: Remember that real GDP is measured as the value of goods and services produced per year. Real GDP has four compo  nents: (1) consumer spending for final goods and services, (2) investment spend  ing by firms to increase their capital stock, (3) purchases of goods and services by the government (including the time of bureaucrats), and (4) net exports.\n",
    "\n",
    "----\n",
    "\n",
    "**Glossary Entries**:\n",
    "\n",
    "real GDP\n",
    "Inflation-adjusted gross domestic product; the most commonly used measure of national product, output, and income. Equal as well to total expenditure on domestically produced goods and services.\n",
    "\n",
    "NIPA\n",
    "National income and product accounts; the system that government statisticians use to measure, estimate, and check data on the flow of economic activity.\n",
    "\n",
    "consumption spending\n",
    "Spending on goods and services purchased and used by consumers.\n",
    "\n",
    "investment spending\n",
    "That portion of total spending devoted to increasing business capacity and the economy's capital stock.\n",
    "\n",
    "\"bads\"\n",
    "Elements produced by an economy that diminish consumers' welfare and that would constitute a subtraction from GDP in some better, future system of social accounts to measure economic welfare."
   ]
  },
  {
   "cell_type": "markdown",
   "metadata": {},
   "source": [
    "### Chapter 2 Review\n",
    "\n",
    "**Summary**:\n",
    "\n",
    "1. Because economics studies goods and services that flow through the market and are bought and sold with prices attached, economists have a lot of quantitative data to work with.\n",
    "2. The real exchange rate is the relative price at which two countries’ goods exchange for each other. You calculate it by adjusting the nominal exchange rate for changes in the price levels in the two countries.\n",
    "3. The level of the stock market is a valuable summary in  dex of a range of factors that affect investment: the cur  rent level of profits, investors’ optimism or pessimism, the real rate of interest, and attitudes toward risk.\n",
    "4. Real interest rates are much more important variables to keep track of than are nominal interest rates. Calculate the real interest rate by subtracting the rate of inflation from nominal interest rates.\n",
    "5. The most commonly seen measure of the price level is the consumer price index (CPI). The proportional rate of change of the price level is called the inflation rate.\n",
    "6. Unemployment and total output are linked through Okun’s law: A 1-percentage-point change in the unem  ployment rate comes with a 2.5 percent change in the opposite direction in the level of output relative to po  tential output.\n",
    "7. Real GDP is the most frequently seen measure of the over  all level of economic activity. It is the value — calculated using market prices in some chosen base year — of all fi  nal goods and services produced in a year.\n",
    "8. The line between what’s in GDP and what’s not in GDP is principally the result of economists’ beliefs in the 1940s and 1950s about what could be readily measured. It is not the result of a set of principled decisions about what kinds of activities should and should not be in  cluded in a measure of material welfare.\n",
    "\n",
    "----\n",
    "\n",
    "**Key Terms**:\n",
    "\n",
    "nominal exchange rate (p. 29) real exchange rate (p. 31) index number (p. 33)\n",
    "stock market (p. 34)\n",
    "stock (p. 34) bond (p. 34) price level (p. 39) consumer price index (CPI) (p. 39) GDP deflator (p. 39)\n",
    "Bureau of Labor Statistics (p. 40) Bureau of Economic Analysis inflation rate (p. 42) unemployment rate (p. 43) Okun’s law (p. 45) real GDP (p. 47)\n",
    "NIPA (p. 47)\n",
    "consumption spending (p. 51) investment spending (p. 51) government purchases (p. 52) net exports (p. 52)\n",
    "“bads” (p. 55)\n",
    "\n",
    "----\n",
    "\n",
    "**Analytical Exercises**:\n",
    "\n",
    "1. Are capital goods — large turbine generators, jet airlin  ers, bay-spanning bridges — intermediate goods or final goods? How are they included in GDP?\n",
    "2. How do the labor and other factors of production that go into producing intermediate goods ultimately get counted in GDP?\n",
    "3. Explain whether or not and why the following items are included in the calculation of GDP:\n",
    "a. Increases in business inventories.\n",
    "b. Sales of existing homes.\n",
    "c. Fees earned by real estate agents on selling existing homes.\n",
    "d. Income earned by Americans living and working abroad.\n",
    "e. Purchases of IBM stock by your brother.\n",
    "f. Purchase of a new tank by the Department of Defense.\n",
    "g. Rent that you pay to your landlord.\n",
    "4. Which interest rate concept — the nominal interest rate or the real interest rate — do lenders and borrowers care more about? Why?\n",
    "5. Which is the more important measure for assessing an economy’s performance, real GDP or nominal GDP?\n",
    "\n",
    "----\n",
    "\n",
    "**Policy Exercises**:\n",
    "\n",
    "1. In 1979 the (short-term) nominal interest rate on three- month Treasury bills averaged 10 percent, and the GDP deflator rose from 50.88 to 55.22.\n",
    "a. What was the annual rate of inflation in 1979? What\n",
    "was the real interest rate in 1979?\n",
    "b. Were real interest rates higher in 1979 or in 2003,\n",
    "when the (short-term) nominal interest rate on three- month Treasury bills was 1.0 percent and the infla  tion rate was 1.7 percent?\n",
    "2. In 1992 the implicit GDP deflator (in 1992 dollars) was equal to 100; in 1993 it was equal to 102.64. What was the annual rate of inflation between 1992 and 1993? In 1993 the implicit GDP deflator (in 1992 dollars) was equal to 102.64; in 1994 it was 105.09. What was the annual rate of inflation between 1993 and 1994?\n",
    "3. In 1992 both nominal GDP and real GDP (measured in 1992 dollars) were equal to \\$6,244 trillion. By 1997 nominal GDP had risen to \\$8,111 trillion, and the im  plicit GDP deflator had risen to 111.57. What was real GDP in 1997? What was the average rate of real GDP growth between 1992 and 1997?\n",
    "4. In 1997 nominal GDP was \\$8,111 trillion, and the im  plicit GDP deflator (measured in 2000 dollars) was 93.85. By 2003 nominal GDP had risen to \\$10,977 tril  lion, and the implicit GDP deflator had risen to 105.64. What was real GDP in 2003? What was the average rate of real GDP growth between 1997 and 2003?\n",
    "\n",
    "\n"
   ]
  }
 ],
 "metadata": {
  "kernelspec": {
   "display_name": "Python 3",
   "language": "python",
   "name": "python3"
  },
  "language_info": {
   "codemirror_mode": {
    "name": "ipython",
    "version": 3
   },
   "file_extension": ".py",
   "mimetype": "text/x-python",
   "name": "python",
   "nbconvert_exporter": "python",
   "pygments_lexer": "ipython3",
   "version": "3.6.1"
  }
 },
 "nbformat": 4,
 "nbformat_minor": 2
}
