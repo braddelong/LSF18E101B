{
 "cells": [
  {
   "cell_type": "markdown",
   "metadata": {
    "slideshow": {
     "slide_type": "notes"
    }
   },
   "source": [
    "# DeLong and Olney Macroeconomics 3rd Edition ch 5: The Reality of Economic Growth"
   ]
  },
  {
   "cell_type": "markdown",
   "metadata": {},
   "source": [
    "# 5 The Reality of Economic Growth\n",
    "\n",
    "**QUESTIONS**:\n",
    "\n",
    "1. What Is modern economic growth?\n",
    "2. What was the post-1973 productivity growth slowdown\n",
    "3. What were its causes?\n",
    "4. Why has American growth been so rapid since 1995?\n",
    "5. Why are some nations so (relatively) rich and other nations so (relatively) poor?\n",
    "6. What policies can speed up economic growth? What policy mistakes can slow it down?\n",
    "7. What are the prospects for successful and rapid nomic development in tomorrow's world? ^\n",
    "\n",
    "----\n",
    "\n",
    "&nbsp;"
   ]
  },
  {
   "cell_type": "markdown",
   "metadata": {},
   "source": [
    "We are used to modern economic growth. We are used to having production rise by 3 percent to 4 percent each year and productivity rise by 2 percent to 3 per  cent each year. In our time, a year in which production stagnates or falls is unusual. In the United States, only 6 of the last 50 years have seen real GDP lower than that of the year before.\n",
    "\n",
    "For most of human history, however, things have been very different. Since the invention of agriculture roughly 10,000 years ago (and, as far as we know, before that), economic progress was generally glacial or nonexistent. The transition to our modern era of growth took place about two centuries ago, with what is called the Industrial Revolution.\n",
    "\n",
    "This chapter surveys the history of economic growth — especially of modern economic growth — and also attempts to peer into the future. It is informed by the models of economic growth set out in Chapter 4, but it does not depend on them; the theory tells us what questions to ask, but the questions and answers stand on their own.\n",
    "\n",
    "The chapter opens with a survey of what the economy looked like before the Industrial Revolution, before the transition to the age of modern economic growth. It continues with the story of the Industrial Revolution and modern economic growth in the United States, before widening its view to take a look at modern economic growth all over the world. It concludes with a brief sketch of the relationship between economic policies and economic growth.\n",
    "\n",
    "----\n",
    "\n",
    "&nbsp;"
   ]
  },
  {
   "cell_type": "markdown",
   "metadata": {},
   "source": [
    "# 5.1 Before Modern Economic Growth\n",
    "\n",
    "## 5.1.1 The Agrarian Age\n",
    "\n",
    "### 5.1.1.1 Slow Population Growth\n",
    "\n",
    "Taking what we know and what we guess about the economy from back in the deep mists of time up to today produces a picture like that of Table 5.1.1.\n",
    "\n",
    "&nbsp;"
   ]
  },
  {
   "cell_type": "markdown",
   "metadata": {},
   "source": [
    "**Table 5.1.1: Global Human Population**\n",
    "<img style=\"display:block; margin-left:auto; margin-right:auto;\" src=\"http://delong.typepad.com/.a/6a00e551f08003883401bb09f2ea77970d-pi\" alt=\"Populations\" title=\"Populations.png\" border=\"0\" width=\"555\" height=\"65\" />\n",
    "\n",
    "###### Source: Joel Cohen, How Many People Can the Earth Support? (New York: Norton, 1995).\n",
    "\n",
    "&nbsp;"
   ]
  },
  {
   "cell_type": "markdown",
   "metadata": {},
   "source": [
    "The numbers in Table 5.1.1 are—save for the past century — guesses,and shaky guesses. \n",
    "\n",
    "Nevertheless, they do tell a coherent and consistent story.\n",
    "\n",
    "Until the Industrial Revolution of the late eighteenth century began in Britain — until 1800 or so — the human population of the world grew only as rapidly as a glacier moves, as shown in Figure 5.1.1. Population growth between 8000 BC and AD 1800 averaged less than one-tenth of a percent per year. Nevertheless, the cumulative magnitude of population growth was impressive; over a long-enough time span even glaciers can move very far. 10,000 years is a long time indeed. Preindustrial population growth carried the number of human beings alive on this planet from perhaps 5 million in 8000 BC to 900 million in AD 1800.\n",
    "\n",
    "Since 1800 things have been very different: A population explosion from 1800 to date, with the rate of increase peaking in the mid-twentieth century, and since then declining, with (perhaps) zero population growth on the horizon in 2050 or so. The population explosion carried the total world population to 6 billion before the year 2000. Population growth on a world scale accelerated from a rate of 0.2 percent per year between 1500 and 1800, to 0.6 percent per year between 1800 and 1900, to 0.9 percent per year between 1900 and 1950, and 1.9 percent per year between 1950 and 1975 before the first slowing of the global rate of population growth — 1.6 percent per year from 1975 to 2000.\n",
    "\n",
    "&nbsp;"
   ]
  },
  {
   "cell_type": "markdown",
   "metadata": {},
   "source": [
    "**Figure 5.1.1: Human Long Run Demographic History**\n",
    "\n",
    "<img style=\"display:block; margin-left:auto; margin-right:auto;\" src=\"http://delong.typepad.com/.a/6a00e551f08003883401b8d2d9fea0970c-pi\" alt=\"2018 02 06 DeLong and Olney Macro 3rd Ch 5 The Reality of Economic Growth\" title=\"2018-02-06_DeLong_and_Olney_Macro_3rd_Ch_5_The_Reality_of_Economic_Growth.png\" border=\"0\" width=\"600\" />\n",
    "\n",
    "----\n",
    "\n",
    "&nbsp;"
   ]
  },
  {
   "cell_type": "markdown",
   "metadata": {},
   "source": [
    "### 5.1.1.2 Stagnant Living Standards\n",
    "\n",
    "The glacial pace of human population growth before the Industrial Revolution was accompanied by complete or near-complete stagnation in median standards of living. Up until 1500, as best we can tell, there had been next to no growth in the material standard of living of the typical human for millennia. Even in 1800 the average human had a material standard of living (and an economic productivity level) at best twice that of the average human in the year 1.\n",
    "\n",
    "Four sets of considerations make us believe that the overwhelming bulk of humans were appallingly poor, even in the sense of basic nourishment, from the discovery of agriculture on up to the Industrial Revolution era: the argument from material culture, the argument from demography, the argument from skeletons, and the argument from direct historical comparisons.\n",
    "\n",
    "The argument from material culture is simply the basic meals and objects described and found in the written histories that have come down to us and the archeological digs that we have undertaken.\n",
    "\n",
    "The argument from demography hinges on extremely slow human population growth from 8000 BC on up to 1500 or so. Looking over the whole globe, average population growth looks like less than 0.01% per year—less than 0.3% per generation. Over nearly ten thousand years that adds up: it was sufficient to carry human populations from 5 million to 500 million. Such is the power of compound interest, and even small exponential growth rates applied for a very long time. But we know that a healthy settled human population without widespread access to reliable artificial means of family planning and substantial female literacy will grow by between 67% and 100% over the course of a generation _if it is not nutritionally stressed_: 2% to 3% annual population and labor force growth is the rule. Populations before 1500 had little female literacy. Populations before 1500 did not have access to reliable artificial means of family planning. Your status in your culture typically depended—no matter what your gender—on being a parent of a living son. Plus there was the very strong desire to have one or more children survive to take care of you should you reach old age. After all, who else would? In an environment where life expectancy at birth was less than 25 and death from disease could strike anybody any time, the only way to have a good chance of surviving descendents was to try to have a lot of them.\n",
    "\n",
    "And yet your typical couple before 1500 back in the Agrarian age had only 2.006 descendents survive to reproduce. If they had not been desperately nutritionally stressed, they would have left more descendents. And if they were not desperately poor, they would not ahve been that desperately nutritionally stressed.\n",
    "\n",
    "The argument from skeletons is that the archeologists tell us that people were really short. Back before the agrarian age those skeletons we have found appear to be about as tall as we are—but they may not be representative of the entire population. Throughout the agrarian age from 8000 BC up to 1500 and beyond, people at adulthood are really short. It takes a substantial biological nutritional insult to turn a population where average adult male height would be 178 cm or 5'10\" with modern nutritional standards into one with average adult male height a mere 170 cm or 5'7\". Such a diet today would be called child abuse. People do not let their children go malnourished and desperately hungry if they have a choice. People richer than 2 dollars a day would have had choices.\n",
    "\n",
    "The argument from direct historical comparisons comes from the fact that we do have solid reliable evidence of typical wage levels and living standards for some times and places. In England, monks wrote down their accounts, and their accounts have survived. Monastic records tell us what English monasteries paid to hire carpenters: a relatively skilled occupation. Monastic records tell us what monasteries paid for staples. We see that even relatively skilled workers in medieval and early modern England were desperately poor by our standards.\n",
    "\n",
    "Was England unrepresentative? Was England thought of as particularly rich or particularly poor, ever? No. There were always some travelers' tales about how rich tyrants and plutocrats outside of England were—generally the further away, the more rich and the more marvelous. But there was little about how the common people elsewhere were noticably poorer than the common people of England until the Industrial Revolution era, by which time England was noticably richer.\n",
    "\n",
    "Figure on something like 2 dollars/day—the standard of living of the poorest billion of the 7.5 billion people alive today—as a ballpark estimate of the standard of living and productivity level of the overwhelming bulk of humanity in the long age from 8000 BC to 1500 or 1800, in which people were typically peasants, hand craftworkers, serfs, servants, or slaves. Two dollars a day, minus today's global poor's access to the village cell phone, antibiotics, and the global culture.\n",
    "\n",
    "&nbsp;"
   ]
  },
  {
   "cell_type": "markdown",
   "metadata": {},
   "source": [
    "**Figure 5.1.2: Human Heights at Adulthood**\n",
    "\n",
    "<img style=\"display:block; margin-left:auto; margin-right:auto;\" src=\"http://delong.typepad.com/.a/6a00e551f08003883401bb09f328f4970d-pi\" alt=\"Height estimates\" title=\"height_estimates.png\" border=\"0\" width=\"600\" />\n",
    "\n",
    "###### Source: Max Roser _et al_: Our World in Data <https://ourworldindata.org/human-height>"
   ]
  },
  {
   "cell_type": "markdown",
   "metadata": {},
   "source": [
    "**Figure 5.1.3: Real Wages of English Carpenters**\n",
    "\n",
    "<img style=\"display:block; margin-left:auto; margin-right:auto;\" src=\"http://delong.typepad.com/.a/6a00e551f08003883401bb09f329e1970d-pi\" alt=\"Real Wage Builiding Workers\" title=\"Real_Wage__Builiding_Workers_.png\" border=\"0\" width=\"600\" />\n",
    "\n",
    "##### Greg Clark, A Farewell to Alms"
   ]
  },
  {
   "cell_type": "markdown",
   "metadata": {},
   "source": [
    "----\n",
    "\n",
    "&nbsp;\n",
    "\n",
    "We can simulate the rough behavior of the human population and of WEP—World Economic Product—as we understand it from the year 8000 BC on up to the year 1 quite well with our simple Solow growth model: all we have to do is to set the proportional rate n of the growth of population and the labor force L to 0.044% per year, and set the proportional growth rate g of the efficiency of labor E to 0.\n",
    "\n",
    "----\n",
    "\n",
    "&nbsp;"
   ]
  },
  {
   "cell_type": "markdown",
   "metadata": {},
   "source": [
    "**Figure 5.1.4: Simulating Long-Run Demographic History**\n",
    "\n",
    "<img style=\"display:block; margin-left:auto; margin-right:auto;\" src=\"http://delong.typepad.com/.a/6a00e551f08003883401bb09f37f84970d-pi\" alt=\"Calibration\" title=\"calibration.png\" border=\"0\" width=\"600\" height=\"451\" />"
   ]
  },
  {
   "cell_type": "markdown",
   "metadata": {},
   "source": [
    "----\n",
    "\n",
    "&nbsp;"
   ]
  },
  {
   "cell_type": "markdown",
   "metadata": {},
   "source": [
    "### 5.1.1.3 Technology and Organization\n",
    "\n",
    "But it would not be right to say that humanity was, technologically and organizationally, stagnant back before the modern age of the Industrial Revolution and Modern Economic Growth.\n",
    "\n",
    "The problem was not that there was no technological progress before the Industrial Revolution. There was. Humans have long been ingenious. Technology and organization opened up much land that had not previously been farmable. Technology and organization allowed people to survive on farms a tenth the size of those their ancestors millennia before had required. Warrior, priestly, and bureaucratic elites in 1500 or 1800 lived much better than their counterparts in previous millennia had lived. \n",
    "\n",
    "But just because the ruling elite lived better does not mean that other people lived any better. From 8000 BC to at least AD 1500, the typical life expectancy at birth was low (less than 30 years), and the typical adult human was short (5 feet, 5 inches or less, due to chronic undernutrition), lost his or her teeth early (although for him sugar was still a great luxury, George Washington needed false teeth because he was calcium-deprived and his body sacrificed the teeth to maintain the bones), and ate a remarkably monotonous diet (rations for the Roman legions in AD 1 consisted of two pounds of bread per soldier per day, plus salt, plus a pint or two of wine, plus “garnishes”; rations for the British navy in 1800 were worse — save that the liquor was stronger, and the diet was supplemented by wee  vils in the crackers and enough fruit and vegetables to fight off scurvy).\n",
    "\n",
    "Only after 1800 do we see large, sustained increases in worldwide standards of living. Worldwide, output per capita grew at perhaps 0.15 percent per year between 1500 and 1800. It grew at roughly 1 percent per year worldwide between 1800 and 1900. And material output per capita has grown at an average pace of perhaps roughly 2 percent per year, worldwide, since 1900.\n",
    "\n",
    "----\n",
    "\n",
    "&nbsp;"
   ]
  },
  {
   "cell_type": "markdown",
   "metadata": {},
   "source": [
    "## 5.1.2 Understanding Malthusian Economies\n",
    "\n",
    "Why did no sustained increases in the material productivity of human labor occur before 1500? The principal reasons are two. Improvements in human technology quickly ran aground on a combination of (1) resource scarcity and (2) expanding populations. This constraint was introduced early, before the end of the eighteenth century, by Thomas R. Malthus, who became the first academic professor of economics ever (Adam Smith had been a professor of moral philosophy) at the East India Company’s Haileybury College. It was hewho diagnosed the problem. Thus we call such economies \"Malthusian\".\n",
    "\n",
    "We saw above that in the long run each economy’s capital intensity K/Y tended to approach some equilibrium value and then stay there. Sustained growth in output per worker must be driven by sustained increases in the efficiency of labor. So the question, “Why no sustained increases in productivity?” is the same as the question, “Why didn’t the efficiency of labor grow?” The answer is that the efficiency of labor depends not just on the storehouse of physical and organizational technologies at workers’ disposal, but also on the natural resources available to the average worker. \n",
    "\n",
    "In modern times our skills at handling materials are so great that natural resources play only a small role: Soil bad? Dump some nitrogen on it. Plants too dry? Pipe water in from 300 miles away to irrigate them. Technology and capital make natural resource scarcity a much less important phenomenon now than in the past. But back before the Industrial Revolution natural resources and their scarcity played a very important role. It is no accident that for most of recorded history humanity has lived pri  marily in the great river valleys of the Nile, the Tigris and Euphrates, the Indus, the Ganges, the Yangtze, and the Yellow River — good silt and regular supplies of water were that important.\n",
    "\n",
    "Before the Industrial Revolution, as human populations grew, the stocks of known natural resources had to be divided among more and more people. Miners had to exploit lower quality metal ores, and farmers had to farm lesser quality agri  cultural land. Over time, overcut forests vanished. Where today are the cedars of Lebanon? Over time, land that had been irrigated too long and seen too much water evaporate in the hot summer sun became poisoned with salt. What we call the northern deserts of the Middle East were once called the “Fertile Crescent” and were the home to at least a third of humanity’s farmers. The net effect of resource scarcity and human fertility was that, in spite of technological progress, the world average efficiency of labor was little, if any, greater in AD 1500 than in 1500 BC, or, indeed thousands of years earlier.\n",
    "\n",
    "----\n",
    "\n",
    "&nbsp;"
   ]
  },
  {
   "cell_type": "markdown",
   "metadata": {},
   "source": [
    "### 5.1.2.1 From Labor Efficiency to Ideas and Natural Resources\n",
    "\n",
    "We have our production function, output as a function of the capital stock, the product of the labor force and the efficiency with which that labor can produce, and the single parameter $ \\alpha $ describing how fast diminishing returns to capital set in as the capital-labor ratio increases:\n",
    "\n",
    "(5.1.1) &nbsp;&nbsp;&nbsp;&nbsp;&nbsp;&nbsp;&nbsp;&nbsp;&nbsp;\n",
    "$ Y = K^{\\alpha}(EL)^{1-\\alpha}  $\n",
    "\n",
    "But what determines the efficiency of labor? Before the Industrial Revolution humans were certainly inventive. “Technology” broadly understood improved to a remarkable degree in the millennia before 1800. So why were there no improvements in the efficiency of labor?\n",
    "\n",
    "Ideas, certainly—the level of technological knowledge in its society; its understanding and ability to implement productive organizations; plus the skills, education, and experience of the workforce. In the models of Chapter 4, we identified the efficiency of labor with “technology” broadly understood: the storehouse of techniques for manipulating matter and forms of social organization that we can use to boost the productivity of the average worker. But this in the models of Chapter 4 was a shortcut. We lumped the effect of natural resources on production into the efficiency of labor E. \n",
    "\n",
    "Malthus's insight was that he needed to focus on the role of resources and, in particular, _resource scarcity_ in limiting the efficiency with which labor can work. Ideas, you see, are non-rival: that one person or group has and is using an idea does not mean another person or group cannot productively use the same idea. The same is not true of natural resources. Natural resources are _rival_: crowd twice as many farmers on the same soil, and their productive efficiency is likely to drop.\n",
    "\n",
    "And before the Industrial Revolution Malthusian considerations were often decisive. Depletion of natural resources typically offset the beneficial effects of technological improvement. So the net effect was no improvement in the efficiency of labor: a constant value of E.\n",
    "\n",
    "TO model this, we write the efficiency of labor as a function of society's level of ideas—technology; organizational capability; plus experience, skills, and education—which we will call H, non-rival, and of society's level of resources N divided by the labor force L:\n",
    "\n",
    "&nbsp;&nbsp;&nbsp;&nbsp;&nbsp;&nbsp;&nbsp;&nbsp;&nbsp;\n",
    "$ E = \\left(\\frac{N}{L}\\right)^{\\left(\\frac{1}{1+\\gamma}\\right)}H^{\\left(\\frac{\\gamma}{1+\\gamma}\\right)}  $\n",
    "\n",
    "With the parameter $ \\gamma $ describing the ratio of the salience of ideas compared to natural resources in generating production efficiency. Why the ratio—and thus all of the $ {\\gamma}/(1+\\gamma) $ terms? Because the ratio will be important in some formulas later on, so why not define our production function in terms of it at the start?\n",
    "\n",
    "We thus gain an alternative formulation of the production function when we want to peel back _resource scarcity_ as an influence lowering the efficiency of labor E:\n",
    "\n",
    "(5.1.2) &nbsp;&nbsp;&nbsp;&nbsp;&nbsp;&nbsp;&nbsp;&nbsp;&nbsp;\n",
    "$ Y = K^{\\alpha}N^{\\left(\\frac{1-\\alpha}{1+\\gamma}\\right)}(HL)^{\\left(\\frac{\\gamma(1-\\alpha)}{1+\\gamma}\\right)}  $\n",
    "\n",
    "We also note that that in this setup there is an interaction between the rate of growth of the labor force n and the rate of growth of the efficiency of labor g. Taking the natural log and then the derivative, we get expressions for the growth rate g of the efficiency of labor E:\n",
    "\n",
    "(5.1.3) &nbsp;&nbsp;&nbsp;&nbsp;&nbsp;&nbsp;&nbsp;&nbsp;&nbsp;\n",
    "$ \\frac{dln(E)}{dt} = \n",
    "\\left(\\frac{1}{1+\\gamma}\\right)\n",
    "\\left(\\frac{dln(N)}{dt} - \\frac{dln(L)}{dt} \\right) +\n",
    "\\left(\\frac{\\gamma}{1+\\gamma}\\right)\n",
    "\\left(\\frac{dln(H)}{dt}\\right)  $\n",
    "\n",
    "If natural resources are constant, this becomes:\n",
    "\n",
    "(5.1.4) &nbsp;&nbsp;&nbsp;&nbsp;&nbsp;&nbsp;&nbsp;&nbsp;&nbsp;\n",
    "$ \\frac{dln(E)}{dt} = \n",
    "\\left(\\frac{\\gamma}{1+\\gamma}\\right)\n",
    "\\left(\\frac{dln(H)}{dt}\\right) -\n",
    "\\left(\\frac{1}{1+\\gamma}\\right)\n",
    "\\left(\\frac{dln(L)}{dt} \\right) $\n",
    "\n",
    "(5.1.5) &nbsp;&nbsp;&nbsp;&nbsp;&nbsp;&nbsp;&nbsp;&nbsp;&nbsp;\n",
    "$ g = \\left(\\frac{\\gamma}{1+\\gamma}\\right)h - \\left(\\frac{1}{1+\\gamma}\\right)n  $\n",
    "\n",
    "with \"h\" being the proportional rate of growth of the ideas—engineering technology; business and market organization; plus workers' skills, experience, and education—and g and n being, as before, the proportional rates of growth of labor efficiency and the labor force, respectively.\n",
    "\n",
    "Faster population growth thus exerts a drag on the growth of the efficiency of labor...\n",
    "\n",
    "----\n",
    "\n",
    "&nbsp;"
   ]
  },
  {
   "cell_type": "markdown",
   "metadata": {},
   "source": [
    "### 5.1.2.2 Population Growth without Output per Worker Growth?\n",
    "\n",
    "What has to be the case such that the rate of population and labor force growth n cancels out increases in \"ideas\" H and leaves the efficiency of labor E stagnant?\n",
    "\n",
    "Start from:\n",
    "\n",
    "(5.1.6)&nbsp;&nbsp;&nbsp;&nbsp;&nbsp;&nbsp;&nbsp;&nbsp;&nbsp;\n",
    "$ \\frac{Y}{L} = \\left(\\frac{K}{Y}\\right)^{\\left(\\frac{\\alpha}{1-\\alpha}\\right)}E  $\n",
    "\n",
    "and thus:\n",
    "\n",
    "(5.1.7)&nbsp;&nbsp;&nbsp;&nbsp;&nbsp;&nbsp;&nbsp;&nbsp;&nbsp;\n",
    "$ \\frac{Y}{L} = \\left(\\frac{K}{Y}\\right)^{\\left(\\frac{\\alpha}{1-\\alpha}\\right)}H^{\\left(\\frac{\\gamma}{1 + \\gamma}\\right)} N^{\\left(\\frac{1}{1 + \\gamma}\\right)} L^{\\left(-\\frac{1}{1 + \\gamma}\\right)}  $\n",
    "\n",
    "If:\n",
    "\n",
    "&nbsp;&nbsp;&nbsp;&nbsp;&nbsp;&nbsp;&nbsp;&nbsp;&nbsp;\n",
    "$ \\frac{Y}{L} = \\bar{y}  $ and $ \\frac{K}{Y} = \\frac{s}{n+g+\\delta}  $\n",
    "\n",
    "then:\n",
    "\n",
    "(5.1.8)&nbsp;&nbsp;&nbsp;&nbsp;&nbsp;&nbsp;&nbsp;&nbsp;&nbsp;\n",
    "$ \\bar{y} = \\left(\\frac{s}{n+g+\\delta}\\right)^{\\left(\\frac{\\alpha}{1-\\alpha}\\right)} H^{\\left(\\frac{\\gamma}{1 + \\gamma}\\right)} L^{\\left(-\\frac{1}{1 + \\gamma}\\right)} N^{\\left(\\frac{1}{1 + \\gamma}\\right)} $\n",
    "\n",
    "(5.1.9)&nbsp;&nbsp;&nbsp;&nbsp;&nbsp;&nbsp;&nbsp;&nbsp;&nbsp;\n",
    "$ \\bar{y}  \\left(\\frac{n+g+\\delta}{s}\\right)^{\\left(\\frac{\\alpha}{1-\\alpha}\\right)}  =  H^{\\left(\\frac{\\gamma}{1 + \\gamma}\\right)} L^{\\left(-\\frac{1}{1 + \\gamma}\\right)} N^{\\left(\\frac{1}{1 + \\gamma}\\right)} $\n",
    "\n",
    "(5.1.10)&nbsp;&nbsp;&nbsp;&nbsp;&nbsp;&nbsp;&nbsp;&nbsp;&nbsp;\n",
    "$  L = H^{\\gamma} \n",
    "\\left[\n",
    "\\left(\\frac{1}{\\bar{y}}\\right)^{\\left(1+\\gamma\\right)}\n",
    "\\left(\\frac{s}{n+g+\\delta}\\right)^{\\left(\\frac{\\alpha(1+\\gamma)}{(1-\\alpha)}\\right)}\n",
    "\\right]N $\n",
    "\n",
    "And if the natural resources stock N is not growing, everything except the ideas stock H on the right hand side is constant. And so the proportional population and labor force growth rate under a Malthusian regime $ n^m $ is:\n",
    "\n",
    "(5.1.11)&nbsp;&nbsp;&nbsp;&nbsp;&nbsp;&nbsp;&nbsp;&nbsp;&nbsp;\n",
    "$ n^m = \\left(\\frac{dln(L)}{dt}\\right)^m = {\\gamma}\\frac{dln(H )}{dt} = {\\gamma}h $\n",
    "\n",
    "Thus we would not expect to see growth in ideas to show up as increases in output per worker levels if population growth is fast enough to keep increases in the economy's idea stock from showing up in increases in the efficiency of labor. That rate of population and labor force growth $ n^m $, superscript \"m\" for \"Malthusian\", is simply equal to $ \\gamma $ times the proportional rate of increase in the idea stock h.\n",
    "\n",
    "And, indeed, we can simulate an economy with stagnant living standards and productivity levels alongside growing technological and organizational knowledge in the form of an increasing human stock of ideas H. Suppose $ \\gamma = 2 $, and ideas have thus twice the relative weight in determining labor efficiency as resources per worker N/L. Then a proportional annual rate of growth h of the economy's ideas stock H of: $ h = 0.022\\% $ will improve the efficiency of labor fast enough to counterbalance the reduction in the efficiency of labor generated by increasing resource scarcity at an annual population growth rate of $ n = 0.044\\% $.\n",
    "\n",
    "----\n",
    "\n",
    "&nbsp;"
   ]
  },
  {
   "cell_type": "markdown",
   "metadata": {},
   "source": [
    "**Figure 5.1.5: Simulating Long-Run Demographic History**\n",
    "\n",
    "<img style=\"display:block; margin-left:auto; margin-right:auto;\" src=\"http://delong.typepad.com/.a/6a00e551f08003883401bb09f37f84970d-pi\" alt=\"Calibration\" title=\"calibration.png\" border=\"0\" width=\"600\" height=\"451\" />"
   ]
  },
  {
   "cell_type": "markdown",
   "metadata": {},
   "source": [
    "----\n",
    "\n",
    "&nbsp;"
   ]
  },
  {
   "cell_type": "markdown",
   "metadata": {},
   "source": [
    "### 5.1.2.3 The Malthusian Equilibration Mechanism\n",
    "\n",
    "Thus we can have stagnant living standards and growing populations in our extended Solow growth model, but only  if improvements in ideas are just offset by the effects of diminished natural resources per capita. \n",
    "\n",
    "But how likely is it that that just happens? That population and the labor force just happen to offset each other? That the proportional rate of growth h of society's ideas stock H just happens to be equal to $ \\gamma $ times the proportional rate of growth n of the labor force L?\n",
    "\n",
    "That is implausible. There must be some biological-sociological-mechanism that works to make $ n^m = {\\gamma}h $.\n",
    "\n",
    "It was this mechanism that Thomas Robert Malthus, who became the first academic professor of economics ever (Adam Smith had been a professor of moral philosophy) at the East India Company’s Haileybury College, put his finger on. The idea is that increases in technological capability induce increases in fertility that inevitably run into natural resource scarcity. It is one of the oldest ideas in economics. And we call economies in which it holds \"Malthusian\".\n",
    "\n",
    "Malthus saw a world in which inventions and higher living standards led to increases in the rate of population growth. With higher living standards there were more pregnancies and more pregnancies were successfully carried to term. Better nourished children (and adults) had a better chance of resisting diseases. More  over, when incomes were high, new farmsteads were relatively plentiful, and getting the permission of one’s father or elder brother to marry was easier. For these reasons — both social and biological — before 1800 a higher standard of living inevitably led to a faster rate of population growth. The faster rate of population growth increased the scarcity of natural resources, and so lowered productivity. After a burst of invention, population would rise and resource scarcity increase until once again people were so poor and malnourished that population growth was back at roughly zero — to less than one-tenth of one percent per year characteristic of the preindustrial age.\n",
    "\n",
    "We can model this by setting the rate of population and labor force growth n equal to an increasing function of output per worker relative to some \"subsistence\" level $ \\bar{y} $ like so:\n",
    "\n",
    "(5.1.12)&nbsp;&nbsp;&nbsp;&nbsp;&nbsp;&nbsp;&nbsp;&nbsp;&nbsp;\n",
    "$ n = \\left(\\frac{\\phi}{\\bar{y}}\\right)\\left(\\frac{Y}{L} - \\bar{y}\\right)  $\n",
    "\n",
    "with $ \\phi $ (Greek _phi_, with an f sound to remind us of \"fertility\") describing how rapidly population and labor force increases as incomes per worker rise. $ \\phi = 0.015 $—a doubling of living standards above the \"subsistence\" level $ \\bar{y} $ increases the population and labor force growth rate from 0% to 2% per year—is in the ballpark of historical estimates.\n",
    "\n",
    "This does the trick: Now output per worker heads toward our \"subsistence\" level of about 1500 real inflation-adjustd dollars per year of productivity and income—2 dollars per person per day in consumption levels—and the efficiency of labor heads for and sticks at a level that supports that: a level of 1000. Why? Because should the efficiency of labor rise, output per worker would rise, and then the population growth rate would rise. But, as long as the stock of natural resources is constant, the rate of growth g of the efficiency of labor is now linked not just to the rate of idea creation and innovation and invention h but also to the rate of population and labor force growth n by:\n",
    "\n",
    "(5.1.13)&nbsp;&nbsp;&nbsp;&nbsp;&nbsp;&nbsp;&nbsp;&nbsp;&nbsp;\n",
    "$ g = \\left(\\frac{\\gamma}{1+\\gamma}\\right)h - \\left(\\frac{1}{1+\\gamma}\\right)n $\n",
    "\n",
    "(5.1.14)&nbsp;&nbsp;&nbsp;&nbsp;&nbsp;&nbsp;&nbsp;&nbsp;&nbsp;\n",
    "$ g = \\left(\\frac{\\gamma}{1+\\gamma}\\right)h - \\left(\\frac{\\phi}{(1+\\gamma)\\bar{y}}\\right)\\left(\\frac{Y}{L} - \\bar{y}\\right) $\n",
    "\n",
    "and a higher n thus pushes the level of E back down again. And since the level of output per worker Y/L is closely linked to E, it pushes Y/L down again too.\n",
    "\n",
    "This equation is thus of a form we have seen before: we have a rate-of-change on the left hand side, and we have a level on the right hand side with a coefficient preceded by a minus sign. This kind of equation delivers a steady-state equilibrium value for the variable with its rate-of-change on the left.\n",
    "\n",
    "In this model it is not only the case that the capital-output ratio K/Y heads for and then sticks to its steady state value: the efficiency of labor E and the level of output per worker Y/L does as well. The stability across millennia of output per worker is no longer a coincidence, but rather a necesary consequence of the positive association of human fertility with living standards and the negative association caused by resource scarcity between fhe thus induced population and labor force growth on the one hand and labor efficiency growth on the other. \n",
    "\n",
    "Note that, in this setup, it does not much matter for standards of living what the proportional rate of growth of the ideas stock is. In the first panel below the rate of growth of ideas $ h = 0.022\\%. In the second panel it is only $ h = 0.01\\% $. And in the third it is $ h = 0.04\\% $. All three paint the same picture as far as the efficiency of labor and the level of output per worker—and thus of human consumption and living standards are concerned. Faster growth in ideas does not help, and slower growth does not hurt, human living standards in the long run.\n",
    "\n",
    "What faster or slower growth of human ideas does do is change the population at which that level of \"subsistence\" output per worker is maintained. The first panel is calibrated to reproduce history up to the year 1. The second panel, with slower idea growth, sees the human labor force as of year 1 not at 85 million but at a mere 14 million. And the third panel, with faster idea growth, sees the human labor force as of year 1 at 1.4 billon: more than fifteen times as many humans as were actually on the earth in the year 1, but with no greater median standards of living.\n",
    "\n",
    "The faster growth of ideas simulation also produces a population as of today very close to actual history: nearly 7 billion. But the 7 billion people living on the globe, and presumably the six million living in Greater San Francisco, have a very different life in the counterfactual world associated with this simulation run than they do in our reality: living stndards only perhaps one hundredth as high, and peasants working small irrigated fields nearly everywhere flat enough in the Bay Area as far as the eye can see.\n",
    "\n",
    "----\n",
    "\n",
    "&nbsp;"
   ]
  },
  {
   "cell_type": "markdown",
   "metadata": {},
   "source": [
    "**Figure 5.1.6: Allowing Fertility to Respond to Increasing Income per Capita**\n",
    "\n",
    "<img style=\"display:block; margin-left:auto; margin-right:auto;\" src=\"http://delong.typepad.com/.a/6a00e551f08003883401bb09f380cf970d-pi\" alt=\"Fertility Responds to Higher Incomes\" title=\"Fertility_Responds_to_Higher_Incomes.png\" border=\"0\" width=\"600\" height=\"469\" />\n",
    "\n",
    "<img style=\"display:block; margin-left:auto; margin-right:auto;\" src=\"http://delong.typepad.com/.a/6a00e551f08003883401b7c95025fc970b-pi\" alt=\"H 0 01 year\" title=\"h___0_01__year.png\" border=\"0\" width=\"600\" height=\"469\" />\n",
    "\n",
    "<img style=\"display:block; margin-left:auto; margin-right:auto;\" src=\"http://delong.typepad.com/.a/6a00e551f08003883401b8d2da938b970c-pi\" alt=\"H 0 04 year\" title=\"h___0_04__year.png\" border=\"0\" width=\"600\" height=\"482\" />"
   ]
  },
  {
   "cell_type": "markdown",
   "metadata": {},
   "source": [
    "**Glossary**\n",
    "\n",
    "**Malthusian age** A period in which natural-resource scarcity limits any gains from increases in technology; a larger population becomes poor and malnourished, lowering their standard of living, and ultimately lowering population growth to zero.\n",
    "\n",
    "----\n",
    "\n",
    "&nbsp;"
   ]
  },
  {
   "cell_type": "markdown",
   "metadata": {},
   "source": [
    "### 5.1.3 The End of the Malthusian Age\n",
    "\n",
    "Whether Malthus saw clearly what was in the past or not, he would have been astonished by what we have seen of his future. We do not live in a Malthusian age. For at least 200 years improvements in the efficiency of labor made possible by new technologies and better organizations have not been neutralized by natu  ral resource scarcity.\n",
    "\n",
    "However, a Malthusian age may return. Suppose that population in the twenty- first and twenty-second centuries grows as fast as population did in the twentieth century, when it grew at an average rate of 1.33 percent per year. The rule of 72 tells us that a population growing at 1.33 percent per year doubles in 72/1.33 = 54 years. Two hundred years is time for 3.7 doublings, enough time to multiply population about 14-fold. Take the year-2000 estimated population of 6.125 billion, multiply it by 14, and get about 86. If population grows at its twentieth-century average rate for the next two centuries, there will be nearly 90 billion people on Earth in 2200.\n",
    "\n",
    "Surely, should such a population increase come to pass, resource scarcity would once again be a dominant feature of our world. For the past two centuries we econ  omists have been justified in writing down production functions in which the lim  ited supply of natural resources plays only a small part in the determination of productivity and production on a global scale. In a world with a population of 90 billion, we would probably not be justified in doing so. We would have to place more stress on the insights of Malthus.\n",
    "\n",
    "However, it is much more likely that the age of the population explosion is almost over. Current United Nations projections forecast a rise in world population from a bit over 6 billion today to around 10 billion by 2050, and there population increase may well stop. Even in a country like India today, fertility is only a little above two children per potential mother. And in a wide section of the rich world from Japan to Italy, the average woman has fewer than two children in her lifetime.\n",
    "\n",
    "What caused the end of the Malthusian age? How did humanity escape from the trap in which invention and ingenuity increased the numbers but not the material well-being of humans?\n",
    "\n",
    "The end of the Malthusian Age did come as a substantial surprise. As late as 1871, British economist John Stuart Mill was still writing about how the promise of all the inventions of the Industrial Revolution and its consequent speedup in the rate of growth of the human ideas stock was still being neutralized by faster population growth, by the demographic response of human fertility to even small amounts of increased prosperity:\n",
    "\n",
    ">Hitherto it is questionable if all the mechanical inventions yet made have lightened the day's toil of any human being. They have enabled a greater population to live the same life of drudgery and imprisonment, and an increased number of manufacturers and others to make fortunes. They have increased the comforts of the middle classes. But they have not yet begun to effect those great changes in human destiny, which it is in their nature and in their futurity to accomplish.\n",
    "\n",
    ">Only when, in addition to just institutions, the increase of mankind shall be under the deliberate guidance of judicious foresight, can the conquests made from the powers of nature by the intellect and energy of scientific discoverers become the common property of the species, and the means of improving and elevating the universal lot...\n",
    "\n",
    "By \"judicious foresight\", John Stuart Mill meant: fertility control. If people did not moderate their family sizes as they became richer, the government would have to take over the job and restrict fertility by issuing and limiting the number of child licenses. John Staurt Mill was a libertarian—the first true libertarian, perhaps. But John Stuart Mill thought the stakes at hazard in trying to fend off a Malthusian destiny were high enough to require large infringements on individuals' freedom to have many children.\n",
    "\n",
    "Even as late as 1920, economists feared human fertility. In 1919 John Maynard Keynes gave voice to those fears in a world where, as he saw it, the great grain-producing prairies—the Mississippi and Missouri valleys, the Ukraine, the Pampas, the Murray-Darling in Australia—had all been settled and were being intensively exploited:\n",
    "\n",
    ">After 1870... the pressure of population on food, which had already been balanced by the accessibility of supplies from America, became for the first time in recorded history definitely reversed. As numbers increased, food was actually easier to secure.... There were more emigrants... to till the soil of the new countries, and, on the other, more workmen were available in Europe to prepare the industrial products and capital goods which were to maintain the emigrant populations in their new homes, and to build the railways and ships which were to make accessible to Europe food and raw products from distant sources.... The resources of tropical Africa then for the first time came into large employ, and a great traffic in oil-seeds began to bring to the table of Europe in a new and cheaper form one of the essential foodstuffs of mankind. In this economic Eldorado, in this economic Utopia, as the earlier economists would have deemed it, most of us were brought up.\n",
    "\n",
    ">That happy age lost sight of a view of the world which filled with deep-seated melancholy the founders of our Political Economy. Before the eighteenth century mankind entertained no false hopes. To lay the illusions which grew popular at that age's latter end, Malthus disclosed a Devil. For half a century all serious economical writings held that Devil in clear prospect. For the next half century he was chained up and out of sight. Now perhaps we have loosed him again...\n",
    "\n",
    "So how is it that the \"Malthusian Devil\" so feared by Keynes and others even well into the last century was kept so far away?\n",
    "\n",
    "One partial key is that even in the Malthusian age the pace at which inventions occurred did not remain constant, but increased. First of all, the population grew. Inventions made communication easier; especially after the invention of printing, knowledge could spread widely and quickly. More people meant more inventions: Two heads are better than one. The rate of technological progress slowly increased over the millennia. \n",
    "\n",
    "Suppose we model this as well. Suppose we let the rate of increase h of the stock of ideas H depend on the size of the human labor force L. We raise L to some power $ \\lambda $ less than one: while two heads are better than one as far as idea generation is concerned, they are not twice as good as one—a lot of time and energy is spent duplicating thoughts others have already had, and learning things others already know. Suppose we set:\n",
    "\n",
    "(5.1.15)&nbsp;&nbsp;&nbsp;&nbsp;&nbsp;&nbsp;&nbsp;&nbsp;&nbsp;\n",
    "$ h = (h_1)L^{\\lambda}  $\n",
    "\n",
    "and calibrate our model to track the growth of human populations from 8000 BC on up to the year 1. What we then see is recorded in Figure 5.1.7: the rate of increase of population is itself increasing over time—slowly but the growth rate is increasing. This increase is driven because as the human population grows more minds are attacking common problems of how to make things better and more efficiently. And so even with the drag exerted on the efficiency of labor by population growth and resource scarcity, labor efficiency and output per worker are on an upward trend. It is, in this simulation run, a slow upward trend. But the trend is clear.\n",
    "\n",
    "----\n",
    "\n",
    "&nbsp;"
   ]
  },
  {
   "cell_type": "markdown",
   "metadata": {},
   "source": [
    "**Figure 5.1.7: Two Heads Are (Somewhat) Better than One**\n",
    "\n",
    "<img style=\"display:block; margin-left:auto; margin-right:auto;\" src=\"http://delong.typepad.com/.a/6a00e551f08003883401bb09f382e8970d-pi\" alt=\"Two heads are somewhat better than one\" title=\"Two_heads_are_somewhat_better_than_one___.png\" border=\"0\" width=\"600\" height=\"449\" />"
   ]
  },
  {
   "cell_type": "markdown",
   "metadata": {},
   "source": [
    "----\n",
    "\n",
    "&nbsp;"
   ]
  },
  {
   "cell_type": "markdown",
   "metadata": {},
   "source": [
    "Suppose we take a look beyond the year 1 in this \"two heads are (somewhat) better than one\" version of our model. What do we see? We see the Malthusian system break down, and break down about when it actually did. At some point enough people are on the earth thinking about solving the problems of production that rising populations can no longer generate enough resource scarcity to keep the efficiency of labor and average productivity levels from rising sharply, and the world is on the road to an Industrial Revolution. \n",
    "\n",
    "Now it did not have to happen that way. And this is just one simulation run for one particular set of parameters. Nevertheless, it gives us hope that Malthusian stagnation was not ever the likely long-run destiny of the human species.\n",
    "\n",
    "----\n",
    "\n",
    "&nbsp;"
   ]
  },
  {
   "cell_type": "markdown",
   "metadata": {},
   "source": [
    "**Figure 5.1.8: Two Heads Are (Somewhat) Better than One: Reaching Critical Mass**\n",
    "\n",
    "<img style=\"display:block; margin-left:auto; margin-right:auto;\" src=\"http://delong.typepad.com/.a/6a00e551f08003883401b8d2dc89d3970c-pi\" alt=\"2018 02 06 DeLong and Olney Macro 3rd Ch 5 1 The Reality of Economic Growth Before Modern Economic Growth\" title=\"2018-02-06_DeLong_and_Olney_Macro_3rd_Ch_5_1_The_Reality_of_Economic_Growth-Before_Modern_Economic_Growth.png\" border=\"0\" width=\"600\" />"
   ]
  },
  {
   "cell_type": "code",
   "execution_count": 18,
   "metadata": {},
   "outputs": [
    {
     "data": {
      "image/png": "[encoded data removed]",
      "text/plain": [
       "<matplotlib.figure.Figure at 0x11803c400>"
      ]
     },
     "metadata": {},
     "output_type": "display_data"
    },
    {
     "name": "stdout",
     "output_type": "stream",
     "text": [
      "0.054499631036 is the labor force growth rate\n",
      "-9.366666666666666e-05 is the efficiency of labor growth rate\n",
      "0.04 is the depreciation rate\n",
      "0.1 is the savings rate\n",
      "0.3333333333333333 is the decreasing-returns-to-scale parameter\n",
      " \n",
      "86.2235627445 is the labor force in year 0\n",
      "1701.31182448 is output per worker in year 0\n",
      " \n"
     ]
    }
   ],
   "source": [
    "sgm_malthus_run(T=1001, figure_title = \"Two Heads Are (Somewhat) Better than One\", \n",
    "    h=0.0000805, phi=0.01, ybar = 1500)"
   ]
  },
  {
   "cell_type": "markdown",
   "metadata": {},
   "source": [
    "----\n",
    "\n",
    "&nbsp;"
   ]
  },
  {
   "cell_type": "markdown",
   "metadata": {},
   "source": [
    "### 5.1.3.1 The Malthusian Model Brought Together\n",
    "\n",
    "It is worthwhile at this stage to bring the elements of the \"Malthusian\" adjustments that we have made to the Solow growth model together:\n",
    "\n",
    "----\n",
    "\n",
    "&nbsp;\n",
    "\n",
    "#### 5.1.3.1.1 Basics\n",
    "\n",
    "The foundational building block is the Solow growth model of chapter 4, with its capital stock K, output level Y, capital-output level K/Y, labor force L, output-per-worker level Y/L, capital-labor ratio K/L, labor force L growth rate n, efficiency of labor E, efficiency of labor E growth rate g, depreciation rate $ \\delta $, savings-investment share s, and production function diminishing returns to investment parameter $ \\alpha $. That basic Solow growth model contains the following standard equations: the production function, and the growth rates of the capital stock, the labor force, and the efficiency of labor:\n",
    "\n",
    "(5.1.1) &nbsp;&nbsp;&nbsp;&nbsp;&nbsp;&nbsp;&nbsp;&nbsp;&nbsp;\n",
    "$ Y = K^{\\alpha}(EL)^{1-\\alpha} $\n",
    "\n",
    "(5.1.16)&nbsp;&nbsp;&nbsp;&nbsp;&nbsp;&nbsp;&nbsp;&nbsp;&nbsp;\n",
    "$ \\frac{dln(K)}{dt} = s\\left(\\frac{Y}{K}\\right) - \\delta $\n",
    "\n",
    "(5.1.17)&nbsp;&nbsp;&nbsp;&nbsp;&nbsp;&nbsp;&nbsp;&nbsp;&nbsp;\n",
    "$ \\frac{dln(L)}{dt} = n $\n",
    "\n",
    "(5.1.18)&nbsp;&nbsp;&nbsp;&nbsp;&nbsp;&nbsp;&nbsp;&nbsp;&nbsp;\n",
    "$ \\frac{dln(E)}{dt} = g $\n",
    "\n",
    "From these, and from the inital conditions on the labor force L<sub>0</sub>, the efficience of labor E<sub>0</sub>, and the initial capital-output ratio K<sub>0</sub>/Y<sub>0</sub>, we derived the steady-state balanced-growth path capital-output ratio:\n",
    "\n",
    "(5.1.19)&nbsp;&nbsp;&nbsp;&nbsp;&nbsp;&nbsp;&nbsp;&nbsp;&nbsp;\n",
    "$ \\left(\\frac{K}{Y}\\right)^* = \\frac{s}{n+g+\\delta} $\n",
    "\n",
    "Output per worker along the balanced growth path at any moment in time t:\n",
    "\n",
    "(5.1.20)&nbsp;&nbsp;&nbsp;&nbsp;&nbsp;&nbsp;&nbsp;&nbsp;&nbsp;\n",
    "$ \\left(\\frac{Y_t}{L_T}\\right)^* = \n",
    "\\left(\\frac{s}{n+g+\\delta}\\right)^\\left(\\frac{\\alpha}{1-\\alpha}\\right)E_t =\n",
    "\\left(\\frac{s}{n+g+\\delta}\\right)^\\left(\\frac{\\alpha}{1-\\alpha}\\right)E_{0}e^{gt} $\n",
    "\n",
    "And the convergence of the economy to its balanced growth path:\n",
    "\n",
    "(5.1.21)&nbsp;&nbsp;&nbsp;&nbsp;&nbsp;&nbsp;&nbsp;&nbsp;&nbsp;\n",
    "$ \\left(\\frac{K_t}{Y_t}\\right) = \n",
    "\\left(\\frac{s}{n+g+\\delta}\\right) + \\left[\\frac{K_0}{Y_0} - \\frac{s}{n+g+\\delta}\\right] \n",
    "\\left[e^{-(1-\\alpha)(n+g+\\delta)t}\\right] $\n",
    "\n",
    "While this model could fit, in broad strokes, human historical experience from 8000 BC to 1500 with a growth rate  g of the efficiency of labor E of 0 and a growth rate of the labor force of 0.044% per year, it seemed to require an explanation of why labor efficiency did not change from 8000 BC to 1500 in spite of a great deal of human, technological insight, invention, and innovation.\n",
    "\n",
    "----\n",
    "\n",
    "&nbsp;"
   ]
  },
  {
   "cell_type": "markdown",
   "metadata": {},
   "source": [
    "#### 5.1.3.1.2 Resources, Ideas, and Efficiency\n",
    "\n",
    "Hence we moved on to the first Malthusian insight: that the efficiency of labor E depends not just on the non-rival quantity of human knowledge and ingenuity—\"ideas\"—H but on the very rival state of natural resources N per worker L:\n",
    "\n",
    "(5.1.2) &nbsp;&nbsp;&nbsp;&nbsp;&nbsp;&nbsp;&nbsp;&nbsp;&nbsp;\n",
    "$ E = \\left(\\frac{N}{L}\\right)^{\\left(\\frac{1}{1+\\gamma}\\right)}H^{\\left(\\frac{\\gamma}{1+\\gamma}\\right)}  $\n",
    "\n",
    "Which gave us our growth rate of the efficiency of labor E as:\n",
    "\n",
    "(5.1.22)&nbsp;&nbsp;&nbsp;&nbsp;&nbsp;&nbsp;&nbsp;&nbsp;&nbsp;\n",
    "$ \\frac{dln(E)}{dt} = \n",
    "\\left(\\frac{1}{1+\\gamma}\\right)\n",
    "\\left(\\frac{dln(N)}{dt} - \\frac{dln(L)}{dt} \\right) +\n",
    "\\left(\\frac{\\gamma}{1+\\gamma}\\right)\n",
    "\\left(\\frac{dln(H)}{dt}\\right)  $\n",
    "\n",
    "Which, in the case in which natural resources are constant, becomes:\n",
    "\n",
    "(5.1.23)&nbsp;&nbsp;&nbsp;&nbsp;&nbsp;&nbsp;&nbsp;&nbsp;&nbsp;\n",
    "$ \\frac{dln(E)}{dt} = g =\n",
    "\\left(\\frac{\\gamma}{1+\\gamma}\\right)\n",
    "\\left(\\frac{dln(H)}{dt}\\right) -\n",
    "\\left(\\frac{1}{1+\\gamma}\\right)\n",
    "\\left(\\frac{dln(L)}{dt} \\right) =\n",
    "\\left(\\frac{\\gamma}{1+\\gamma}\\right)h -\n",
    "\\left(\\frac{1}{1+\\gamma}\\right)n\n",
    "$\n",
    "\n",
    "Faster population and labor force growth thue exerts a drag on efficiency of labor as with more people typical workers have to deal with smaller farms and worse ore veins. This setup can broadly fit agrarian age human economic growth if, for a relative importance of ideas to resources parameter $ \\gamma $, labor force growth n = 0.044% per year and the ideas stock H has rate of growth h = 0.022% per year. This, however, seemed unsatisfactory at all. Why should idea growth exactly offset labor force growth in its effects on the efficiency of labor? That seemed to require an answer.\n",
    "\n",
    "----\n",
    "\n",
    "&nbsp;"
   ]
  },
  {
   "cell_type": "markdown",
   "metadata": {},
   "source": [
    "#### 5.1.3.1.3 Prosperity and Fertility\n",
    "\n",
    "The answer comes in the second Malthusian insight. Starting from:\n",
    "\n",
    "(5.1.23)&nbsp;&nbsp;&nbsp;&nbsp;&nbsp;&nbsp;&nbsp;&nbsp;&nbsp;\n",
    "$ g = \\left(\\frac{\\gamma}{1+\\gamma}\\right)h - \\left(\\frac{1}{1+\\gamma}\\right)n  $\n",
    "\n",
    "invoke the principal that, within limits and to a degree, a more prosperous economy (relative to some sociologically and biologically driven \"subsistence\" level of productivity and standard of living that yields zero population growth) has a faster growth rate of population and labor force growth:\n",
    "\n",
    "(5.1.24)&nbsp;&nbsp;&nbsp;&nbsp;&nbsp;&nbsp;&nbsp;&nbsp;&nbsp;\n",
    "$ n = \\left(\\frac{\\phi}{\\bar{y}}\\right)\\left[\\frac{Y}{L}-{\\bar{y}}\\right]  $\n",
    "\n",
    "Hence the rate of growth of the efficiency of labor—and thus the rate of growth of output per worker—depends negatively on the level of output per worker relative to subsistence. Thus efficiency of labor growth speeds up and slows down to keep the level of output per worker around that level at which population and labor force growth are just rapid enough to cause increasing natural resource scarcity that offsets the growth rate h of the human stock of useful technological ideas H:\n",
    "\n",
    "(5.1.25)&nbsp;&nbsp;&nbsp;&nbsp;&nbsp;&nbsp;&nbsp;&nbsp;&nbsp;\n",
    "$ g = \n",
    "\\left(\\frac{\\gamma}{1-\\gamma}\\right)h - \n",
    "\\left(\\frac{1}{1-\\gamma}\\right)\n",
    "\\left(\\frac{\\phi}{\\bar{y}}\\right)\\left[\\frac{Y}{L}-{\\bar{y}}\\right] $\n",
    "\n",
    "&nbsp;"
   ]
  },
  {
   "cell_type": "markdown",
   "metadata": {},
   "source": [
    "#### 5.1.3.1.4 Two Heads Are Better than One\n",
    "\n",
    "This provides an explanation for why the stagnation of living standards and productivity levels worldwide during the agrarian age lasted. And it did last. For more than nine thousand years. But this story provides no inight into how it ended.\n",
    "\n",
    "One possibility, most strongly argued by economist Michael Kremer of Harvard and Brookings, is that humans are, in a sense, an anthology intelligence: alone we are not smart, but collectively we are, and the more of us there are around the smarter we all are. Thus Michael Kremer considers the implications of assuming that the useful ideas stock H grows at a rate h that is an increasing function of the labor force:\n",
    "\n",
    "(5.1.26) &nbsp;&nbsp;&nbsp;&nbsp;&nbsp;&nbsp;&nbsp;&nbsp;&nbsp;\n",
    "$ h = (h_1)L^{\\lambda}  $\n",
    "\n",
    "This assumption produces, eventually, escape from the Malthusian population and poverty agrarian age economic régime. Eventually population becomes large enough that useful ideas are being generated fast enough that population growth can no longer exert enough of a drag to keep the efficiency of labor from rising. And then the world economy would be on the road to its present trajectory. In this framework, something like the Industrial Revolution and the subsequent era of Modern Economic Growth in which we live was nearly inevitable, rather than some kind of lucky \"eye of the needle\" escape.\n",
    "\n",
    "----\n",
    "\n",
    "&nbsp;"
   ]
  },
  {
   "cell_type": "markdown",
   "metadata": {},
   "source": [
    "### 5.1.3.2 Demography\n",
    "\n",
    "### 5.1.3.2.1 The Demographic Transition\n",
    "\n",
    "In fact, things in actual history were not as gloomy as Malthus had concluded. The positive dependence of population and labor force growth on prosperity, with increasing prosperity producing increasing population growth, was not an iron law of human nature. Humans, rather, underwent a demographic transition. Societies that are rich enough, in which women are literate enough and in which the subjection of women is not powerful enough, tend not toward ever increasing population growth as prosperity increases, but rather toward zero population growth as prosperity increases.\n",
    "\n",
    "By about 1500 technological progress passed the point at which it could offset increased scarcity of natural resources due to population growth. Sustained increases not just in popula  tion but in the productivity of labor followed. As real incomes and standards of living showed sustained growth, what we call the demographic transition began.\n",
    "\n",
    "At first the rise in material standards of living brought sharp increases in the rate of population growth: the population explosion. But as material standards of living rose far above subsistence, countries began to undergo the demographic transition, sketched out in Figure 5.1.9. Birth control meant that those who did not wish to have more children could exercise their choice. Parents began to find more satisfaction in having a few children and paying a great deal of attention to each. The resources of the average household continued to increase, but the number of children born fell. \n",
    "\n",
    "----\n",
    "\n",
    "&nbsp;"
   ]
  },
  {
   "cell_type": "markdown",
   "metadata": {},
   "source": [
    "**Figure 5.1.9: The Demographic Transition a Stylized Picture**\n",
    "\n",
    "<img style=\"display:block; margin-left:auto; margin-right:auto;\" src=\"http://delong.typepad.com/.a/6a00e551f08003883401b7c950f1b6970b-pi\" alt=\"Stylized\" title=\"stylized.png\" border=\"0\" width=\"600\" />\n",
    "\n",
    "The demographic transition sees, first, a rise in birth rates and a sharp fall in death rates as material standards of living in  crease above subsistence levels. But after a while birth rates start to decline rapidly too. The end of the demographic transition sees both birth and death rates at a relatively low level and the population nearly stable.\n",
    "\n",
    "----\n",
    "\n",
    "&nbsp;"
   ]
  },
  {
   "cell_type": "markdown",
   "metadata": {},
   "source": [
    "**Figure 5.1.10: The Demographic Transition in Five Countries**\n",
    "\n",
    "<img style=\"display:block; margin-left:auto; margin-right:auto;\" src=\"http://delong.typepad.com/.a/6a00e551f08003883401bb09f45383970d-pi\" alt=\"World Population Growth Our World in Data\" title=\"World_Population_Growth_-_Our_World_in_Data.png\" border=\"0\" width=\"600\" />\n",
    "\n",
    "###### Source: Max Romer: Our World in Data: World Population Growth <https://ourworldindata.org/world-population-growth>\n",
    "\n",
    "----\n",
    "\n",
    "&nbsp;"
   ]
  },
  {
   "cell_type": "markdown",
   "metadata": {},
   "source": [
    "----\n",
    "\n",
    "&nbsp;\n",
    "\n",
    "Thus when the Malthusian framework broke down—when the generation of ideas became so fast that increasing population growth could no longer neutralize it, and when the efficiency of labor in the economy began growing rapidly—it was not the case that the human population exploded without limit. Exploded, yes. Exploded without limit, no. After living standards began to exceed roughly twice those of zero population growth from poverty \"sugsistence\", population and thus labor force growth rates began to fall again. And the rate of ideas generation also did not continue to explode with the level of population: humanity does not seem to be able to produce more than the 2 percent per year in the proportional growth rate of the efficiency of labor we began to see in the late nineteenth century, when there were only a fifth as many people on the world as there are now.\n",
    "\n",
    "Thus adjust the Malthusian simulation model for this demographic transition, and for this apparent speed limit on the rate of innovation. This \"two heads are better than one\" model does produce an Industrial Revolution—eventually: sooner for a high value of $ h_0 $ (and for a high value of $ \\phi $), later for a low value of $ h_0 $ (and for a low value of $ \\phi  $. Is this model a good guide to the manifold possibilities that human history held ten thousand years ago? That is an issue worth thinking about:\n",
    "\n"
   ]
  },
  {
   "cell_type": "markdown",
   "metadata": {},
   "source": [
    "**Figure 5.1.11: End of the Malthusian Era: Demographic Transition and Innovation Speed Limit**"
   ]
  },
  {
   "cell_type": "markdown",
   "metadata": {},
   "source": [
    "----\n",
    "\n",
    "&nbsp;"
   ]
  },
  {
   "cell_type": "markdown",
   "metadata": {},
   "source": [
    "### 5.1.3.2.2 Transition to Global Zero Population Growth?\n",
    "\n",
    "Thus the long-run relationship between levels of productivity and population growth rates was not—as Malthus thought—a spiral of ever-faster population growth rates as material standards of living increased. Instead, population growth rates peaked and began to decline.\n",
    "\n",
    "In the world today not all countries have gone through their demographic tran  sitions. Many countries are not rich enough to have begun the population growth declines seen in the second half of the demographic transition. Countries such as Nigeria, Iraq, Pakistan, and the Congo are currently projected to have population growth rates in excess of 2 percent per year over the next generation, as Figure 5.3 shows. But in a large group of developing countries like Thailand, China, Korea, and South Africa, population growth over the next generation is projected to be less than 1 percent per year. And in the industrialized countries like Japan, Italy, and Germany, populations are projected to stay nearly the same over the next generation.\n",
    "\n",
    "----\n",
    "\n",
    "&nbsp;"
   ]
  },
  {
   "cell_type": "markdown",
   "metadata": {},
   "source": [
    "**Figure 5.1.12 Expected Population Growth Rates**\n",
    "\n",
    "The population of India is projected to grow at 1.3 percent and that of China at 0.7 percent per year over the next generation. Demographers today believe that the world population has at most one more doubling to undergo before the de  mographic transition will have taken hold throughout the world.\n",
    "\n",
    "<img style=\"display:block; margin-left:auto; margin-right:auto;\" src=\"http://delong.typepad.com/.a/6a00e551f08003883401bb09f44f39970d-pi\" alt=\"Projected Population Growth\" title=\"Projected_Population_Growth.png\" border=\"0\" width=\"600\" />\n",
    " \n",
    "###### Source: United Nations.\n",
    "\n",
    "----\n",
    "\n",
    "&nbsp;"
   ]
  },
  {
   "cell_type": "markdown",
   "metadata": {},
   "source": [
    "### 5.1.3.3 Industry\n",
    "\n",
    "#### 5.1.3.3.1 The Industrial Revolution: Cotton and Steam\n",
    "\n",
    "The century after 1750 saw the Industrial Revolution proper: the invention of the steam engine, the spinning jenny, the power loom, the hydraulic press, the rail road locomotive, the water turbine, and the electric motor—as well as the hot-air balloon, gas lighting, photography, and the sewing machine. \n",
    "\n",
    "This Industrial Revolution began in the midlands of England. The fact that Britain was the center of the Industrial Revolution meant that for a century, from 1800 to 1900, British levels of industrial productivity and British standards of living were the highest in the world. It made the United Kingdom—then of England the Scotland, later of Great Britain and Ireland, later still of Great Britain and Northern Ireland—the greatest imperial power the world had ever seen, and the world's first superpower. It also meant that English (rather than Hindi, Mandarin, French, or Spanish) became the world’s de facto second language.\n",
    "\n",
    "The bulk of the productivity gains from the first century of this process, however, came in a few narrow sectors: coal mining, steam power, cotton spinning, and later cotton weaving and the railroad."
   ]
  },
  {
   "cell_type": "markdown",
   "metadata": {},
   "source": [
    "**Figure 5.1.12: Leading Sectors of the Industrial Revolution: British Cotton Spinning and Weaving**\n",
    "\n",
    "<img style=\"display:block; margin-left:auto; margin-right:auto;\" src=\"http://delong.typepad.com/.a/6a00e551f08003883401b7c950f6d7970b-pi\" alt=\"Faculty econ ucdavis edu faculty gclark papers secret2001 pdf\" title=\"faculty_econ_ucdavis_edu_faculty_gclark_papers_secret2001_pdf.png\" border=\"0\" width=\"600\" />\n",
    "\n",
    "###### Source: Greg Clark: The Secret History of the Industrial Revolution <http://faculty.econ.ucdavis.edu/faculty/gclark/papers/secret2001.pdf>\n",
    "\n",
    "----\n",
    "\n",
    "&nbsp;"
   ]
  },
  {
   "cell_type": "markdown",
   "metadata": {},
   "source": [
    "#### 5.1.3.3.1 The Industrial Revolution: Elasticity of Demand\n",
    "\n",
    "Looking back through human history before the Industrial Revolution, there had been previous episodes of technological breakthrough. The alloying of bronze, the smelting of iron, the creation of currency and the market economy not just for priests and kings and their counterparties but for everybody, determining how to make the olive a staple, double-cropping wet paddy rice, the heavy moldboard plough, gunpowder, printing, the compass and the caravel. But none of those triggered the kind of cumulative upward leap in technology that then fed upon itself that the Industrial Revolution did.\n",
    "\n",
    "Is it because there were not enough heads yet in the world—that it required the more than 500 million post-1500 population to generate an Industrial Revolution, as \"two heads are better than one\" theory would suggest? Or does the concentration of innovative activity from 1600-1800 in one small island off the northwest coast of Europe suggest something specific about that island: Britain? And if so, what?\n",
    "\n",
    "One way in which the British Industrial Revolution technological innovations were different from previous lay in the elasticity of demand for their products. Gutenberg's invention of printing was a marvelous thing for book consumers. But it had little effect on the economy as a whole, for there weren't then that many book consumers, they did not spend that large a share of their income on books, and their quantity demanded of books did not rise rapidly as the price of books declined. The price elasticity of demand for the products of a leading innovative sector is key for assessing its impact on the entire economy.\n",
    "\n",
    "For example, suppose that we have a commodity undergoing a revolutionary change in productive techniques—each year the productivity of labor and capital employed in producing it grows at a rate $ \\gamma $ so that its price relative to other commodities falls at that rate $ \\gamma $—and where the elasticity of demand $ \\sigma $ is zero...\n",
    "\n",
    "Suppose we have an equation for the demand for revolutionary goods ( $ Y_r $) would be:\n",
    "\n",
    "&nbsp;&nbsp;&nbsp;&nbsp;&nbsp;&nbsp;&nbsp;&nbsp;&nbsp;\n",
    "$ Y_r = Y_{r0}\\left({P_r}^{-\\sigma}\\right) $\n",
    "\n",
    "&nbsp;&nbsp;&nbsp;&nbsp;&nbsp;&nbsp;&nbsp;&nbsp;&nbsp;\n",
    "$ {P_r} = e^{-{\\gamma}t} $\n",
    "\n",
    "Resources not used to produce revolutionary goods are used to produce old goods ( $ Y_o $):\n",
    "\n",
    "&nbsp;&nbsp;&nbsp;&nbsp;&nbsp;&nbsp;&nbsp;&nbsp;&nbsp;\n",
    "$ Y_o = R - {P_r}{Y_r} $\n",
    "\n",
    "and total output is the sum of production of both old and revolutionary goods:\n",
    "\n",
    "$ Y = Y_o + Y_r $\n",
    "\n",
    "Then how big a deal this is for the economy depends very much on the elasticity of demand for the products produced:"
   ]
  },
  {
   "cell_type": "markdown",
   "metadata": {},
   "source": [
    "#### 5.1.3.3.2 Diffusion to Other Sectors\n",
    "\n",
    "But the Industrial Revolution was not just a burst of inventions. It was an economic transformation that revolutionized the process of invention as well. Since 1850 the pace of invention and innovation has further accelerated: steel making, the internal combustion engine, pasteurization, the typewriter, the cash register, the telephone, the automobile, the radio, the airplane, the tank, the limited-access highway, the photo copier, the computer, the pacemaker, nuclear weapons, superconductivity, genetic fingerprinting, and the human genome map. \n",
    "\n",
    "The coming of the Industrial Revolution thus marked the beginning of the era of modern economic growth, in which new technological leaps routinely revolutionized industries and generated major improvements in living standards.\n",
    "\n",
    "----\n",
    "\n",
    "&nbsp;"
   ]
  },
  {
   "cell_type": "markdown",
   "metadata": {},
   "source": [
    "#### 5.1.3.3.3 Limited Pace—by Our Standards\n",
    "\n",
    "Yet it is important to recognize that the gulf that separates us in the world economy’s industrial core from the citizens of Industrial Revolution Britain is much greater than the gulf that separated Britain in 1800 from medieval or ancient peasants and nobles. Economic historian N. F. R. Crafts calculated that 10 modern-day automobiles have more horsepower than all the steam engines of Britain in 1800, and the vehicles of Berkeley, California, today have more horsepower than the steam power of Britain in 1870. \n",
    "\n",
    "Moreover, growth during the Britsh Industrial Revolution was, by our standards, very slow. It was much faster than it had been back in the agrarian age. But\n",
    "\n",
    "Thus the people who lived through the Industrial Revolution remained very poor: nearly as poor as in the agrarian age. Consider the standard of living portrayed in Charles Dickens’s _Oliver Twist_:\n",
    "\n",
    ">So they established the rule that all poor people should have the alternative (for they would compel nobody, not they) of being starved by a gradual process in the house, or by a quick one out of it. With this view, they contracted with the waterworks to lay on an unlimited supply of water, and with a corn-factor to supply periodically small quantities of oatmeal, and issued three meals of thin gruel a day, with an onion twice a week and half a roll on Sundays. They made a great many other wise and humane regulations... kindly undertook to divorce poor married people... instead of compelling a man to support his family, as they had theretofore done, took his family away from him, and made him a bachelor! There is no saying how many applicants for relief, under these last two heads, might have started up in all classes of society, if it had not been coupled with the workhouse; but the board were long-headed men, and had provided for this difficulty. The relief was inseparable from the workhouse and the gruel, and that frightened people...\n",
    "\n",
    "or in Karl Marx’s best lifelong friend Friedrich Engels's _The Condition of the Working Class in England_:\n",
    "\n",
    ">Let us hear Mr. G. Alston, p. 29preacher of St. Philip’s, Bethnal Green, on the condition of his parish.  He says:\n",
    "\n",
    ">>It contains 1,400 houses, inhabited by 2,795 families, or about 12,000 persons.  The space upon which this large population dwells, is less than 400 yards (1,200 feet) square, and in this overcrowding it is nothing unusual to find a man, his wife, four or five children, and, sometimes, both grandparents, all in one single room, where they eat, sleep, and work.  I believe that before the Bishop of London called attention to this most poverty-stricken parish, people at the West End knew as little of it as of the savages of Australia or the South Sea Isles.  And if we make ourselves acquainted with these unfortunates, through personal observation, if we watch them at their scanty meal and see them bowed by illness and want of work, we shall find such a mass of helplessness and misery, that a nation like ours must blush that these things can be possible.  I was rector near Huddersfield during the three years in which the mills were at their worst, but I have never seen such complete helplessness of the poor as since then in Bethnal Green.  Not one father of a family in ten in the whole neighbourhood has other clothing than his working suit, and that is as bad and tattered as possible; many, indeed, have no other covering for the night than these rags, and no bed, save a sack of straw and shavings...\n",
    "\n",
    "----\n",
    "\n",
    "&nbsp;"
   ]
  },
  {
   "cell_type": "markdown",
   "metadata": {},
   "source": [
    "**Figure 5.1.13: Slow Growth (by Modern Standards) in the British Industrial Revolution**\n",
    "\n",
    "<img style=\"display:block; margin-left:auto; margin-right:auto;\" src=\"http://delong.typepad.com/.a/6a00e551f08003883401bb09f4547f970d-pi\" alt=\"Faculty econ ucdavis edu faculty gclark papers secret2001 pdf\" title=\"faculty_econ_ucdavis_edu_faculty_gclark_papers_secret2001_pdf.png\" border=\"0\" width=\"600\" />\n",
    "\n",
    "###### Source: Greg Clark: The Secret History of the Industrial Revolution <http://faculty.econ.ucdavis.edu/faculty/gclark/papers/secret2001.pdf>"
   ]
  },
  {
   "cell_type": "markdown",
   "metadata": {},
   "source": [
    "#### 5.1.3.3.4 Why Late 1700s Britain? Why Not Elsewhere? Why Not Elsewhen?\n",
    "\n",
    "Why the Industrial Revolution took place in Britain and why it took place in the years around 1800 have long been and will long remain among the knottiest and most important puzzles in world economic history. The standard explanation four five largely independent strands coming together. The establishment of limited government, security of property, and freedom of contract in Britain after the Glorious Revolution of 1688 played a substantial role. The creation of modern science and of the technological tradition of sustained inquiry into how the world worked—free of constraints from theology—was another. A third was the victory of Great Britain in the wars of the Commercial Revolution era, which gave Britain an immense share of the world's mercantile wealth as of the 1700s and made it a very high wage and prosperous economy indeed for a pre-industrial economy. A fourth was the tradition of machinery making, \"tinkering\", and \"gadgets\"—primarily made out of metal. And the fifth and last was the extraordinary abundance of easily mined and transported coal in Britain—the only thing that made a steam engine potentially profitable.\n",
    "\n",
    "Medieval China had, under the Sung Dynasty, a market economy and security of property. Southern Sung China did indeed produce more iron than Britain was to produce until the very end of the eighteenth century. Sung China was the heir of much technological innovation—printing, gunpowder, the compass, greatly improved forms of rice, river barges that in conjunction with the great civil engineering works like the Grand Canal made transport extraordinarily cheap—but no Scientific Revolution. \n",
    "\n",
    "Classical and Hellenistic Greece had the tradition of inquiry into how the world worked—but it would have been beneath the gentlemen who created Greek mathematics and science for them to devote themselves to improving processes of manufacture. \n",
    "\n",
    "And certainly anybody looking at the world from 750 to 1500 would have been highly likely to assess the Islamic Middle East as the most likely location for explosive innovation and economic development: it was the center in the days starting with the splendid 800s court of the Abbasid Kalif Harun Al-Rashid and the library-research center-university that was his son Abu al-Abbas al-Manun's House of Wisdom (Bayt al-Hikma: بيت الحكمة) on up to the high degree of societal and military organization of the Ottoman and Moghul conquering emperors Suleiman and Babur of the 1500s.\n",
    "\n",
    "Economic historians have long argued about which of these factors triggering the Industrial Revolution were essential for its success—and for the failure to obtain a similar economic breakthrough anywhere earlier. Economic historians have long argued about their relative importance—and about whether the British Industrial Revolution was humanity's only likely escape from the Malthusian agrarian age, or whether, as Michael Kremer argues, eventually \"two heads are better than one\" would have fulfilled its destiny. They will continue to argue for a long time, if not forever.\n",
    "\n",
    "----\n",
    "\n",
    "&nbsp;"
   ]
  },
  {
   "cell_type": "markdown",
   "metadata": {},
   "source": [
    "#### 5.1.3.3.3 Nineteenth Century Spread of Industrial Technology\n",
    "\n",
    "At least as important as the Btitish Industrial Revolution is the fact that the technologies of the Industrial Revolution did not remain narrowly confined to Britain. Their spread was rapid to western Europe and the United States. It was less rapid—but still relatively thorough and complete—to southern and eastern Europe and, most interesting perhaps, Japan.\n",
    "\n",
    "----\n",
    "\n",
    "&nbsp;"
   ]
  },
  {
   "cell_type": "markdown",
   "metadata": {},
   "source": [
    "**Figure 5.1.14: Industrializing Areas of the World, 1900**\n",
    "\n",
    "<img style=\"display:block; margin-left:auto; margin-right:auto;\" src=\"http://delong.typepad.com/.a/6a00e551f08003883401b7c950f301970b-pi\" alt=\"Industrializin Areas\" title=\"Industrializin_Areas.png\" border=\"0\" width=\"600\" />\n",
    "\n",
    "Perhaps the most important lesson to draw from this short look at economic history is that economists' standard growth models apply to a relatively narrow slice of time. For instance, the Solow growth model discussed in Chapter 4 does not illuminate very much regard  ing the period before 1800, yet it is very useful in analyzing what has hap  pened over the past two centuries, as well as what is going on today with respect to the growth of different national economies.\n",
    "\n",
    "###### Source: Steven Dorwick and J. Bradford DeLong, \"Globalization and Convergence,\" in Michael D. Bordo, Alan M. Taylor, and Jeffrey G. Williamson, eds., Globalization in Historical Perspective (Chicago: University of Chicago Press, 2003).\n",
    "\n",
    "----\n",
    "\n",
    "&nbsp;"
   ]
  },
  {
   "cell_type": "markdown",
   "metadata": {},
   "source": [
    "**Glossary**:\n",
    "\n",
    "**Demographic transition**: A period in history which sees first a rise and then a fall in birth rates and a sharp fall in death rates as material standards of living increase above \"subsistence\" levels.\n",
    "\n",
    "**Industrial Revolution**: The transformation of the British economy between 1750 and 1850 when, due to technological advances, largely handmade production was replaced by machine- made production.\n",
    "\n",
    "**Malthusian age**: A period in which natural resource scarcity limits any gains from increases in technology; a larger population becomes poor and malnourished, lowering their standard of living, and ultimately lowering population growth to zero.\n",
    "\n",
    "**Resource scarcity**: Shortage in natural resources such as fertile land and water, relative to population.\n",
    "\n",
    "----\n",
    "\n",
    "&nbsp;"
   ]
  },
  {
   "cell_type": "markdown",
   "metadata": {},
   "source": [
    "## 5.1.4 RECAP: Before Modern Economic Growth\n",
    "\n",
    "**Up until 1800 human populations grew very slowly; and human living standards were stagnant. After 1800 we see sustained rises in living standards. And after 1800 human numbers grew as the population explosion took hold and carried our total population to 6 billion in 2004. At first the rise in material standards of living brought sharp increases in the rate of population growth: the population explosion. But as material standards of living rose far above subsistence, countries began to undergo the demographic transition, as population growth\n",
    "rates peaked and began to decline toward stability.**\n",
    "\n",
    "----\n",
    "\n",
    "&nbsp;"
   ]
  }
 ],
 "metadata": {
  "kernelspec": {
   "display_name": "Python 3",
   "language": "python",
   "name": "python3"
  },
  "language_info": {
   "codemirror_mode": {
    "name": "ipython",
    "version": 3
   },
   "file_extension": ".py",
   "mimetype": "text/x-python",
   "name": "python",
   "nbconvert_exporter": "python",
   "pygments_lexer": "ipython3",
   "version": "3.6.1"
  }
 },
 "nbformat": 4,
 "nbformat_minor": 2
}
