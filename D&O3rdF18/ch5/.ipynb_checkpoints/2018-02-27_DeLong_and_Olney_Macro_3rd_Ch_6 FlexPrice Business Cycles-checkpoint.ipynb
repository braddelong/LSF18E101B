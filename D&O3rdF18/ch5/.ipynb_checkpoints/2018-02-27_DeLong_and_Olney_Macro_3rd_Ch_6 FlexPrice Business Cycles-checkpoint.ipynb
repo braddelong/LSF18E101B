{
 "cells": [
  {
   "cell_type": "markdown",
   "metadata": {
    "slideshow": {
     "slide_type": "notes"
    }
   },
   "source": [
    "### 2018-03-04 DeLong and Olney Macroeconomics 3rd Edition ch 6"
   ]
  },
  {
   "cell_type": "markdown",
   "metadata": {},
   "source": [
    "## Setting up the Python/Jupyter environment"
   ]
  },
  {
   "cell_type": "code",
   "execution_count": 1,
   "metadata": {},
   "outputs": [
    {
     "data": {
      "application/javascript": [
       "\n",
       "IPython.OutputArea.prototype._should_scroll = function(lines) {\n",
       "    return false;}"
      ],
      "text/plain": [
       "<IPython.core.display.Javascript object>"
      ]
     },
     "metadata": {},
     "output_type": "display_data"
    }
   ],
   "source": [
    "%%javascript\n",
    "\n",
    "IPython.OutputArea.prototype._should_scroll = function(lines) {\n",
    "    return false;}"
   ]
  },
  {
   "cell_type": "code",
   "execution_count": 2,
   "metadata": {
    "collapsed": true
   },
   "outputs": [],
   "source": [
    "# keep output cells from shifting to autoscroll: little scrolling\n",
    "# subwindows within the notebook are an annoyance..."
   ]
  },
  {
   "cell_type": "code",
   "execution_count": 3,
   "metadata": {},
   "outputs": [
    {
     "name": "stderr",
     "output_type": "stream",
     "text": [
      "/Users/delong/anaconda3/lib/python3.6/site-packages/statsmodels/compat/pandas.py:56: FutureWarning: The pandas.core.datetools module is deprecated and will be removed in a future version. Please use the pandas.tseries module instead.\n",
      "  from pandas.core import datetools\n"
     ]
    }
   ],
   "source": [
    "# set up the environment by reading in every library we might need: \n",
    "# os... graphics... data manipulation... time... math... statistics...\n",
    "\n",
    "import sys\n",
    "import os\n",
    "from urllib.request import urlretrieve\n",
    "\n",
    "import matplotlib as mpl\n",
    "import matplotlib.pyplot as plt\n",
    "from IPython.display import Image\n",
    "\n",
    "import pandas as pd\n",
    "from pandas import DataFrame, Series\n",
    "from datetime import datetime\n",
    "\n",
    "import scipy as sp\n",
    "import numpy as np\n",
    "import math\n",
    "import random\n",
    "\n",
    "import seaborn as sns\n",
    "import statsmodels\n",
    "import statsmodels.api as sm\n",
    "import statsmodels.formula.api as smf\n",
    "\n",
    "# report library versions..."
   ]
  },
  {
   "cell_type": "code",
   "execution_count": 4,
   "metadata": {
    "collapsed": true
   },
   "outputs": [],
   "source": [
    "%matplotlib inline \n",
    "\n",
    "# put graphs into the notebook itself..."
   ]
  },
  {
   "cell_type": "code",
   "execution_count": 5,
   "metadata": {
    "collapsed": true
   },
   "outputs": [],
   "source": [
    "# graphics setup: seaborn-whitegrid and figure size...\n",
    "\n",
    "plt.style.use('seaborn-whitegrid')\n",
    "\n",
    "figure_size = plt.rcParams[\"figure.figsize\"]\n",
    "figure_size[0] = 12\n",
    "figure_size[1] = 9\n",
    "plt.rcParams[\"figure.figsize\"] = figure_size"
   ]
  },
  {
   "cell_type": "markdown",
   "metadata": {},
   "source": [
    "# Part III Flexible Price Macroeconomics\n",
    "\n",
    "In this part we shift our point of view and take a \"snapshot\" of the economy, looking at it over such a short period that its productive resources are fixed but such a long period that wages and prices are fully flexible. \n",
    "\n",
    "In this analysis, the/key questions are: \n",
    "\n",
    "* What are the economic forces that keep real GDP at its equilibrium value? \n",
    "* And in an economy with flexible wages and prices what determines the division of real GDP among:\n",
    "    * consumption spending, \n",
    "    * investment spending, \n",
    "    * government purchases, and \n",
    "    * net exports?\n",
    "\n",
    "Part 3 contains three chapters. Chapter 6 assembles the building blocks. It analyzes the determinants of the components of spending that make up GDP. The answers to the questions above are the same whether prices are flexible (Part 3) or sticky (as they will be in Part 4). So our building blocks form the basis for both our long-run and our short-run stories. \n",
    "\n",
    "In Chapter 7 these building blocks are put together. Chapter 7 demonstrates how to use the flexible-price model to analyze the composition of real GDP, and how a flexible-price macroeconomy reacts to disturbances and shocks. \n",
    "\n",
    "Chapter 8 turns the focus of attention from production to the price level. It performs the straightforward task of analyzing the determinants of the price level and inflation in the flexible-price model.\n",
    "\n",
    "----\n",
    "\n",
    "&nbsp;"
   ]
  },
  {
   "cell_type": "markdown",
   "metadata": {},
   "source": [
    "# Part III Slides\n",
    "\n",
    "**2018-03-08 Organization**:\n",
    "\n",
    "* Lecture: The Business Cycles: Introduction\n",
    "* Lecture: The “Short Run” in a Flexible Price Economy\n",
    "* Quiz 4…\n",
    "\n",
    "&nbsp;\n",
    "\n",
    "**2018-03-13 Organization**:\n",
    "\n",
    "* Quiz 4 Review\n",
    "* iClickers\n",
    "* Lecture: Equilibrium in the Flexprice Short-Run Model\n"
   ]
  },
  {
   "cell_type": "markdown",
   "metadata": {},
   "source": [
    "# <font color=\"880000\">The Business Cycle: Introduction</font>\n",
    "\n",
    "* Okun’s Law\n",
    "* The NAIRU\n",
    "* Frictional unemployment\n",
    "* The economy as a societal calculating machine…\n",
    "    * The economy as a societal calculating machine gone mad…\n",
    "\n",
    "<img style=\"display:block; margin-left:auto; margin-right:auto;\" src=\"http://delong.typepad.com/.a/6a00e551f08003883401b8d2e0ce06970c-pi\" alt=\"The Business Cycle\" title=\"The_Business_Cycle.png\" border=\"0\" width=\"600\" />\n",
    "\n",
    "----\n",
    "\n",
    "&nbsp;"
   ]
  },
  {
   "cell_type": "markdown",
   "metadata": {},
   "source": [
    "## <font color=\"000088\">The Business Cycle Compared to the Growth Trend</font>\n",
    "\n",
    "**Small numbers or big numbers?**:\n",
    "\n",
    "* Lose five years of the economic growth trend, max, in a recession or depression\n",
    "* Lose ten years of the labor productivity growth trend, max, in a recession or depression\n",
    "* And—most of the time—recession or depression losses are transitory\n",
    "\n",
    "<img style=\"display:block; margin-left:auto; margin-right:auto;\" src=\"http://delong.typepad.com/.a/6a00e551f08003883401bb09f9caf0970d-pi\" alt=\"The Future of Work\" title=\"The_Future_of_Work.png\" border=\"0\" width=\"600\" />\n",
    "\n",
    "----\n",
    "\n",
    "&nbsp;"
   ]
  },
  {
   "cell_type": "markdown",
   "metadata": {},
   "source": [
    "## <font color=\"000088\">The B---s---t Factor</font>\n",
    "\n",
    "**John Stuart Mill**:\n",
    "\n",
    ">What was affirmed by Cicero of all things with which philosophy is conversant, may be asserted without scruple of the subject of currency—there is no opinion so absurd as not to have been maintained by some person of reputation. There even appears to be on this subject a peculiar tenacity of error–a perpetual principle of resuscitation in slain absurdity…\n",
    "\n",
    "----\n",
    "\n",
    "&nbsp;"
   ]
  },
  {
   "cell_type": "markdown",
   "metadata": {},
   "source": [
    "# <font color=\"880000\">The \"Short Run\" in a Flexible Price Economy</font>\n",
    "\n",
    "* In this part we shift our point of view\n",
    "* We abandon long-run growth\n",
    "* We take a “snapshot” of the economy\n",
    "* We look at it over such a short period that its productive resources are fixed\n",
    "    * K, L, E do not change as we consider counterfactuals, alternatives, and dynamics\n",
    "    \n",
    "----\n",
    "    \n",
    "&nbsp;"
   ]
  },
  {
   "cell_type": "markdown",
   "metadata": {},
   "source": [
    "## <font color=\"000088\">The Flex-Price Assumption</font>\n",
    "\n",
    "* But we also assume that aggregate wages and prices are fully flexible:\n",
    "    * The \"classical\" assumption\n",
    "    * Why make this “classical” assumption?\n",
    "        * As a baseline and a benchmark\n",
    "        * If the economy does not suffer big shocks for a while (five years?), it may apply\n",
    "\n",
    "----\n",
    "\n",
    "&nbsp;"
   ]
  },
  {
   "cell_type": "markdown",
   "metadata": {},
   "source": [
    "## <font color=\"000088\">Key Flex-Price Questions</font>\n",
    "\n",
    "* The key questions then are: \n",
    "    * What are the economic forces that keep real GDP at its full employment equilibrium value? \n",
    "    * What determines the division of real GDP among:\n",
    "        * consumption spending, \n",
    "        * investment spending, \n",
    "        * government purchases, and \n",
    "        * net exports? \n",
    "\n",
    "----\n",
    "\n",
    "&nbsp;"
   ]
  },
  {
   "cell_type": "markdown",
   "metadata": {},
   "source": [
    "# <font color=\"880000\">The Model: Building Blocks</font>\n",
    "\n",
    "* Consumption function\n",
    "* Investment demand\n",
    "* Government sector\n",
    "* International sector:\n",
    "    * Exports and imports\n",
    "    * Exchange rates\n",
    "\n",
    "----\n",
    "\n",
    "&nbsp;"
   ]
  },
  {
   "cell_type": "markdown",
   "metadata": {},
   "source": [
    "## <font color=\"000088\">Production Function</font>\n",
    "\n",
    "* K, L, E are fixed   \n",
    "&nbsp;\n",
    "* $ Y^* = F\\left(K, L, E\\right) = K^{\\alpha}\\left(LE\\right)^{1-\\alpha} $ (Note: \"\\*\" means something different here than \"BGP value\")\n",
    "\n",
    "----\n",
    "\n",
    "&nbsp;"
   ]
  },
  {
   "cell_type": "markdown",
   "metadata": {},
   "source": [
    "## <font color=\"000088\">Labor Demand</font>\n",
    "\n",
    "* Suppose a typical firm owns one unit of capital...   \n",
    "&nbsp;\n",
    "* $ Y_{firm} = F\\left(1, L_{firm}, E\\right) $   \n",
    "&nbsp;\n",
    "* $ MPL = \\frac{dY_{firm}}{dL_{firm}} = \\frac{(1-\\alpha)E^{1-\\alpha}}{{L_{firm}}^{\\alpha}} $   \n",
    "&nbsp;\n",
    "* Firm equilibrium: profit maximization:   \n",
    "&nbsp;\n",
    "    * $ \\frac{w}{p} = \\frac{(1-\\alpha)E^{1-\\alpha}}{{L_{firm}}^{\\alpha}} $   \n",
    "&nbsp;\n",
    "    * $ {L_{firm}}^{*} = \\left[{(1-\\alpha)E^{1-\\alpha}}\\left(\\frac{P}{W}\\right)\\right]^\\left(\\frac{1}{\\alpha}\\right) $\n",
    "\n",
    "----\n",
    "\n",
    "&nbsp;"
   ]
  },
  {
   "cell_type": "markdown",
   "metadata": {},
   "source": [
    "## <font color=\"000088\">Labor Market Equilibrium</font>\n",
    "\n",
    "**Labor supply equals labor demand**\n",
    "\n",
    "* $ L =  K{L_{firm}}^* $   \n",
    "&nbsp;\n",
    "* $ L =  K\\left[{(1-\\alpha)E^{1-\\alpha}}\\left(\\frac{P}{W}\\right)\\right]^\\left(\\frac{1}{\\alpha}\\right) $   \n",
    "&nbsp;\n",
    "* $ \\frac{W}{P} = {(1-\\alpha)E^{1-\\alpha}}\\left(\\frac{K}{L}\\right)^{\\alpha} = (1-\\alpha)\\left(\\frac{Y}{L}\\right) $   \n",
    "\n",
    "&nbsp;\n",
    "\n",
    "**How does the economy get to equilibrium?**\n",
    "\n",
    "* if W/P is low, firms hire more...   \n",
    "&nbsp;\n",
    "* if W/P is high, firms fire...\n",
    "&nbsp;\n",
    "* if there are (excess) unemployed workers, W/P drops...   \n",
    "&nbsp;\n",
    "* if people regard themselves as overwored, W/P rises...   \n",
    "&nbsp;\n",
    "* This equilibrium is a full employment equilibrium\n",
    "\n",
    "----\n",
    "\n",
    "&nbsp;"
   ]
  },
  {
   "cell_type": "markdown",
   "metadata": {},
   "source": [
    "## <font color=\"000088\">Spending on Domestically-Produced Goods</font>\n",
    "\n",
    "**Four components**\n",
    "\n",
    "* Or three components and a balancing item   \n",
    "&nbsp;\n",
    "* C: consumption spending by households   \n",
    "&nbsp;\n",
    "* I: investment spending by businesses   \n",
    "&nbsp;\n",
    "* G: government purchases of goods and services   \n",
    "&nbsp;\n",
    "* NX = GX - IM: net exports\n",
    "\n",
    "&nbsp;\n",
    "\n",
    "**Full employment equilibrium**\n",
    "\n",
    "* C + I + G + NX = AD = Y = Y*\n",
    "\n",
    "----\n",
    "\n",
    "&nbsp;"
   ]
  },
  {
   "cell_type": "markdown",
   "metadata": {},
   "source": [
    "## <font color=\"000088\">The Consumption Function</font>\n",
    "\n",
    "**Household decisions**:\n",
    "\n",
    "* Net taxes: $ T = tY $    \n",
    "&nbsp;\n",
    "\n",
    "* Disposable income: $ Y^d = Y - T = (1-)T $    \n",
    "&nbsp;\n",
    "\n",
    "* Consumption, savings, disposable income, taxes: $ C = Y^d - S^p = Y - T - S^p $    \n",
    "\n",
    "&nbsp;\n",
    "\n",
    "**The consumption function**:\n",
    "\n",
    "* $ C = c_o + {c_y}Y^d = c_o + {c_y}(1-t)Y $   \n",
    "&nbsp;\n",
    "\n",
    "* Baseline consumption: $ c_o $   \n",
    "&nbsp;\n",
    "\n",
    "* The marginal propensity to consume: $ MPC = \\frac{dC}{dY^d} = c_y $\n",
    "\n",
    "* Other terms:\n",
    "    * Wealth terms in consumption?\n",
    "    * Income terms in consumption?\n",
    "\n",
    "----\n",
    "\n",
    "&nbsp;"
   ]
  },
  {
   "cell_type": "markdown",
   "metadata": {},
   "source": [
    "## <font color=\"000088\">Investment Spending</font>\n",
    "\n",
    "**The investment function**\n",
    "\n",
    "* $ I = I_o - {I_r}r $   \n",
    "&nbsp;\n",
    "\n",
    "* The real interest rate: $ r = i + \\rho - \\pi $\n",
    "\n",
    "    * The nominal _risky_ interest rate: $ i + \\rho $   \n",
    "    &nbsp;\n",
    "    \n",
    "    * The nominal _safe_ interest rate: $ i $   \n",
    "    &nbsp;\n",
    "    \n",
    "    * The inflation rate: $ \\pi = \\frac{dP}{dt}$\n",
    "    &nbsp;   \n",
    "    &nbsp;\n",
    "\n",
    "* The investment accelerator version: $ I = I_o - {I_r}r + {I_y}Y $\n",
    "\n",
    "&nbsp;\n",
    "\n",
    "**The stock market and investment**\n",
    "\n",
    "* The value of the stock market: $ V = \\frac{D}{r - (n + g)} $   \n",
    "&nbsp;\n",
    "\n",
    "* The Tobin's Q version of the investment function: $ I = I_o + I_{q}\\left(\\frac{V}{B}\\right) $\n",
    "\n",
    "----\n",
    "\n",
    "&nbsp;"
   ]
  },
  {
   "cell_type": "markdown",
   "metadata": {},
   "source": [
    "## <font color=\"000088\">Government Purchases</font>\n",
    "\n",
    "* Government purchases of goods and services (including wages of government workers): $ G $ \n",
    "* The government surplus (or deficit): $ DEF = G - T = G - tY $\n",
    "\n",
    "----\n",
    "    \n",
    "&nbsp;"
   ]
  },
  {
   "cell_type": "markdown",
   "metadata": {},
   "source": [
    "## <font color=\"000088\">International Trade</font>\n",
    "\n",
    "**The international sector**\n",
    "\n",
    "* Net exports: $ NX = GX - IM $   \n",
    "&nbsp;\n",
    "* Gross exports: $ GX = x_fY^f + {x_{\\epsilon}}{\\epsilon} $\n",
    "    * Foreign economic product: $ Y^f $   \n",
    "    &nbsp;\n",
    "    * The real exchange rate: $ \\epsilon = \\frac{eP^f}{P} $\n",
    "        * The nominal exchange rate—the dollar value of foreign currency: $ e $   \n",
    "        &nbsp;\n",
    "        * The foreign price level $ P^f $   \n",
    "        &nbsp;\n",
    "\n",
    "* Imports: $ IM = im_yY $\n",
    "\n",
    "----\n",
    "\n",
    "&nbsp;"
   ]
  },
  {
   "cell_type": "markdown",
   "metadata": {},
   "source": [
    "## <font color=\"000088\">Exchange Rate Determination</font>\n",
    "\n",
    "* $ \\epsilon = {\\epsilon}_o + {\\epsilon}_r\\left(r - r^f\\right) $\n",
    "    * Foreign real interest rate: $ r^f $   \n",
    "    &nbsp;\n",
    "    * Baseline real exchange rate: $ {\\epsilon}_o $   \n",
    "    &nbsp;\n",
    "    Elasticity of the exchange rate to interest rate differentials: $ {\\epsilon}_r $\n",
    "    \n",
    "The longer that interest rate differentials are expected to continue, and the more slowly that real exchange rates are expected to revert to trend, the higher $ {\\epsilon}_r $ will be and the larger will be the effect of a given interest rate differential on the exchange rate.\n",
    "\n",
    "Remember: The exchange rate is the value of foreign currency. If foreign currency becomes more valuable, the exchange rate rises; if domestic currency becomes more valuable, the exchange rate falls. Often you will hear people talk of an _appreciation_ or _revaluation_ of the dollar or of a depreciation or devaluation of the dollar. An appreciation or revaluation of the dollar is a _fall_ in the value of the exchange rate—the value of foreign currency and goods. A depreciation or devaluation of the dollar is a _rise_ in the value of the exchange rate—the value of foreign currency and goods.\n",
    "\n",
    "I will try to say \"the exchange rate—the value of foreign currency and goods\" whenever I can...\n",
    "\n",
    "----\n",
    "\n",
    "&nbsp;"
   ]
  },
  {
   "cell_type": "markdown",
   "metadata": {},
   "source": [
    "## <font color=\"000088\">Recap: Pieces of the Flex-Price Model</font>\n",
    "\n",
    "* Output equal production function potential: $ Y = Y^* = F(K, L, E) $   \n",
    "&nbsp;\n",
    "\n",
    "* The real wage adjusts to give us full employment: $ \\frac{W}{P} = {(1-\\alpha)E^{1-\\alpha}}\\left(\\frac{K}{L}\\right)^{\\alpha} = (1-\\alpha)\\left(\\frac{Y}{L}\\right) $    \n",
    "&nbsp;\n",
    "\n",
    "* The consumption function: $ C = c_o + {c_y}(1-t)Y $   \n",
    "&nbsp;\n",
    "\n",
    "* Investment spending: $ I = I_o - {I_r}r $   \n",
    "&nbsp;\n",
    "\n",
    "* Government purchases: $ G $   \n",
    "&nbsp;\n",
    "\n",
    "* The international sector: $ NX = GX - IM = x_fY^f + {x_{\\epsilon}}{\\epsilon} - im_yY $\n",
    "    * Exchange rate determination: $ \\epsilon = {\\epsilon}_o + {\\epsilon}_r\\left(r - r^f\\right) $   \n",
    "    &nbsp;\n",
    "\n",
    "* The full-employment national income identity: $ Y^* = Y = AD = C + I + G + NX $\n",
    "\n",
    "----\n",
    "\n",
    "&nbsp;"
   ]
  },
  {
   "cell_type": "markdown",
   "metadata": {},
   "source": [
    "# <font color=\"880000\">Quiz 4</font>\n",
    "\n",
    "**(A) If we want to account for the cross-country pattern of prosperity in the world today in income per capital and productivity, we need to be thinking primarily about**:\n",
    "\n",
    "1. Models in which ideas are hard to assimilate, in which rich countries have unfavorable price structures for growth, and in which diminishing returns to investment set in rapidly.\n",
    "2. Models in which ideas are easy to assimilate, in which rich countries have favorable price structures for growth, and in which diminishing returns to investment set in rapidly.\n",
    "3. Models in which ideas are hard to assimilate, in which rich countries have favorable price structures for growth, and in which diminishing returns to investment do not set in rapidly.\n",
    "4. Models in which ideas are easy to assimilate, in which rich countries have unfavorable price structures for growth, and in which diminishing returns to investment do not set in rapidly.\n",
    "5. None of the above/not enough information\n",
    "\n",
    "&nbsp;\n",
    "\n",
    "**(B) The Malthusian framework breaks the expectation that human ingenuity will always and rapidly lead to rising standards of living and productivity levels over time because**:\n",
    "\n",
    "1. the absence of a market economy leaves innovators with no incentive to boost productivity\n",
    "2. labor force growth falls with productivity and slower labor force growth creates natural resource scarcity that reduces the efficiency of labor.\n",
    "3. labor force growth increases with productivity and faster labor force growth creates natural resource scarcity that reduces the efficiency of labor.\n",
    "4. unfavorable climatic conditions—the little ice age—reduced agricultural productivity\n",
    "5. none of the above/not enough information\n",
    "\n",
    "&nbsp;\n",
    "\n",
    "**(C) A Solow growth model analysis based on improving incentives for investment raising the capital-output ratio is relevant at a time horizon**:\n",
    "\n",
    "1. of about a year or longer\n",
    "2. of about a decade or longer\n",
    "3. of about a generation or longer\n",
    "4. never relevant: things will have changed before the long run comes\n",
    "5. none of the above/not enough information\n",
    "\n",
    "&nbsp;\n",
    "\n",
    "\n",
    "\n",
    "(D) **SHORT ANSWER: Why do you think it has proven so much easier to spread around the world knowledge about how to obtain good public health than knowledge about how to obtain frontier levels of economic activity?**\n",
    "\n",
    "* Send email to: <delong@econ.berkeley.edu>\n",
    "* “Econ 101b S2018 Quiz 4” as the subject line\n",
    "\n",
    "----\n",
    "\n",
    "&nbsp;"
   ]
  },
  {
   "cell_type": "markdown",
   "metadata": {},
   "source": [
    "# <font color=\"880000\">iClicker</font>\n",
    "\n",
    "**We study business cycles because**:\n",
    "\n",
    "1. They almost invariably have decisive influence on the long run trend of economic growth\n",
    "2. A five percent rise or fall in production and a two percent fall of rise in the unemployment rate is a bigger deal in the short run in which we live than most other things affecting the economy\n",
    "3. They pose a great intellectual puzzle\n",
    "4. They demonstrate the optimality of a market economy\n",
    "5. None of the above/not enough information\n",
    "\n",
    "&nbsp;\n",
    "\n",
    "**The consumption function**:\n",
    "\n",
    "1. Relates consumption spending by households primarily to household disposable income\n",
    "2. Relates consumption spending by households primarily to the real interest rate\n",
    "3. Relates consumption spending by households primarily to the nominal interest rate\n",
    "4. Relates consumption spending by households primarily to the level of the stock market\n",
    "5. None of the above/not enough information\n",
    "\n",
    "&nbsp;\n",
    "\n",
    "**In the flexible price model**:\n",
    "\n",
    "1. The business cycle fluctuations in production and employment are unusually severe\n",
    "2. There are no business cycle fluctuations in production and employment\n",
    "3. The business cycle fluctuations in production and employment are confined to the export sector\n",
    "4. Whether business cycle fluctuations in production and employment are serious depends on the intertemporal elasticity of substitution\n",
    "5. None of the above/not enough information\n",
    "\n",
    "----\n",
    "\n",
    "&nbsp;"
   ]
  },
  {
   "cell_type": "markdown",
   "metadata": {},
   "source": [
    "# <font color=\"880000\">Equilibrium in the Flexprice Short-Run Model</font>\n",
    "\n",
    "**We have just stormed through chapter 6—the building blocks of the business cycle model chapter**:\n",
    "\n",
    "* Read appendix 6a on how consumption is differently affected by permanent and transitory shifts in Y\n",
    "\n",
    "&nbsp;\n",
    "\n",
    "**Now we will move on to chapter 7: Equilibrium in the flexprice business cycle model**\n",
    "\n",
    "* We will take a little peak inside the national income identity\n",
    "    * C + I + G + NX = AD: that’s aggregate demand—spending\n",
    "    * How do we know that is equal to Y—useful output produced, and sold?\n",
    "    * We understand that K, E, L, and labor market equilibrium pushes w/p to a level at which firms want to employ everyone, but then what determines where it all goes?\n",
    "\n",
    "----\n",
    "\n",
    "&nbsp;"
   ]
  },
  {
   "cell_type": "markdown",
   "metadata": {},
   "source": [
    "## <font color=\"000088\">Spending on Domestically-Produced Goods</font>\n",
    "\n",
    "----\n",
    "\n",
    "&nbsp;"
   ]
  },
  {
   "cell_type": "markdown",
   "metadata": {},
   "source": [
    "# <font color=\"880000\">Spending on Domestically-Produced Goods</font>\n",
    "\n",
    "----\n",
    "\n",
    "&nbsp;"
   ]
  },
  {
   "cell_type": "markdown",
   "metadata": {},
   "source": [
    "## <font color=\"000088\">Spending on Domestically-Produced Goods</font>\n",
    "\n",
    "----\n",
    "\n",
    "&nbsp;"
   ]
  },
  {
   "cell_type": "markdown",
   "metadata": {},
   "source": [
    "## <font color=\"000088\">Spending on Domestically-Produced Goods</font>\n",
    "\n",
    "----\n",
    "\n",
    "&nbsp;"
   ]
  },
  {
   "cell_type": "code",
   "execution_count": null,
   "metadata": {
    "collapsed": true
   },
   "outputs": [],
   "source": []
  },
  {
   "cell_type": "markdown",
   "metadata": {},
   "source": [
    "# 6 "
   ]
  },
  {
   "cell_type": "markdown",
   "metadata": {},
   "source": [
    "#### GLOSSARY:\n",
    "\n",
    "**Balanced-growth path**: The path toward which total output per worker tends to converge, as the capital-output ratio converges to its equilibrium value.\n",
    "\n",
    "**Capital intensity**: The ratio of the capital stock to total potential output, K/Y, which describes the extent to which capital, as opposed to labor, is used to produce goods and services.\n",
    "\n",
    "**Divergence**: The tendency for a per capita measurement such as income or standard of living in various countries to become less equal over a period of time.\n",
    "\n",
    "**Demographic transition**: A period in history which sees first a rise and then a fall in birth rates and a sharp fall in death rates as material standards of living increase above \"subsistence\" levels.\n",
    "\n",
    "**Efficiency of labor**: The skills and education of the labor force, the ability of the labor force to handle modern technologies, and the efficiency with which the economy's businesses and markets function.\n",
    "\n",
    "**Industrial Revolution**: The transformation of the British economy between 1750 and 1850 when, due to technological advances, largely handmade production was replaced by machine-made production.\n",
    "\n",
    "**Long-run economic growth**: The process by which productivity, living standards, and output increase.\n",
    "\n",
    "**Malthusian age**:\n",
    "A period in which natural-resource scarcity limits any gains from increases in technology; a larger population becomes poor and malnourished, lowering their standard of living, and ultimately lowering population growth to near zero.\n",
    "\n",
    "**Patent laws and copyrights**: Laws designed to encourage invention and innovation by providing the right to exclude anyone else from using a discovery (patent) or intellectual property (copyright) for a period of years.\n",
    "\n",
    "**Productivity growth**: The rate at which the economy's full-employment productivity expands from year to year as technology advances, as human capital increases, and as investment increases the economy's physical capital stock.\n",
    "\n",
    "**Productivity growth slowdown**: The period from 1973 to about 1995 when the rate of productivity growth in the United States and other economies suddenly slowed, for still mysterious reasons.\n",
    "\n",
    "**Saving rate**: The share of total GDP that an economy saves, s, equal to the sum of household, government, and foreign saving divided by total output.\n",
    "\n",
    "----\n",
    "\n",
    "&nbsp;"
   ]
  }
 ],
 "metadata": {
  "kernelspec": {
   "display_name": "Python 3",
   "language": "python",
   "name": "python3"
  },
  "language_info": {
   "codemirror_mode": {
    "name": "ipython",
    "version": 3
   },
   "file_extension": ".py",
   "mimetype": "text/x-python",
   "name": "python",
   "nbconvert_exporter": "python",
   "pygments_lexer": "ipython3",
   "version": "3.6.1"
  }
 },
 "nbformat": 4,
 "nbformat_minor": 2
}
