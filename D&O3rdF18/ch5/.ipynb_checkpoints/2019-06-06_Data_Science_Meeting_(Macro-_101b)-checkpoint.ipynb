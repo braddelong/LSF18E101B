{
 "cells": [
  {
   "cell_type": "markdown",
   "metadata": {},
   "source": [
    "# <font color=\"880000\"> 2019-06-06 Data Science Meeting (Macro: 101b)</font>\n",
    "\n",
    "**June**: Shipping 20th Century Economic History ms...\n",
    "\n",
    "**July**: Refactor...\n",
    "\n",
    "* The students don't need to see the initiation...\n",
    "* The students don't need to see the huge functions...\n",
    "* Especially as we have five variants of the growth model alone...\n",
    "    * Basic growth model...\n",
    "    * Scarce resources and economically-useful ideas (efficiency of labor depending on ideas and resource scarcity)...\n",
    "    * Malthusian population growth (population growth depending on living standards)...\n",
    "    * Demographic transition (population growth declines after prosperity gets above a trigger point)...\n",
    "    * Two heads are better than one (ideas as produced public goods; not just dropping from the sky)...\n",
    "    \n",
    "&nbsp;\n",
    "\n",
    "**August**: Textbook growth chapter exercises...\n",
    "\n",
    "**September**: Textbook business-cycle chapter exercises...\n",
    "\n",
    "**October**: Adapt chapter exercises for course problem sets (and section examples)...\n",
    "\n",
    "**November**: Adapt notebooks for live-coding in lecture...\n",
    "\n",
    "**December**: Three volunteers to take the course and do the notebooks to make sure they are correct...\n",
    "\n",
    "&nbsp;\n",
    "\n",
    "----\n",
    "\n",
    "&nbsp;"
   ]
  },
  {
   "cell_type": "markdown",
   "metadata": {},
   "source": [
    "## <font color=\"880000\"> 2019-06-06 Data Science Meeting Notes</font>\n",
    "\n",
    "<img src=\"https://tinyurl.com/20190119a-delong\" width=\"600\" style=\"float:right\" />\n",
    "\n",
    "<https://tinyurl.com/20190119a-delong>\n",
    "\n",
    "### <font color=\"000088\">Catch Our Breath—Further Notes:</font>\n",
    "\n",
    "* Holdgraf—Jupyter books...\n",
    "* Jupyter books modules...\n",
    "* Refactorization...\n",
    "* Data\n",
    "    * FRBSL...\n",
    "    * Gapminder...\n",
    "\n",
    "\n",
    "<br clear=\"all\" />\n",
    "\n",
    "----\n",
    "\n"
   ]
  }
 ],
 "metadata": {
  "kernelspec": {
   "display_name": "Python 3",
   "language": "python",
   "name": "python3"
  },
  "language_info": {
   "codemirror_mode": {
    "name": "ipython",
    "version": 3
   },
   "file_extension": ".py",
   "mimetype": "text/x-python",
   "name": "python",
   "nbconvert_exporter": "python",
   "pygments_lexer": "ipython3",
   "version": "3.6.6"
  }
 },
 "nbformat": 4,
 "nbformat_minor": 2
}
