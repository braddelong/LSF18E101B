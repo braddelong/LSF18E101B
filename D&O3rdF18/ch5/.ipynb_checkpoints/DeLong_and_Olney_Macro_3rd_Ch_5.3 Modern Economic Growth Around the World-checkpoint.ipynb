{
 "cells": [
  {
   "cell_type": "markdown",
   "metadata": {
    "slideshow": {
     "slide_type": "notes"
    }
   },
   "source": [
    "# 2018-02-06 DeLong and Olney Macroeconomics 3rd Edition ch 5.3: Modern Economic Growth Around the World"
   ]
  },
  {
   "cell_type": "markdown",
   "metadata": {},
   "source": [
    "## Setting up the Python/Jupyter environment"
   ]
  },
  {
   "cell_type": "code",
   "execution_count": 1,
   "metadata": {},
   "outputs": [
    {
     "data": {
      "application/javascript": [
       "\n",
       "IPython.OutputArea.prototype._should_scroll = function(lines) {\n",
       "    return false;}"
      ],
      "text/plain": [
       "<IPython.core.display.Javascript object>"
      ]
     },
     "metadata": {},
     "output_type": "display_data"
    }
   ],
   "source": [
    "%%javascript\n",
    "\n",
    "IPython.OutputArea.prototype._should_scroll = function(lines) {\n",
    "    return false;}"
   ]
  },
  {
   "cell_type": "code",
   "execution_count": 2,
   "metadata": {
    "collapsed": true
   },
   "outputs": [],
   "source": [
    "# keep output cells from shifting to autoscroll: little scrolling\n",
    "# subwindows within the notebook are an annoyance..."
   ]
  },
  {
   "cell_type": "code",
   "execution_count": 3,
   "metadata": {},
   "outputs": [
    {
     "name": "stderr",
     "output_type": "stream",
     "text": [
      "/Users/delong/anaconda3/lib/python3.6/site-packages/statsmodels/compat/pandas.py:56: FutureWarning: The pandas.core.datetools module is deprecated and will be removed in a future version. Please use the pandas.tseries module instead.\n",
      "  from pandas.core import datetools\n"
     ]
    }
   ],
   "source": [
    "# set up the environment by reading in every library we might need: \n",
    "# os... graphics... data manipulation... time... math... statistics...\n",
    "\n",
    "import sys\n",
    "import os\n",
    "from urllib.request import urlretrieve\n",
    "\n",
    "import matplotlib as mpl\n",
    "import matplotlib.pyplot as plt\n",
    "from IPython.display import Image\n",
    "\n",
    "import pandas as pd\n",
    "from pandas import DataFrame, Series\n",
    "from datetime import datetime\n",
    "\n",
    "import scipy as sp\n",
    "import numpy as np\n",
    "import math\n",
    "import random\n",
    "\n",
    "import seaborn as sns\n",
    "import statsmodels\n",
    "import statsmodels.api as sm\n",
    "import statsmodels.formula.api as smf\n",
    "\n",
    "# report library versions..."
   ]
  },
  {
   "cell_type": "code",
   "execution_count": 4,
   "metadata": {
    "collapsed": true
   },
   "outputs": [],
   "source": [
    "%matplotlib inline \n",
    "\n",
    "# put graphs into the notebook itself..."
   ]
  },
  {
   "cell_type": "code",
   "execution_count": 5,
   "metadata": {
    "collapsed": true
   },
   "outputs": [],
   "source": [
    "# graphics setup: seaborn-whitegrid and figure size...\n",
    "\n",
    "plt.style.use('seaborn-whitegrid')\n",
    "\n",
    "figure_size = plt.rcParams[\"figure.figsize\"]\n",
    "figure_size[0] = 12\n",
    "figure_size[1] = 9\n",
    "plt.rcParams[\"figure.figsize\"] = figure_size"
   ]
  },
  {
   "cell_type": "markdown",
   "metadata": {},
   "source": [
    "# 5.3 Modern Economic Growth around the World\n",
    "\n",
    "## 5.3.1 Divergence, Big Time\n",
    "\n",
    "The industrial core of the world economy saw its level of material productivity and standard of living explode in the nineteenth and twentieth centuries. Elsewhere the growth of productivity levels and standards of living and the spread of indus  trial technologies were slower. As the industrialized economies grew while indus  trial technologies spread slowly elsewhere, the world became a more and more unequal place. As development economist Lant Pritchett puts it, the dominant fea  ture of world economic history from the Industrial Revolution up until 1980 or so is “divergence, big time.” In terms of relative incomes and productivity levels, the world today is very unequal and very divergent, as Figure 5.8 shows.\n",
    "\n",
    "Those who live in relatively poor regions of the world today have higher mate  rial living standards than did their predecessors who lived in those regions a cen  tury ago. But the relative gap vis-a-vis the industrial core has grown extraordinar  ily and extravagantly. In the first half of the nineteenth century the average inhabitant of an average country had perhaps one-half the material standard of liv  ing of a citizen of the world’s leading industrial economy. Although the difficulties of making such comparisons are overwhelming (and Box 5.3 provides some insight into the difficulties of making such comparisons), our best estimate is that the aver  age inhabitant of an average country has only one-sixth the material standard of living and productivity level of a leading nation like the United States today.\n",
    "\n",
    "----\n",
    "\n",
    "&nbsp;"
   ]
  },
  {
   "cell_type": "markdown",
   "metadata": {},
   "source": [
    "### 5.3.1.1 The Exception: OECD Economies\n",
    "\n",
    "Such divergence is not inevitable. The United States, with its perhaps 14- to 25-fold increase in output per worker over the years since 1870, has not been the fastest growing economy in the world. A number of other economies at different levels of industrialization, development, and material productivity a century ago have now con  verged, and their levels of productivity, economic structures, and standards of living today are very close to those of the United States (see Box 5.4). The six largest of these converging economies and the United States make up the so-called Group of Seven (G-7) economies.\n",
    "\n",
    "The six non-U.S. members’ steady process of convergence to the U.S. level from 1950 until about 2000 is shown in Figure 5.9 on page 142.\n",
    "Most of these economies were much poorer than the United States in 1870. Most were significantly poorer in 1950. The Japanese economy, for example, went from a level of output per capita equal to 16 percent of the U.S. level in 1950 to 84 per  cent of the U.S. level in 1992 — before falling steeply backward during Japan’s recent recession. Italian levels of GDP per capita have gone from 30 to 65 percent of the U.S. level; German levels, from 40 to 75 percent; Canadian levels, from 70 to 85 percent; and British levels, from 60 to 70 percent in the past half-century.\n",
    "\n",
    "Moreover, much of the remaining differential between the United States and western Europe is the result of different institutions and tastes for leisure; for exam  ple, western Europeans take what many Americans would regard as extravagant vacations. Much of today’s differential between the United States and Japan is the result of deliberate political choice: Japan’s politicians have decided to keep their agriculture-based industries and their wholesale and retail distribution systems pro  tected from competition, small scale, and thus — from an American standpoint — inefficient.\n",
    "\n",
    "----\n",
    "\n",
    "&nbsp;"
   ]
  },
  {
   "cell_type": "markdown",
   "metadata": {},
   "source": [
    "FIGURE 5.8 World Distribution\n",
    "of Income, Selected Countries\n",
    "\n",
    "In some places modern economic growth has taken hold and propelled\n",
    "levels of productivity and living standards upward.\n",
    "In other places people on average live little, if any, better than their ancestors did. The world is a more unequal place, in relative income terms, than it has been since there were some human tribes that had fire and others that did not.\n",
    "  \n",
    "###### Source: Authors' calculations from Alan Heston, Robert Summers, and Bettina Aten's Penn World Table, www.nber.org.\n",
    "\n",
    "----\n",
    "\n",
    "&nbsp;"
   ]
  },
  {
   "cell_type": "markdown",
   "metadata": {},
   "source": [
    "Box PURCHASING-POWER-PARITY AND REAL EXCHANGE RATE COMPARISONS: SOME TOOLS\n",
    "\n",
    "When our focus is on comparing standards of living, either across time or across countries, we get much more meaningful figures by correcting current (and even average trend) exchange rates for differences in purchasing power parity (PPP). The differences between estimates of relative income levels based on current exchange rates and estimates based on PPP calculations can be very large. On a purchasing- power-parity basis GDP per worker in the United States today is some 13 times GDP per worker in India; by contrast, on an average exchange rate basis GDP per worker in the United States today is more than 70 times the level in India.\n",
    "\n",
    "PPP-based calculations attempt (as the name implies) to translate one currency into another at a rate that preserves average purchasing power. But current exchange rates do not preserve purchasing power. If you exchange your dollars in the United States for rupees in India you will find that your rupees in India will buy about the same amount of internationally traded manufactured goods as your dollars would have bought in the United States. (Unless, of course, you try to buy something that the Indian government has decided to put up a trade barrier against.) But your rupees in India will buy you vastly more in the way of personal services, the products of skilled craftspeople, and any other labor-intensive goods and services.\n",
    "\n",
    "Why? International arbitrage keeps the exchange rate at the level that makes easily traded manufactured goods roughly equally expensive. If they weren’t, someone could make an easy fortune by shipping them from where they were cheap to where they were dear. But how — in this world of stringent immigration restrictions — can a cook in Bangalore take advantage of the fact that there is fierce demand in Marin County, north of San Francisco, for caterers who can prepare a good curry? Because relative productivity levels in labor services are much more equal than rel  ative productivity levels in manufacturing, living standards throughout the world are more equal than exchange rate-based calculations suggest.\n",
    "\n",
    "----\n",
    "\n",
    "&nbsp;"
   ]
  },
  {
   "cell_type": "markdown",
   "metadata": {},
   "source": [
    "Box WHY HAVE THESE ECONOMIES CONVERGED?: POLICY\n",
    "\n",
    "By and large the economies that have converged are those that belong to the Organization for Economic Cooperation and Development (OECD), which was started shortly after World War II, in the days of the Marshall Plan, as a group of coun  tries that received (or gave) Marshall Plan aid to help rebuild and reconstruct after the war. Countries that received Marshall Plan aid adopted a common set of eco  nomic policies: large private sectors freed of government regulation of prices, investment with its direction determined by profit-seeking businesses, large social insurance systems to redistribute income, and governments committed to avoiding mass unemployment.\n",
    "\n",
    "The original OECD members all wound up with mixed economies. In these, mar  kets direct the flow of resources, while governments stabilize the economy, provide social insurance safety nets, and encourage entrepreneurship and enterprise. The member nations arrived at this setup largely due to good luck, partly due to the Cold War, and partly as a result of post-World War II institutional reforms.\n",
    "\n",
    "This configuration was essentially the price countries had to pay for receiving Marshall Plan aid. The U.S. executive branch was unwilling to send much aid to countries that it thought were likely to engage in destructive economic policies, largely because it did not believe that it could win funding from the Republican- dominated Congress for a Marshall Plan that did not impose such strict condi  tionality upon recipients. \n",
    "\n",
    "By contrast, countries that were relatively rich after World War II but did not adopt OECD-style institutional arrangements — such as Argentina and Venezuela — lost relative ground.\n",
    "\n",
    "As the OECD economies became richer, they completed their demographic tran  sitions: Population growth rates fell. The policy emphasis on entrepreneurship and enterprise boosted national investment rates, so the OECD economies all had healthy investment rates as well. These factors boosted their equilibrium capital- output ratios. And the diffusion of technology from the United States did the rest of the job in bringing OECD standards of economic productivity close to the\n",
    "U.S. level. ^\n",
    "\n",
    "The G-7 economies have not been the only ones to buck the global trend. As Box 5.5 shows, the east Asian economies have also “converged.”\n",
    "\n",
    "----\n",
    "\n",
    "&nbsp;"
   ]
  },
  {
   "cell_type": "markdown",
   "metadata": {},
   "source": [
    "FIGURE 5.9 Convergence among the G-7 Economies: Output per Capita as a Share of U.S. Level\n",
    "In 1950 GDP per capita levels in the six nations that now are America's partners in the G-7 varied from 20 percent of the U.S. level (Japan) to\n",
    "70 percent of the U.S.\n",
    "level (Canada). Today estimates of GDP per capita place levels in all six at more than 65 percent\n",
    "of the U.S. level — and they would be even closer to the U.S. level if the measurements took account of the shorter average work year abroad.\n",
    "\n",
    "----\n",
    "\n",
    "&nbsp;"
   ]
  },
  {
   "cell_type": "markdown",
   "metadata": {},
   "source": [
    "Box: The Rule: Divergence behind the Iron Curtain\n",
    "But convergence is the exception. Divergence is the rule. And perhaps the most important driving force behind divergence is communism: Being unlucky enough\n",
    "\n",
    "###### Source: Authors' calculations from Alan Heston, Robert Summers, and Bettina Aten's Penn World Table, www.nber.org."
   ]
  },
  {
   "cell_type": "markdown",
   "metadata": {},
   "source": [
    "Figure legends...\n",
    "\n",
    "FIGURE 5.1\n",
    "World Population Growth since 1000 The growth of human population was very slow until approximately 1800. The boom in population since 1800 is called, not surprisingly, the popula  tion explosion.\n",
    "\n",
    "FIGURE 5.2\n",
    "Stylized Picture of the Demographic Transition\n",
    "The demographic transi  tion sees, first, a rise in birth rates and a sharp fall in death rates as material standards of living in  crease above subsistence levels. But after a while birth rates start to decline rapidly too. The end of the demographic transi  tion sees both birth and death rates at a relatively low level and the popula  tion nearly stable.\n",
    "\n",
    "FIGURE 5.3 Expected Population Growth Rates, Present-2020\n",
    "The population of India\n",
    "is projected to grow at\n",
    "1.3 percent and that of China at 0.7 percent per year over the next gene  ration. Demographers today believe that the world population has at most one more doubling to undergo before the de  mographic transition will have taken hold through  out the world.\n",
    "\n",
    "FIGURE 5.4 Industrializing Areas of the World, 1900 Perhaps the most impor  tant lesson to draw from this short look at eco  nomic history is that econ  omists' standard growth models apply to a rela  tively narrow slice of time. For instance, the Solow growth model discussed in Chapter 4 does not illu  minate very much regard  ing the period before 1800, yet it is very useful in analyzing what has hap  pened over the past two centuries, as well as what is going on today with re  spect to the growth of dif  ferent national economies.\n",
    "\n",
    "FIGURE 5.5 U.S. Measured Economic Growth: Real GDP per Worker, 1870-2004\n",
    "With the exception of the Great Depression of the 1930s and the productivity growth slowdown period of the 1970s and 1980s, measured real GDP per worker in the United States has grown steadily with only minor interruptions.\n",
    "\n",
    "Two-Year Growth Rates in Labor Productivity Trend productivity growth was low throughout the late 1970s, 1980s, and early 1990s, with the only hopeful news about pro  ductivity coming in the early stages of business- cycle recoveries. By con  trast, in the late 1990s and early 2000s the news about labor productivity was good no matter what the phase of the business cycle.\n",
    "\n",
    "FIGURE 5.8 World Distribution of Income, Selected Countries\n",
    "In some places modern economic growth has taken hold and propelled\n",
    "levels of productivity and living standards upward.\n",
    "In other places people on average live little, if any, better than their ancestors did. The world is a more unequal place, in relative income terms, than it has been since there were some human tribes that had fire and others that did not.\n",
    "\n",
    "FIGURE 5.9 Convergence among the G-7 Economies: Output per Capita as a Share of U.S. Level\n",
    "In 1950 GDP per capita levels in the six nations that now are America's partners in the G-7 varied from 20 percent of the U.S. level (Japan) to\n",
    "70 percent of the U.S.\n",
    "level (Canada). Today estimates of GDP per capita place levels in all six at more than 65 percent\n",
    "of the U.S. level — and they would be even closer to the U.S. level if the measurements took account of the shorter average work year abroad.\n",
    "\n",
    "FIGURE 5.10 GDP-per-Worker Levels\n",
    "and Average Years of Schooling\n",
    "Countries with a high number of average years of schooling have a better chance of being relatively well off. Education opens the door to acquiring the\n",
    "technologies of the Indus  trial Revolution.\n"
   ]
  },
  {
   "cell_type": "markdown",
   "metadata": {},
   "source": [
    "#### GLOSSARY:\n",
    "\n",
    "**Balanced-growth path**: The path toward which total output per worker tends to converge, as the capital-output ratio converges to its equilibrium value.\n",
    "\n",
    "**Capital intensity**: The ratio of the capital stock to total potential output, K/Y, which describes the extent to which capital, as opposed to labor, is used to produce goods and services.\n",
    "\n",
    "**Divergence**: The tendency for a per capita measurement such as income or standard of living in various countries to become less equal over a period of time.\n",
    "\n",
    "**Demographic transition**: A period in history which sees first a rise and then a fall in birth rates and a sharp fall in death rates as material standards of living increase above \"subsistence\" levels.\n",
    "\n",
    "**Efficiency of labor**: The skills and education of the labor force, the ability of the labor force to handle modern technologies, and the efficiency with which the economy's businesses and markets function.\n",
    "\n",
    "**Industrial Revolution**: The transformation of the British economy between 1750 and 1850 when, due to technological advances, largely handmade production was replaced by machine-made production.\n",
    "\n",
    "**Long-run economic growth**: The process by which productivity, living standards, and output increase.\n",
    "\n",
    "**Malthusian age**:\n",
    "A period in which natural-resource scarcity limits any gains from increases in technology; a larger population becomes poor and malnourished, lowering their standard of living, and ultimately lowering population growth to near zero.\n",
    "\n",
    "**Patent laws and copyrights**: Laws designed to encourage invention and innovation by providing the right to exclude anyone else from using a discovery (patent) or intellectual property (copyright) for a period of years.\n",
    "\n",
    "**Productivity growth**: The rate at which the economy's full-employment productivity expands from year to year as technology advances, as human capital increases, and as investment increases the economy's physical capital stock.\n",
    "\n",
    "**Productivity growth slowdown**: The period from 1973 to about 1995 when the rate of productivity growth in the United States and other economies suddenly slowed, for still mysterious reasons.\n",
    "\n",
    "**Saving rate**: The share of total GDP that an economy saves, s, equal to the sum of household, government, and foreign saving divided by total output.\n",
    "\n",
    "----\n",
    "\n",
    "&nbsp;"
   ]
  },
  {
   "cell_type": "markdown",
   "metadata": {},
   "source": [
    "Let us start with our standard Solow growth model steady state\n",
    "\n",
    "$ \\frac{Y}{L} = \n",
    "\\left(\\frac{K^*}{Y^*}\\right)^{\\frac{\\alpha}{1-\\alpha}}E =\n",
    "\\left(\\frac{s}{n+g+\\delta}\\right)^{\\frac{\\alpha}{1-\\alpha}}E\n",
    "$\n",
    "\n",
    "And let us suppose that the steady-state capital-output ratio averages 4: a 24% savings-investment effort s and then 6% investment requirements—2% g, 1% n, and 3% δ).\n",
    "\n",
    "What happens if a country has not undergone the demographic transition—if its population and labor force growth rate n is not 1% per year but 3% per year?\n",
    "\n",
    "* Steady-state K/Y drops from 4 to 3\n",
    "    * If α = 1/3, Y/L drops by 13%\n",
    "    * If α = 1/2, Y/L drops by 25%\n",
    "    * If α = 2/3, Y/L drops by 45%\n",
    "    \n",
    "What happens if a country has an unfavorable relative price structure that makes capital goods prices 33% higher in relative terms?\n",
    "\n",
    "* Steady-state K/Y drops from 4 to 3\n",
    "    * If α = 1/3, Y/L drops by 13%\n",
    "    * If α = 1/2, Y/L drops by 25%\n",
    "    * If α = 2/3, Y/L drops by 45%\n",
    "\n",
    "What happens if both?\n",
    "\n",
    "* Steady-state K/Y drops from 4 to 2.25\n",
    "    * If α = 1/3, Y/L drops by 25%\n",
    "    * If α = 1/2, Y/L drops by 45%\n",
    "    * If α = 2/3, Y/L drops by 69%\n",
    "    \n",
    "And if your schooling system means that the ideas that drive increasing efficiency of labor do not get to the population?"
   ]
  }
 ],
 "metadata": {
  "kernelspec": {
   "display_name": "Python 3",
   "language": "python",
   "name": "python3"
  },
  "language_info": {
   "codemirror_mode": {
    "name": "ipython",
    "version": 3
   },
   "file_extension": ".py",
   "mimetype": "text/x-python",
   "name": "python",
   "nbconvert_exporter": "python",
   "pygments_lexer": "ipython3",
   "version": "3.6.1"
  }
 },
 "nbformat": 4,
 "nbformat_minor": 2
}
