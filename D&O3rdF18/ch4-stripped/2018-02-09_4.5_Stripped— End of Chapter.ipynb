{
 "cells": [
  {
   "cell_type": "markdown",
   "metadata": {
    "slideshow": {
     "slide_type": "notes"
    }
   },
   "source": [
    "# 2018-02-09 DeLong and Olney Macroeconomics 3rd Edition ch 4.5: End of Chapter"
   ]
  },
  {
   "cell_type": "markdown",
   "metadata": {},
   "source": [
    "## 4.5 END OF CHAPTER: The Theory of Economic Growth\n",
    "\n",
    "**Chapter Summary**:\n",
    "\n",
    "1. The principal force driving long-run growth in output per worker Y/L is the set of improvements in the efficiency of labor E springing from technological progress, advances in organization, and the increased skills and experience of the workforce.\n",
    "\n",
    "2. A second but lesser force driving long-run growth in output per worker is the increases in capital intensity, the ratio of the capital stock to output K/Y.\n",
    "\n",
    "3. The balanced-growth path equilibrium in the Solow growth model occurs when the capital output ratio K/Y is constant. When K/Y is constant, the capital stock K and real output Y are growing at the same rate, as are the capital-labor ratio K/L and real output per worker Y/L.\n",
    "\n",
    "4. The Cobb-Douglas production function we use is $ Y = K^{\\alpha}(EL)^{1-\\alpha}  $. Simple algebra tells this that this is equivalent to $ \\frac{Y}{L} = \\left(\\frac{K}{L}\\right)^{\\alpha}E^{1-\\alpha}  $ and to $ \\frac{Y}{L} = \\left(\\frac{K}{Y}\\right)^{\\left(\\frac{\\alpha}{1-\\alpha}\\right)}E  $. An increase in the returns-to-investment parameter $ \\alpha $ makes the production function steeper on a graph plotting about per worker on the y-axis against capital per worker on the x-axis. An increase in lbor efficiency E makes the production function shift up.\n",
    "\n",
    "5. In this chapter we assume that the economy is in short-run equilibrium, in which investment I equals saving S: $ I = S  $. Savings S has three components: household (which, puzzlingly, includes business), government (if there is a surplus; if there is a deficit government saving is negative, and foreign (if there is a trade deficit foreign saving is positive; a trade surplus makes foreign saving negative): $ S = S_h + S_g + S_f  $. And we assume the constancy of S/Y = s, the saving-investment rate.\n",
    "\n",
    "6. The balanced-growth equilibrium value of the capital output ratio K/Y is equal to the saving rate s divided by the sum of the labor-force growth rate n, the labor efficiency growth rate g, and the depreciation rate 8: in balanced-growth equilibrium: $ \\frac{K}{Y}^* = \\frac{s}{n + g + \\delta}  $.\n",
    "\n",
    "7. If the economy’s actual value of K/Y is initially greater than $ \\frac{s}{n + g + \\delta}  $, then K/Y will fall until it reaches its equilibrium value. If the economy’s actual value of K/Y is initially less than $ \\frac{s}{n + g + \\delta}  $, then K/Y will rise until it reaches its balanced-grwoth path value. However, it will take decades or generations for K/Y to closely appraoch its balanced-growth path value.\n",
    "\n",
    "8. A permanent increase in the saving rate s, a decrease in the labor-force growth rate n, or a decrease in the depreciation rate $ \\delta $ will increase output per worker Y/L. This increase will be realized by an acceleration of the growth rate of Y/L as the economy moves to its new higher balanced-growth path. But once the economy is on its new balanced-growth path, output per worker will grow at the same rate as it did initially.\n",
    "\n",
    "9. In balanced-growth equilibrium, the growth rate of output per worker equals the growth rate of labor efficiency g. So only an increase in the rate at which labor efficiency grows can produce a permanent increase in the rate of growth of output per worker.\n",
    "\n",
    "----\n",
    "\n",
    "&nbsp;"
   ]
  },
  {
   "cell_type": "markdown",
   "metadata": {},
   "source": [
    "**Key Terms**:\n",
    "\n",
    "economic growth  \n",
    "labor force   \n",
    "capital stock    \n",
    "efficiency of labor   \n",
    "capital intensity   \n",
    "balanced-growth path   \n",
    "balanced-growth equilibrium   \n",
    "production function   \n",
    "output per worker   \n",
    "saving rate   \n",
    "depreciation   \n",
    "capital-output ratio   \n",
    "balanced growth   \n",
    "balanced-growth path capital-output ratio   \n",
    "convergence   \n",
    "\n",
    "----\n",
    "\n",
    "&nbsp;"
   ]
  },
  {
   "cell_type": "markdown",
   "metadata": {},
   "source": [
    "**Analytical Exercises**:\n",
    "\n",
    "(A) Consider an economy in which the depreciation rate is 3 percent per year, the rate of population increase is 1 percent per year, the rate of technological progress is 1 percent per year, and the sum of household and for  eign saving rates is 16 percent of GDP. Suppose that the government increases its budget deficit, which had been at 1 percent of GDP for a long time, to 3.5 percent of GDP and keeps it there indefinitely.\n",
    "\n",
    "1. What will be the effect of this shift in policy on the economy’s equilibrium capital-output ratio?\n",
    "2. What will be the effect of this shift in policy on the economy’s equilibrium balanced-growth path for output per worker Y/L? How does your answer depend on the value of the diminishing-retums-to-investment parameter$ \\alpha $?\n",
    "3. Suppose that your forecast of output per worker 20 years in the future had been 100,000. What is your new forecast of output per worker 20 years hence?\n",
    "\n",
    "&nbsp;\n",
    "\n",
    "(B) Suppose that a country has the production function $ Y = K^{(0.5)}(LE)^{(0.5)}  $\n",
    "\n",
    "1. Express output Y as a function of the level of the efficiency of labor E, the size of the labor force L, and the capital-output ratio K/Y\n",
    "2. What is the expression for output per worker Y/L?\n",
    "\n",
    "&nbsp;\n",
    "\n",
    "(C) Suppose that with the production function $ K^{(1/3)}(LE)^{(2/3)}  $, the depreciation rate on capital is 3 percent per year, the rate of population growth is 1 percent per year, and the rate of growth of the efficiency of labor is 1 percent per year.\n",
    "\n",
    "1. Suppose that the saving rate is 10 percent of GDP. What is the equilibrium capital-output ratio? What is the value of output per worker on the balanced-growth path written as a function of the level of the efficiency of labor?\n",
    "2. Suppose that the saving rate is 15 percent of GDP. What is the equilibrium capital-output ratio? What is the value of output per worker on the balanced-growth path?\n",
    "3. Suppose that the saving rate is 20 percent of GDP. What is the equilibrium capital-output ratio? What is the value of output per worker on the balanced-growth path?\n",
    "\n",
    "&nbsp;\n",
    "\n",
    "(D) What happens to the equilibrium capital-output ratio if the rate of technological progress increases? Would the balanced-growth path of output per worker for the economy shift upward, shift downward, or remain in the same position?\n",
    "\n",
    "&nbsp;\n",
    "\n",
    "(E) Discuss the following proposition: “An increase in the saving rate will increase the equilibrium capital-output ra  tio and so increase both output per worker and the rate of economic growth in both the short run and the long run.”\n",
    "\n",
    "(F) At the end of the 1990s it appeared that because of the computer revolution the rate of growth of the efficiency of labor in the United States had doubled, from 1.5 percent per year to 3 percent per year. Suppose this increase is permanent. And suppose the rate of labor-force growth remains constant at 1 percent per year, the depreciation rate remains constant at 3 percent per year, and the American saving rate (plus foreign capital invested in America) remains constant at 22 percent per year. Assume that the efficiency of labor in the United States in 2000 was 15,000 dollars per year and that the diminishing-retums-to-investment parameter $ \\alpha $ was 1/3.\n",
    "\n",
    "1. What would have been the change in the balanced-growth equilibrium capital-output ratio if those hopes for the \"new economy\" had proven true?\n",
    "2. Would such a permanent acceleration in the rate of growth of the efficiency of labor change your forecast of the level of output per worker in 2040?\n",
    "3. How would your answers change if your estimate of the diminishing-returns-to-investment parameter a was not 1/3 but 1/2?\n",
    "\n",
    "----\n",
    "\n",
    "&nbsp;"
   ]
  },
  {
   "cell_type": "markdown",
   "metadata": {},
   "source": [
    "**Policy Exercises**:\n",
    "\n",
    "1. In the mid-1990s during the Clinton presidency the United States eliminated its federal budget deficit. The national saving rate was thus boosted by 4 percent of GDP, from 16 percent to 20 percent of real GDP. In the mid-1990s, the nation’s rate of labor-force growth was 1 percent per year, the depreciation rate was 3 percent per year, and the efficiency of labor growth rate was 3 percent per year. By how much, proportionately, would you expect this policy change to boost output per worker in the long run if the production function parameter $ \\alpha $ were 1/3? 1/2? 2/3? By how much would you expect this policy change to boost output per worker over the next year if the prodution function parameter $ \\alpha $ were 1/3? 1/2? 2/3? By how much would you expect this policy change to boost output per worker over the next decae if the production function parameter $ \\alpha $ were 1/3? 1/2? 2/3?\n",
    "\n",
    "2. Then when George W. Bush took office, the fiscal reforms of the Clinton administration were reversed, leading to rising deficits again, now projected at 6 percent of GDP. The depreciation rate is now 3.5 percent per year, the population growth rate is still 1 percent per year. and the efficiency of labor growth rate is 1.5 percent per year. If private plus foreign savings are 24 percent of GDP, and the budget deficit remains at its projected value indefinitely, what will the U.S. economy’s balanced-growth path capital-output ratio be? If the efficiency of labor in 2000 was 30,000 dollars per year, what would be your forecast of output per worker in 2040 if the production function parameter $ \\alpha $ were 1/3??\n",
    "\n",
    "3. Suppose that we had had different presidents from 2000-2024: Al Gore, Hillary Clinton, and Barack Obama, who had continued to run balanced budgets after 2000. With all parameters save the deficit as in question (2), what would be your calculation of the U.S. economy’s balanced-growth equilibrium capital-output ratio? If the efficiency of labor in 2000 was 30,000 dollars per year, what would be your forecast of output per worker in 2024?\n",
    "\n",
    "4. How would your answers to questions (2) and (3) change if your estimate of the diminishing-returns-to-investment parameter $ \\alpha $ were not 1/3 but 1/2 and if your estimate of the efficiency of labor in 2000 was not 30,000 dollars but 15,000 dollars a year?\n",
    "\n",
    "5. How would your answers to questions (2) an (3) change if your estimate of the diminishing-returns-to-investment parameter were not 1/3 but 2/3, adjusting E to keep output per worker the same in 2000 as it was historically?\n",
    "\n",
    "6. Would the balanced-growth path of output per worker for the economy shift upward, shift downward, or remain the same if capital were to become more durable — if the rate of depreciation on capital were to fall?\n",
    "\n",
    "7. Suppose that a sudden disaster—an epidemic, say—reduces a country’s population and labor force but does not affect its capital stock. Suppose further that the economy was on its equilibrium balanced-growth path before the epidemic. What is the immediate effect of the epidemic on output per worker? On the total economywide level of output? What happens subsequently?\n",
    "\n",
    "8. According to the marginal productivity theory of distribution, in a competitive economy the real rate of return on a dollar’s worth of capital—its profits or interest—is equal to capital’s marginal productivity. With the production function $ Y = K^{\\alpha}(EL)^{1-\\alpha} $, what is the marginal product of capital—that is, how much is total output (Y, not Y/L) boosted by the addition of an extra unit to the capital stock?\n",
    "\n",
    "9. According to the marginal productivity theory of distribution, in a competitive economy the real rate of return on a dollar’s worth of capita —its profits or interest—is equal to capital’s marginal productivity. If this theory holds and the marginal productivity of capital is indeed $ \\frac{dY}{dK} = \\alpha\\left(\\frac{{\\alpha}Y}{K}\\right) $, how large are the total earnings received by capital? What share of total output will be received by the owners of capital as their income?\n",
    "\n",
    "10. Suppose that environmental regulations lead to a slowdown in the rate of growth of the efficiency of labor in the production function but also lead to better environmental quality. Should we think of this as a “slowdown” in economic growth or not?\n",
    "\n",
    "11. What are the long-run costs as far as economic growth is concerned of a policy of taking money that could reduce the national debt—and thus add to national saving—and distributing it as tax cuts instead? W hat are the long-run benefits of such a policy? How can we decide whether such a policy is a good thing or not?\n",
    "\n",
    "12. Output per worker in Mexico in the year 2000 was about 10,000 per year. Labor-force growth was 2.5 percent per year. The depreciation rate was 3 percent per year, the rate of growth of the efficiency of labor was 2.5 percent per year, and the saving rate was 16 percent of GDP. The diminishing-returns-to-investment param  eter a is 0.5. What is Mexico’s equilibrium capital-output ratio? Suppose that Mexico in 2000 were on its balanced-growth path. What was the 2000 level of the efficiency of labor E? What is your forecast of output per worker in Mexico in 2040?\n",
    "\n",
    "13. In the framework of question (12), how much does your forecast of output per worker in Mexico in 2040 increase if: (a) Mexico’s domestic saving rate remains unchanged, but the nation is able to finance extra investment equal to 4 percent of GDP every year by borrowing from abroad? (b) The labor-force growth rate immediately falls to 1 per  cent per year? (c) Both a and b happen?\n",
    "\n",
    "----\n",
    "\n",
    "&nbsp;"
   ]
  }
 ],
 "metadata": {
  "kernelspec": {
   "display_name": "Python 3",
   "language": "python",
   "name": "python3"
  },
  "language_info": {
   "codemirror_mode": {
    "name": "ipython",
    "version": 3
   },
   "file_extension": ".py",
   "mimetype": "text/x-python",
   "name": "python",
   "nbconvert_exporter": "python",
   "pygments_lexer": "ipython3",
   "version": "3.6.1"
  }
 },
 "nbformat": 4,
 "nbformat_minor": 2
}
