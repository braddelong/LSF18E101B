{
 "cells": [
  {
   "cell_type": "markdown",
   "metadata": {},
   "source": [
    "# Problem: A Capital Inflow...\n",
    "\n",
    "Reference: **Olivier Blanchard, Jonathan D. Ostry, Atish R. Ghosh, and Marcos Chamon** (2015): _[Expansionary or contractionary effects of capital inflows: It depends what kind](https://voxeu.org/article/macro-effects-capital-inflows-capital-type-matters)_: \"Some scholars view capital inflows as contractionary, but many policymakers view them as expansionary. Evidence supports the policymakers.... For a given policy rate, bond inflows lead to currency appreciation and are contractionary, while non-bond inflows lead to an appreciation but also to a decrease in the cost of borrowing, and thus may be expansionary...\"\n",
    "\n",
    "----\n",
    "\n",
    "A _bond inflow_ is: a $ {\\Delta}{\\epsilon}_o < 0 $\n",
    "\n",
    "A _non-bond inflow_ is:\n",
    "\n",
    "* a $ {\\Delta}{\\epsilon}_o < 0 $\n",
    "* a $ {\\Delta}{\\rho} < 0 $\n",
    "\n",
    "So holding i constant:\n",
    "\n",
    "> $ {\\Delta}Y = {\\mu}(x_{\\epsilon}{\\Delta}{\\epsilon}_o - (I_r + x_{\\epsilon}{\\epsilon}_r){\\Delta}{\\rho}) $\n",
    "\n",
    "----\n",
    "\n",
    "Basic Model:\n",
    "\n",
    "> $ Y = C + I + G + NX $\n",
    "\n",
    "> $ C = c_o + c_y(1-t)Y $\n",
    "\n",
    "> $ I = I_o - I_rr $\n",
    "\n",
    "> $ G $\n",
    "\n",
    "> $ NX = GX - IM $\n",
    "\n",
    "> $ IM = im_y $\n",
    "\n",
    "> $ GX = x_fY^f + x_{\\epsilon}{\\epsilon} $\n",
    "\n",
    "> $ {\\epsilon} = {\\epsilon}_o + {\\epsilon}_r(r^f - r) $\n",
    "\n",
    "> $ r = i + {\\rho} - {\\pi} $\n",
    "\n",
    "&nbsp;\n",
    "\n",
    "> $ MPE = c_y(1-t) - im_y $\n",
    "\n",
    "> $ \\mu = \\frac{1}{1 - MPE} $\n",
    "\n",
    "> $ A_o = [c_o + I_o + G] + [x_fY^f + x_{\\epsilon}{\\epsilon}_o + x_{\\epsilon}{\\epsilon}_rr^f] $\n",
    "\n",
    "> $ Y = \\mu(A_o - (I_r + x_{\\epsilon}{\\epsilon}_r)r) $"
   ]
  }
 ],
 "metadata": {
  "kernelspec": {
   "display_name": "Python 3",
   "language": "python",
   "name": "python3"
  },
  "language_info": {
   "codemirror_mode": {
    "name": "ipython",
    "version": 3
   },
   "file_extension": ".py",
   "mimetype": "text/x-python",
   "name": "python",
   "nbconvert_exporter": "python",
   "pygments_lexer": "ipython3",
   "version": "3.6.5"
  }
 },
 "nbformat": 4,
 "nbformat_minor": 2
}
