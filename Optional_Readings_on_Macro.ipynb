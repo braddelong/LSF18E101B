{
 "cells": [
  {
   "cell_type": "markdown",
   "metadata": {},
   "source": [
    "# Appendix: Optional Readings on Macroeconomics from 1829-2009\n",
    "\n",
    "* Six things to read:\n",
    "    * John Stuart Mill (1829), \"On the Influence of Consumption on Production\" <https://www.marxists.org/reference/archive/mill-john-stuart/1844/unsettled.htm>\n",
    "    * Walter Bagehot (1873), _Lombard Street_ <http://www.gutenberg.org/etext/4359>\n",
    "    * John Hicks (1937), \"Mr. Keynes and the 'Classics': A Suggested Interpretation\", _Econometrica_ <http://web.econ.unito.it/bagliano/macro3/hicks_econ37.pdf>\n",
    "    * Ben Bernanke (1983), \"Nonmonetary Effects of the Financial Crisis in the Propagation of the Great Depression\" _American Economic Review_ 73, pp. 257-276, <http://www.jstor.org/view/00028282/di950033/95p00602/0>\n",
    "    * John B. Taylor (2000), \"Reassessing Discretionary Fiscal Policy,\" _Journal of Economic Perspectives_ Vol. 14, No. 3 (Summer, 2000), pp. 21-36 <http://www.jstor.org/stable/2646917>\n",
    "    * Alan Auerbach and William Gale (2009), \"Activist Fiscal Policy to Stabilize Economic Activity\" <http://www.nber.org/papers/w15407.pdf>\n",
    "\n",
    "Plus inspirational quote: Tyler Cowen: “Useful macroeconomics is common sense plus accounting identities”\n",
    "\n",
    "If you understand how things add up and you also use your common sense, you should be able to get quite far in your understanding of business cycles from that alone...\n",
    "\n",
    "&nbsp;"
   ]
  }
 ],
 "metadata": {
  "kernelspec": {
   "display_name": "Python 3",
   "language": "python",
   "name": "python3"
  },
  "language_info": {
   "codemirror_mode": {
    "name": "ipython",
    "version": 3
   },
   "file_extension": ".py",
   "mimetype": "text/x-python",
   "name": "python",
   "nbconvert_exporter": "python",
   "pygments_lexer": "ipython3",
   "version": "3.6.5"
  }
 },
 "nbformat": 4,
 "nbformat_minor": 2
}
