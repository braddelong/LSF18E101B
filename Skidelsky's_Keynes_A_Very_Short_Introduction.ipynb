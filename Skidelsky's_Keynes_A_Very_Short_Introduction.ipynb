{
 "cells": [
  {
   "cell_type": "markdown",
   "metadata": {},
   "source": [
    "# Robert Skidelsky's _Keynes: A Very Short Introduction_\n",
    "\n",
    "**Due online at 11:59 PM on 2018-11-05 Mo**\n",
    "\n",
    "Read Robert Skidelsky's _Keynes: A Very Short Introduction_ <https://books.google.com/books?isbn=0199591644><https://www.amazon.com/Keynes-Very-Short-Introduction-Introductions-ebook/dp/B005PUWVKW>. Write a 1000-word (i.e., more than 700 and less than 1400) essay.\n",
    "\n",
    "Submit your essay online in the text box at: <https://bcourses.berkeley.edu/courses/1471771/assignments/7933744>.\n",
    "\n",
    "In your essay, please answer the following question:\n",
    "\n",
    ">Robert Skidelsky concludes the \"Epilogue\" to his _Keynes: A Very Short Introduction_ by writing:\n",
    "\n",
    ">>We do not need a new Keynes; we do need the old Keynes, suitably updated. He will not be our sole guide to the economic future, but he remains an indispensable guide... (p. 169)\n",
    "\n",
    ">Does Skidelsky make a convincing case for this conclusion? If you believe he does, what were the main pieces of and threads in his argument that convinced you? If you believe he does not, what were the principal omissions and misinterpretations he made in the book that left you unconvinced?\n",
    "\n",
    "You might find it helpful to read <https://www.bradford-delong.com/2017/07/reading-notes-for-robert-skidelsky-keynes-a-very-short-introduction.html> either before or after reading the book in order to orient yourself..."
   ]
  }
 ],
 "metadata": {
  "kernelspec": {
   "display_name": "Python 3",
   "language": "python",
   "name": "python3"
  },
  "language_info": {
   "codemirror_mode": {
    "name": "ipython",
    "version": 3
   },
   "file_extension": ".py",
   "mimetype": "text/x-python",
   "name": "python",
   "nbconvert_exporter": "python",
   "pygments_lexer": "ipython3",
   "version": "3.6.5"
  }
 },
 "nbformat": 4,
 "nbformat_minor": 2
}
