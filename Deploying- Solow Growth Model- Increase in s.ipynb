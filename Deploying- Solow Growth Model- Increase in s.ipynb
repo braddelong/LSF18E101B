{
 "cells": [
  {
   "cell_type": "markdown",
   "metadata": {},
   "source": [
    "# Deploying: Solow Growth Model: Increase in s\n",
    "\n",
    "* Deploy this notebook to your Berkeley datahub account via: \n",
    "\n",
    "* Or download this notebook directly from github at: \n",
    "\n",
    "The Solow Growth Model is the simplest possible model capable of capturing anything about economic growth that I am aware of. It has:\n",
    "\n",
    "* a capital stock K, determined over time by the savings-investment share s, output Y, and a depreciation rate &delta;.\n",
    "* a labor force L, determined over time by its growth rate n.\n",
    "* an efficiency-of-labor E, determined over time by its growth rate g.\n",
    "* a production function determining output Y, depending on a parameter &alpha; capturing the relative capital orientation of growth as well as on K, L, and E.\n",
    "* That's it!\n",
    "\n",
    "What can we then tell about economic growth from this very simple framework?    \n",
    "\n",
    "---\n",
    "\n",
    "This File: <https://github.com/braddelong/LSF18E101B/blob/master/Deploying-%20Solow%20Growth%20Model-%20Initial%20Calculations.ipynb>"
   ]
  }
 ],
 "metadata": {
  "kernelspec": {
   "display_name": "Python 3",
   "language": "python",
   "name": "python3"
  },
  "language_info": {
   "codemirror_mode": {
    "name": "ipython",
    "version": 3
   },
   "file_extension": ".py",
   "mimetype": "text/x-python",
   "name": "python",
   "nbconvert_exporter": "python",
   "pygments_lexer": "ipython3",
   "version": "3.6.5"
  }
 },
 "nbformat": 4,
 "nbformat_minor": 2
}
