{
 "cells": [
  {
   "cell_type": "markdown",
   "metadata": {},
   "source": [
    "# Using the Solow Growth Model Support\n",
    "\n",
    "<https://www.icloud.com/keynote/0-Vd07R6V__-6f43gx1FHoOGw>\n",
    "\n",
    "----\n",
    "\n",
    "&nbsp;"
   ]
  },
  {
   "cell_type": "markdown",
   "metadata": {},
   "source": [
    "### Consumption\n",
    "\n",
    "(1) &nbsp;&nbsp; $ C = (1-s)Y $\n",
    "\n",
    "(2) &nbsp;&nbsp; $ \\frac{C}{L} = (1-s)\\left(\\frac{Y}{L}\\right) $\n",
    "\n",
    "Along an economy's balanced-growth path:\n",
    "\n",
    "(3) &nbsp;&nbsp; $ \\left(\\frac{Y}{L}\\right)^{*} = \n",
    "    {\\left(\\frac{K}{Y}\\right)^{*}}^\\left(\\frac{\\alpha}\n",
    "    {1-\\alpha}\\right)E $\n",
    "    \n",
    "(4) &nbsp;&nbsp; $ \\left(\\frac{Y}{L}\\right)^{*} = \n",
    "    \\left(\\frac{s}{n+g+\\delta}\\right)^\\left(\\frac{\\alpha}\n",
    "    {1-\\alpha}\\right)E $\n",
    "    \n",
    "(5) &nbsp;&nbsp; $ \\left(\\frac{C}{L}\\right)^{*} = \n",
    "    \\left(1-s\\right)\n",
    "    \\left(\\frac{s}{n+g+\\delta}\\right)^\\left(\\frac{\\alpha}\n",
    "    {1-\\alpha}\\right)E $\n",
    "    \n",
    "(6) &nbsp;&nbsp; $ ln\\left(\\frac{C}{L}\\right)^{*} = \n",
    "    ln\\left(1-s\\right) +\n",
    "    \\left(\\frac{\\alpha}{1-\\alpha}\\right)ln(s) - \n",
    "    \\left(\\frac{\\alpha}{1-\\alpha}\\right)ln(n+g+\\delta) + \n",
    "    ln(E) $\n",
    "    \n",
    "(7) &nbsp;&nbsp; $ \\frac{d\\left(ln\\left(\\frac{C}{L}\\right)^{*}\\right)}\n",
    "    {ds} = \n",
    "    \\frac{-1}{1-s} +\n",
    "    \\left(\\frac{\\alpha}{1-\\alpha}\\right)\\left(\\frac{1}{s}\\right) $\n",
    "    \n",
    "(8) &nbsp;&nbsp; $ \\frac{d\\left(ln\\left(\\frac{C}{L}\\right)^{*}\\right)}\n",
    "    {ds} = 0 ⇒ \\frac{1}{1-s} = \n",
    "    \\left(\\frac{\\alpha}{1-\\alpha}\\right)\\left(\\frac{1}{s}\\right) $\n",
    "    \n",
    "(9)  &nbsp;&nbsp; $ s = \\alpha ⇒ \\left(\\frac{C}{Y}\\right)^{*} $ is maximized"
   ]
  }
 ],
 "metadata": {
  "kernelspec": {
   "display_name": "Python 3",
   "language": "python",
   "name": "python3"
  },
  "language_info": {
   "codemirror_mode": {
    "name": "ipython",
    "version": 3
   },
   "file_extension": ".py",
   "mimetype": "text/x-python",
   "name": "python",
   "nbconvert_exporter": "python",
   "pygments_lexer": "ipython3",
   "version": "3.6.5"
  }
 },
 "nbformat": 4,
 "nbformat_minor": 2
}
