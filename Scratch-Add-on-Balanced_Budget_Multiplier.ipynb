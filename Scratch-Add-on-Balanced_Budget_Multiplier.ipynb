{
 "cells": [
  {
   "cell_type": "markdown",
   "metadata": {},
   "source": [
    "**Balanced-Budget MUltiplier**:\n",
    "\n",
    "$ Y^* = Y = AD = \\frac{(c_o + I_o + G) + (x_fY^f + x_\\epsilon\\epsilon_rr^f) - (I_r + x_\\epsilon\\epsilon_r)r}{1-c_y(1-t) + im_y} $ :: sticky-price\n",
    "\n",
    "$ {\\Delta}Y = \\frac{{\\Delta}G}{1-c_y(1-t) + im_y} - \\frac{Yc_y{\\Delta}t}{1-c_y(1-t) + im_y} $\n",
    "\n",
    "$ {\\Delta}t = \\frac{{\\Delta}G}{Y} $\n",
    "\n",
    "$ {\\Delta}Y = \\frac{(1-c_y){\\Delta}G}{1-c_y(1-t) + im_y} = \\left(1 - \\frac{c_yt + im_y}{1-c_y(1-t) + im_y}\\right){\\Delta}G $\n",
    "\n"
   ]
  }
 ],
 "metadata": {
  "kernelspec": {
   "display_name": "Python 3",
   "language": "python",
   "name": "python3"
  },
  "language_info": {
   "codemirror_mode": {
    "name": "ipython",
    "version": 3
   },
   "file_extension": ".py",
   "mimetype": "text/x-python",
   "name": "python",
   "nbconvert_exporter": "python",
   "pygments_lexer": "ipython3",
   "version": "3.6.6"
  }
 },
 "nbformat": 4,
 "nbformat_minor": 2
}
