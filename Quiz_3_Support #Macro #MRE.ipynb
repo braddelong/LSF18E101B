{
 "cells": [
  {
   "cell_type": "markdown",
   "metadata": {},
   "source": [
    "# Quiz 3 Support"
   ]
  },
  {
   "cell_type": "markdown",
   "metadata": {},
   "source": [
    "(1)&nbsp;&nbsp; $ Y = K^{\\alpha}(EL)^{1-\\alpha} $\n",
    "\n",
    "&nbsp;\n",
    "\n",
    "(2)&nbsp;&nbsp; $\\frac{Y}{L} = \\left(\\frac{K}{L}\\right)^{\\alpha}E $\n",
    "\n",
    "&nbsp;\n",
    "\n",
    "(3)&nbsp;&nbsp; $ln(Y) = \\left(\\frac{\\alpha}{1-\\alpha}\\right)ln(K) + ln(L) + ln(E) $\n",
    "\n",
    "----"
   ]
  },
  {
   "cell_type": "markdown",
   "metadata": {},
   "source": [
    "(1)&nbsp;&nbsp; $ \\left(\\frac{Y}{L}\\right)^* = \\left(\\frac{s}{n+g+\\delta}\\right)^\\left(\\frac{\\alpha}{1-\\alpha}\\right)E $\n",
    "\n",
    "&nbsp;\n",
    "\n",
    "(2)&nbsp;&nbsp; $ \\left(\\frac{K}{Y}\\right) = \\frac{s}{n+g+\\delta} $\n",
    "\n",
    "&nbsp;\n",
    "\n",
    "(3)&nbsp;&nbsp; $ {\\left(\\frac{K}{Y}\\right)^*}^{\\alpha} = \\frac{s}{n+g+\\delta} $\n",
    "\n",
    "&nbsp;\n",
    "\n",
    "(4)&nbsp;&nbsp; $ \\left(\\frac{K}{Y}\\right) = \\frac{s}{n+g+ng+\\delta} $"
   ]
  }
 ],
 "metadata": {
  "kernelspec": {
   "display_name": "Python 3",
   "language": "python",
   "name": "python3"
  },
  "language_info": {
   "codemirror_mode": {
    "name": "ipython",
    "version": 3
   },
   "file_extension": ".py",
   "mimetype": "text/x-python",
   "name": "python",
   "nbconvert_exporter": "python",
   "pygments_lexer": "ipython3",
   "version": "3.6.5"
  }
 },
 "nbformat": 4,
 "nbformat_minor": 2
}
