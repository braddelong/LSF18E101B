{
 "cells": [
  {
   "cell_type": "markdown",
   "metadata": {},
   "source": [
    "# Solow Model Review"
   ]
  },
  {
   "cell_type": "markdown",
   "metadata": {},
   "source": [
    "## Basics\n",
    "\n",
    "> $ \\frac{Y}{L} = \\left(\\frac{K}{Y}\\right)\n",
    "^\\left(\\frac{\\alpha}{1-\\alpha}\\right)E $\n",
    "\n",
    "> $ \\frac{d\\ln(L)}{dt} = n $\n",
    "\n",
    "> $ \\frac{d\\ln(E)}{dt} = g $\n",
    "\n",
    "> $ \\frac{d\\ln(K)}{dt} = s\\frac{Y}{K} - \\delta $"
   ]
  },
  {
   "cell_type": "markdown",
   "metadata": {},
   "source": [
    "## Efficiency-of-Labor\n",
    "\n",
    "> $ g = \\frac{\\gamma}{1+\\gamma}h + \\frac{1}{1+\\gamma}(\\rho - n) $"
   ]
  },
  {
   "cell_type": "markdown",
   "metadata": {},
   "source": [
    "## Fertility and Mortality\n",
    "\n",
    "> $ n = \\beta(y - \\bar{y}) $ if $ y ≤ y_{peak} $\n",
    "\n",
    "> $ n_{max} = \\beta(y_{peak} - \\bar{y}) $\n",
    "\n",
    "> $ n = \\left(\\frac{y}{y_{peak}}\\right)^{-\\eta} $ if $ y ≥ y_{peak} $"
   ]
  },
  {
   "cell_type": "markdown",
   "metadata": {},
   "source": [
    "## Malthusian Equilibrium\n",
    "\n",
    "> $ n^* = {\\gamma}h $\n",
    "\n",
    "> $ {\\gamma}h = \\beta(y - \\bar{y}) $\n",
    "\n",
    "> $ y^* = \\bar{y} + \\left(\\frac{\\gamma}{\\beta}\\right)h $\n",
    "\n",
    "Equilibrium as long as:\n",
    "\n",
    "> $ y^* ≤ y_{peak} $\n",
    "\n",
    "> $ h ≤ \\frac{\\beta(y_{peak}-\\bar{y})}{\\gamma} $"
   ]
  },
  {
   "cell_type": "markdown",
   "metadata": {},
   "source": [
    "## Transition to Modern Economic Growth\n",
    "\n",
    "Requires: $ h > \\frac{\\beta(y_{peak}-\\bar{y})}{\\gamma} $"
   ]
  }
 ],
 "metadata": {
  "kernelspec": {
   "display_name": "Python 3",
   "language": "python",
   "name": "python3"
  },
  "language_info": {
   "codemirror_mode": {
    "name": "ipython",
    "version": 3
   },
   "file_extension": ".py",
   "mimetype": "text/x-python",
   "name": "python",
   "nbconvert_exporter": "python",
   "pygments_lexer": "ipython3",
   "version": "3.6.5"
  }
 },
 "nbformat": 4,
 "nbformat_minor": 2
}
