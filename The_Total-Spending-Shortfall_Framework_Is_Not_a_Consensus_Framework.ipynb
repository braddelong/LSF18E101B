{
 "cells": [
  {
   "cell_type": "markdown",
   "metadata": {},
   "source": [
    "# Appendix: The Total-Spending-Shortfall Framework Is Not a Consensus Framework\n",
    "\n",
    "Before we build up our approach, however, a digression and a warning:\n",
    "\n",
    "Our aggregate demand-based total-spending-shortfall framework for understanding business cycles is not a consensus framework. \n",
    "\n",
    "The total-spending-shortfall approach is law within this course. It has been the dominant thread in economists’ understanding of economic downturns since at least 1829. But does not command the attention of all economists. I count at least five other theories, all of which have at least some adherents today.\n",
    "\n",
    "Why is this the case? Why aren’t economists able to reach even a rough consensus about their discipline. This is especially true in macroeconomics much more than in microeconomics. This has always been the case. As an economist we have seen before, John Stuart Mill, wrote early in the nineteenth century:\n",
    "\n",
    ">What was affirmed by Cicero of all things with which philosophy is conversant, may be asserted without scruple of the subject of currency—that there is no opinion so absurd as not to have been maintained by some person of reputation. There even appears to be on this subject a peculiar tenacity of error—a perpetual principle of resuscitation in slain absurdity...\n",
    "\n",
    "The sects that deny that total-spending-shortfalls are at the root of economic downturns are, by my count at least, five. These all are attached to a view that these business cycles are in some sense, good or necessary—that even though they look bad they are not, for things apparently bad happen for a reason, and are really good. This is an intrusion of Panglossian theology into economics: <span style=\"font: blackletter\">\"The market giveth. The market taketh away. Blessed be the name of the market!\"</span> I find it hard to understand these as anything other than an attempt to willfully deny empirical reality, and wish, in John Maynard Keynes's words, to classify it as \"a somewhat disgusting morbidity, one of those semi-criminal, semi-pathological propensities which one hands over with a shudder to the specialists in mental disease\". Call them economists who believe that the root of downturn lies in a “great forgetting,” a “great vacation,”a “great rusting,” a “great confusion,” and a “great immobilization,” respectively:\n",
    "\n",
    "**“Great forgetting”**: It is claimed sources of downturns lie in a reduction in productivi- ty—businesses forget how to organize themselves productively, and workers forget how to use technology. Because workers and machines are less productive, it becomes impossible for entre- preneurs to higher them at prevailing wage and rental rates and make a profit. And when entre- preneurs offer lower wage rates, workers decline to work because they would rather have the time off. This theory runs aground on the lived experience of workers and entrepreneurs. Entrepre- neurs in downturns do not say that they are cutting back on production because their operations are less efficient: they say that they are cutting back because there is less demand for what they make. Workers do not say that they are happy being unemployed because there is no job at which their skills would add enough value to make it worth their while to work: unemployed workers say that they are sure they could be more than useful to earn their keep at wages they would be more than happy to work at—if only they could find a job.\n",
    "\n",
    "**“Great vacation”**: It is claimed that workers decide they no longer want to work as long, and wish instead to indulge in much more leisure. (A subcomponent of this is the belief that down- turns are the result of unions or minimum wages: but unions today in America are less powerful than they have been in 70 years, and the minimum wage lower as a share of average labor pro- ductivity than it has been in half a century.) Again, this theory runs aground on lived experience: the workers without jobs today are overwhelmingly not people who welcome an extra vacation or an early start on retirement.\n",
    "\n",
    "In a **“great rusting”** a large chunk of the economy’s capital stock suddenly becomes obsolete. A possible cause would be, say, a tripling of global energy prices. But nothing like that has happened.\n",
    "\n",
    "In a **“great confusion”** workers think that the overall level of prices is higher than it is and so they think that businesses aren’t offering them high enough wages to induce them to work—but this is perhaps the least plausible explanation of all, because you know what prices you are paying for what you buy. The big advocate of this is the University of Chicago’s Robert Lucas, who has spent his career arguing that if only changes in the price level were anticipated there would be no downturns because there would be no downward surprises in wages, and changes in wages would be anticipated if the changes in the money stock that produce them are anticipated. The problem with this is that I have never met anybody who is confused about the relationship between the wages they receive and the prices they pay, and who has quit their job because they wrongly think that their wages are lower relative to the prices that they pay than they are.\n",
    "\n",
    "Last, in a **“great immobilization”**, somehow all the unemployed cannot figure out that they ought to be trying to find jobs in the expanding sectors until they have been unemployed for a very long time first. This comes in “Austrian” and “structural” flavors. It certainly can be true. But when it is you see evidence that labor finds it difficult to move from contracting to expanding sectors: you see employers in expanding sectors desperate to higher more workers, willing to pay through the nose to do so, and frantically raising wages in expanding sectors in order to attract more qualified applicants. We may see that soon. We have not seen that over 2008-2018.\n",
    "\n",
    "So I believe that right now Americans’ knowledge of technology and organization is as great as it ever was—that there has been no “great forgetting”—that American workers are as eager to work as they ever were—that the unemployed are not taking a “great vacation”—that our capital stock is as useful as it ever was—that there is no “great rusting”—that people know full well what the prices are of the things they buy—and that there is no “great confusion.”\n",
    "\n",
    "I also believe that claims that there is a “great immobilization”—that the unemployed workers over 2008-2018 did not have the skills to take the jobs available, and would not acquire those skills unless forced to by the scourge of poverty and long-term unemployment—are vastly overblown. If there were jobs available that there were no qualified workers to take firms would be trying to fill those jobs. They would be offering to pay qualified workers more. We would see wage and price inflation in the expanding sectors. And we do not.\n",
    "\n",
    "These lines of thought are, all of them, in my opinion, completely wrong—worthy only of bedlam.\n",
    "\n",
    "These lines of thought had a resurgence in 2000, which was in many ways a remarkable year. But they do have a long history. Robert Skidelsky in his biography of John Maynard Keynes writes of a seminar room in the 1930s in which there was a silence, broken by Richard Kahn: \"Do you mean to say,\" he asked, \"that if I were to go out tomorrow and buy a new overcoat, that it would increase unemployment?\" \"Yes,\" said the man in the front of the room, Friedrich von Hayek, \"but it would take a long and complicated mathematical argument to explain why.\"\n",
    "\n",
    "That is how Skidelsky describes Hayek's visit to the proto-Keynesian economists of Cambridge University. It was the 1930s, and Hayek had met them in London to convince them that depressions were not to be avoided or cured, but rather endured. In his thinking, they were righteous karmic payback for past sins against the gods of monetary orthodoxy. Any attempts to cut them short or make them shallower would produce only temporary palliation, at the cost of a fiercer, deeper, and nastier further depression in the future.\n",
    "\n",
    "Hayek's fellow countryman, Joseph Schumpeter, the most prominent of the demand-deficiency-deniers, went further: \"Gentlemen!\" he announced to his students at Harvard University (there were no ladies). \"A depression is healthy! Like a good ice-cold douche!\" If depressions did not exist, Schumpeter thought, we would have to invent them. They were \"the respiration of the economic mechanism.\"\n",
    "\n",
    "Agreeing with Schumpeter was Herbert Hoover's Treasury secretary, Andrew Mellon. In his memoirs Hoover was bitter toward many, but bitterest of all toward Mellon, whom he called the head of the \"leave it alone liquidationists.\" Hoover quotes Mellon: \"It will purge the rottenness out of the system. High costs of living and high living will come down. People will work harder, live a more moral life. Values will be adjusted, and enterprising people will pick up the wrecks from less competent people.\" Hoover opposed Mellon's policies, he said, and worked to undermine them. But what could he do? He was, after all, only the president. And Mellon was Treasury secretary.\n",
    "\n",
    "Think Mellon is just an anachronism? Then consider George Osborne, British Chancellor of the Exchequer in the 2000s, and his claim that today's record-low interest rates in Britain are a sign of financial strength and not of anticipated prolonged depression: \"The emergency budget in June was the moment when fiscal credibility was restored. Our market interest rates fell to near-record lows.\" That is pure Mellon. It is definitely not Keynes. It is definitely not Milton Friedman.\n",
    "\n",
    "Friedman himself condemned Hayek, Schumpeter, and Mellon as devotees of an \"atrophied and rigid caricature\" of his own doctrines. \"This dismal picture,\" said Friedman, led \"young, vigorous, and generous mind[s]\" to recoil. And both Keynes's and Friedman's flavors of postwar American macroeconomics, with its focus on government action to maintain stable growth, were the happy result.\n",
    "\n",
    "Nothing has changed in the past few years to make Hayek's, Schumpeter's, and Mellon's arguments stronger intellectually against the critiques of Keynes and Friedman than they were 60 years ago. On substance, their current victory is inexplicable. But their triumph, epitomized by the Tea Party movement and its hostility to government action, can be explained by our fourth horseman: Friedrich Nietzsche in his role as psychologist of human ressentiment.\n",
    "\n",
    "Nietzsche talked about the losers—or rather, about those who thought they were the losers. He looked at those who saw themselves as weak and poor—rather than strong and rich—and saw trouble. \"[N]othing on earth consumes a man more quickly than the passion of resentment,\" he wrote. It drives us to madness.\n",
    "\n",
    "Think of that when you consider this: The U.S. unemployment rate in 2010 was stubbornly high, yet aid from a federal government that can borrow at unbelievably good terms could allow states to maintain their levels of public employment, and those public workers would then spend their incomes and so boost the number of private-sector jobs as well. But the voters are against that. No, they say. We have lost our jobs. It is only fair that those who work for the government lose their jobs as well—never mind that each public-sector job lost triggers the destruction of yet another private-sector job. It's the underlying logic that has led to a wave of austerity across Europe that is now headed for America's shores. And it's the same logic that says, \"It is only fair that homeowners lose their money\"—never mind that everyone's home prices will suffer. What does not kill me makes me stronger.\n",
    "\n",
    "Because some are unemployed, unemployment is good—we need more of it. Because some have lost their wealth, wealth destruction is good—we need more of it. That is a psychology that Friedrich Nietzsche would have understood all too well. For, as he put it, \"If you gaze long into an abyss, the abyss will also gaze into you.\"\n",
    "\n",
    "&nbsp;"
   ]
  }
 ],
 "metadata": {
  "kernelspec": {
   "display_name": "Python 3",
   "language": "python",
   "name": "python3"
  },
  "language_info": {
   "codemirror_mode": {
    "name": "ipython",
    "version": 3
   },
   "file_extension": ".py",
   "mimetype": "text/x-python",
   "name": "python",
   "nbconvert_exporter": "python",
   "pygments_lexer": "ipython3",
   "version": "3.6.5"
  }
 },
 "nbformat": 4,
 "nbformat_minor": 2
}
