{
 "cells": [
  {
   "cell_type": "markdown",
   "metadata": {
    "slideshow": {
     "slide_type": "notes"
    }
   },
   "source": [
    "# 2018-02-09 DeLong and Olney Macro 3rd Ch 4.1 Theory of Long Run Growth—Sources of Long Run Growth.ipynb"
   ]
  },
  {
   "cell_type": "markdown",
   "metadata": {},
   "source": [
    "# Chapter 4: The Theory of Long-Run Economic Growth\n",
    "\n",
    "**QUESTIONS**:\n",
    "\n",
    "1. What are the causes of long-run economic growth—that is, of sustained and significant growth in an economy's level of output per worker?\n",
    "\n",
    "2. What is the \"efficiency of labor\"?\n",
    "\n",
    "3. What is an economy's \"capital intensity\"?\n",
    "\n",
    "4. What is an economy's \"balanced-growth path\"?\n",
    "\n",
    "5. How important is faster labor-force growth as a drag on eco  nomic growth?\n",
    "\n",
    "6. How important is a high saving rate as a cause of economic growth?\n",
    "\n",
    "7. How important is technological and organizational progress for economic growth?\n",
    "\n",
    "----\n",
    "\n",
    "&nbsp;"
   ]
  },
  {
   "cell_type": "markdown",
   "metadata": {},
   "source": [
    "# 4.1 Sources of Long-Run Economic Growth\n",
    "\n",
    "## 4.1.1 The Eagle's Eye View\n",
    "\n",
    "### 4.1.1.1 The Shape of Global Growth\n",
    "\n",
    "Step back and take a broad, sweeping view of the economy.\n",
    "\n",
    "Look at it, but do not focus on the “short run” of calendar-year quarters or even of a year or two in which shifts in investment spending and other shocks push the unemployment rate up or down—that’s what we will do in Chapters 9 through 12. \n",
    "\n",
    "Look at it, but do not focus on the “long run” period of 3 to 10 years or so, in which prices have time to adjust to return the economy to a full-employment equilibrium but in which the economy’s productive resources do not change much—that’s what we will look at in Chapters 6 through 8. \n",
    "\n",
    "What do we do here in Chapters 4 and 5? We take that step back and focus on the very long run of decades and generations—a period over which everything else dwindles into insignificance except the sustained and significant increases in standards of living that we call long-run economic growth.\n",
    "\n",
    "When we take this broad, sweeping view, it is clear that what we are calling long-run economic growth is _the_ only truly important factor determining the economy's potential for generating prosperity. \n",
    "\n",
    "As Figure 4.1.1 shows, material standards of living and levels of economic productivity today in the United States are more than three times what they are in, say, Mexico (and more than nine times those of Nigeria, and more than 25 times those of Afghanistan). These differences matter for more than just how comfortable people are: richer societies have much longer life expectancies in addition to higher levels of consumption and greater control over resources by typical citizens. Even a large economic depression would not reduce U.S. levels of prosperity to those of Mexico, let alone Nigeria or Afghanistan.\n",
    " \n",
    "----\n",
    "\n",
    "&nbsp;"
   ]
  },
  {
   "cell_type": "markdown",
   "metadata": {},
   "source": [
    "**Figure 4.1.1: U.S. Output per Capita in International Perspective**\n",
    "\n",
    "<img style=\"display:block; margin-left:auto; margin-right:auto;\" \n",
    "  src=\"http://delong.typepad.com/.a/6a00e551f08003883401b7c94a0e7b970b-pi\" \n",
    "  alt=\"Gapminder U S Mexican Nigerian and Afghan GDP per Capita and Life Expectancy since 1870\"\n",
    "  title=\"4_1_Gapminder__U_S___Mexican__Nigerian__and_Afghan_GDP_per_Capita_and_Life_Expectancy_since_1870__https___tinyurl_com_dl20180122b.png\" \n",
    "  border=\"0\" \n",
    "  width=\"600\" />\n",
    "\n",
    "###### Source: _Gapminder_ <http://gapminder.org/tools>\n",
    "\n",
    "----\n",
    "\n",
    "&nbsp;"
   ]
  },
  {
   "cell_type": "markdown",
   "metadata": {},
   "source": [
    "Moreover, as Figure 4.1.2 shows, U.S. average living standards and productivity levels have not been near their current high levels for long. Standard estimates show that U.S. GDP per capita has grown more than thirteen-fold since 1870. And life expectancy at birth in the U.S. has doubled over the past century and a half. Even a large economic depression would not reduce U.S. levels of productivity to those of the U.S. a generation, let alone a century ago.\n",
    "\n",
    "----\n",
    "\n",
    "&nbsp;"
   ]
  },
  {
   "cell_type": "markdown",
   "metadata": {},
   "source": [
    "**Figure 4.1.2: U.S. Output per Capita in Historical Perspective**\n",
    "\n",
    "<img style=\"display:block; margin-left:auto; margin-right:auto;\" src=\"http://delong.typepad.com/.a/6a00e551f08003883401b8d2d45f78970c-pi\" alt=\"4 2 Gapminder U S GDP per Capita and Life Expectancy since 1870 https tinyurl com dl20180122a\" title=\"4_2_Gapminder__U_S__GDP_per_Capita_and_Life_Expectancy_since_1870__https___tinyurl_com_dl20180122a.png\" border=\"0\" width=\"600\" />\n",
    "\n",
    "###### Source: _Gapminder_ <http://gapminder.org/tools>\n",
    "\n",
    "----\n",
    "\n",
    "&nbsp;"
   ]
  },
  {
   "cell_type": "markdown",
   "metadata": {},
   "source": [
    "These differences and changes are huge.\n",
    "\n",
    "At most a trivial part of them are due to whether unemployment in a country is currently above or below its average level, or whether various bad macroeconomic policies are currently disrupting the functioning of the price system. \n",
    "\n",
    "The overwhelming bulk of these differences are the result of differences in economies’ productive potentials. The most important differences spring from differences in the level of technology and of organization currently used in production, which are themelves the result of differences in the skills of workers, the availability and competence of engineers and engineering knowledge, and the creation and maintenance of organizations with internal structures that impel them toward profductive efficiency. Secondary differences spring from differences in the presence or absence of key natural resources, and in the value of the capital stock—the structures and buildings, machines and programs, and inventories and work flows that have themselves been produced by humans earlier and are necessary for a productive economy.\n",
    "\n",
    "The enormous gaps between the productive potentials of different nations spring from favorable initial conditions and successful growth-promoting economic policies in the United States—and from less favorable initial conditions and less successful subsequent policies in Mexico and downright unsuccessful policies in Nigeria and Afghanistan.\n",
    "\n",
    "Moreover, the bulk of today’s gap between living standards and productivity levels in the United States and Mexico (and Nigeria, and Afghanistan) opened up in the past century and a half; the bulk of success (or failure) at boosting an economy’s productive potential is thus—to a historian at least—of relatively recent origin. A century and a half ago U.S. GDP per capita was four times Afghan, not twenty times. While U.S. productive potential has amplified 13-fold since 1870, Afghan has only amplified two-fold and Nigerian five-fold. (Do, however, note that life expectancies at birth have more than doubled everywhere: humanity has done better at distributing the technologies that reduce infant mortality and enable longer life expectancy across the globe than it has done at distributing the technologies that boost production.\n",
    "\n",
    "----\n",
    "\n",
    "&nbsp;"
   ]
  },
  {
   "cell_type": "markdown",
   "metadata": {},
   "source": [
    "**Figure 4.1.3: Growth since 1870: Afghan, Nigerian, Mexican, and American**\n",
    "\n",
    "<img style=\"display:block; margin-left:auto; margin-right:auto;\" src=\"http://delong.typepad.com/.a/6a00e551f08003883401b7c94a0e85970b-pi\" alt=\"4 3 Afghanistan Nigeria Mexico and U S since 1870\" title=\"4_3__Afghanistan__Nigeria__Mexico__and_U_S__since_1870.png\" border=\"0\" width=\"600\" />\n",
    "\n",
    "##### Source: _Gapminder_ <http://gapminder.org/tools>\n",
    "\n",
    "----\n",
    "\n",
    "&nbsp;"
   ]
  },
  {
   "cell_type": "markdown",
   "metadata": {},
   "source": [
    "Successful economic growth means that nearly all citizens of the United States today live better—along almost every dimension of material life—than did even the rich elites of preindustrial times. If good policies and good circumstances accelerate economic growth, bad policies and bad circumstances cripple long-run economic growth. Argentineans were richer than Swedes before World War I, but Swedes today have four times the standard of living and the productivity level of Argentineans.\n",
    "\n",
    "----\n",
    "\n",
    "&nbsp;"
   ]
  },
  {
   "cell_type": "markdown",
   "metadata": {},
   "source": [
    "#### Box 4.1.1: Sweden and Argentina's Reversal of Fortune\n",
    "\n",
    "<span style=\"float:right;\">**Figure 4.4: Long-Run Measured Economic Growth: Sweden  \n",
    "    and Argentina, 1890-2017**</span>\n",
    "\n",
    "<img src=\"http://delong.typepad.com/.a/6a00e551f08003883401b8d2a9cc1f970c-pi\" alt=\"2017 08 11 DeLong and Olney Macroeconomics 3rd Edition\" title=\"2017-08-11_DeLong_and_Olney_Macroeconomics_3rd_Edition.png\" border=\"0\" width=\"400\" height=\"400\" style=\"float:right;\" />\n",
    "\n",
    "At the start of the twentieth century, Argentina was richer—and seen as having a brighter future—than Sweden. Europeans in large numbers were then migrating to Argentina, not Sweden—and Swedes were leaving their country in large numbers for greener pastures elsewhere, largely in the Americas. But economic policies that were mostly bad for long-run growth left Argentina far behind Sweden. The average Swede today looks to be more than sixteen times as well off in terms of material income as the average Swede of 1890. The average Argentinian today looks to be only between three and a third times as well off as their predecessor back in 1890.\n",
    " \n",
    "###### Source: _Gapminder_ <http://www.gapminder.org/data/> <http://docs.google.com/spreadsheet/pub?key=phAwcNAVuyj1jiMAkmq1iMg&output=xlsx>\n",
    "\n",
    "&nbsp;"
   ]
  },
  {
   "cell_type": "markdown",
   "metadata": {},
   "source": [
    "----\n",
    "\n",
    "&nbsp;"
   ]
  },
  {
   "cell_type": "markdown",
   "metadata": {},
   "source": [
    "#### Box 4.1.2: Gapminder: An Information Source: \n",
    "\n",
    "On the World Wide Web at: <http://gapminder.org> is _Gapminder_. It is, its mission statement says:\n",
    "\n",
    ">an independent Swedish foundation... a fact tank, not a think tank.... fight[ing] devastating misconceptions about global development. Gapminder produces free teaching resources making the world understandable based on reliable statistics. Gapminder promotes a fact-based worldview everyone can understand...\n",
    "\n",
    "and Gapminder exists because:\n",
    "\n",
    ">We humans are born with a craving for... drama. We pay attention to dramatic stories and we get bored if nothing happens. Journalists and lobbyists tell dramatic stories... about extraordinary events and unusual people. The piles of dramatic stories pile up in people’s minds into an overdramatic worldview and strong negative stress feelings: “The world is getting worse!”, “It’s we vs. them!” , “Other people are strange!”, “The population just keeps growing!” and “Nobody cares!” For the first time in human history reliable statistics exist. There’s data for almost every aspect of global development. The data shows a very different picture: a world where most things improve.... [where] decisions [are] based on universal human needs... easy to understand....\n",
    "\n",
    ">Fast population growth will soon be over. The total number of children in the world has stopped growing.... We live in a globalized world, not only in terms of trade and migration. More people than ever care about global development! The world has never been less bad. Which doesn’t mean it’s perfect. The world is far from perfect.\n",
    "\n",
    ">The dramatic worldview has to be dismantled, because it is stressful... wrong.... leads to bad focus and bad decisions. We know this because we have measured the global ignorance... [of] top decision makers... journalists, activists, teachers and the general public. This has nothing to do with intelligence. It’s a problem of factual knowledge. Facts don’t come naturally. Drama and opinions do. Factual knowledge has to be learned. We need to teach global facts in schools and in corporate training. This is an exciting problem to work on and we invite all our users to join the Gapminder movement for global factfulness. The problem can be solved, because the data exists...\n",
    "\n",
    "Do not be globally ignorant! Explore—and use—Gapminder! And watch Ola and Hans Rosling's \"How Not to Be Ignorant about the World\" talk at: <https://www.youtube.com/watch?v=Sm5xF-UYgdg>\n",
    "\n",
    "----\n",
    "\n",
    "&nbsp;"
   ]
  },
  {
   "cell_type": "markdown",
   "metadata": {},
   "source": [
    "### 4.1.1.2 The Factors Determining the Shape of Global Growth\n",
    "\n",
    "The overwhelming bulk of differences in prosperity levels both between countries and across large spans of time are the result of differences in economies’ productive potentials.We classify the most important factors that generate differences in economies’ productive potentials into two broad groups:\n",
    "\n",
    "* First, differences in the economy’s efficiency of labor—how technology is deployed and how organization is used to increase the amount of output a worker can produce with the same amount of capital and other resources. As noted above, these differences are primarily the result of differences in three factors:\n",
    "    * The community of engineering practice\n",
    "    * The skills of workers\n",
    "    * The incentives and efficiency of organizations\n",
    "\n",
    "* Second, differences in how large a multiple of current production has been set aside in the form of useful machines, buildings, and infrastructure to boost the productivity of workers, even with the same technology or organization:\n",
    "    * With differences in natural resources—which are sometimes thought of as separate from and sometimes as a form of capital.\n",
    "\n",
    "We will call the first group \"the efficiency of labor\" and the second \"capital intensity\". It has been an important finding by economists over the past three generations that capital and investment have played a substantial role: it is not _all_ increases in knowledge, for increases in thrift and resources have played a substantial role. But it has been an even more important finding that the But an even more important finding is that the lion’s share of economic growth both acroos long spans of time and between countries has come from the factors that affect the efficiency of labor. They are: the advance of knowledge that enables the creation of communities of engineering practice, to diffusion of knowledge and engineering practice, the education and training of workers, and the creation and maintenance of efficient productive organizations.\n",
    "\n",
    "----\n",
    "\n",
    "&nbsp;"
   ]
  },
  {
   "cell_type": "markdown",
   "metadata": {},
   "source": [
    "## 4.1.2 The Efficiency of Labor\n",
    "\n",
    "The biggest reason that Americans today are vastly richer and more productive than their predecessors of a century ago is that they have enjoyed an extraordinary ampli  fication of the efficiency of labor. Efficiency has risen for two reasons: advances in technology and in organization. We now know how to make electric motors, dope semiconductors, transmit signals over fiber optics, fly jet airplanes, machine internal combustion engines, build tall and durable structures out of concrete and steel, record entertainment programs on DVDs, make hybrid seeds, fertilize crops with nutrients, organize assembly lines, and do a host of other things our predecessors did not know how to do. \n",
    "\n",
    "These technological advances allow American workers to easily perform value-generating tasks that were unimaginable, or at least extremely difficult to accomplish, a century ago. Moreover, the American economy is equipped to make use of all these technological capabilities. First, we have engineers who understand and can apply modern technologies. There is a very large gap between theoretical knowledge of how the world works and what kinds of things might be possible on the one hand, and actually getting an energy, materials, and machine-based production process working smoothly on the other. An economy that has a large and productive community of engineers with their knowledge and practices will be effective at applying scientific knowledge of how things work and what production processes are conceivable. An economy that does not have such a community of engineering practice does not.\n",
    "\n",
    "But all the engineering advice and plans turned into blueprints for factory design and manuals for task performance will do no good if the people actually doing the work—the workers—lack the skills and experience to understand and implement them. Education and training are essential components of an economy with a high efficiency of labor.\n",
    "\n",
    "And engineers and workers produce little if they are unwilling to work, or if their work is not coordinated. An honest government and a society that rewards productive work—rather than acquisition by fraud or force—is essential. As Adam Smith wrote back in 1776,  The United States today has the forms of business organization, it has the stability and honesty of government, and it has the other socioeconomic institutions needed to successfully utilize modern technology. So it is both better technology and advances in organization that have led to vast increases in the efficiency of labor and thus to American standards of living.\n",
    "\n",
    "We have to admit that we economists know less than we should about the processes by which this better technology and these advances in organization come to be. Economists are much better at analyzing the consequences of advances in technology and improvements in organization and other factors that make for a high effi  ciency of labor, but they have less to say about their sources.\n",
    "\n",
    "----\n",
    "\n",
    "&nbsp;"
   ]
  },
  {
   "cell_type": "markdown",
   "metadata": {},
   "source": [
    "## 4.1.3 Capital Intensity\n",
    "\n",
    "A secondary but still large part of America’s very long run economic growth—and a secondary but still large component of differences in material standards of living across countries today—has been generated by the second source of growth: capital intensity. Does the economy have a low ratio of capital per unit of output, that is, relatively little in the way of machines, buildings, roads, bridges, and so on? Then it is likely to be poor.\n",
    "\n",
    "The higher is the economy’s capital intensity, the more prosperous the economy will be: A more capital-intensive economy will be a richer and a more productive economy.\n",
    "\n",
    "----\n",
    "\n",
    "&nbsp;"
   ]
  },
  {
   "cell_type": "markdown",
   "metadata": {},
   "source": [
    "## 4.1.4 Fitting It All Together\n",
    "\n",
    "The next chapter, Chapter 5, will survey the facts of economic growth over time and across the world at much greater depth. But our task in this chapter, Chapter 4, is to get our heads straight on what the importnat factors are and how they work. This chapter thus presents economists’ basic theory of economic growth. It presents the concepts and models economists use to organize their thinking. \n",
    "\n",
    "The task of the rest of this Chapter 4 is thus to build economists’ standard model of long-run economic growth, a model into which we can fit these broad groups of factors. This standard model is called the Solow growth model, after Nobel Prize-winning MIT economist Robert Solow. \n",
    "\n",
    "The Solow growth model is a dynamic model of the economy: It describes how the economy changes and grows over time as saving and investment, labor-force growth, and progress in advancing technol  ogy and improving social organization raise the economy’s level of output per worker and thus its material standard of living. Saving and investment are the driv  ers leading to increases in capital intensity. Progress in technology and organization are the drivers leading to increases in the efficiency of labor.\n",
    "\n",
    "This chapter is thus, primarily, a tour of how economists think about growth. Chapter 5 will apply that thinking to udnerstand the world.\n",
    "\n",
    "----\n",
    "\n",
    "&nbsp;"
   ]
  },
  {
   "cell_type": "markdown",
   "metadata": {},
   "source": [
    "## 4.1.5 RECAP: Sources of Long-Run Growth\n",
    "\n",
    "**In the very long run, economic growth is the most important aspect of eco  nomic performance. Two major factors determine economic growth: growth in the efficiency of labor—a product of advances in technolog, the implementation of those advances through communities of engineering practice, the education and training of workers,  and improvements in the economic and social organization of both businesses and the government—and the economy’s capital intensity. Policies that accelerate innovation and diffusion, educate and train workers, improve institutions and so boost the efficiency of labor do the bulk of accelerating economic growth and create prosperity. Policies that boost investment and raise the economy’s capital intensity to a higher level assist.**\n",
    "\n",
    "----\n",
    "\n",
    "&nbsp;\n",
    "\n",
    "#### GLOSSARY\n",
    "\n",
    "**Capital intensity**: The ratio of the capital stock to total potential output, K/Y: how valuable the capital stock is as a multiple of annual production.\n",
    "\n",
    "**Efficiency of labor**: Determined skills and education of the labor force, the ability of the labor force to handle modern technologies, and the efficiency with which the economy's businesses and markets function. Technology, organization, skills, and education as an amplifier of human productivity and the principle source of economic growth and of high levels of productivity and standards of living\n",
    "\n",
    "**Labor force**: The numer of those who are employed plus the number of those who are actively looking for work.\n",
    "\n",
    "**Capital stock**: The economy's total accumulated stock of buildings, roads, other infrastructure, machines, and inventories.\n",
    "\n",
    "----\n",
    "\n",
    "&nbsp;"
   ]
  },
  {
   "cell_type": "markdown",
   "metadata": {},
   "source": [
    "## 4.1.6 EXERCISES: Sources of Long-Run Growth\n",
    "\n",
    "**Task 1: Using information sources**:\n",
    "\n",
    "1. Websurf your way over to https://gapminder.org/tools\n",
    "2. Choose a non-U.S. country of interest to you. Select it and the U.S. by clicking on the checkboxes in the country list that should be visible.\n",
    "3. Pull the slider to the right of the \"play\" button all the way back to the left.\n",
    "4. Press the \"play\" button and watch the two countries—the one you selected, and the U.S.—make tracks over the past.\n",
    "5. Take a screenshot of the resulting figure when the animation has finished.\n",
    "6. Upload that screenshot to a URL somewhere on the net.\n",
    "7. Display that screenshot in the markdown cell below using an &lt;img src=\"\" /&gt; tag\n",
    "8. Write a paragraph: What do you learn about economic growth roughly since the Industrial Revolution from the figure you have screenshotted?\n",
    "\n",
    "----\n",
    "\n",
    "&nbsp;"
   ]
  }
 ],
 "metadata": {
  "kernelspec": {
   "display_name": "Python 3",
   "language": "python",
   "name": "python3"
  },
  "language_info": {
   "codemirror_mode": {
    "name": "ipython",
    "version": 3
   },
   "file_extension": ".py",
   "mimetype": "text/x-python",
   "name": "python",
   "nbconvert_exporter": "python",
   "pygments_lexer": "ipython3",
   "version": "3.6.1"
  }
 },
 "nbformat": 4,
 "nbformat_minor": 2
}
